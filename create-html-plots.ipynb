{
 "cells": [
  {
   "cell_type": "markdown",
   "id": "3708722e",
   "metadata": {},
   "source": [
    "# Create HTML plots with python\n",
    "* The purpose of this notebook is to demonstrate how to create a series of plots that can be used as part of a static webpage.\n",
    "* The html figures which you generate will be used in your static webpage\n",
    "* Source: https://plotly.com/python/linear-fits/"
   ]
  },
  {
   "cell_type": "markdown",
   "id": "c809178d",
   "metadata": {},
   "source": [
    "### Take a look at the data"
   ]
  },
  {
   "cell_type": "markdown",
   "id": "7688900c",
   "metadata": {},
   "source": [
    "the following code will allow you to display plotly html images in Sagemaker Stuidio Lab."
   ]
  },
  {
   "cell_type": "code",
   "execution_count": null,
   "id": "306ee58e-ac1e-4078-8c2c-9b826c27b79b",
   "metadata": {},
   "outputs": [],
   "source": [
    "! conda install -c conda-forge npm -y\n",
    "! conda install -c conda-forge nodejs -y\n",
    "! conda install -c conda-forge plotly -y\n",
    "! conda install -c conda-forge dash -y\n",
    "! conda install -c conda-forge ipywidgets -y"
   ]
  },
  {
   "cell_type": "markdown",
   "id": "ae06e16d-53ad-4eb0-bae9-a43a8ba25490",
   "metadata": {},
   "source": [
    "Prior to running the next cell, you may need to install plotly in your environment. You can read about it [here](https://plotly.com/python/getting-started/) but the step is pretty simple: in a new cell, run the following code. ```! conda install plotly```"
   ]
  },
  {
   "cell_type": "code",
   "execution_count": null,
   "id": "ce4ed245-de83-431f-9a55-c7090ad36c8d",
   "metadata": {},
   "outputs": [],
   "source": [
    "! conda install plotly -y\n",
    "! conda install pandas -y\n",
    "! conda install numpy -y"
   ]
  },
  {
   "cell_type": "code",
   "execution_count": 11,
   "id": "090798a5",
   "metadata": {},
   "outputs": [],
   "source": [
    "# import the python libraries\n",
    "import plotly.graph_objs as go\n",
    "import numpy as np\n",
    "import pandas as pd\n",
    "import plotly.express as px"
   ]
  },
  {
   "cell_type": "markdown",
   "id": "fe51b65f-30fc-48d9-9d06-9824721472b4",
   "metadata": {},
   "source": [
    "# Create a bar chart"
   ]
  },
  {
   "cell_type": "code",
   "execution_count": 12,
   "id": "b4f188df-e5d4-4391-841f-329b6f83ce7a",
   "metadata": {},
   "outputs": [
    {
     "data": {
      "application/vnd.plotly.v1+json": {
       "config": {
        "plotlyServerURL": "https://plot.ly"
       },
       "data": [
        {
         "marker": {
          "color": [
           "#FAB303",
           "blue",
           "green"
          ]
         },
         "type": "bar",
         "x": [
          "monkeys",
          "tigers",
          "giraffes"
         ],
         "y": [
          5,
          7,
          2
         ]
        }
       ],
       "layout": {
        "autosize": true,
        "template": {
         "data": {
          "bar": [
           {
            "error_x": {
             "color": "#2a3f5f"
            },
            "error_y": {
             "color": "#2a3f5f"
            },
            "marker": {
             "line": {
              "color": "#E5ECF6",
              "width": 0.5
             },
             "pattern": {
              "fillmode": "overlay",
              "size": 10,
              "solidity": 0.2
             }
            },
            "type": "bar"
           }
          ],
          "barpolar": [
           {
            "marker": {
             "line": {
              "color": "#E5ECF6",
              "width": 0.5
             },
             "pattern": {
              "fillmode": "overlay",
              "size": 10,
              "solidity": 0.2
             }
            },
            "type": "barpolar"
           }
          ],
          "carpet": [
           {
            "aaxis": {
             "endlinecolor": "#2a3f5f",
             "gridcolor": "white",
             "linecolor": "white",
             "minorgridcolor": "white",
             "startlinecolor": "#2a3f5f"
            },
            "baxis": {
             "endlinecolor": "#2a3f5f",
             "gridcolor": "white",
             "linecolor": "white",
             "minorgridcolor": "white",
             "startlinecolor": "#2a3f5f"
            },
            "type": "carpet"
           }
          ],
          "choropleth": [
           {
            "colorbar": {
             "outlinewidth": 0,
             "ticks": ""
            },
            "type": "choropleth"
           }
          ],
          "contour": [
           {
            "colorbar": {
             "outlinewidth": 0,
             "ticks": ""
            },
            "colorscale": [
             [
              0,
              "#0d0887"
             ],
             [
              0.1111111111111111,
              "#46039f"
             ],
             [
              0.2222222222222222,
              "#7201a8"
             ],
             [
              0.3333333333333333,
              "#9c179e"
             ],
             [
              0.4444444444444444,
              "#bd3786"
             ],
             [
              0.5555555555555556,
              "#d8576b"
             ],
             [
              0.6666666666666666,
              "#ed7953"
             ],
             [
              0.7777777777777778,
              "#fb9f3a"
             ],
             [
              0.8888888888888888,
              "#fdca26"
             ],
             [
              1,
              "#f0f921"
             ]
            ],
            "type": "contour"
           }
          ],
          "contourcarpet": [
           {
            "colorbar": {
             "outlinewidth": 0,
             "ticks": ""
            },
            "type": "contourcarpet"
           }
          ],
          "heatmap": [
           {
            "colorbar": {
             "outlinewidth": 0,
             "ticks": ""
            },
            "colorscale": [
             [
              0,
              "#0d0887"
             ],
             [
              0.1111111111111111,
              "#46039f"
             ],
             [
              0.2222222222222222,
              "#7201a8"
             ],
             [
              0.3333333333333333,
              "#9c179e"
             ],
             [
              0.4444444444444444,
              "#bd3786"
             ],
             [
              0.5555555555555556,
              "#d8576b"
             ],
             [
              0.6666666666666666,
              "#ed7953"
             ],
             [
              0.7777777777777778,
              "#fb9f3a"
             ],
             [
              0.8888888888888888,
              "#fdca26"
             ],
             [
              1,
              "#f0f921"
             ]
            ],
            "type": "heatmap"
           }
          ],
          "heatmapgl": [
           {
            "colorbar": {
             "outlinewidth": 0,
             "ticks": ""
            },
            "colorscale": [
             [
              0,
              "#0d0887"
             ],
             [
              0.1111111111111111,
              "#46039f"
             ],
             [
              0.2222222222222222,
              "#7201a8"
             ],
             [
              0.3333333333333333,
              "#9c179e"
             ],
             [
              0.4444444444444444,
              "#bd3786"
             ],
             [
              0.5555555555555556,
              "#d8576b"
             ],
             [
              0.6666666666666666,
              "#ed7953"
             ],
             [
              0.7777777777777778,
              "#fb9f3a"
             ],
             [
              0.8888888888888888,
              "#fdca26"
             ],
             [
              1,
              "#f0f921"
             ]
            ],
            "type": "heatmapgl"
           }
          ],
          "histogram": [
           {
            "marker": {
             "pattern": {
              "fillmode": "overlay",
              "size": 10,
              "solidity": 0.2
             }
            },
            "type": "histogram"
           }
          ],
          "histogram2d": [
           {
            "colorbar": {
             "outlinewidth": 0,
             "ticks": ""
            },
            "colorscale": [
             [
              0,
              "#0d0887"
             ],
             [
              0.1111111111111111,
              "#46039f"
             ],
             [
              0.2222222222222222,
              "#7201a8"
             ],
             [
              0.3333333333333333,
              "#9c179e"
             ],
             [
              0.4444444444444444,
              "#bd3786"
             ],
             [
              0.5555555555555556,
              "#d8576b"
             ],
             [
              0.6666666666666666,
              "#ed7953"
             ],
             [
              0.7777777777777778,
              "#fb9f3a"
             ],
             [
              0.8888888888888888,
              "#fdca26"
             ],
             [
              1,
              "#f0f921"
             ]
            ],
            "type": "histogram2d"
           }
          ],
          "histogram2dcontour": [
           {
            "colorbar": {
             "outlinewidth": 0,
             "ticks": ""
            },
            "colorscale": [
             [
              0,
              "#0d0887"
             ],
             [
              0.1111111111111111,
              "#46039f"
             ],
             [
              0.2222222222222222,
              "#7201a8"
             ],
             [
              0.3333333333333333,
              "#9c179e"
             ],
             [
              0.4444444444444444,
              "#bd3786"
             ],
             [
              0.5555555555555556,
              "#d8576b"
             ],
             [
              0.6666666666666666,
              "#ed7953"
             ],
             [
              0.7777777777777778,
              "#fb9f3a"
             ],
             [
              0.8888888888888888,
              "#fdca26"
             ],
             [
              1,
              "#f0f921"
             ]
            ],
            "type": "histogram2dcontour"
           }
          ],
          "mesh3d": [
           {
            "colorbar": {
             "outlinewidth": 0,
             "ticks": ""
            },
            "type": "mesh3d"
           }
          ],
          "parcoords": [
           {
            "line": {
             "colorbar": {
              "outlinewidth": 0,
              "ticks": ""
             }
            },
            "type": "parcoords"
           }
          ],
          "pie": [
           {
            "automargin": true,
            "type": "pie"
           }
          ],
          "scatter": [
           {
            "fillpattern": {
             "fillmode": "overlay",
             "size": 10,
             "solidity": 0.2
            },
            "type": "scatter"
           }
          ],
          "scatter3d": [
           {
            "line": {
             "colorbar": {
              "outlinewidth": 0,
              "ticks": ""
             }
            },
            "marker": {
             "colorbar": {
              "outlinewidth": 0,
              "ticks": ""
             }
            },
            "type": "scatter3d"
           }
          ],
          "scattercarpet": [
           {
            "marker": {
             "colorbar": {
              "outlinewidth": 0,
              "ticks": ""
             }
            },
            "type": "scattercarpet"
           }
          ],
          "scattergeo": [
           {
            "marker": {
             "colorbar": {
              "outlinewidth": 0,
              "ticks": ""
             }
            },
            "type": "scattergeo"
           }
          ],
          "scattergl": [
           {
            "marker": {
             "colorbar": {
              "outlinewidth": 0,
              "ticks": ""
             }
            },
            "type": "scattergl"
           }
          ],
          "scattermapbox": [
           {
            "marker": {
             "colorbar": {
              "outlinewidth": 0,
              "ticks": ""
             }
            },
            "type": "scattermapbox"
           }
          ],
          "scatterpolar": [
           {
            "marker": {
             "colorbar": {
              "outlinewidth": 0,
              "ticks": ""
             }
            },
            "type": "scatterpolar"
           }
          ],
          "scatterpolargl": [
           {
            "marker": {
             "colorbar": {
              "outlinewidth": 0,
              "ticks": ""
             }
            },
            "type": "scatterpolargl"
           }
          ],
          "scatterternary": [
           {
            "marker": {
             "colorbar": {
              "outlinewidth": 0,
              "ticks": ""
             }
            },
            "type": "scatterternary"
           }
          ],
          "surface": [
           {
            "colorbar": {
             "outlinewidth": 0,
             "ticks": ""
            },
            "colorscale": [
             [
              0,
              "#0d0887"
             ],
             [
              0.1111111111111111,
              "#46039f"
             ],
             [
              0.2222222222222222,
              "#7201a8"
             ],
             [
              0.3333333333333333,
              "#9c179e"
             ],
             [
              0.4444444444444444,
              "#bd3786"
             ],
             [
              0.5555555555555556,
              "#d8576b"
             ],
             [
              0.6666666666666666,
              "#ed7953"
             ],
             [
              0.7777777777777778,
              "#fb9f3a"
             ],
             [
              0.8888888888888888,
              "#fdca26"
             ],
             [
              1,
              "#f0f921"
             ]
            ],
            "type": "surface"
           }
          ],
          "table": [
           {
            "cells": {
             "fill": {
              "color": "#EBF0F8"
             },
             "line": {
              "color": "white"
             }
            },
            "header": {
             "fill": {
              "color": "#C8D4E3"
             },
             "line": {
              "color": "white"
             }
            },
            "type": "table"
           }
          ]
         },
         "layout": {
          "annotationdefaults": {
           "arrowcolor": "#2a3f5f",
           "arrowhead": 0,
           "arrowwidth": 1
          },
          "autotypenumbers": "strict",
          "coloraxis": {
           "colorbar": {
            "outlinewidth": 0,
            "ticks": ""
           }
          },
          "colorscale": {
           "diverging": [
            [
             0,
             "#8e0152"
            ],
            [
             0.1,
             "#c51b7d"
            ],
            [
             0.2,
             "#de77ae"
            ],
            [
             0.3,
             "#f1b6da"
            ],
            [
             0.4,
             "#fde0ef"
            ],
            [
             0.5,
             "#f7f7f7"
            ],
            [
             0.6,
             "#e6f5d0"
            ],
            [
             0.7,
             "#b8e186"
            ],
            [
             0.8,
             "#7fbc41"
            ],
            [
             0.9,
             "#4d9221"
            ],
            [
             1,
             "#276419"
            ]
           ],
           "sequential": [
            [
             0,
             "#0d0887"
            ],
            [
             0.1111111111111111,
             "#46039f"
            ],
            [
             0.2222222222222222,
             "#7201a8"
            ],
            [
             0.3333333333333333,
             "#9c179e"
            ],
            [
             0.4444444444444444,
             "#bd3786"
            ],
            [
             0.5555555555555556,
             "#d8576b"
            ],
            [
             0.6666666666666666,
             "#ed7953"
            ],
            [
             0.7777777777777778,
             "#fb9f3a"
            ],
            [
             0.8888888888888888,
             "#fdca26"
            ],
            [
             1,
             "#f0f921"
            ]
           ],
           "sequentialminus": [
            [
             0,
             "#0d0887"
            ],
            [
             0.1111111111111111,
             "#46039f"
            ],
            [
             0.2222222222222222,
             "#7201a8"
            ],
            [
             0.3333333333333333,
             "#9c179e"
            ],
            [
             0.4444444444444444,
             "#bd3786"
            ],
            [
             0.5555555555555556,
             "#d8576b"
            ],
            [
             0.6666666666666666,
             "#ed7953"
            ],
            [
             0.7777777777777778,
             "#fb9f3a"
            ],
            [
             0.8888888888888888,
             "#fdca26"
            ],
            [
             1,
             "#f0f921"
            ]
           ]
          },
          "colorway": [
           "#636efa",
           "#EF553B",
           "#00cc96",
           "#ab63fa",
           "#FFA15A",
           "#19d3f3",
           "#FF6692",
           "#B6E880",
           "#FF97FF",
           "#FECB52"
          ],
          "font": {
           "color": "#2a3f5f"
          },
          "geo": {
           "bgcolor": "white",
           "lakecolor": "white",
           "landcolor": "#E5ECF6",
           "showlakes": true,
           "showland": true,
           "subunitcolor": "white"
          },
          "hoverlabel": {
           "align": "left"
          },
          "hovermode": "closest",
          "mapbox": {
           "style": "light"
          },
          "paper_bgcolor": "white",
          "plot_bgcolor": "#E5ECF6",
          "polar": {
           "angularaxis": {
            "gridcolor": "white",
            "linecolor": "white",
            "ticks": ""
           },
           "bgcolor": "#E5ECF6",
           "radialaxis": {
            "gridcolor": "white",
            "linecolor": "white",
            "ticks": ""
           }
          },
          "scene": {
           "xaxis": {
            "backgroundcolor": "#E5ECF6",
            "gridcolor": "white",
            "gridwidth": 2,
            "linecolor": "white",
            "showbackground": true,
            "ticks": "",
            "zerolinecolor": "white"
           },
           "yaxis": {
            "backgroundcolor": "#E5ECF6",
            "gridcolor": "white",
            "gridwidth": 2,
            "linecolor": "white",
            "showbackground": true,
            "ticks": "",
            "zerolinecolor": "white"
           },
           "zaxis": {
            "backgroundcolor": "#E5ECF6",
            "gridcolor": "white",
            "gridwidth": 2,
            "linecolor": "white",
            "showbackground": true,
            "ticks": "",
            "zerolinecolor": "white"
           }
          },
          "shapedefaults": {
           "line": {
            "color": "#2a3f5f"
           }
          },
          "ternary": {
           "aaxis": {
            "gridcolor": "white",
            "linecolor": "white",
            "ticks": ""
           },
           "baxis": {
            "gridcolor": "white",
            "linecolor": "white",
            "ticks": ""
           },
           "bgcolor": "#E5ECF6",
           "caxis": {
            "gridcolor": "white",
            "linecolor": "white",
            "ticks": ""
           }
          },
          "title": {
           "x": 0.05
          },
          "xaxis": {
           "automargin": true,
           "gridcolor": "white",
           "linecolor": "white",
           "ticks": "",
           "title": {
            "standoff": 15
           },
           "zerolinecolor": "white",
           "zerolinewidth": 2
          },
          "yaxis": {
           "automargin": true,
           "gridcolor": "white",
           "linecolor": "white",
           "ticks": "",
           "title": {
            "standoff": 15
           },
           "zerolinecolor": "white",
           "zerolinewidth": 2
          }
         }
        },
        "xaxis": {
         "autorange": true,
         "range": [
          -0.5,
          2.5
         ],
         "type": "category"
        },
        "yaxis": {
         "autorange": true,
         "range": [
          0,
          7.368421052631579
         ],
         "type": "linear"
        }
       }
      },
      "image/png": "[encoded data removed]",
      "text/html": [
       "<div>                            <div id=\"3ccab446-af9d-4307-b9aa-fad240d7bb68\" class=\"plotly-graph-div\" style=\"height:525px; width:100%;\"></div>            <script type=\"text/javascript\">                require([\"plotly\"], function(Plotly) {                    window.PLOTLYENV=window.PLOTLYENV || {};                                    if (document.getElementById(\"3ccab446-af9d-4307-b9aa-fad240d7bb68\")) {                    Plotly.newPlot(                        \"3ccab446-af9d-4307-b9aa-fad240d7bb68\",                        [{\"marker\":{\"color\":[\"#FAB303\",\"blue\",\"green\"]},\"x\":[\"monkeys\",\"tigers\",\"giraffes\"],\"y\":[5,7,2],\"type\":\"bar\"}],                        {\"template\":{\"data\":{\"histogram2dcontour\":[{\"type\":\"histogram2dcontour\",\"colorbar\":{\"outlinewidth\":0,\"ticks\":\"\"},\"colorscale\":[[0.0,\"#0d0887\"],[0.1111111111111111,\"#46039f\"],[0.2222222222222222,\"#7201a8\"],[0.3333333333333333,\"#9c179e\"],[0.4444444444444444,\"#bd3786\"],[0.5555555555555556,\"#d8576b\"],[0.6666666666666666,\"#ed7953\"],[0.7777777777777778,\"#fb9f3a\"],[0.8888888888888888,\"#fdca26\"],[1.0,\"#f0f921\"]]}],\"choropleth\":[{\"type\":\"choropleth\",\"colorbar\":{\"outlinewidth\":0,\"ticks\":\"\"}}],\"histogram2d\":[{\"type\":\"histogram2d\",\"colorbar\":{\"outlinewidth\":0,\"ticks\":\"\"},\"colorscale\":[[0.0,\"#0d0887\"],[0.1111111111111111,\"#46039f\"],[0.2222222222222222,\"#7201a8\"],[0.3333333333333333,\"#9c179e\"],[0.4444444444444444,\"#bd3786\"],[0.5555555555555556,\"#d8576b\"],[0.6666666666666666,\"#ed7953\"],[0.7777777777777778,\"#fb9f3a\"],[0.8888888888888888,\"#fdca26\"],[1.0,\"#f0f921\"]]}],\"heatmap\":[{\"type\":\"heatmap\",\"colorbar\":{\"outlinewidth\":0,\"ticks\":\"\"},\"colorscale\":[[0.0,\"#0d0887\"],[0.1111111111111111,\"#46039f\"],[0.2222222222222222,\"#7201a8\"],[0.3333333333333333,\"#9c179e\"],[0.4444444444444444,\"#bd3786\"],[0.5555555555555556,\"#d8576b\"],[0.6666666666666666,\"#ed7953\"],[0.7777777777777778,\"#fb9f3a\"],[0.8888888888888888,\"#fdca26\"],[1.0,\"#f0f921\"]]}],\"heatmapgl\":[{\"type\":\"heatmapgl\",\"colorbar\":{\"outlinewidth\":0,\"ticks\":\"\"},\"colorscale\":[[0.0,\"#0d0887\"],[0.1111111111111111,\"#46039f\"],[0.2222222222222222,\"#7201a8\"],[0.3333333333333333,\"#9c179e\"],[0.4444444444444444,\"#bd3786\"],[0.5555555555555556,\"#d8576b\"],[0.6666666666666666,\"#ed7953\"],[0.7777777777777778,\"#fb9f3a\"],[0.8888888888888888,\"#fdca26\"],[1.0,\"#f0f921\"]]}],\"contourcarpet\":[{\"type\":\"contourcarpet\",\"colorbar\":{\"outlinewidth\":0,\"ticks\":\"\"}}],\"contour\":[{\"type\":\"contour\",\"colorbar\":{\"outlinewidth\":0,\"ticks\":\"\"},\"colorscale\":[[0.0,\"#0d0887\"],[0.1111111111111111,\"#46039f\"],[0.2222222222222222,\"#7201a8\"],[0.3333333333333333,\"#9c179e\"],[0.4444444444444444,\"#bd3786\"],[0.5555555555555556,\"#d8576b\"],[0.6666666666666666,\"#ed7953\"],[0.7777777777777778,\"#fb9f3a\"],[0.8888888888888888,\"#fdca26\"],[1.0,\"#f0f921\"]]}],\"surface\":[{\"type\":\"surface\",\"colorbar\":{\"outlinewidth\":0,\"ticks\":\"\"},\"colorscale\":[[0.0,\"#0d0887\"],[0.1111111111111111,\"#46039f\"],[0.2222222222222222,\"#7201a8\"],[0.3333333333333333,\"#9c179e\"],[0.4444444444444444,\"#bd3786\"],[0.5555555555555556,\"#d8576b\"],[0.6666666666666666,\"#ed7953\"],[0.7777777777777778,\"#fb9f3a\"],[0.8888888888888888,\"#fdca26\"],[1.0,\"#f0f921\"]]}],\"mesh3d\":[{\"type\":\"mesh3d\",\"colorbar\":{\"outlinewidth\":0,\"ticks\":\"\"}}],\"scatter\":[{\"fillpattern\":{\"fillmode\":\"overlay\",\"size\":10,\"solidity\":0.2},\"type\":\"scatter\"}],\"parcoords\":[{\"type\":\"parcoords\",\"line\":{\"colorbar\":{\"outlinewidth\":0,\"ticks\":\"\"}}}],\"scatterpolargl\":[{\"type\":\"scatterpolargl\",\"marker\":{\"colorbar\":{\"outlinewidth\":0,\"ticks\":\"\"}}}],\"bar\":[{\"error_x\":{\"color\":\"#2a3f5f\"},\"error_y\":{\"color\":\"#2a3f5f\"},\"marker\":{\"line\":{\"color\":\"#E5ECF6\",\"width\":0.5},\"pattern\":{\"fillmode\":\"overlay\",\"size\":10,\"solidity\":0.2}},\"type\":\"bar\"}],\"scattergeo\":[{\"type\":\"scattergeo\",\"marker\":{\"colorbar\":{\"outlinewidth\":0,\"ticks\":\"\"}}}],\"scatterpolar\":[{\"type\":\"scatterpolar\",\"marker\":{\"colorbar\":{\"outlinewidth\":0,\"ticks\":\"\"}}}],\"histogram\":[{\"marker\":{\"pattern\":{\"fillmode\":\"overlay\",\"size\":10,\"solidity\":0.2}},\"type\":\"histogram\"}],\"scattergl\":[{\"type\":\"scattergl\",\"marker\":{\"colorbar\":{\"outlinewidth\":0,\"ticks\":\"\"}}}],\"scatter3d\":[{\"type\":\"scatter3d\",\"line\":{\"colorbar\":{\"outlinewidth\":0,\"ticks\":\"\"}},\"marker\":{\"colorbar\":{\"outlinewidth\":0,\"ticks\":\"\"}}}],\"scattermapbox\":[{\"type\":\"scattermapbox\",\"marker\":{\"colorbar\":{\"outlinewidth\":0,\"ticks\":\"\"}}}],\"scatterternary\":[{\"type\":\"scatterternary\",\"marker\":{\"colorbar\":{\"outlinewidth\":0,\"ticks\":\"\"}}}],\"scattercarpet\":[{\"type\":\"scattercarpet\",\"marker\":{\"colorbar\":{\"outlinewidth\":0,\"ticks\":\"\"}}}],\"carpet\":[{\"aaxis\":{\"endlinecolor\":\"#2a3f5f\",\"gridcolor\":\"white\",\"linecolor\":\"white\",\"minorgridcolor\":\"white\",\"startlinecolor\":\"#2a3f5f\"},\"baxis\":{\"endlinecolor\":\"#2a3f5f\",\"gridcolor\":\"white\",\"linecolor\":\"white\",\"minorgridcolor\":\"white\",\"startlinecolor\":\"#2a3f5f\"},\"type\":\"carpet\"}],\"table\":[{\"cells\":{\"fill\":{\"color\":\"#EBF0F8\"},\"line\":{\"color\":\"white\"}},\"header\":{\"fill\":{\"color\":\"#C8D4E3\"},\"line\":{\"color\":\"white\"}},\"type\":\"table\"}],\"barpolar\":[{\"marker\":{\"line\":{\"color\":\"#E5ECF6\",\"width\":0.5},\"pattern\":{\"fillmode\":\"overlay\",\"size\":10,\"solidity\":0.2}},\"type\":\"barpolar\"}],\"pie\":[{\"automargin\":true,\"type\":\"pie\"}]},\"layout\":{\"autotypenumbers\":\"strict\",\"colorway\":[\"#636efa\",\"#EF553B\",\"#00cc96\",\"#ab63fa\",\"#FFA15A\",\"#19d3f3\",\"#FF6692\",\"#B6E880\",\"#FF97FF\",\"#FECB52\"],\"font\":{\"color\":\"#2a3f5f\"},\"hovermode\":\"closest\",\"hoverlabel\":{\"align\":\"left\"},\"paper_bgcolor\":\"white\",\"plot_bgcolor\":\"#E5ECF6\",\"polar\":{\"bgcolor\":\"#E5ECF6\",\"angularaxis\":{\"gridcolor\":\"white\",\"linecolor\":\"white\",\"ticks\":\"\"},\"radialaxis\":{\"gridcolor\":\"white\",\"linecolor\":\"white\",\"ticks\":\"\"}},\"ternary\":{\"bgcolor\":\"#E5ECF6\",\"aaxis\":{\"gridcolor\":\"white\",\"linecolor\":\"white\",\"ticks\":\"\"},\"baxis\":{\"gridcolor\":\"white\",\"linecolor\":\"white\",\"ticks\":\"\"},\"caxis\":{\"gridcolor\":\"white\",\"linecolor\":\"white\",\"ticks\":\"\"}},\"coloraxis\":{\"colorbar\":{\"outlinewidth\":0,\"ticks\":\"\"}},\"colorscale\":{\"sequential\":[[0.0,\"#0d0887\"],[0.1111111111111111,\"#46039f\"],[0.2222222222222222,\"#7201a8\"],[0.3333333333333333,\"#9c179e\"],[0.4444444444444444,\"#bd3786\"],[0.5555555555555556,\"#d8576b\"],[0.6666666666666666,\"#ed7953\"],[0.7777777777777778,\"#fb9f3a\"],[0.8888888888888888,\"#fdca26\"],[1.0,\"#f0f921\"]],\"sequentialminus\":[[0.0,\"#0d0887\"],[0.1111111111111111,\"#46039f\"],[0.2222222222222222,\"#7201a8\"],[0.3333333333333333,\"#9c179e\"],[0.4444444444444444,\"#bd3786\"],[0.5555555555555556,\"#d8576b\"],[0.6666666666666666,\"#ed7953\"],[0.7777777777777778,\"#fb9f3a\"],[0.8888888888888888,\"#fdca26\"],[1.0,\"#f0f921\"]],\"diverging\":[[0,\"#8e0152\"],[0.1,\"#c51b7d\"],[0.2,\"#de77ae\"],[0.3,\"#f1b6da\"],[0.4,\"#fde0ef\"],[0.5,\"#f7f7f7\"],[0.6,\"#e6f5d0\"],[0.7,\"#b8e186\"],[0.8,\"#7fbc41\"],[0.9,\"#4d9221\"],[1,\"#276419\"]]},\"xaxis\":{\"gridcolor\":\"white\",\"linecolor\":\"white\",\"ticks\":\"\",\"title\":{\"standoff\":15},\"zerolinecolor\":\"white\",\"automargin\":true,\"zerolinewidth\":2},\"yaxis\":{\"gridcolor\":\"white\",\"linecolor\":\"white\",\"ticks\":\"\",\"title\":{\"standoff\":15},\"zerolinecolor\":\"white\",\"automargin\":true,\"zerolinewidth\":2},\"scene\":{\"xaxis\":{\"backgroundcolor\":\"#E5ECF6\",\"gridcolor\":\"white\",\"linecolor\":\"white\",\"showbackground\":true,\"ticks\":\"\",\"zerolinecolor\":\"white\",\"gridwidth\":2},\"yaxis\":{\"backgroundcolor\":\"#E5ECF6\",\"gridcolor\":\"white\",\"linecolor\":\"white\",\"showbackground\":true,\"ticks\":\"\",\"zerolinecolor\":\"white\",\"gridwidth\":2},\"zaxis\":{\"backgroundcolor\":\"#E5ECF6\",\"gridcolor\":\"white\",\"linecolor\":\"white\",\"showbackground\":true,\"ticks\":\"\",\"zerolinecolor\":\"white\",\"gridwidth\":2}},\"shapedefaults\":{\"line\":{\"color\":\"#2a3f5f\"}},\"annotationdefaults\":{\"arrowcolor\":\"#2a3f5f\",\"arrowhead\":0,\"arrowwidth\":1},\"geo\":{\"bgcolor\":\"white\",\"landcolor\":\"#E5ECF6\",\"subunitcolor\":\"white\",\"showland\":true,\"showlakes\":true,\"lakecolor\":\"white\"},\"title\":{\"x\":0.05},\"mapbox\":{\"style\":\"light\"}}}},                        {\"responsive\": true}                    ).then(function(){\n",
       "                            \n",
       "var gd = document.getElementById('3ccab446-af9d-4307-b9aa-fad240d7bb68');\n",
       "var x = new MutationObserver(function (mutations, observer) {{\n",
       "        var display = window.getComputedStyle(gd).display;\n",
       "        if (!display || display === 'none') {{\n",
       "            console.log([gd, 'removed!']);\n",
       "            Plotly.purge(gd);\n",
       "            observer.disconnect();\n",
       "        }}\n",
       "}});\n",
       "\n",
       "// Listen for the removal of the full notebook cells\n",
       "var notebookContainer = gd.closest('#notebook-container');\n",
       "if (notebookContainer) {{\n",
       "    x.observe(notebookContainer, {childList: true});\n",
       "}}\n",
       "\n",
       "// Listen for the clearing of the current output cell\n",
       "var outputEl = gd.closest('.output');\n",
       "if (outputEl) {{\n",
       "    x.observe(outputEl, {childList: true});\n",
       "}}\n",
       "\n",
       "                        })                };                });            </script>        </div>"
      ]
     },
     "metadata": {},
     "output_type": "display_data"
    }
   ],
   "source": [
    "# Simple bar chart\n",
    "x_values=['monkeys', 'tigers', 'giraffes']\n",
    "y_values=[5, 7, 2]\n",
    "data =[go.Bar(x=x_values, \n",
    "              y=y_values,\n",
    "              marker={'color':['#FAB303','blue','green']}\n",
    "             )]\n",
    "fig = go.Figure(data )\n",
    "fig"
   ]
  },
  {
   "cell_type": "code",
   "execution_count": 16,
   "id": "0dcc8b57-41b5-4dd6-ad86-dce0535bb4cb",
   "metadata": {},
   "outputs": [],
   "source": [
    "fig.write_html('docs/bar_chart.html')"
   ]
  },
  {
   "cell_type": "markdown",
   "id": "34785f89-2d93-43e7-9d54-57d6b67ca220",
   "metadata": {},
   "source": [
    "# Pie chart"
   ]
  },
  {
   "cell_type": "code",
   "execution_count": 13,
   "id": "2197515e-9f34-4511-96d8-5e0442761e97",
   "metadata": {},
   "outputs": [
    {
     "data": {
      "application/vnd.plotly.v1+json": {
       "config": {
        "plotlyServerURL": "https://plot.ly"
       },
       "data": [
        {
         "labels": [
          "Oxygen",
          "Hydrogen",
          "Carbon Dioxide",
          "Nitrogen"
         ],
         "textinfo": "value",
         "type": "pie",
         "values": [
          4500,
          2500,
          1053,
          500
         ]
        }
       ],
       "layout": {
        "autosize": true,
        "template": {
         "data": {
          "bar": [
           {
            "error_x": {
             "color": "#2a3f5f"
            },
            "error_y": {
             "color": "#2a3f5f"
            },
            "marker": {
             "line": {
              "color": "#E5ECF6",
              "width": 0.5
             },
             "pattern": {
              "fillmode": "overlay",
              "size": 10,
              "solidity": 0.2
             }
            },
            "type": "bar"
           }
          ],
          "barpolar": [
           {
            "marker": {
             "line": {
              "color": "#E5ECF6",
              "width": 0.5
             },
             "pattern": {
              "fillmode": "overlay",
              "size": 10,
              "solidity": 0.2
             }
            },
            "type": "barpolar"
           }
          ],
          "carpet": [
           {
            "aaxis": {
             "endlinecolor": "#2a3f5f",
             "gridcolor": "white",
             "linecolor": "white",
             "minorgridcolor": "white",
             "startlinecolor": "#2a3f5f"
            },
            "baxis": {
             "endlinecolor": "#2a3f5f",
             "gridcolor": "white",
             "linecolor": "white",
             "minorgridcolor": "white",
             "startlinecolor": "#2a3f5f"
            },
            "type": "carpet"
           }
          ],
          "choropleth": [
           {
            "colorbar": {
             "outlinewidth": 0,
             "ticks": ""
            },
            "type": "choropleth"
           }
          ],
          "contour": [
           {
            "colorbar": {
             "outlinewidth": 0,
             "ticks": ""
            },
            "colorscale": [
             [
              0,
              "#0d0887"
             ],
             [
              0.1111111111111111,
              "#46039f"
             ],
             [
              0.2222222222222222,
              "#7201a8"
             ],
             [
              0.3333333333333333,
              "#9c179e"
             ],
             [
              0.4444444444444444,
              "#bd3786"
             ],
             [
              0.5555555555555556,
              "#d8576b"
             ],
             [
              0.6666666666666666,
              "#ed7953"
             ],
             [
              0.7777777777777778,
              "#fb9f3a"
             ],
             [
              0.8888888888888888,
              "#fdca26"
             ],
             [
              1,
              "#f0f921"
             ]
            ],
            "type": "contour"
           }
          ],
          "contourcarpet": [
           {
            "colorbar": {
             "outlinewidth": 0,
             "ticks": ""
            },
            "type": "contourcarpet"
           }
          ],
          "heatmap": [
           {
            "colorbar": {
             "outlinewidth": 0,
             "ticks": ""
            },
            "colorscale": [
             [
              0,
              "#0d0887"
             ],
             [
              0.1111111111111111,
              "#46039f"
             ],
             [
              0.2222222222222222,
              "#7201a8"
             ],
             [
              0.3333333333333333,
              "#9c179e"
             ],
             [
              0.4444444444444444,
              "#bd3786"
             ],
             [
              0.5555555555555556,
              "#d8576b"
             ],
             [
              0.6666666666666666,
              "#ed7953"
             ],
             [
              0.7777777777777778,
              "#fb9f3a"
             ],
             [
              0.8888888888888888,
              "#fdca26"
             ],
             [
              1,
              "#f0f921"
             ]
            ],
            "type": "heatmap"
           }
          ],
          "heatmapgl": [
           {
            "colorbar": {
             "outlinewidth": 0,
             "ticks": ""
            },
            "colorscale": [
             [
              0,
              "#0d0887"
             ],
             [
              0.1111111111111111,
              "#46039f"
             ],
             [
              0.2222222222222222,
              "#7201a8"
             ],
             [
              0.3333333333333333,
              "#9c179e"
             ],
             [
              0.4444444444444444,
              "#bd3786"
             ],
             [
              0.5555555555555556,
              "#d8576b"
             ],
             [
              0.6666666666666666,
              "#ed7953"
             ],
             [
              0.7777777777777778,
              "#fb9f3a"
             ],
             [
              0.8888888888888888,
              "#fdca26"
             ],
             [
              1,
              "#f0f921"
             ]
            ],
            "type": "heatmapgl"
           }
          ],
          "histogram": [
           {
            "marker": {
             "pattern": {
              "fillmode": "overlay",
              "size": 10,
              "solidity": 0.2
             }
            },
            "type": "histogram"
           }
          ],
          "histogram2d": [
           {
            "colorbar": {
             "outlinewidth": 0,
             "ticks": ""
            },
            "colorscale": [
             [
              0,
              "#0d0887"
             ],
             [
              0.1111111111111111,
              "#46039f"
             ],
             [
              0.2222222222222222,
              "#7201a8"
             ],
             [
              0.3333333333333333,
              "#9c179e"
             ],
             [
              0.4444444444444444,
              "#bd3786"
             ],
             [
              0.5555555555555556,
              "#d8576b"
             ],
             [
              0.6666666666666666,
              "#ed7953"
             ],
             [
              0.7777777777777778,
              "#fb9f3a"
             ],
             [
              0.8888888888888888,
              "#fdca26"
             ],
             [
              1,
              "#f0f921"
             ]
            ],
            "type": "histogram2d"
           }
          ],
          "histogram2dcontour": [
           {
            "colorbar": {
             "outlinewidth": 0,
             "ticks": ""
            },
            "colorscale": [
             [
              0,
              "#0d0887"
             ],
             [
              0.1111111111111111,
              "#46039f"
             ],
             [
              0.2222222222222222,
              "#7201a8"
             ],
             [
              0.3333333333333333,
              "#9c179e"
             ],
             [
              0.4444444444444444,
              "#bd3786"
             ],
             [
              0.5555555555555556,
              "#d8576b"
             ],
             [
              0.6666666666666666,
              "#ed7953"
             ],
             [
              0.7777777777777778,
              "#fb9f3a"
             ],
             [
              0.8888888888888888,
              "#fdca26"
             ],
             [
              1,
              "#f0f921"
             ]
            ],
            "type": "histogram2dcontour"
           }
          ],
          "mesh3d": [
           {
            "colorbar": {
             "outlinewidth": 0,
             "ticks": ""
            },
            "type": "mesh3d"
           }
          ],
          "parcoords": [
           {
            "line": {
             "colorbar": {
              "outlinewidth": 0,
              "ticks": ""
             }
            },
            "type": "parcoords"
           }
          ],
          "pie": [
           {
            "automargin": true,
            "type": "pie"
           }
          ],
          "scatter": [
           {
            "fillpattern": {
             "fillmode": "overlay",
             "size": 10,
             "solidity": 0.2
            },
            "type": "scatter"
           }
          ],
          "scatter3d": [
           {
            "line": {
             "colorbar": {
              "outlinewidth": 0,
              "ticks": ""
             }
            },
            "marker": {
             "colorbar": {
              "outlinewidth": 0,
              "ticks": ""
             }
            },
            "type": "scatter3d"
           }
          ],
          "scattercarpet": [
           {
            "marker": {
             "colorbar": {
              "outlinewidth": 0,
              "ticks": ""
             }
            },
            "type": "scattercarpet"
           }
          ],
          "scattergeo": [
           {
            "marker": {
             "colorbar": {
              "outlinewidth": 0,
              "ticks": ""
             }
            },
            "type": "scattergeo"
           }
          ],
          "scattergl": [
           {
            "marker": {
             "colorbar": {
              "outlinewidth": 0,
              "ticks": ""
             }
            },
            "type": "scattergl"
           }
          ],
          "scattermapbox": [
           {
            "marker": {
             "colorbar": {
              "outlinewidth": 0,
              "ticks": ""
             }
            },
            "type": "scattermapbox"
           }
          ],
          "scatterpolar": [
           {
            "marker": {
             "colorbar": {
              "outlinewidth": 0,
              "ticks": ""
             }
            },
            "type": "scatterpolar"
           }
          ],
          "scatterpolargl": [
           {
            "marker": {
             "colorbar": {
              "outlinewidth": 0,
              "ticks": ""
             }
            },
            "type": "scatterpolargl"
           }
          ],
          "scatterternary": [
           {
            "marker": {
             "colorbar": {
              "outlinewidth": 0,
              "ticks": ""
             }
            },
            "type": "scatterternary"
           }
          ],
          "surface": [
           {
            "colorbar": {
             "outlinewidth": 0,
             "ticks": ""
            },
            "colorscale": [
             [
              0,
              "#0d0887"
             ],
             [
              0.1111111111111111,
              "#46039f"
             ],
             [
              0.2222222222222222,
              "#7201a8"
             ],
             [
              0.3333333333333333,
              "#9c179e"
             ],
             [
              0.4444444444444444,
              "#bd3786"
             ],
             [
              0.5555555555555556,
              "#d8576b"
             ],
             [
              0.6666666666666666,
              "#ed7953"
             ],
             [
              0.7777777777777778,
              "#fb9f3a"
             ],
             [
              0.8888888888888888,
              "#fdca26"
             ],
             [
              1,
              "#f0f921"
             ]
            ],
            "type": "surface"
           }
          ],
          "table": [
           {
            "cells": {
             "fill": {
              "color": "#EBF0F8"
             },
             "line": {
              "color": "white"
             }
            },
            "header": {
             "fill": {
              "color": "#C8D4E3"
             },
             "line": {
              "color": "white"
             }
            },
            "type": "table"
           }
          ]
         },
         "layout": {
          "annotationdefaults": {
           "arrowcolor": "#2a3f5f",
           "arrowhead": 0,
           "arrowwidth": 1
          },
          "autotypenumbers": "strict",
          "coloraxis": {
           "colorbar": {
            "outlinewidth": 0,
            "ticks": ""
           }
          },
          "colorscale": {
           "diverging": [
            [
             0,
             "#8e0152"
            ],
            [
             0.1,
             "#c51b7d"
            ],
            [
             0.2,
             "#de77ae"
            ],
            [
             0.3,
             "#f1b6da"
            ],
            [
             0.4,
             "#fde0ef"
            ],
            [
             0.5,
             "#f7f7f7"
            ],
            [
             0.6,
             "#e6f5d0"
            ],
            [
             0.7,
             "#b8e186"
            ],
            [
             0.8,
             "#7fbc41"
            ],
            [
             0.9,
             "#4d9221"
            ],
            [
             1,
             "#276419"
            ]
           ],
           "sequential": [
            [
             0,
             "#0d0887"
            ],
            [
             0.1111111111111111,
             "#46039f"
            ],
            [
             0.2222222222222222,
             "#7201a8"
            ],
            [
             0.3333333333333333,
             "#9c179e"
            ],
            [
             0.4444444444444444,
             "#bd3786"
            ],
            [
             0.5555555555555556,
             "#d8576b"
            ],
            [
             0.6666666666666666,
             "#ed7953"
            ],
            [
             0.7777777777777778,
             "#fb9f3a"
            ],
            [
             0.8888888888888888,
             "#fdca26"
            ],
            [
             1,
             "#f0f921"
            ]
           ],
           "sequentialminus": [
            [
             0,
             "#0d0887"
            ],
            [
             0.1111111111111111,
             "#46039f"
            ],
            [
             0.2222222222222222,
             "#7201a8"
            ],
            [
             0.3333333333333333,
             "#9c179e"
            ],
            [
             0.4444444444444444,
             "#bd3786"
            ],
            [
             0.5555555555555556,
             "#d8576b"
            ],
            [
             0.6666666666666666,
             "#ed7953"
            ],
            [
             0.7777777777777778,
             "#fb9f3a"
            ],
            [
             0.8888888888888888,
             "#fdca26"
            ],
            [
             1,
             "#f0f921"
            ]
           ]
          },
          "colorway": [
           "#636efa",
           "#EF553B",
           "#00cc96",
           "#ab63fa",
           "#FFA15A",
           "#19d3f3",
           "#FF6692",
           "#B6E880",
           "#FF97FF",
           "#FECB52"
          ],
          "font": {
           "color": "#2a3f5f"
          },
          "geo": {
           "bgcolor": "white",
           "lakecolor": "white",
           "landcolor": "#E5ECF6",
           "showlakes": true,
           "showland": true,
           "subunitcolor": "white"
          },
          "hoverlabel": {
           "align": "left"
          },
          "hovermode": "closest",
          "mapbox": {
           "style": "light"
          },
          "paper_bgcolor": "white",
          "plot_bgcolor": "#E5ECF6",
          "polar": {
           "angularaxis": {
            "gridcolor": "white",
            "linecolor": "white",
            "ticks": ""
           },
           "bgcolor": "#E5ECF6",
           "radialaxis": {
            "gridcolor": "white",
            "linecolor": "white",
            "ticks": ""
           }
          },
          "scene": {
           "xaxis": {
            "backgroundcolor": "#E5ECF6",
            "gridcolor": "white",
            "gridwidth": 2,
            "linecolor": "white",
            "showbackground": true,
            "ticks": "",
            "zerolinecolor": "white"
           },
           "yaxis": {
            "backgroundcolor": "#E5ECF6",
            "gridcolor": "white",
            "gridwidth": 2,
            "linecolor": "white",
            "showbackground": true,
            "ticks": "",
            "zerolinecolor": "white"
           },
           "zaxis": {
            "backgroundcolor": "#E5ECF6",
            "gridcolor": "white",
            "gridwidth": 2,
            "linecolor": "white",
            "showbackground": true,
            "ticks": "",
            "zerolinecolor": "white"
           }
          },
          "shapedefaults": {
           "line": {
            "color": "#2a3f5f"
           }
          },
          "ternary": {
           "aaxis": {
            "gridcolor": "white",
            "linecolor": "white",
            "ticks": ""
           },
           "baxis": {
            "gridcolor": "white",
            "linecolor": "white",
            "ticks": ""
           },
           "bgcolor": "#E5ECF6",
           "caxis": {
            "gridcolor": "white",
            "linecolor": "white",
            "ticks": ""
           }
          },
          "title": {
           "x": 0.05
          },
          "xaxis": {
           "automargin": true,
           "gridcolor": "white",
           "linecolor": "white",
           "ticks": "",
           "title": {
            "standoff": 15
           },
           "zerolinecolor": "white",
           "zerolinewidth": 2
          },
          "yaxis": {
           "automargin": true,
           "gridcolor": "white",
           "linecolor": "white",
           "ticks": "",
           "title": {
            "standoff": 15
           },
           "zerolinecolor": "white",
           "zerolinewidth": 2
          }
         }
        }
       }
      },
      "image/png": "[encoded data removed]",
      "text/html": [
       "<div>                            <div id=\"2e8f51c8-1231-443f-9063-3fa9b9c378be\" class=\"plotly-graph-div\" style=\"height:525px; width:100%;\"></div>            <script type=\"text/javascript\">                require([\"plotly\"], function(Plotly) {                    window.PLOTLYENV=window.PLOTLYENV || {};                                    if (document.getElementById(\"2e8f51c8-1231-443f-9063-3fa9b9c378be\")) {                    Plotly.newPlot(                        \"2e8f51c8-1231-443f-9063-3fa9b9c378be\",                        [{\"labels\":[\"Oxygen\",\"Hydrogen\",\"Carbon Dioxide\",\"Nitrogen\"],\"values\":[4500,2500,1053,500],\"type\":\"pie\",\"textinfo\":\"value\"}],                        {\"template\":{\"data\":{\"histogram2dcontour\":[{\"type\":\"histogram2dcontour\",\"colorbar\":{\"outlinewidth\":0,\"ticks\":\"\"},\"colorscale\":[[0.0,\"#0d0887\"],[0.1111111111111111,\"#46039f\"],[0.2222222222222222,\"#7201a8\"],[0.3333333333333333,\"#9c179e\"],[0.4444444444444444,\"#bd3786\"],[0.5555555555555556,\"#d8576b\"],[0.6666666666666666,\"#ed7953\"],[0.7777777777777778,\"#fb9f3a\"],[0.8888888888888888,\"#fdca26\"],[1.0,\"#f0f921\"]]}],\"choropleth\":[{\"type\":\"choropleth\",\"colorbar\":{\"outlinewidth\":0,\"ticks\":\"\"}}],\"histogram2d\":[{\"type\":\"histogram2d\",\"colorbar\":{\"outlinewidth\":0,\"ticks\":\"\"},\"colorscale\":[[0.0,\"#0d0887\"],[0.1111111111111111,\"#46039f\"],[0.2222222222222222,\"#7201a8\"],[0.3333333333333333,\"#9c179e\"],[0.4444444444444444,\"#bd3786\"],[0.5555555555555556,\"#d8576b\"],[0.6666666666666666,\"#ed7953\"],[0.7777777777777778,\"#fb9f3a\"],[0.8888888888888888,\"#fdca26\"],[1.0,\"#f0f921\"]]}],\"heatmap\":[{\"type\":\"heatmap\",\"colorbar\":{\"outlinewidth\":0,\"ticks\":\"\"},\"colorscale\":[[0.0,\"#0d0887\"],[0.1111111111111111,\"#46039f\"],[0.2222222222222222,\"#7201a8\"],[0.3333333333333333,\"#9c179e\"],[0.4444444444444444,\"#bd3786\"],[0.5555555555555556,\"#d8576b\"],[0.6666666666666666,\"#ed7953\"],[0.7777777777777778,\"#fb9f3a\"],[0.8888888888888888,\"#fdca26\"],[1.0,\"#f0f921\"]]}],\"heatmapgl\":[{\"type\":\"heatmapgl\",\"colorbar\":{\"outlinewidth\":0,\"ticks\":\"\"},\"colorscale\":[[0.0,\"#0d0887\"],[0.1111111111111111,\"#46039f\"],[0.2222222222222222,\"#7201a8\"],[0.3333333333333333,\"#9c179e\"],[0.4444444444444444,\"#bd3786\"],[0.5555555555555556,\"#d8576b\"],[0.6666666666666666,\"#ed7953\"],[0.7777777777777778,\"#fb9f3a\"],[0.8888888888888888,\"#fdca26\"],[1.0,\"#f0f921\"]]}],\"contourcarpet\":[{\"type\":\"contourcarpet\",\"colorbar\":{\"outlinewidth\":0,\"ticks\":\"\"}}],\"contour\":[{\"type\":\"contour\",\"colorbar\":{\"outlinewidth\":0,\"ticks\":\"\"},\"colorscale\":[[0.0,\"#0d0887\"],[0.1111111111111111,\"#46039f\"],[0.2222222222222222,\"#7201a8\"],[0.3333333333333333,\"#9c179e\"],[0.4444444444444444,\"#bd3786\"],[0.5555555555555556,\"#d8576b\"],[0.6666666666666666,\"#ed7953\"],[0.7777777777777778,\"#fb9f3a\"],[0.8888888888888888,\"#fdca26\"],[1.0,\"#f0f921\"]]}],\"surface\":[{\"type\":\"surface\",\"colorbar\":{\"outlinewidth\":0,\"ticks\":\"\"},\"colorscale\":[[0.0,\"#0d0887\"],[0.1111111111111111,\"#46039f\"],[0.2222222222222222,\"#7201a8\"],[0.3333333333333333,\"#9c179e\"],[0.4444444444444444,\"#bd3786\"],[0.5555555555555556,\"#d8576b\"],[0.6666666666666666,\"#ed7953\"],[0.7777777777777778,\"#fb9f3a\"],[0.8888888888888888,\"#fdca26\"],[1.0,\"#f0f921\"]]}],\"mesh3d\":[{\"type\":\"mesh3d\",\"colorbar\":{\"outlinewidth\":0,\"ticks\":\"\"}}],\"scatter\":[{\"fillpattern\":{\"fillmode\":\"overlay\",\"size\":10,\"solidity\":0.2},\"type\":\"scatter\"}],\"parcoords\":[{\"type\":\"parcoords\",\"line\":{\"colorbar\":{\"outlinewidth\":0,\"ticks\":\"\"}}}],\"scatterpolargl\":[{\"type\":\"scatterpolargl\",\"marker\":{\"colorbar\":{\"outlinewidth\":0,\"ticks\":\"\"}}}],\"bar\":[{\"error_x\":{\"color\":\"#2a3f5f\"},\"error_y\":{\"color\":\"#2a3f5f\"},\"marker\":{\"line\":{\"color\":\"#E5ECF6\",\"width\":0.5},\"pattern\":{\"fillmode\":\"overlay\",\"size\":10,\"solidity\":0.2}},\"type\":\"bar\"}],\"scattergeo\":[{\"type\":\"scattergeo\",\"marker\":{\"colorbar\":{\"outlinewidth\":0,\"ticks\":\"\"}}}],\"scatterpolar\":[{\"type\":\"scatterpolar\",\"marker\":{\"colorbar\":{\"outlinewidth\":0,\"ticks\":\"\"}}}],\"histogram\":[{\"marker\":{\"pattern\":{\"fillmode\":\"overlay\",\"size\":10,\"solidity\":0.2}},\"type\":\"histogram\"}],\"scattergl\":[{\"type\":\"scattergl\",\"marker\":{\"colorbar\":{\"outlinewidth\":0,\"ticks\":\"\"}}}],\"scatter3d\":[{\"type\":\"scatter3d\",\"line\":{\"colorbar\":{\"outlinewidth\":0,\"ticks\":\"\"}},\"marker\":{\"colorbar\":{\"outlinewidth\":0,\"ticks\":\"\"}}}],\"scattermapbox\":[{\"type\":\"scattermapbox\",\"marker\":{\"colorbar\":{\"outlinewidth\":0,\"ticks\":\"\"}}}],\"scatterternary\":[{\"type\":\"scatterternary\",\"marker\":{\"colorbar\":{\"outlinewidth\":0,\"ticks\":\"\"}}}],\"scattercarpet\":[{\"type\":\"scattercarpet\",\"marker\":{\"colorbar\":{\"outlinewidth\":0,\"ticks\":\"\"}}}],\"carpet\":[{\"aaxis\":{\"endlinecolor\":\"#2a3f5f\",\"gridcolor\":\"white\",\"linecolor\":\"white\",\"minorgridcolor\":\"white\",\"startlinecolor\":\"#2a3f5f\"},\"baxis\":{\"endlinecolor\":\"#2a3f5f\",\"gridcolor\":\"white\",\"linecolor\":\"white\",\"minorgridcolor\":\"white\",\"startlinecolor\":\"#2a3f5f\"},\"type\":\"carpet\"}],\"table\":[{\"cells\":{\"fill\":{\"color\":\"#EBF0F8\"},\"line\":{\"color\":\"white\"}},\"header\":{\"fill\":{\"color\":\"#C8D4E3\"},\"line\":{\"color\":\"white\"}},\"type\":\"table\"}],\"barpolar\":[{\"marker\":{\"line\":{\"color\":\"#E5ECF6\",\"width\":0.5},\"pattern\":{\"fillmode\":\"overlay\",\"size\":10,\"solidity\":0.2}},\"type\":\"barpolar\"}],\"pie\":[{\"automargin\":true,\"type\":\"pie\"}]},\"layout\":{\"autotypenumbers\":\"strict\",\"colorway\":[\"#636efa\",\"#EF553B\",\"#00cc96\",\"#ab63fa\",\"#FFA15A\",\"#19d3f3\",\"#FF6692\",\"#B6E880\",\"#FF97FF\",\"#FECB52\"],\"font\":{\"color\":\"#2a3f5f\"},\"hovermode\":\"closest\",\"hoverlabel\":{\"align\":\"left\"},\"paper_bgcolor\":\"white\",\"plot_bgcolor\":\"#E5ECF6\",\"polar\":{\"bgcolor\":\"#E5ECF6\",\"angularaxis\":{\"gridcolor\":\"white\",\"linecolor\":\"white\",\"ticks\":\"\"},\"radialaxis\":{\"gridcolor\":\"white\",\"linecolor\":\"white\",\"ticks\":\"\"}},\"ternary\":{\"bgcolor\":\"#E5ECF6\",\"aaxis\":{\"gridcolor\":\"white\",\"linecolor\":\"white\",\"ticks\":\"\"},\"baxis\":{\"gridcolor\":\"white\",\"linecolor\":\"white\",\"ticks\":\"\"},\"caxis\":{\"gridcolor\":\"white\",\"linecolor\":\"white\",\"ticks\":\"\"}},\"coloraxis\":{\"colorbar\":{\"outlinewidth\":0,\"ticks\":\"\"}},\"colorscale\":{\"sequential\":[[0.0,\"#0d0887\"],[0.1111111111111111,\"#46039f\"],[0.2222222222222222,\"#7201a8\"],[0.3333333333333333,\"#9c179e\"],[0.4444444444444444,\"#bd3786\"],[0.5555555555555556,\"#d8576b\"],[0.6666666666666666,\"#ed7953\"],[0.7777777777777778,\"#fb9f3a\"],[0.8888888888888888,\"#fdca26\"],[1.0,\"#f0f921\"]],\"sequentialminus\":[[0.0,\"#0d0887\"],[0.1111111111111111,\"#46039f\"],[0.2222222222222222,\"#7201a8\"],[0.3333333333333333,\"#9c179e\"],[0.4444444444444444,\"#bd3786\"],[0.5555555555555556,\"#d8576b\"],[0.6666666666666666,\"#ed7953\"],[0.7777777777777778,\"#fb9f3a\"],[0.8888888888888888,\"#fdca26\"],[1.0,\"#f0f921\"]],\"diverging\":[[0,\"#8e0152\"],[0.1,\"#c51b7d\"],[0.2,\"#de77ae\"],[0.3,\"#f1b6da\"],[0.4,\"#fde0ef\"],[0.5,\"#f7f7f7\"],[0.6,\"#e6f5d0\"],[0.7,\"#b8e186\"],[0.8,\"#7fbc41\"],[0.9,\"#4d9221\"],[1,\"#276419\"]]},\"xaxis\":{\"gridcolor\":\"white\",\"linecolor\":\"white\",\"ticks\":\"\",\"title\":{\"standoff\":15},\"zerolinecolor\":\"white\",\"automargin\":true,\"zerolinewidth\":2},\"yaxis\":{\"gridcolor\":\"white\",\"linecolor\":\"white\",\"ticks\":\"\",\"title\":{\"standoff\":15},\"zerolinecolor\":\"white\",\"automargin\":true,\"zerolinewidth\":2},\"scene\":{\"xaxis\":{\"backgroundcolor\":\"#E5ECF6\",\"gridcolor\":\"white\",\"linecolor\":\"white\",\"showbackground\":true,\"ticks\":\"\",\"zerolinecolor\":\"white\",\"gridwidth\":2},\"yaxis\":{\"backgroundcolor\":\"#E5ECF6\",\"gridcolor\":\"white\",\"linecolor\":\"white\",\"showbackground\":true,\"ticks\":\"\",\"zerolinecolor\":\"white\",\"gridwidth\":2},\"zaxis\":{\"backgroundcolor\":\"#E5ECF6\",\"gridcolor\":\"white\",\"linecolor\":\"white\",\"showbackground\":true,\"ticks\":\"\",\"zerolinecolor\":\"white\",\"gridwidth\":2}},\"shapedefaults\":{\"line\":{\"color\":\"#2a3f5f\"}},\"annotationdefaults\":{\"arrowcolor\":\"#2a3f5f\",\"arrowhead\":0,\"arrowwidth\":1},\"geo\":{\"bgcolor\":\"white\",\"landcolor\":\"#E5ECF6\",\"subunitcolor\":\"white\",\"showland\":true,\"showlakes\":true,\"lakecolor\":\"white\"},\"title\":{\"x\":0.05},\"mapbox\":{\"style\":\"light\"}}}},                        {\"responsive\": true}                    ).then(function(){\n",
       "                            \n",
       "var gd = document.getElementById('2e8f51c8-1231-443f-9063-3fa9b9c378be');\n",
       "var x = new MutationObserver(function (mutations, observer) {{\n",
       "        var display = window.getComputedStyle(gd).display;\n",
       "        if (!display || display === 'none') {{\n",
       "            console.log([gd, 'removed!']);\n",
       "            Plotly.purge(gd);\n",
       "            observer.disconnect();\n",
       "        }}\n",
       "}});\n",
       "\n",
       "// Listen for the removal of the full notebook cells\n",
       "var notebookContainer = gd.closest('#notebook-container');\n",
       "if (notebookContainer) {{\n",
       "    x.observe(notebookContainer, {childList: true});\n",
       "}}\n",
       "\n",
       "// Listen for the clearing of the current output cell\n",
       "var outputEl = gd.closest('.output');\n",
       "if (outputEl) {{\n",
       "    x.observe(outputEl, {childList: true});\n",
       "}}\n",
       "\n",
       "                        })                };                });            </script>        </div>"
      ]
     },
     "metadata": {},
     "output_type": "display_data"
    }
   ],
   "source": [
    "gas = ['Oxygen','Hydrogen','Carbon Dioxide','Nitrogen']\n",
    "volume = [4500,2500,1053,500]\n",
    "data = [go.Pie(labels=gas, \n",
    "               values=volume\n",
    "              )]\n",
    "fig = go.Figure(data )\n",
    "fig.update_traces(textinfo='value')\n",
    "fig\n"
   ]
  },
  {
   "cell_type": "markdown",
   "id": "e055ff79-9d7e-4757-9a63-1525a890d69c",
   "metadata": {},
   "source": [
    "# Line chart"
   ]
  },
  {
   "cell_type": "code",
   "execution_count": 14,
   "id": "82a2f119-a627-4980-9489-0a7be61ba2d0",
   "metadata": {},
   "outputs": [
    {
     "data": {
      "application/vnd.plotly.v1+json": {
       "config": {
        "plotlyServerURL": "https://plot.ly"
       },
       "data": [
        {
         "mode": "lines",
         "type": "scatter",
         "x": [
          1980,
          1990,
          2000,
          2010,
          2020
         ],
         "y": [
          6,
          5,
          7,
          2,
          8
         ]
        }
       ],
       "layout": {
        "autosize": true,
        "template": {
         "data": {
          "bar": [
           {
            "error_x": {
             "color": "#2a3f5f"
            },
            "error_y": {
             "color": "#2a3f5f"
            },
            "marker": {
             "line": {
              "color": "#E5ECF6",
              "width": 0.5
             },
             "pattern": {
              "fillmode": "overlay",
              "size": 10,
              "solidity": 0.2
             }
            },
            "type": "bar"
           }
          ],
          "barpolar": [
           {
            "marker": {
             "line": {
              "color": "#E5ECF6",
              "width": 0.5
             },
             "pattern": {
              "fillmode": "overlay",
              "size": 10,
              "solidity": 0.2
             }
            },
            "type": "barpolar"
           }
          ],
          "carpet": [
           {
            "aaxis": {
             "endlinecolor": "#2a3f5f",
             "gridcolor": "white",
             "linecolor": "white",
             "minorgridcolor": "white",
             "startlinecolor": "#2a3f5f"
            },
            "baxis": {
             "endlinecolor": "#2a3f5f",
             "gridcolor": "white",
             "linecolor": "white",
             "minorgridcolor": "white",
             "startlinecolor": "#2a3f5f"
            },
            "type": "carpet"
           }
          ],
          "choropleth": [
           {
            "colorbar": {
             "outlinewidth": 0,
             "ticks": ""
            },
            "type": "choropleth"
           }
          ],
          "contour": [
           {
            "colorbar": {
             "outlinewidth": 0,
             "ticks": ""
            },
            "colorscale": [
             [
              0,
              "#0d0887"
             ],
             [
              0.1111111111111111,
              "#46039f"
             ],
             [
              0.2222222222222222,
              "#7201a8"
             ],
             [
              0.3333333333333333,
              "#9c179e"
             ],
             [
              0.4444444444444444,
              "#bd3786"
             ],
             [
              0.5555555555555556,
              "#d8576b"
             ],
             [
              0.6666666666666666,
              "#ed7953"
             ],
             [
              0.7777777777777778,
              "#fb9f3a"
             ],
             [
              0.8888888888888888,
              "#fdca26"
             ],
             [
              1,
              "#f0f921"
             ]
            ],
            "type": "contour"
           }
          ],
          "contourcarpet": [
           {
            "colorbar": {
             "outlinewidth": 0,
             "ticks": ""
            },
            "type": "contourcarpet"
           }
          ],
          "heatmap": [
           {
            "colorbar": {
             "outlinewidth": 0,
             "ticks": ""
            },
            "colorscale": [
             [
              0,
              "#0d0887"
             ],
             [
              0.1111111111111111,
              "#46039f"
             ],
             [
              0.2222222222222222,
              "#7201a8"
             ],
             [
              0.3333333333333333,
              "#9c179e"
             ],
             [
              0.4444444444444444,
              "#bd3786"
             ],
             [
              0.5555555555555556,
              "#d8576b"
             ],
             [
              0.6666666666666666,
              "#ed7953"
             ],
             [
              0.7777777777777778,
              "#fb9f3a"
             ],
             [
              0.8888888888888888,
              "#fdca26"
             ],
             [
              1,
              "#f0f921"
             ]
            ],
            "type": "heatmap"
           }
          ],
          "heatmapgl": [
           {
            "colorbar": {
             "outlinewidth": 0,
             "ticks": ""
            },
            "colorscale": [
             [
              0,
              "#0d0887"
             ],
             [
              0.1111111111111111,
              "#46039f"
             ],
             [
              0.2222222222222222,
              "#7201a8"
             ],
             [
              0.3333333333333333,
              "#9c179e"
             ],
             [
              0.4444444444444444,
              "#bd3786"
             ],
             [
              0.5555555555555556,
              "#d8576b"
             ],
             [
              0.6666666666666666,
              "#ed7953"
             ],
             [
              0.7777777777777778,
              "#fb9f3a"
             ],
             [
              0.8888888888888888,
              "#fdca26"
             ],
             [
              1,
              "#f0f921"
             ]
            ],
            "type": "heatmapgl"
           }
          ],
          "histogram": [
           {
            "marker": {
             "pattern": {
              "fillmode": "overlay",
              "size": 10,
              "solidity": 0.2
             }
            },
            "type": "histogram"
           }
          ],
          "histogram2d": [
           {
            "colorbar": {
             "outlinewidth": 0,
             "ticks": ""
            },
            "colorscale": [
             [
              0,
              "#0d0887"
             ],
             [
              0.1111111111111111,
              "#46039f"
             ],
             [
              0.2222222222222222,
              "#7201a8"
             ],
             [
              0.3333333333333333,
              "#9c179e"
             ],
             [
              0.4444444444444444,
              "#bd3786"
             ],
             [
              0.5555555555555556,
              "#d8576b"
             ],
             [
              0.6666666666666666,
              "#ed7953"
             ],
             [
              0.7777777777777778,
              "#fb9f3a"
             ],
             [
              0.8888888888888888,
              "#fdca26"
             ],
             [
              1,
              "#f0f921"
             ]
            ],
            "type": "histogram2d"
           }
          ],
          "histogram2dcontour": [
           {
            "colorbar": {
             "outlinewidth": 0,
             "ticks": ""
            },
            "colorscale": [
             [
              0,
              "#0d0887"
             ],
             [
              0.1111111111111111,
              "#46039f"
             ],
             [
              0.2222222222222222,
              "#7201a8"
             ],
             [
              0.3333333333333333,
              "#9c179e"
             ],
             [
              0.4444444444444444,
              "#bd3786"
             ],
             [
              0.5555555555555556,
              "#d8576b"
             ],
             [
              0.6666666666666666,
              "#ed7953"
             ],
             [
              0.7777777777777778,
              "#fb9f3a"
             ],
             [
              0.8888888888888888,
              "#fdca26"
             ],
             [
              1,
              "#f0f921"
             ]
            ],
            "type": "histogram2dcontour"
           }
          ],
          "mesh3d": [
           {
            "colorbar": {
             "outlinewidth": 0,
             "ticks": ""
            },
            "type": "mesh3d"
           }
          ],
          "parcoords": [
           {
            "line": {
             "colorbar": {
              "outlinewidth": 0,
              "ticks": ""
             }
            },
            "type": "parcoords"
           }
          ],
          "pie": [
           {
            "automargin": true,
            "type": "pie"
           }
          ],
          "scatter": [
           {
            "fillpattern": {
             "fillmode": "overlay",
             "size": 10,
             "solidity": 0.2
            },
            "type": "scatter"
           }
          ],
          "scatter3d": [
           {
            "line": {
             "colorbar": {
              "outlinewidth": 0,
              "ticks": ""
             }
            },
            "marker": {
             "colorbar": {
              "outlinewidth": 0,
              "ticks": ""
             }
            },
            "type": "scatter3d"
           }
          ],
          "scattercarpet": [
           {
            "marker": {
             "colorbar": {
              "outlinewidth": 0,
              "ticks": ""
             }
            },
            "type": "scattercarpet"
           }
          ],
          "scattergeo": [
           {
            "marker": {
             "colorbar": {
              "outlinewidth": 0,
              "ticks": ""
             }
            },
            "type": "scattergeo"
           }
          ],
          "scattergl": [
           {
            "marker": {
             "colorbar": {
              "outlinewidth": 0,
              "ticks": ""
             }
            },
            "type": "scattergl"
           }
          ],
          "scattermapbox": [
           {
            "marker": {
             "colorbar": {
              "outlinewidth": 0,
              "ticks": ""
             }
            },
            "type": "scattermapbox"
           }
          ],
          "scatterpolar": [
           {
            "marker": {
             "colorbar": {
              "outlinewidth": 0,
              "ticks": ""
             }
            },
            "type": "scatterpolar"
           }
          ],
          "scatterpolargl": [
           {
            "marker": {
             "colorbar": {
              "outlinewidth": 0,
              "ticks": ""
             }
            },
            "type": "scatterpolargl"
           }
          ],
          "scatterternary": [
           {
            "marker": {
             "colorbar": {
              "outlinewidth": 0,
              "ticks": ""
             }
            },
            "type": "scatterternary"
           }
          ],
          "surface": [
           {
            "colorbar": {
             "outlinewidth": 0,
             "ticks": ""
            },
            "colorscale": [
             [
              0,
              "#0d0887"
             ],
             [
              0.1111111111111111,
              "#46039f"
             ],
             [
              0.2222222222222222,
              "#7201a8"
             ],
             [
              0.3333333333333333,
              "#9c179e"
             ],
             [
              0.4444444444444444,
              "#bd3786"
             ],
             [
              0.5555555555555556,
              "#d8576b"
             ],
             [
              0.6666666666666666,
              "#ed7953"
             ],
             [
              0.7777777777777778,
              "#fb9f3a"
             ],
             [
              0.8888888888888888,
              "#fdca26"
             ],
             [
              1,
              "#f0f921"
             ]
            ],
            "type": "surface"
           }
          ],
          "table": [
           {
            "cells": {
             "fill": {
              "color": "#EBF0F8"
             },
             "line": {
              "color": "white"
             }
            },
            "header": {
             "fill": {
              "color": "#C8D4E3"
             },
             "line": {
              "color": "white"
             }
            },
            "type": "table"
           }
          ]
         },
         "layout": {
          "annotationdefaults": {
           "arrowcolor": "#2a3f5f",
           "arrowhead": 0,
           "arrowwidth": 1
          },
          "autotypenumbers": "strict",
          "coloraxis": {
           "colorbar": {
            "outlinewidth": 0,
            "ticks": ""
           }
          },
          "colorscale": {
           "diverging": [
            [
             0,
             "#8e0152"
            ],
            [
             0.1,
             "#c51b7d"
            ],
            [
             0.2,
             "#de77ae"
            ],
            [
             0.3,
             "#f1b6da"
            ],
            [
             0.4,
             "#fde0ef"
            ],
            [
             0.5,
             "#f7f7f7"
            ],
            [
             0.6,
             "#e6f5d0"
            ],
            [
             0.7,
             "#b8e186"
            ],
            [
             0.8,
             "#7fbc41"
            ],
            [
             0.9,
             "#4d9221"
            ],
            [
             1,
             "#276419"
            ]
           ],
           "sequential": [
            [
             0,
             "#0d0887"
            ],
            [
             0.1111111111111111,
             "#46039f"
            ],
            [
             0.2222222222222222,
             "#7201a8"
            ],
            [
             0.3333333333333333,
             "#9c179e"
            ],
            [
             0.4444444444444444,
             "#bd3786"
            ],
            [
             0.5555555555555556,
             "#d8576b"
            ],
            [
             0.6666666666666666,
             "#ed7953"
            ],
            [
             0.7777777777777778,
             "#fb9f3a"
            ],
            [
             0.8888888888888888,
             "#fdca26"
            ],
            [
             1,
             "#f0f921"
            ]
           ],
           "sequentialminus": [
            [
             0,
             "#0d0887"
            ],
            [
             0.1111111111111111,
             "#46039f"
            ],
            [
             0.2222222222222222,
             "#7201a8"
            ],
            [
             0.3333333333333333,
             "#9c179e"
            ],
            [
             0.4444444444444444,
             "#bd3786"
            ],
            [
             0.5555555555555556,
             "#d8576b"
            ],
            [
             0.6666666666666666,
             "#ed7953"
            ],
            [
             0.7777777777777778,
             "#fb9f3a"
            ],
            [
             0.8888888888888888,
             "#fdca26"
            ],
            [
             1,
             "#f0f921"
            ]
           ]
          },
          "colorway": [
           "#636efa",
           "#EF553B",
           "#00cc96",
           "#ab63fa",
           "#FFA15A",
           "#19d3f3",
           "#FF6692",
           "#B6E880",
           "#FF97FF",
           "#FECB52"
          ],
          "font": {
           "color": "#2a3f5f"
          },
          "geo": {
           "bgcolor": "white",
           "lakecolor": "white",
           "landcolor": "#E5ECF6",
           "showlakes": true,
           "showland": true,
           "subunitcolor": "white"
          },
          "hoverlabel": {
           "align": "left"
          },
          "hovermode": "closest",
          "mapbox": {
           "style": "light"
          },
          "paper_bgcolor": "white",
          "plot_bgcolor": "#E5ECF6",
          "polar": {
           "angularaxis": {
            "gridcolor": "white",
            "linecolor": "white",
            "ticks": ""
           },
           "bgcolor": "#E5ECF6",
           "radialaxis": {
            "gridcolor": "white",
            "linecolor": "white",
            "ticks": ""
           }
          },
          "scene": {
           "xaxis": {
            "backgroundcolor": "#E5ECF6",
            "gridcolor": "white",
            "gridwidth": 2,
            "linecolor": "white",
            "showbackground": true,
            "ticks": "",
            "zerolinecolor": "white"
           },
           "yaxis": {
            "backgroundcolor": "#E5ECF6",
            "gridcolor": "white",
            "gridwidth": 2,
            "linecolor": "white",
            "showbackground": true,
            "ticks": "",
            "zerolinecolor": "white"
           },
           "zaxis": {
            "backgroundcolor": "#E5ECF6",
            "gridcolor": "white",
            "gridwidth": 2,
            "linecolor": "white",
            "showbackground": true,
            "ticks": "",
            "zerolinecolor": "white"
           }
          },
          "shapedefaults": {
           "line": {
            "color": "#2a3f5f"
           }
          },
          "ternary": {
           "aaxis": {
            "gridcolor": "white",
            "linecolor": "white",
            "ticks": ""
           },
           "baxis": {
            "gridcolor": "white",
            "linecolor": "white",
            "ticks": ""
           },
           "bgcolor": "#E5ECF6",
           "caxis": {
            "gridcolor": "white",
            "linecolor": "white",
            "ticks": ""
           }
          },
          "title": {
           "x": 0.05
          },
          "xaxis": {
           "automargin": true,
           "gridcolor": "white",
           "linecolor": "white",
           "ticks": "",
           "title": {
            "standoff": 15
           },
           "zerolinecolor": "white",
           "zerolinewidth": 2
          },
          "yaxis": {
           "automargin": true,
           "gridcolor": "white",
           "linecolor": "white",
           "ticks": "",
           "title": {
            "standoff": 15
           },
           "zerolinecolor": "white",
           "zerolinewidth": 2
          }
         }
        },
        "xaxis": {
         "autorange": true,
         "range": [
          1980,
          2020
         ],
         "type": "linear"
        },
        "yaxis": {
         "autorange": true,
         "range": [
          1.6666666666666667,
          8.333333333333334
         ],
         "type": "linear"
        }
       }
      },
      "image/png": "[encoded data removed]",
      "text/html": [
       "<div>                            <div id=\"adba6d76-95fe-4f4e-8c13-fc69fcdabc49\" class=\"plotly-graph-div\" style=\"height:525px; width:100%;\"></div>            <script type=\"text/javascript\">                require([\"plotly\"], function(Plotly) {                    window.PLOTLYENV=window.PLOTLYENV || {};                                    if (document.getElementById(\"adba6d76-95fe-4f4e-8c13-fc69fcdabc49\")) {                    Plotly.newPlot(                        \"adba6d76-95fe-4f4e-8c13-fc69fcdabc49\",                        [{\"mode\":\"lines\",\"x\":[1980,1990,2000,2010,2020],\"y\":[6,5,7,2,8],\"type\":\"scatter\"}],                        {\"template\":{\"data\":{\"histogram2dcontour\":[{\"type\":\"histogram2dcontour\",\"colorbar\":{\"outlinewidth\":0,\"ticks\":\"\"},\"colorscale\":[[0.0,\"#0d0887\"],[0.1111111111111111,\"#46039f\"],[0.2222222222222222,\"#7201a8\"],[0.3333333333333333,\"#9c179e\"],[0.4444444444444444,\"#bd3786\"],[0.5555555555555556,\"#d8576b\"],[0.6666666666666666,\"#ed7953\"],[0.7777777777777778,\"#fb9f3a\"],[0.8888888888888888,\"#fdca26\"],[1.0,\"#f0f921\"]]}],\"choropleth\":[{\"type\":\"choropleth\",\"colorbar\":{\"outlinewidth\":0,\"ticks\":\"\"}}],\"histogram2d\":[{\"type\":\"histogram2d\",\"colorbar\":{\"outlinewidth\":0,\"ticks\":\"\"},\"colorscale\":[[0.0,\"#0d0887\"],[0.1111111111111111,\"#46039f\"],[0.2222222222222222,\"#7201a8\"],[0.3333333333333333,\"#9c179e\"],[0.4444444444444444,\"#bd3786\"],[0.5555555555555556,\"#d8576b\"],[0.6666666666666666,\"#ed7953\"],[0.7777777777777778,\"#fb9f3a\"],[0.8888888888888888,\"#fdca26\"],[1.0,\"#f0f921\"]]}],\"heatmap\":[{\"type\":\"heatmap\",\"colorbar\":{\"outlinewidth\":0,\"ticks\":\"\"},\"colorscale\":[[0.0,\"#0d0887\"],[0.1111111111111111,\"#46039f\"],[0.2222222222222222,\"#7201a8\"],[0.3333333333333333,\"#9c179e\"],[0.4444444444444444,\"#bd3786\"],[0.5555555555555556,\"#d8576b\"],[0.6666666666666666,\"#ed7953\"],[0.7777777777777778,\"#fb9f3a\"],[0.8888888888888888,\"#fdca26\"],[1.0,\"#f0f921\"]]}],\"heatmapgl\":[{\"type\":\"heatmapgl\",\"colorbar\":{\"outlinewidth\":0,\"ticks\":\"\"},\"colorscale\":[[0.0,\"#0d0887\"],[0.1111111111111111,\"#46039f\"],[0.2222222222222222,\"#7201a8\"],[0.3333333333333333,\"#9c179e\"],[0.4444444444444444,\"#bd3786\"],[0.5555555555555556,\"#d8576b\"],[0.6666666666666666,\"#ed7953\"],[0.7777777777777778,\"#fb9f3a\"],[0.8888888888888888,\"#fdca26\"],[1.0,\"#f0f921\"]]}],\"contourcarpet\":[{\"type\":\"contourcarpet\",\"colorbar\":{\"outlinewidth\":0,\"ticks\":\"\"}}],\"contour\":[{\"type\":\"contour\",\"colorbar\":{\"outlinewidth\":0,\"ticks\":\"\"},\"colorscale\":[[0.0,\"#0d0887\"],[0.1111111111111111,\"#46039f\"],[0.2222222222222222,\"#7201a8\"],[0.3333333333333333,\"#9c179e\"],[0.4444444444444444,\"#bd3786\"],[0.5555555555555556,\"#d8576b\"],[0.6666666666666666,\"#ed7953\"],[0.7777777777777778,\"#fb9f3a\"],[0.8888888888888888,\"#fdca26\"],[1.0,\"#f0f921\"]]}],\"surface\":[{\"type\":\"surface\",\"colorbar\":{\"outlinewidth\":0,\"ticks\":\"\"},\"colorscale\":[[0.0,\"#0d0887\"],[0.1111111111111111,\"#46039f\"],[0.2222222222222222,\"#7201a8\"],[0.3333333333333333,\"#9c179e\"],[0.4444444444444444,\"#bd3786\"],[0.5555555555555556,\"#d8576b\"],[0.6666666666666666,\"#ed7953\"],[0.7777777777777778,\"#fb9f3a\"],[0.8888888888888888,\"#fdca26\"],[1.0,\"#f0f921\"]]}],\"mesh3d\":[{\"type\":\"mesh3d\",\"colorbar\":{\"outlinewidth\":0,\"ticks\":\"\"}}],\"scatter\":[{\"fillpattern\":{\"fillmode\":\"overlay\",\"size\":10,\"solidity\":0.2},\"type\":\"scatter\"}],\"parcoords\":[{\"type\":\"parcoords\",\"line\":{\"colorbar\":{\"outlinewidth\":0,\"ticks\":\"\"}}}],\"scatterpolargl\":[{\"type\":\"scatterpolargl\",\"marker\":{\"colorbar\":{\"outlinewidth\":0,\"ticks\":\"\"}}}],\"bar\":[{\"error_x\":{\"color\":\"#2a3f5f\"},\"error_y\":{\"color\":\"#2a3f5f\"},\"marker\":{\"line\":{\"color\":\"#E5ECF6\",\"width\":0.5},\"pattern\":{\"fillmode\":\"overlay\",\"size\":10,\"solidity\":0.2}},\"type\":\"bar\"}],\"scattergeo\":[{\"type\":\"scattergeo\",\"marker\":{\"colorbar\":{\"outlinewidth\":0,\"ticks\":\"\"}}}],\"scatterpolar\":[{\"type\":\"scatterpolar\",\"marker\":{\"colorbar\":{\"outlinewidth\":0,\"ticks\":\"\"}}}],\"histogram\":[{\"marker\":{\"pattern\":{\"fillmode\":\"overlay\",\"size\":10,\"solidity\":0.2}},\"type\":\"histogram\"}],\"scattergl\":[{\"type\":\"scattergl\",\"marker\":{\"colorbar\":{\"outlinewidth\":0,\"ticks\":\"\"}}}],\"scatter3d\":[{\"type\":\"scatter3d\",\"line\":{\"colorbar\":{\"outlinewidth\":0,\"ticks\":\"\"}},\"marker\":{\"colorbar\":{\"outlinewidth\":0,\"ticks\":\"\"}}}],\"scattermapbox\":[{\"type\":\"scattermapbox\",\"marker\":{\"colorbar\":{\"outlinewidth\":0,\"ticks\":\"\"}}}],\"scatterternary\":[{\"type\":\"scatterternary\",\"marker\":{\"colorbar\":{\"outlinewidth\":0,\"ticks\":\"\"}}}],\"scattercarpet\":[{\"type\":\"scattercarpet\",\"marker\":{\"colorbar\":{\"outlinewidth\":0,\"ticks\":\"\"}}}],\"carpet\":[{\"aaxis\":{\"endlinecolor\":\"#2a3f5f\",\"gridcolor\":\"white\",\"linecolor\":\"white\",\"minorgridcolor\":\"white\",\"startlinecolor\":\"#2a3f5f\"},\"baxis\":{\"endlinecolor\":\"#2a3f5f\",\"gridcolor\":\"white\",\"linecolor\":\"white\",\"minorgridcolor\":\"white\",\"startlinecolor\":\"#2a3f5f\"},\"type\":\"carpet\"}],\"table\":[{\"cells\":{\"fill\":{\"color\":\"#EBF0F8\"},\"line\":{\"color\":\"white\"}},\"header\":{\"fill\":{\"color\":\"#C8D4E3\"},\"line\":{\"color\":\"white\"}},\"type\":\"table\"}],\"barpolar\":[{\"marker\":{\"line\":{\"color\":\"#E5ECF6\",\"width\":0.5},\"pattern\":{\"fillmode\":\"overlay\",\"size\":10,\"solidity\":0.2}},\"type\":\"barpolar\"}],\"pie\":[{\"automargin\":true,\"type\":\"pie\"}]},\"layout\":{\"autotypenumbers\":\"strict\",\"colorway\":[\"#636efa\",\"#EF553B\",\"#00cc96\",\"#ab63fa\",\"#FFA15A\",\"#19d3f3\",\"#FF6692\",\"#B6E880\",\"#FF97FF\",\"#FECB52\"],\"font\":{\"color\":\"#2a3f5f\"},\"hovermode\":\"closest\",\"hoverlabel\":{\"align\":\"left\"},\"paper_bgcolor\":\"white\",\"plot_bgcolor\":\"#E5ECF6\",\"polar\":{\"bgcolor\":\"#E5ECF6\",\"angularaxis\":{\"gridcolor\":\"white\",\"linecolor\":\"white\",\"ticks\":\"\"},\"radialaxis\":{\"gridcolor\":\"white\",\"linecolor\":\"white\",\"ticks\":\"\"}},\"ternary\":{\"bgcolor\":\"#E5ECF6\",\"aaxis\":{\"gridcolor\":\"white\",\"linecolor\":\"white\",\"ticks\":\"\"},\"baxis\":{\"gridcolor\":\"white\",\"linecolor\":\"white\",\"ticks\":\"\"},\"caxis\":{\"gridcolor\":\"white\",\"linecolor\":\"white\",\"ticks\":\"\"}},\"coloraxis\":{\"colorbar\":{\"outlinewidth\":0,\"ticks\":\"\"}},\"colorscale\":{\"sequential\":[[0.0,\"#0d0887\"],[0.1111111111111111,\"#46039f\"],[0.2222222222222222,\"#7201a8\"],[0.3333333333333333,\"#9c179e\"],[0.4444444444444444,\"#bd3786\"],[0.5555555555555556,\"#d8576b\"],[0.6666666666666666,\"#ed7953\"],[0.7777777777777778,\"#fb9f3a\"],[0.8888888888888888,\"#fdca26\"],[1.0,\"#f0f921\"]],\"sequentialminus\":[[0.0,\"#0d0887\"],[0.1111111111111111,\"#46039f\"],[0.2222222222222222,\"#7201a8\"],[0.3333333333333333,\"#9c179e\"],[0.4444444444444444,\"#bd3786\"],[0.5555555555555556,\"#d8576b\"],[0.6666666666666666,\"#ed7953\"],[0.7777777777777778,\"#fb9f3a\"],[0.8888888888888888,\"#fdca26\"],[1.0,\"#f0f921\"]],\"diverging\":[[0,\"#8e0152\"],[0.1,\"#c51b7d\"],[0.2,\"#de77ae\"],[0.3,\"#f1b6da\"],[0.4,\"#fde0ef\"],[0.5,\"#f7f7f7\"],[0.6,\"#e6f5d0\"],[0.7,\"#b8e186\"],[0.8,\"#7fbc41\"],[0.9,\"#4d9221\"],[1,\"#276419\"]]},\"xaxis\":{\"gridcolor\":\"white\",\"linecolor\":\"white\",\"ticks\":\"\",\"title\":{\"standoff\":15},\"zerolinecolor\":\"white\",\"automargin\":true,\"zerolinewidth\":2},\"yaxis\":{\"gridcolor\":\"white\",\"linecolor\":\"white\",\"ticks\":\"\",\"title\":{\"standoff\":15},\"zerolinecolor\":\"white\",\"automargin\":true,\"zerolinewidth\":2},\"scene\":{\"xaxis\":{\"backgroundcolor\":\"#E5ECF6\",\"gridcolor\":\"white\",\"linecolor\":\"white\",\"showbackground\":true,\"ticks\":\"\",\"zerolinecolor\":\"white\",\"gridwidth\":2},\"yaxis\":{\"backgroundcolor\":\"#E5ECF6\",\"gridcolor\":\"white\",\"linecolor\":\"white\",\"showbackground\":true,\"ticks\":\"\",\"zerolinecolor\":\"white\",\"gridwidth\":2},\"zaxis\":{\"backgroundcolor\":\"#E5ECF6\",\"gridcolor\":\"white\",\"linecolor\":\"white\",\"showbackground\":true,\"ticks\":\"\",\"zerolinecolor\":\"white\",\"gridwidth\":2}},\"shapedefaults\":{\"line\":{\"color\":\"#2a3f5f\"}},\"annotationdefaults\":{\"arrowcolor\":\"#2a3f5f\",\"arrowhead\":0,\"arrowwidth\":1},\"geo\":{\"bgcolor\":\"white\",\"landcolor\":\"#E5ECF6\",\"subunitcolor\":\"white\",\"showland\":true,\"showlakes\":true,\"lakecolor\":\"white\"},\"title\":{\"x\":0.05},\"mapbox\":{\"style\":\"light\"}}}},                        {\"responsive\": true}                    ).then(function(){\n",
       "                            \n",
       "var gd = document.getElementById('adba6d76-95fe-4f4e-8c13-fc69fcdabc49');\n",
       "var x = new MutationObserver(function (mutations, observer) {{\n",
       "        var display = window.getComputedStyle(gd).display;\n",
       "        if (!display || display === 'none') {{\n",
       "            console.log([gd, 'removed!']);\n",
       "            Plotly.purge(gd);\n",
       "            observer.disconnect();\n",
       "        }}\n",
       "}});\n",
       "\n",
       "// Listen for the removal of the full notebook cells\n",
       "var notebookContainer = gd.closest('#notebook-container');\n",
       "if (notebookContainer) {{\n",
       "    x.observe(notebookContainer, {childList: true});\n",
       "}}\n",
       "\n",
       "// Listen for the clearing of the current output cell\n",
       "var outputEl = gd.closest('.output');\n",
       "if (outputEl) {{\n",
       "    x.observe(outputEl, {childList: true});\n",
       "}}\n",
       "\n",
       "                        })                };                });            </script>        </div>"
      ]
     },
     "metadata": {},
     "output_type": "display_data"
    }
   ],
   "source": [
    "x_values=[1980, 1990, 2000, 2010, 2020]\n",
    "y_values=[6, 5, 7, 2, 8]\n",
    "\n",
    "data =[go.Scatter(x=x_values,\n",
    "                  y=y_values,\n",
    "                  mode = 'lines')]\n",
    "fig = go.Figure(data )\n",
    "fig"
   ]
  },
  {
   "cell_type": "markdown",
   "id": "9faf0b00-2822-4bb3-9d62-6f2bedb94736",
   "metadata": {},
   "source": [
    "# Scatterplot"
   ]
  },
  {
   "cell_type": "code",
   "execution_count": 15,
   "id": "ac71a6fd-cbff-43eb-a7e5-732b1248de6a",
   "metadata": {},
   "outputs": [
    {
     "data": {
      "application/vnd.plotly.v1+json": {
       "config": {
        "plotlyServerURL": "https://plot.ly"
       },
       "data": [
        {
         "mode": "markers",
         "type": "scatter",
         "x": [
          0.672834648044392,
          0.5885203263529375,
          -0.38866754553005783,
          0.18363407555807199,
          0.5134642926449922,
          0.03663438925898972,
          -0.7279965465202716,
          0.4592149353389571,
          -2.20965299761383,
          0.33466301371174084,
          0.7467084194983864,
          -0.9687877294794983,
          -0.6060381433635219,
          -0.47669453722068,
          -1.839835771142757,
          1.398711946050099,
          0.27395587104207286,
          -1.7908779718368475,
          2.0877675884550944,
          -0.05828470741297726,
          2.255253804614067,
          1.05513446131379,
          -0.22171589586027732,
          0.38871200494326685,
          0.2552839850877083,
          0.42960802471726495,
          -0.8337242574517401,
          -0.7664562216069052,
          1.0969955532791524,
          0.8064730142137423,
          2.1784705546971748,
          -0.46905150790065986,
          -1.0150639571023634,
          1.3830601084319778,
          2.3075629019656443,
          -0.12115805214240212,
          0.3515783543251811,
          -0.7506090470821557,
          1.2840936914389391,
          0.13147395181048316,
          -1.2466533581328325,
          -0.16121729322629036,
          -1.0689122593836349,
          -0.9831429504594735,
          -0.9799662434097846,
          -1.411355558623853,
          1.49832896115544,
          1.354560941131877,
          1.8965185912501776,
          -0.5456094202200293,
          0.08557751236518524,
          -2.043038587087664,
          0.04783187551878942,
          1.755917001514196,
          -2.6153767717183465,
          0.16968805520691635,
          0.3558335708130216,
          1.080570228515825,
          -0.257101606068915,
          0.3431485994620871,
          0.18910798706162563,
          -0.25887264208967636,
          0.5871973902182545,
          -0.5901426849499921,
          0.24027769888280262,
          -0.17727039666021105,
          -1.9146824983482895,
          0.09136652383469741,
          0.2822632249131431,
          0.24708784053068855,
          0.02610258961426174,
          0.8647458599416462,
          -0.5385401989502694,
          0.5777456190180436,
          0.5670627988455439,
          -0.23200927860459325,
          0.2973298202142345,
          0.20530905174572214,
          0.7788048958503675,
          -1.850158954234966,
          -1.052210957144549,
          0.36510295862916087,
          -1.5656570494764035,
          1.3074072389628109,
          -0.13331115311243952,
          0.6214880115031971,
          -0.6649474616340602,
          0.7069576077645204,
          0.6368970777588104,
          -0.9902200516954855,
          -1.2197186091037888,
          -1.6362246718459184,
          0.9844893682810704,
          -0.2057288386913628,
          -0.03240294494872799,
          -0.2775673552283642,
          1.072881072785356,
          -0.22823563250140372,
          -0.18349032434996843,
          -0.5030359448498047,
          -0.39165678910658336,
          -0.5238459447406011,
          -0.8220889015957781,
          0.6781837206336303,
          -1.4272269974258254,
          1.1782940460018678,
          -1.30175714086627,
          -0.3715316328290822,
          -0.5564780866508302,
          -0.5093244913429134,
          -0.4931796270535248,
          -0.6292553142980247,
          1.6420118070759568,
          1.0382621823638376,
          1.1773796684555657,
          -0.4135777665848305,
          -1.443045268055523,
          1.283643508014106,
          0.6419237743891665,
          -1.0831518362225936,
          0.2778976930397738,
          1.6318634580917073,
          -1.000928268360105,
          -0.17081423538859458,
          1.7426940993994866,
          -0.10255274832509287,
          -0.8666895389758351,
          -0.9080482721807386,
          -0.41228211651680663,
          0.07675369406590019,
          1.8074276143420824,
          1.2537492403594803,
          1.8479890144807727,
          -1.0456902521026605,
          0.6235453286270912,
          0.4290752781250045,
          1.3918669150931875,
          -0.12933107528357332,
          1.3768672664167003,
          0.46608698235168805,
          -1.5040840926174852,
          0.41577746552542133,
          -1.058520460842097,
          -1.1601454881352353,
          -0.46659486280545165,
          -1.4378798993737019,
          -0.2568438337637477,
          0.5463982505877603,
          0.4876714609005309,
          0.8391486882642244,
          -0.662997121555194,
          -0.325844391057667,
          1.1943672134220469,
          -1.6331912904412997,
          1.1461599939738443,
          -0.2996661348212089,
          -0.2878339331850551,
          -0.04950864579685853,
          0.7400440243277769,
          -0.11644908587494777,
          -0.11463432749200085,
          -1.7833613827298314,
          -0.22054299416245113,
          0.04181935255709627,
          -0.5179310010275229,
          1.87072241591561,
          -1.7133401861362636,
          0.5680813209003232,
          0.9031774815344709,
          -1.2473603558180746,
          0.49590707743217455,
          1.3909417301757414,
          -0.14426123791561854,
          -0.7111199210075937,
          -1.5106545967036455,
          1.240242334704384,
          1.7806069050906204,
          0.22813937447565116,
          -0.29093214967872066,
          1.8713763345860008,
          -0.7447130676903352,
          -0.754228911429786,
          0.5543508490697692,
          1.2931654061034659,
          0.004467493772501546,
          -0.6923553704904774,
          -1.3915718671736659,
          -1.3239893955752995,
          -1.2757033504242596,
          -1.708463405910366,
          1.0609700081008302,
          0.7047902439650974,
          -0.5388253068097338,
          0.5869788131340364,
          -0.49538851413892027,
          0.5967820927411476,
          0.1419584224340254,
          1.1894490505545556,
          1.144691184113117,
          2.666309814830824,
          -1.8178471874197741,
          0.4772641184342305,
          0.43914909423480564,
          1.1913612334002535,
          -0.03994893957842469,
          -0.07964644923023788,
          -1.1881640675946104,
          2.521450040012479,
          0.48657126914644444,
          -0.4067221410273449,
          -0.04650860471135066,
          0.5201531653587634,
          -0.7478335442618524,
          -1.4065562252133785,
          -0.06290510950895775,
          0.9560247807312301,
          -2.149370416844065,
          1.428144127947581,
          -0.7924269879620626,
          0.5967296928905715,
          -0.19930607352580665,
          0.5045424617004151,
          1.1274860759846232,
          0.6818282068067507,
          3.060901249343369,
          2.430182020902047,
          0.23149305233566353,
          -0.22063811259903093,
          0.3092888737246603,
          0.18869054935312746,
          -0.30527599760652857,
          0.3836914405569166,
          1.6801571599307692,
          0.48251131012474224,
          0.023019044003762448,
          -0.2500635885106974,
          0.826507477138133,
          -1.7613623088555126,
          -1.7900168947759847,
          0.6824845167972624,
          -0.4088593811349245,
          1.4447916220307289,
          0.38580409013074163,
          1.066312801720877,
          0.5524593171921071,
          -0.6546925467791321,
          -0.43748847714090167,
          -0.7185548239649248,
          -0.14559648514770365,
          0.6667827018598057,
          -0.2152102599492154,
          -0.4908587972848883,
          1.6602232578122154,
          -1.7750301049141382,
          -2.549690599447939,
          0.9566809163046552,
          -0.47215873973116396,
          -0.5203809165234506,
          0.3241597683300769,
          1.3524685765572722,
          0.6486835625995104,
          -0.8485765343846973,
          0.5328624085904895,
          -1.5883318500593577,
          0.0784974545396389,
          -0.621449568598215,
          0.46098097738892,
          0.4031849098945106,
          2.575911942006703,
          -1.2112678240840022,
          -0.0791204714481244,
          -0.21522847454174981,
          1.064496239747244,
          -0.5322460385007416,
          1.1151303543472806,
          -0.7400774771923531,
          -0.4601098420578528,
          -0.4126959677049263,
          2.4089131483366604,
          -0.9472936607183773,
          -0.25930108569320837,
          0.17628902298906043,
          0.20256195066366356,
          -0.2962898010744453,
          -2.387946237548068,
          -0.5149873500967677,
          1.1384951137915953,
          -0.26051344608039134,
          -0.4193674011091019,
          -0.6470295196293983,
          -0.1587117396159718,
          0.4683043524555686,
          -0.8410063950621198,
          -0.5608179271078765,
          0.40252115984278153,
          -2.425286661931692,
          0.05801716250623702,
          -0.4150783009089733,
          -0.20374198244747155,
          0.11721896152342476,
          -0.6711143136406509,
          0.565233224171839,
          -0.8994003147845682,
          -0.11235531170293797,
          1.1214512516951387,
          0.44256016123073416,
          -0.3864290924071865,
          0.04341359734263209,
          0.16792759541171748,
          0.2619209362534047,
          -0.8878630280890218,
          0.16714020646323968,
          -0.8923522633874431,
          1.7873226000215188,
          1.2308494627576831,
          2.2750837399321973,
          -1.3063445165524694,
          0.127938475032239,
          -0.5177158298477249,
          -0.9977351494809281,
          0.4712180146710201,
          0.2742351006965683,
          0.9965471847287268,
          -0.6787521857388585,
          0.22981093630107524,
          0.11977660068926985,
          -0.4493619982714522,
          -1.1251550191983741,
          0.11065594639405567,
          -0.9466612852165913,
          0.6142440496074199,
          -0.16328748848782787,
          1.8148062499910607,
          0.2909599632320883,
          -1.0173991417609778,
          0.25626354200671786,
          0.4990658252616372,
          0.40294633347573955,
          -0.14941817864983212,
          -2.0938817605877076,
          0.3391719048734336,
          -0.38723276400279555,
          -0.019878422740057546,
          -2.396451176171232,
          -1.0754804680219567,
          1.3114309019950008,
          -0.31240895094486926,
          0.19214578854130815,
          1.5985063515766962,
          0.6231142819934503,
          -0.5702060753941334,
          0.4094779528822179,
          -0.46786575070050734,
          -1.8612202355434038,
          0.4210807039025636,
          0.8080904308368214,
          0.8520653924681205,
          -0.8426268827449641,
          -0.32855797132993847,
          0.16603292759904967,
          -1.1725001242493875,
          0.7039386104314845,
          1.906042448665786,
          -0.7166856803207373,
          -0.12022865459137715,
          0.44316815901250395,
          0.8847690255575487,
          -0.014503988325604112,
          -1.6731470286588495,
          0.014383801256889287,
          0.9300524030756031,
          -1.311028907880615,
          -2.2727127068349176,
          1.150509307499924,
          0.8756100623577785,
          1.357655464038337,
          -0.34812101516892696,
          -0.013642808537527617,
          -0.8666589711586475,
          -1.6827717432953353,
          -0.20947761184565966,
          -0.6332980151332119,
          0.13040178081428455,
          -1.6970775970976877,
          1.0406093610067273,
          -0.7514915177221207,
          0.3936313283112876,
          0.09729263918901637,
          0.2155567299304198,
          -1.1471149502827938,
          0.2642454617939674,
          -1.4129306546895237,
          1.0974444768441198,
          -0.043118656288069296,
          -0.13943345044390204,
          -0.9658265457993626,
          -0.9736059605895001,
          2.024760152492385,
          0.6705909923332595,
          1.041212406958608,
          1.357934658255494,
          1.6759812488950268,
          0.8317751451054907,
          -1.6800995571590582,
          -0.9228845656676605,
          0.5732054685653343,
          -0.5703809975098093,
          0.5190345180798291,
          -0.2301805041407348,
          0.2318154680497675,
          2.1204645938746616,
          -0.7583694740857837,
          0.4912732526115713,
          1.4780095928912356,
          -0.3281135996018731,
          0.19456693118468066,
          1.5344830505916838,
          -1.233022424033205,
          -1.5769902228501684,
          -0.8925112399219185,
          -0.7673280415180451,
          0.8340517457313992,
          -0.5789011276431366,
          2.1735404614831704,
          -1.4418933395399922,
          -0.6802546500522813,
          -0.7204874367811805,
          -0.2645500765436718,
          -0.8166900702376583,
          0.4757714595489408,
          -0.8927128719355103,
          0.6420180110798347,
          0.36429030212577085,
          0.3776449654691029,
          0.46994441033470435,
          2.391029446432606,
          -0.9996477892803246,
          1.1719424021510567,
          -0.5812202560619872,
          -0.5173809052987457,
          -0.608557154500406,
          0.058767115253429904,
          0.214943821915022,
          -0.3566583024326798,
          1.544156033067601,
          -1.5263363674622155,
          -1.1282904594883958,
          -0.1590169810522514,
          -1.6806942537700085,
          0.490986339285169,
          -0.9932882923495386,
          1.4074735446985598,
          1.9685891852543695,
          -1.2145773520117136,
          -0.7815621242174733,
          0.16802452856645403,
          0.4269456532064197,
          -0.03024058342774656,
          0.38449406670369163,
          1.1352668150185763,
          -0.00609042335078681,
          0.5276879238443002,
          -1.116502199387872,
          0.14872766439771695,
          2.8111321231649082,
          0.24072988603773846,
          -0.2612139360410747,
          1.6241024481433797,
          -0.03867051139786815,
          -0.5977843389955196,
          1.00748584208574,
          0.722452225060581,
          -1.0004176763842185,
          -1.0469655088198297,
          0.3851046865779308,
          1.774313411534005,
          -0.6990998730840577,
          0.9915563963140143,
          0.43287007908798025,
          -1.513994914624193,
          0.8890606513630622,
          -0.5448969084507014,
          0.6623450337959627,
          -0.7928858763738923,
          0.39178981836492255,
          0.16554780723088947,
          -0.36167054341748084,
          0.7461636914779335,
          -0.8668914843614979,
          -0.4262078079597463,
          -0.38741864855423797,
          -1.9205632560282124,
          0.7422960829230631,
          -0.3293380990329302,
          -0.04975122970285781,
          2.552966927518087,
          0.6884637381634543,
          0.4104567228629313,
          1.2202154077277272,
          0.8405825299936268,
          -1.234629183644557,
          -1.4701334684898784,
          -1.2179895263444491,
          -0.3071724143417184,
          -0.6951701579565792,
          -1.322939005566806,
          2.6913202077357257,
          0.20679323009440187,
          2.1411912231000008,
          0.5205400465387678,
          1.1306806664521352,
          0.3217674797597631,
          -0.1166820413148128,
          -2.0190913586329162,
          0.13869129355381213,
          1.6545086498590653,
          0.5197296521019945,
          -1.3936087456876582,
          0.20418585148250906,
          -0.46148128930384497,
          -1.086319308045528,
          1.6050539446632637,
          0.43350213659970505,
          0.515781649630702,
          -0.8895416338426524,
          1.4307630287886224,
          2.046032452550947,
          1.2596115017847087,
          -0.5821265410618982,
          0.8826989572232644,
          -0.4112834591533377,
          0.7738647017358756,
          -0.5248502325200428,
          -0.4767106257937812,
          1.0166630155647027,
          1.382448968316587,
          -0.8321762837141071,
          -0.9873072834624371,
          -0.5294643815768905,
          -0.7942547024886504,
          0.8948188382190947,
          0.3384505468816632,
          -1.066531582353605,
          -0.01833441451881832,
          0.4052546781255429,
          -0.23765194888333824,
          -0.7748255818774116,
          1.7708859267699946,
          -0.8025911293243048,
          1.758796300967489,
          0.8675080036322156,
          0.5347178812584571,
          0.9055578891593555,
          1.217703578676297,
          -1.0946726449683102,
          0.9801183552288605,
          -0.19327301379784514,
          1.4036518338160708,
          0.013910542196225185,
          -0.3562548731772373,
          -1.0806768382231369,
          -0.2757686719998011,
          -0.2084538578221811,
          1.421597717978118,
          0.05778479431751952,
          -0.29085534713501987,
          0.10498587243236222,
          0.8718420207555156,
          -1.015316963350417,
          0.6180325911824286,
          1.1391399186720637,
          0.29113434751668094,
          -0.08491958849975606,
          -0.03736623416805136,
          1.2129265332696384,
          0.9590739410359057,
          -1.0132961703638492,
          -2.296927480133082,
          -0.11761834115925512,
          0.5536037519391652,
          1.2653290112170819,
          -2.2304958473278327,
          0.4020994197630298,
          0.16617339788356483,
          -0.3665755474993241,
          -0.4114609061508156,
          0.8268727387765926,
          0.9508395554924597,
          1.165908062435744,
          -0.502599499830834,
          -1.4555495744440448,
          0.15880008904753462,
          -1.7460377540961634,
          0.6523911338023622,
          1.4190037768834511,
          -0.5527969788238828,
          -0.6552697879283892,
          -0.17450633483663705,
          0.33438778044156886,
          -0.29817036039713674,
          -0.7568370008153393,
          -1.2112934041777563,
          0.15434618485959203,
          1.1474734849428951,
          -2.0341878356538006,
          0.015552796017911251,
          1.0300466398108328,
          0.6024171996420598,
          1.4891270314587668,
          -0.6487746825391688,
          -0.44720739966704703,
          0.2578586469791196,
          -0.08853619217540959,
          0.7646058282303166,
          -0.5396165063231031,
          -2.267247150518659,
          -0.12182646939707666,
          -0.28154000080071134,
          1.8668231851782502,
          0.8185791436089656,
          1.6800445079939648,
          -0.9153307132470366,
          -0.9620606011228305,
          1.2932490250919468,
          -0.38066515055414923,
          -0.19217134444735656,
          1.9323671493530978,
          0.8953678620484997,
          -0.7645392292804185,
          -0.020976510858446994,
          -1.1348477422744176,
          1.3549386982572096,
          0.26289782263230604,
          -0.8747521394065233,
          0.7678066235025272,
          0.7907050484984567,
          0.2883167534505619,
          0.6728965759011224,
          -1.061389528703651,
          -0.7625585342512681,
          -0.18762524599926694,
          0.7342474529366843,
          -0.43737438339913587,
          -1.3980979632339605,
          0.8908033056218359,
          1.7990497194347046,
          0.46949415834516345,
          -0.4907121367263964,
          -0.052299417789178106,
          -0.5577754325456915,
          0.155918579365628,
          0.1344122526912178,
          1.725579783747742,
          1.3173736292912304,
          -1.4811160384739512,
          -0.15957457170090675,
          0.507582639341338,
          -0.32712103317670976,
          -0.4413043526129017,
          0.8271739081992656,
          -0.059811641568388245,
          -1.2516991749031179,
          0.11561832063249282,
          2.774269076112085,
          -1.1941284855539838,
          0.2985634682642256,
          -1.5710281172318397,
          -0.8712415591991395,
          0.8783529309326805,
          -2.580494638736845,
          1.2959452134548506,
          0.8024995918300154,
          1.7960255489670698,
          0.23300523855400967,
          -0.1319175216356635,
          -0.9878196662767024,
          -1.609051183322093,
          0.45052904940844624,
          -0.06878026676446827,
          -0.26027611565475417,
          0.5185015968112577,
          0.4347709947713046,
          1.8359293378798063,
          -0.7343729835434714,
          -0.9363730216895036,
          1.8289596744145276,
          1.3013177196445909,
          0.5576831720840281,
          -1.712951018528553,
          0.35348116653701067,
          1.6337882835574589,
          -1.7433500548431655,
          -0.8633238210385425,
          0.5743255774918105,
          -1.678206891845696,
          -0.6879244381293254,
          -0.8373641051600564,
          -1.7243806454255721,
          -0.7190012908080683,
          1.3748843237014206,
          1.5084323221966995,
          1.2559907736384044,
          -0.028227682315431952,
          -0.7195698219011557,
          -0.4432748838966181,
          0.04252875133685705,
          1.1884025846319608,
          -0.7295792762400373,
          -0.42000645787426416,
          -0.23995054896518006,
          -1.1813558236113721,
          0.6275558017239633,
          0.9229235011648814,
          0.9914298007129005,
          1.2306149963782607,
          2.1158142364766515,
          0.03238128689458365,
          -1.5015035774090517,
          -1.1378949940334901,
          -0.7111539738545358,
          0.2490892449766257,
          -0.5340172689468752,
          -0.18314361891426337,
          0.2661392928517715,
          0.20392187381091967,
          -1.1812638300651899,
          -0.46706879443912463,
          -1.5004039512574499,
          -1.8753168520124854,
          1.1699771147358005,
          0.7598581270162019,
          0.7715923847479524,
          1.9358462923827335,
          -1.40251239683813,
          0.4612447583322573,
          0.2349550563845407,
          0.38419033460217106,
          -0.644186131832275,
          -1.8894978845195898,
          -0.2285276552482377,
          0.9238256812102132,
          -0.7450209891320503,
          -0.16320147407639293,
          0.05814987851946617,
          1.1436441702573699,
          0.6233332490967434,
          2.429686182737301,
          -0.3647551632262618,
          -0.2119654476234064,
          -1.4016380289517754,
          0.2846740182331704,
          -0.012930190916577827,
          -0.44909070845086274,
          0.4125370891046224,
          -0.6109082404589713,
          -0.022894241214565243,
          0.34442508327520627,
          -0.8329486604152924,
          0.26937643082297125,
          -2.8352653356189252,
          -0.7816936398452151,
          0.028320412485487927,
          0.11492906761545046,
          -0.48313331862295134,
          -0.43788567423355096,
          -0.0381879333506875,
          -1.5774432825804148,
          -0.5305643516787649,
          -1.0741709519975158,
          0.034666367782040686,
          0.6362691990131145,
          -0.06444349275597033,
          0.15457604116111706,
          0.7486746498827569,
          -0.91813758169102,
          -0.5492454496934605,
          0.18703347536809292,
          0.6596801534552544,
          -1.8581125399700917,
          0.8373475743791268,
          0.9763841690593531,
          -0.8625398298589251,
          -0.2483506345904434,
          -0.5434167936404318,
          -0.11881396746279659,
          -0.19103995711153982,
          -1.2118590486518896,
          0.9489102317762856,
          -0.30304328790126717,
          -0.4246556450085674,
          -0.11788107748741646,
          0.6754927556456832,
          0.648846631989552,
          0.48877650962459673,
          0.8336769203541027,
          1.1650730039700483,
          0.24546388836732988,
          0.4050327500883393,
          0.11201277358640488,
          -0.08777491807953001,
          -0.6528517049447614,
          0.43789859249906754,
          -0.43931232964130723,
          -0.3356480617413371,
          -0.3701457797169575,
          -0.3308245393202221,
          0.5082092239122795,
          -0.23558278457654486,
          -0.15899099921700385,
          -0.07932740147300625,
          0.0954412621082726,
          -0.3675352287173823,
          -0.5568206272448782,
          -0.9896819890314071,
          -0.5219674449637017,
          -0.4592329504656268,
          -0.4375478990845253,
          -0.7981762068596584,
          1.0426420260441525,
          1.0025822252237864,
          -0.9053419460948918,
          -0.3590992788688198,
          1.391851849274669,
          0.9680313786498193,
          1.2443553963850509,
          -1.0581977118427621,
          0.6970154018039879,
          -1.2059784579201465,
          -1.377145475436171,
          -0.28770337578863414,
          -0.34668882870497814,
          -1.2322750626739387,
          0.6868354031420809,
          -0.634564001378035,
          0.28945417043179,
          -1.2357919517964246,
          -0.19947815968886287,
          0.4322179525795646,
          0.7534814090031835,
          -0.4565856174573402,
          0.3882882915119053,
          1.285533333572671,
          -0.7778278435995944,
          2.2580853971009875,
          -1.184573642960252,
          -0.6695555600180934,
          0.07482814492048008,
          1.5368694493033088,
          0.4843563390531424,
          0.5613482268318873,
          0.647875092339309,
          -0.3829857000595606,
          0.8072634604112036,
          -0.516263338552629,
          0.9387461187986283,
          0.4764085407369682,
          -0.053112303614822734,
          0.7130274455925575,
          0.20626018973167182,
          -0.0371727116763875,
          -1.7044600641528322,
          -0.05681544160317126,
          -0.02737186352028151,
          1.218368323153149,
          -0.8531164628500328,
          0.18158314019322125,
          0.3695582681974568,
          0.20615951321486442,
          0.28814335639660354,
          -0.9849685723329487,
          1.4619934223448983,
          1.2537521029708005,
          0.6168951436873072,
          0.5108651419930855,
          0.5714401813430307,
          -0.516065065496513,
          -1.618498122038955,
          -2.0134128643408378,
          -1.1888559382055564,
          -0.5989087300445269,
          0.8218415259901859,
          0.10700469243375231,
          1.2199590010661896,
          -0.46092277015907374,
          1.081964267157192,
          -0.7412336208859779,
          0.9668184150588773,
          -0.9272364203393968,
          -1.334664892906548,
          0.767260409852688,
          -1.178178487726251,
          0.2882927131099956,
          -0.3148401388755374,
          -0.7280568271396267,
          0.604591983711839,
          -0.980511783649355,
          -0.8833402113875962,
          0.9182471438074501,
          -0.913297902435008,
          -0.25544259039342415,
          1.4145350257211609,
          0.4085944569136785,
          -1.2378258651053096,
          -0.45952696859800246,
          0.16299387620888806,
          1.0991027650839853,
          -0.5088422509500271,
          0.7744816496128197,
          1.0443828195878386,
          -0.4796577690400891,
          1.1237339690637083,
          -0.48884794139413273,
          1.8079976343435875,
          -0.9445717944381519,
          -0.9552462316903049,
          -0.6472717455317901,
          -1.5875388767149594,
          0.8267973977279234,
          -1.3360902231103453,
          -0.004482356735383559,
          0.9607545984218697,
          -0.3454515614511532,
          -0.8661138572459737,
          0.24123115970428033,
          0.37956316429443415,
          1.0696177278209453,
          1.433616549316657,
          0.5544814907507857,
          -1.3279817870758257,
          -0.4753506573404884,
          -0.40334817344897966,
          -0.014096020780216753,
          -0.4486526385620835,
          0.13789802857883268,
          0.4347542702806147,
          -0.05407140957325736,
          0.3749690048413899,
          0.38060024984897334,
          1.7544806338567334,
          -0.7652840806703369,
          1.8263062798512404,
          -0.09709581447549376,
          -0.7011150165673213,
          -1.1999433412156206,
          0.6342215546204607,
          1.2132314557678323,
          0.7488028798862914,
          0.12342998168595289,
          -0.4764649942361347,
          0.5428784612423668,
          1.6071159964593087,
          0.6135759696872229,
          1.8642465806929733,
          -1.0880092801890249,
          0.0762834890079057,
          -1.02827304734565,
          -0.05959032134030665,
          1.208040552854429,
          0.4481830945423913,
          -1.0441468364549702,
          0.4616292756423567,
          0.13048791122200815,
          -0.3799807789063639,
          0.5261800293720615,
          -1.821960736475402,
          -1.290321455247724,
          -0.8990885457309017,
          0.8149981094157125,
          -0.8002198654632984,
          -0.5134838253682965,
          -0.5254715342736154,
          0.701160400567557,
          0.29438492710692304,
          1.1279631318761547,
          -1.5892707590372737,
          -0.052377511927173714,
          0.05062215758772446,
          -0.13304767606073187,
          0.4284643256444092,
          0.13434254646183091,
          0.765095462011583,
          -0.8443841749760053,
          0.5997569461017976,
          0.3276451499147105,
          0.7853372719659265,
          -0.5131495051715452,
          -0.10027151479096491,
          -1.0164579033291303,
          -0.0012568764204087303,
          -0.34085399525948046,
          0.6533882989521066,
          -0.3793831449793664,
          -0.17024009627898523,
          -0.44741696312212376,
          -0.5604193281161256,
          0.20487448867323255,
          -0.35227585518523347,
          0.5924747389462803,
          -2.6765084970953423,
          -0.5004524724144451
         ],
         "y": [
          -0.8898606528367351,
          -1.921537837968448,
          0.9325830568546961,
          0.03841059789896793,
          0.40207556834679187,
          -0.9830333355551004,
          0.33550010338437786,
          -1.8757869266322214,
          0.9928031856938607,
          -0.5450973166439572,
          -1.3032537944297238,
          -0.9413046310717736,
          -1.2204015513779383,
          -1.4443141509173625,
          -0.4601162156848139,
          -0.9380054950301806,
          -0.27376076737794597,
          -1.04200046124738,
          -0.6267157434749923,
          -0.1658221668370002,
          0.27860087257946925,
          -0.7617960621670101,
          -0.11622505840468668,
          -0.5599643839595746,
          0.2889574241146731,
          -2.0966251978107326,
          -1.2240063439388171,
          -1.437131714552186,
          1.4964294261198716,
          -0.44155457052898045,
          -0.06022162134300457,
          0.563467371964702,
          0.030589700448401695,
          0.5547840621829998,
          -0.9601893172240145,
          -0.5322923001690086,
          -0.09558497278122342,
          -0.14304966879749684,
          1.2191961715741648,
          -0.14948350132402194,
          1.1323938393942796,
          -1.125818797557244,
          0.00482005153080876,
          -0.8940876465750278,
          -0.27331575537518565,
          -0.059066765156179195,
          0.12344483256842415,
          0.0983134174565747,
          -0.3076344016834773,
          -0.5960017888080685,
          -2.100741822451318,
          0.8185324732861139,
          1.5993904499428504,
          1.9231815507821197,
          0.16733230136201435,
          0.09246631568414566,
          0.1313342782061101,
          -0.6132447552345468,
          1.1904933606329833,
          0.10766025522155195,
          2.3090264041614987,
          -0.010106595456707093,
          -0.1574654503505064,
          -0.105860097389219,
          0.38005962786746883,
          0.4910149089758794,
          1.249590895791108,
          0.09626946587174916,
          -0.3903809233872757,
          1.2877262171335073,
          0.5997499998524664,
          0.5238683824780356,
          -1.338792262401509,
          0.7788980102183232,
          -0.7676339137715329,
          0.27810414488451435,
          -0.6118539327694453,
          0.5456619887118235,
          0.973651764155693,
          -2.0628992653931952,
          0.5768410766494885,
          0.8346179675200205,
          2.159082299929174,
          -0.42397698704787373,
          0.32667334063139913,
          0.2111084076475612,
          0.2728785640630611,
          -0.6249261752907023,
          0.8948796148501972,
          -0.23276922403577588,
          1.476487311599947,
          -1.655482681432082,
          -0.46552622666734794,
          -0.1272904749209371,
          -0.4714209280165837,
          0.8084462795110662,
          -0.9618927814816639,
          -1.4678875246808147,
          0.2936263214805389,
          4.411681575568237e-05,
          -0.16294251492283315,
          -1.8219206003878248,
          -1.6202655997113278,
          1.3743857734773985,
          0.5024726593522179,
          -0.3696096798945809,
          -0.031208896444196405,
          -1.860326701482847,
          0.22216263379338333,
          0.10561576628164113,
          1.6891813473106094,
          0.5493316683215927,
          -0.2813330675859659,
          0.933528125096449,
          -0.5384693480089308,
          -0.296024545307811,
          1.4197815189618945,
          1.4413179381494412,
          -1.1627989038252178,
          0.08752409796205535,
          -2.7934663324230016,
          0.7507527588233238,
          -0.562735088451769,
          -0.6359172226573343,
          -0.013943098226568402,
          -0.7623907473085744,
          -2.7600271673504233,
          -0.40511708316527334,
          0.515691034992284,
          0.06343768424366363,
          -0.45186588592351123,
          0.6917656667349482,
          -1.565895561241253,
          0.3318307407171194,
          -0.04788493684865102,
          -1.051711220691237,
          0.7714401393403439,
          -0.9556382165453721,
          -1.0160332687064049,
          0.2477455348173231,
          1.0588633671711827,
          0.35548051910978445,
          -1.6061887229913394,
          -0.18872466550040023,
          -1.580660448913573,
          -0.726600325898209,
          0.3341824203671152,
          -1.7243815406844705,
          -1.3308184958901146,
          -1.571805244375791,
          -0.5707194500430028,
          0.8026784959181329,
          0.2749672873875394,
          -1.1423513354232255,
          -0.007044226893833318,
          -0.4160428505340322,
          -0.7195937101547651,
          -0.7278032672818231,
          -0.39006311774821123,
          -0.3036279972893443,
          -0.609005591417677,
          1.6194357667489259,
          0.09765742071882133,
          0.5420339140082705,
          -0.7896008003668717,
          -1.7703885801545653,
          0.060788412324647774,
          0.5256906812413357,
          -0.03652261169295246,
          -0.8982173583923031,
          -1.278790403272497,
          -1.8718300480350443,
          0.45688440951222054,
          1.273284940130343,
          2.454339709383575,
          1.330963791812702,
          -0.5832121605625566,
          1.1244303678880596,
          -0.4605764229784244,
          1.752036656888505,
          -1.0253257867117074,
          -0.7935395841745387,
          -0.022899992519011175,
          0.6905908722070297,
          1.6738822864221088,
          0.06111455099262798,
          0.07644668843242547,
          -0.2752923645282626,
          -0.9544206599726558,
          -0.01227928826008205,
          1.8253989677133462,
          0.6400246425019305,
          -0.48134113884029406,
          -3.347210858416179,
          -0.48858800153683984,
          -0.5777031650247426,
          0.6224568033231275,
          0.5366184193145961,
          -0.09955332026207225,
          1.1194656674119425,
          -0.8152789766340334,
          -0.23259908671387958,
          0.9700359086724655,
          0.2631171619454583,
          1.1276323630215044,
          1.3362700880221428,
          -1.5028759386018367,
          1.189632648372256,
          -1.4957757272892522,
          -0.9415633541487521,
          1.808319709664545,
          -0.3329450225418808,
          1.1227383112496616,
          0.6422044671591414,
          -0.5837375832799544,
          -1.1434394094164424,
          -1.9494893384221794,
          -0.13947851050435572,
          1.3276640056952067,
          -0.5778523767493318,
          0.16767632923646067,
          2.4622575874475574,
          0.1040306653876229,
          -2.90414949428025,
          1.536777958744863,
          0.213099447924084,
          0.3012895794467244,
          1.0726162710862535,
          -0.5057063007975863,
          -0.18065880127219833,
          0.8719059093178081,
          -0.10369780314420715,
          0.11861550329882793,
          -2.004529954018229,
          0.5333533339839877,
          -0.100839273407066,
          0.4460197993634041,
          1.122186490260673,
          -0.9252588798521796,
          -0.2754926201072947,
          -0.5317085006029768,
          -0.47749891661106386,
          -0.8019330368280131,
          0.482156479559631,
          1.3528759620029913,
          0.22641233662203555,
          0.7088540638180527,
          0.6990312063093432,
          -2.141400842829694,
          -0.43960779630516644,
          -0.2954433401628364,
          0.4107274969811225,
          -2.584121637727698,
          -0.39054065491109224,
          0.17895854169535574,
          0.10870639555264378,
          -1.0758398066242176,
          -0.016212111817234465,
          2.226166545239998,
          -1.1169101329290734,
          1.58957689381681,
          0.330797730748594,
          1.7306120653369468,
          -0.7587138401830626,
          2.3272324090050835,
          0.25511990764871884,
          -0.07867348941421026,
          -0.1135906324994697,
          0.08625957169855548,
          0.07720632943687022,
          -0.8354246994672254,
          0.9637854277837123,
          -1.0093169704718756,
          -0.7741167124597657,
          1.3940207341146051,
          -0.5883092006516177,
          1.1162338551943944,
          -0.24585252640737845,
          0.42784538552560136,
          -0.865672659837111,
          0.083775909504276,
          0.29423556733275974,
          0.6629877768393813,
          0.7651730972940524,
          1.55107497212212,
          0.1475178157570293,
          0.24743378751085474,
          -1.1705571545577436,
          1.089800510320409,
          -0.7259290998639633,
          0.4457208961443642,
          0.7309944655481311,
          0.7216510898079815,
          -0.016273261730697212,
          -0.28050504713082003,
          0.6960762677895072,
          2.4102313381302873,
          1.992217322979424,
          -0.35263121839137873,
          -0.9441853264544019,
          -0.9494756034885078,
          0.31449230100334563,
          -0.8948925334068897,
          0.839439221388784,
          0.880693128072594,
          -1.5771368019912184,
          -0.1584608990630531,
          -0.7845622014934631,
          -0.96650409972646,
          1.9865519444439868,
          0.499725889247275,
          -0.21494153233003258,
          0.08421509700735724,
          1.1230542434534145,
          -0.2825877173127813,
          -0.2686580066799295,
          0.17058769294270548,
          0.08409740319541106,
          -0.9272140378552546,
          0.0319374833581785,
          -0.922238803895997,
          0.13322207523567384,
          -1.5100853552648592,
          0.29369692797732855,
          0.03345503966016199,
          -1.204339274269841,
          -0.9941104150350661,
          -0.647666441619811,
          -1.6910645938298292,
          0.6520603055234857,
          0.40495140476428493,
          -0.9156396408745499,
          0.5109678521202105,
          -2.2104059945880947,
          1.2582817219428082,
          -0.39129235882288504,
          -1.3753167541577989,
          -0.02011360357187307,
          1.0929715525774706,
          -0.37240917611361074,
          -0.12703404820128486,
          0.5392650694160871,
          -0.2113047179955477,
          0.6254815626045332,
          0.14960839109817375,
          -0.6319893253810758,
          -0.6685313784395724,
          0.8959905303950829,
          0.08255647390850847,
          1.264535567432642,
          0.42832364240795634,
          0.41616923089695324,
          1.0281975995552661,
          0.4249732754160341,
          -0.5800142283631565,
          -1.529221298975166,
          -0.4365349197640304,
          0.050521708944511884,
          -0.24425067506266848,
          -0.5943670373888154,
          1.3274539681083397,
          -0.2600643987294253,
          -0.8983302178261335,
          1.0644041142787364,
          1.2463781175074082,
          0.24068400870551598,
          0.952172432174321,
          -1.0758284309477586,
          0.12046634794302764,
          0.45754637445807317,
          -0.7893984071332588,
          -0.9606331739227865,
          0.8855406939355603,
          -0.5718783872685531,
          -0.37597916721732666,
          0.8396931312357562,
          0.38504670808531377,
          -0.09589961990069351,
          -0.6222817388084537,
          -2.09780348517134,
          1.9639564347740968,
          -1.7052341320896882,
          0.020849810862046347,
          -0.27897789078080926,
          1.2127392350132276,
          -2.6101018043922637,
          -0.3767706680347076,
          -0.8309995225890557,
          -0.6794615230446839,
          0.13212831165756664,
          1.0219658073373266,
          -0.8562004295853032,
          0.7050716954769967,
          0.2532345908712438,
          0.5168536825860739,
          0.9063096505044146,
          -0.4783275775753733,
          -0.3762711462541362,
          -1.332295509275204,
          0.5837204701808996,
          -1.1412470402627855,
          1.0383649139996725,
          -0.6893811315568419,
          -0.9223696154454292,
          -0.16639555043763427,
          -0.6843050033620479,
          0.1105042737472188,
          0.3585616370626483,
          -0.7397062310579784,
          2.639571584796604,
          -0.5091809321075688,
          -0.10352035594512611,
          0.8536335351452827,
          0.09953077408773804,
          0.9614824936022266,
          1.8205978525494129,
          0.5012339624359761,
          0.6796179616134723,
          0.6296651495748262,
          0.3200216355547538,
          -0.23454520163853051,
          -1.1867857635268548,
          -0.22891730900142304,
          0.9163981373399418,
          -1.1159798601361948,
          -1.6812835863720828,
          -0.580381968783906,
          -0.11412556077814869,
          1.5533445439923241,
          -1.0861179908318843,
          -0.23140937921300636,
          0.15269198018792163,
          -0.47507865332522053,
          -0.9767117265422878,
          -0.43388515738005595,
          0.8111840580020133,
          2.109740603503012,
          -1.090301672936166,
          -2.002267387281796,
          1.2876991683645924,
          -2.47421336329061,
          3.0016538669968047,
          1.7852702064866777,
          -1.6163885154983753,
          -2.31610224110601,
          0.3369076819360214,
          0.997725947342487,
          0.3477357426495937,
          0.7642465328522883,
          -1.0679322332554677,
          -0.43526996526055795,
          0.7908613655804287,
          -0.3305253287701572,
          0.3965494235734865,
          -0.9429476288055256,
          -2.000305236130269,
          -0.8331871373121179,
          0.2750269787348457,
          -0.8150685389052529,
          -0.5986939774040757,
          -1.0278320391438973,
          -0.45707508185960405,
          0.041221968641302516,
          -1.208803277976176,
          0.6248580662401624,
          0.08423196490211997,
          0.34289213037968913,
          -1.4680770365508617,
          1.506415223292552,
          -0.37108951390663986,
          0.09049748674721006,
          0.5500831934824145,
          1.4668057184953585,
          0.3273149066260137,
          1.4534960504009946,
          0.8459785707562859,
          0.5068250409803088,
          -2.290960601757308,
          -0.3606357245333227,
          -1.0285596233936931,
          -1.684855329745528,
          -0.2828446513175903,
          -1.3929321681676334,
          -1.033165565566172,
          -0.16733457734922455,
          -0.9776772897659346,
          1.9472286685077718,
          -1.475750803848529,
          1.154076689870794,
          -0.4978739017079319,
          0.2022188964073514,
          0.7827184307954357,
          1.1762984046380027,
          0.1877790415450528,
          -0.47714758921213773,
          -1.6046383649564009,
          1.314626793122566,
          2.069417711662017,
          -0.16642314138507816,
          -2.061265754342362,
          0.9975612390141592,
          2.3723955218892847,
          -0.6116958742113164,
          -0.01979170815474643,
          -1.3797191313503376,
          1.1585119077720993,
          0.8551756536614924,
          -1.4085143084175398,
          0.1616468140278689,
          -0.33443462812454067,
          -0.16244940689972695,
          0.2998883101470193,
          -1.6513617336991093,
          0.3231908418720636,
          -0.8001468183387237,
          -0.48749106455724883,
          0.004381882892007008,
          1.779868538422601,
          1.6882492250075225,
          -0.5711576128319389,
          -0.9640002980400272,
          -0.600476155259893,
          1.1621262928546994,
          -0.3870375714895864,
          0.2769497762600203,
          0.17107091294614513,
          0.154991070080864,
          -0.6042403464482843,
          -0.06694025431167155,
          0.7082319894742375,
          -1.8107759542604618,
          -1.4894659872283553,
          -0.1119055427776291,
          0.9263738292114594,
          1.962667006878999,
          0.7530430063457427,
          0.06426778597588649,
          -1.0083240649181053,
          0.41597386181094254,
          -0.15181297144501937,
          -0.6495550437880522,
          1.1413091315174675,
          -1.0014483470621098,
          1.6995093950763172,
          -0.3672566524286738,
          0.29111178476122745,
          0.4673010674375982,
          -1.2599289027646512,
          -0.605927427641278,
          -1.1047312933965003,
          0.09707526238343539,
          -0.2116019642810402,
          2.2022310041522233,
          1.9141021052724563,
          -1.4016977716030834,
          -0.18381318930481727,
          0.37747698650576217,
          -0.7853330622437683,
          0.8340558209021304,
          0.5303254337776573,
          -1.1518057106879196,
          0.3430672645187798,
          1.9557444134814972,
          1.4905591960123654,
          0.31489656814849465,
          0.629860666657557,
          0.6234203831499954,
          -0.33833626142094586,
          1.1092474321639978,
          -1.1951215184918889,
          0.1668872825886268,
          0.9053701369878382,
          -1.7256176604935345,
          0.16121808523831224,
          -0.6591896837022251,
          -1.294534611011664,
          0.9941275203736534,
          -0.3178765224937854,
          0.5021803932302163,
          -0.5507228789762402,
          -0.47855031874510734,
          0.33428091465628285,
          0.4513656687818529,
          0.48364371549030494,
          0.8204364252504425,
          0.5231425412899664,
          0.06275053621868398,
          -1.344516150514417,
          -2.0068285578838845,
          -1.057105435266855,
          -1.4228413289958652,
          -0.44171175138204005,
          -0.12667477473932232,
          -1.7866567103382067,
          -0.7411326514010789,
          -0.006910867509657849,
          -1.8598892966850284,
          -1.887144936749305,
          -0.12496552361281951,
          -0.1851690014728212,
          -0.42966783309735584,
          0.7648897859722081,
          1.6078662823004226,
          1.2129292858294989,
          -0.9622356053497666,
          -0.048178915563631144,
          0.42913420593613566,
          0.039587519377295606,
          1.481034446119972,
          -0.4206091804873918,
          1.4117988159498343,
          -0.7489210436895504,
          0.32768271917964054,
          0.4919222307231846,
          -0.7153697313438087,
          -1.0782337430694766,
          0.7970132404570455,
          0.8368221930386461,
          1.0258151857203974,
          -0.1599774505491812,
          -0.7430251008117289,
          -0.3095165880154472,
          0.3984512195086612,
          -0.5024211395404186,
          0.1520498158311197,
          0.390392368030466,
          0.4479741117702606,
          -0.1861429417857706,
          0.7036894743800637,
          -0.5259835103416259,
          0.6640720227479561,
          2.5149763291741127,
          -0.33920784566959705,
          -0.5757501604006829,
          0.18544049662820175,
          -0.7691888216687646,
          1.567684231387847,
          1.7953723795203058,
          1.6180814329366096,
          1.7125618107209617,
          -1.5913522459729623,
          -1.0794685178182557,
          -0.44286075746735004,
          -0.7050860194810854,
          2.655462832041814,
          1.235011940433936,
          0.29496686465041844,
          1.0066836640504473,
          1.2191591799872408,
          2.4028479110961953,
          1.1920838553289392,
          -0.06956074065399007,
          1.0341009803211252,
          1.0101604783898195,
          0.5130745282083606,
          -0.9040429171048804,
          -0.3193757234485714,
          1.5774615707132422,
          0.49562876676448386,
          -1.1496108393122566,
          -1.1921607784264054,
          0.7542383024010811,
          0.09059057524915376,
          0.32384378838964506,
          1.313848241232281,
          -0.43636875779520484,
          0.325693732258691,
          -0.5314243724429093,
          0.39997100192720697,
          0.3597850373540294,
          0.46935715488065644,
          -0.5897860534300816,
          0.34206690644331206,
          -1.5231470491940673,
          0.9930235291062967,
          -0.5632398215220432,
          1.9477348928795661,
          -0.670041088448147,
          -0.6203840199107509,
          -0.2819455323087377,
          0.377328968271975,
          -2.4835942528700006,
          0.7853460506181968,
          1.25235693432636,
          1.925128662708946,
          -0.11175725905260508,
          0.9662761721623737,
          -0.5719436860731639,
          0.11297703896205574,
          0.06318831827230358,
          -0.21386386078883463,
          -1.385103332539756,
          -0.16234709231529867,
          0.19801694682957713,
          1.0639694531329642,
          -1.7693298544455425,
          -0.4400485982898764,
          -0.644532549814699,
          1.8594135334932123,
          -0.5283544026607129,
          1.609283114618512,
          -0.2498547469878719,
          0.8657773545042994,
          -1.2240229867847507,
          -1.161099561402371,
          1.0256044792228465,
          0.969869901299972,
          0.4601867302843088,
          1.2098081346633711,
          0.5564253631175459,
          -0.3667093165608442,
          -1.8306318903538543,
          -2.5873072605376106,
          -0.05402279767586719,
          0.26580444058475544,
          0.45520394212380205,
          -1.2390948378702007,
          0.5757317228811201,
          -0.6506365795563953,
          0.4366832853179522,
          -0.4558563454303897,
          1.2035168715841622,
          -2.091275123820715,
          -2.301302211906276,
          -1.8150104405004546,
          0.711414144717408,
          -0.31146858631464347,
          -1.031230665052698,
          0.2011688467372017,
          1.10196458654412,
          -0.1710478877825351,
          0.4986588265499446,
          0.42125495832410936,
          -1.6500224463917414,
          -0.9637091410275744,
          0.7504074080054243,
          -0.5080677876141366,
          0.412127760120049,
          0.4321999827254994,
          0.5727704653767485,
          0.22424821103455825,
          -1.5085871480011084,
          -1.3467914489366901,
          -0.7719368514768308,
          -0.4418631573008638,
          -0.6570537804349398,
          -0.08030865906059625,
          -0.48321062863071046,
          -0.35460080650239356,
          0.8585883400624654,
          -0.7264326172382697,
          -0.9609071535128761,
          0.1102453754288094,
          1.9759603624485922,
          0.5640943016027504,
          1.7164545396332993,
          -0.43521124238174963,
          -0.3316418218913113,
          -0.0032870091433115697,
          -0.5067620789062839,
          -0.4757771230467968,
          1.1760668726871082,
          0.10790296066634848,
          0.6914516776029223,
          0.5626605121548645,
          2.760630325432057,
          -0.02457360045440391,
          0.28635819552556285,
          -0.23245173561662902,
          -0.6396910101668771,
          -0.40962711918152295,
          -0.6756168965688136,
          -1.294717738536129,
          1.9770523110579832,
          1.0070348787401155,
          -0.286916958832148,
          0.8034893570118123,
          1.3728580696709782,
          1.121415215131647,
          3.187029302443333,
          1.0783351669716015,
          -0.3348105779098831,
          -1.6329455998416997,
          -0.26172928611040147,
          -0.06520511173676975,
          -1.2098162598912547,
          0.6146171397206567,
          -1.0511129597231752,
          1.4902146049056055,
          -0.9591239820818076,
          -0.049271333364256924,
          -0.4925833889785986,
          0.1742948781517457,
          -0.14948007462545784,
          -0.6037668586459858,
          -0.3850806015892814,
          0.25385366406360993,
          1.8117923325172527,
          0.6492131494077092,
          -0.39571441236842086,
          -0.10753657957300213,
          0.42067164712561333,
          0.968528819363607,
          -1.0581071804899624,
          0.31497233855881956,
          -1.9401564180178958,
          -1.9983240219138014,
          0.015297697233094428,
          -0.7677489484407745,
          -0.16623832888125564,
          2.924993735775743,
          -0.6620633758056752,
          -0.07823585523106122,
          0.9870054753140318,
          0.48498071600427917,
          1.4279378257076556,
          1.241905328401268,
          1.565096134704276,
          -0.14812421898384104,
          1.6076505457155754,
          1.7052190577320534,
          -0.5177356694665478,
          -1.4675780535682086,
          0.5715030691814961,
          0.5829428347607749,
          -0.6285409096964916,
          1.3309119891872991,
          0.19269918250448725,
          0.7742162539025347,
          -0.8990903592231526,
          0.5847506381168333,
          1.81733733183581,
          -0.4584508905589126,
          0.14065033364513183,
          -0.6864228795263412,
          0.7634930829468732,
          0.4346918867145948,
          0.5231311646448855,
          -2.366522870061277,
          1.3102957476598271,
          0.21602875841117142,
          -1.9130096697087926,
          0.26668129811594216,
          -0.7378410299903624,
          0.7342322442684807,
          1.2723348261269554,
          0.3141734968699294,
          -1.3410640006817118,
          -1.5010232693983117,
          -0.37391873709403256,
          -0.6896579070383952,
          1.0580019098506608,
          -0.17883983799022213,
          0.21596357513265385,
          -0.5667342927691676,
          -0.7465026769875642,
          -0.21115981988788013,
          1.35131094461426,
          -1.2660042645423382,
          1.163908231146107,
          1.4700908066985203,
          -0.995402536840977,
          -0.8478331474021439,
          -1.0123168522476498,
          0.8425494713864184,
          0.7143909043175968,
          -0.40193254818493374,
          -0.7035893196837193,
          -0.016245640099131434,
          -1.5189047135934168,
          1.6849260074255736,
          0.14735073267399282,
          0.534423478132113,
          1.0877678783384692,
          -0.5637917191221358,
          -0.5329569353313256,
          -1.5270678027192883,
          -0.5912772258205863,
          1.3250671297012924,
          0.1966718020756431,
          -1.1890065368100464,
          -0.4855388519333196,
          -0.6508822699729647,
          -0.6032307824860109,
          -0.09683508513645088,
          -1.5771561588441372,
          -1.1476375877708935,
          -1.6662397800273785,
          0.8826645809233319,
          -1.7945588225098885,
          0.690348071335429,
          0.02433341256818867,
          -0.760974296520414,
          -0.8311024915832286,
          2.4576516893528524,
          -1.3822911770545845,
          0.40472052119532514,
          -0.6774920488567627,
          -1.2304584137714545,
          1.0115452582435323,
          -1.6180456322970778,
          2.576870083530091,
          1.1060791350253742,
          1.384686935090298,
          -1.0483130635638425,
          -0.6812020487674699,
          0.8277429811925011,
          -0.3958018132560924,
          -0.5245864716690191,
          -0.3228840539079191,
          0.9933261731755434,
          1.3959371157092417,
          -1.1137840630583442,
          -1.232013716933535,
          0.09481470446063671,
          0.12840183054154183,
          1.84171980748944,
          0.4576178476734226,
          -0.7181388461475077,
          1.523974943512198,
          -0.6568016992021778,
          -0.8650889024333207,
          0.29261640526560073,
          -1.610650617031372,
          0.30421826366368343,
          1.4200631208428762,
          0.8295689538755793,
          -3.0539880477940584,
          0.8676192755939777,
          -0.42282655824208737,
          -0.7799256175830308,
          -1.1175417112285506,
          -0.11502384664138922,
          0.7336690291747746,
          -1.7029406278868409,
          0.6430268763033722,
          -0.7389754286233984,
          0.9736102729219567,
          1.0279487049839362,
          -1.2777271818849816,
          -0.4862991192378944,
          -1.2717638705801673,
          -0.2898245993809914,
          0.7263662991280425,
          0.5593988500477091,
          -0.512131233482569,
          1.5659203066301595,
          1.3697490978531162,
          -0.8093807822819047,
          -0.4303354472162627,
          -2.1385540119770634,
          -1.4138278879418202,
          0.4128430447496881,
          -0.5598564420919392,
          -0.04156241025690315,
          -1.5986618692663865,
          -0.9355057321425931,
          0.6606326264134483,
          -1.0531813893688593,
          1.2042860050166668,
          -0.31817818349333515,
          -1.8015766957752808,
          0.23270250443401058,
          0.14850550911192595,
          -1.3741194244632007,
          -0.5161705063128699,
          -1.5251065597211224,
          1.378545368287589,
          -1.1216757672301314,
          0.8529609250923426,
          1.7964777115916024,
          -0.31845518167313663,
          0.4340032373238415,
          -0.5529830803664804,
          2.6862572713595445,
          -1.1690356543587104,
          -0.6166681751989134,
          -0.4467905880055211,
          1.5149166954138173,
          -0.760935891884356,
          -1.1928978609348413,
          0.4808957226300277,
          -1.3019740632339405,
          2.097236917075723,
          -0.5684053042778932,
          -1.5431832953950724,
          -0.3166398312563308,
          1.6860203334007393,
          1.0142477102093095,
          -0.5897225232852095,
          0.3127314715856266,
          0.427788723508335,
          1.5815536243494974,
          -0.45345236640577635,
          -0.6752577668361575,
          0.21081045679042867,
          -0.4175810255178245,
          -0.45560243295993763,
          -1.8222497400512079,
          1.7523620145118848
         ]
        },
        {
         "mode": "markers",
         "type": "scatter",
         "x": [
          0.45270646360902084,
          0.34635617453056805,
          0.15106246094835957,
          0.03372147370606769,
          0.26364557982142217,
          0.0013420784763791816,
          0.529978971745442,
          0.21087835683836254,
          4.882566369863785,
          0.11199933274662484,
          0.5575734637497782,
          0.9385496647900416,
          0.3672822312115047,
          0.22723768181603826,
          3.3849956647764636,
          1.956395108023255,
          0.07505181927842086,
          3.2072439100104604,
          4.3587735034036,
          0.0033971071182163667,
          5.086169723226225,
          1.1133087314519419,
          0.04915793847712534,
          0.1510970227870143,
          0.06516991304226126,
          0.18456305490147012,
          0.6950961374634553,
          0.5874551396399333,
          1.2033992439142338,
          0.650398722654999,
          4.745733957682616,
          0.22000931706388277,
          1.0303548370083087,
          1.9128552635358742,
          5.324846546528105,
          0.014679273598941032,
          0.12360733923000258,
          0.5634139415615819,
          1.6488966083932814,
          0.017285400004665247,
          1.5541445953438684,
          0.025991015635211688,
          1.142573418260627,
          0.9665700610381588,
          0.9603338382226851,
          1.9919245128584484,
          2.24498967583714,
          1.8348353432400766,
          3.5967827669575585,
          0.29768963943283655,
          0.007323510622613432,
          4.174006668329159,
          0.0022878883156449664,
          3.083244516206605,
          6.840195658043879,
          0.02879403607990549,
          0.12661753011754565,
          1.1676320187547422,
          0.06610123584321556,
          0.11775096131279188,
          0.035761830770499964,
          0.06701504482248968,
          0.344800775079129,
          0.34826838859998566,
          0.05773337258041477,
          0.03142479353206856,
          3.6660090694812477,
          0.00834784167763633,
          0.0796725281383676,
          0.06105240093811898,
          0.0006813451845705649,
          0.7477854022862173,
          0.29002554588539575,
          0.3337900002945423,
          0.32156021783454175,
          0.05382830535862377,
          0.088405021988629,
          0.04215180672872761,
          0.6065370658005017,
          3.423088155935823,
          1.107147898335048,
          0.13330017039976674,
          2.4512819965751573,
          1.7093136884923603,
          0.017771863544168293,
          0.38624734844219805,
          0.44215512673357993,
          0.49978905917613353,
          0.40563788765771225,
          0.98053575077981,
          1.4877134853940812,
          2.6772311767572834,
          0.969219316258461,
          0.04232435506929678,
          0.0010499508413502967,
          0.0770436366884689,
          1.1510737963410562,
          0.05209150394331581,
          0.033668699130056615,
          0.2530451618109358,
          0.1533950404532787,
          0.2744145738211729,
          0.6758301621269529,
          0.45993315893247394,
          2.036976902181137,
          1.3883768588434517,
          1.694571653796326,
          0.13803575419264394,
          0.30966786092256887,
          0.2594114374817174,
          0.2432261445406538,
          0.3959622505723059,
          2.6962027745768493,
          1.0779883593269188,
          1.3862228836925379,
          0.1710465690132965,
          2.0823796456574364,
          1.6477406556667602,
          0.4120661321260335,
          1.1732179003123762,
          0.07722712779682835,
          2.6629783458550254,
          1.0018573984023584,
          0.0291775030113902,
          3.0369827240817875,
          0.010517066189029839,
          0.7511507569701457,
          0.8245516646104247,
          0.16997654359957773,
          0.005891129552761802,
          3.2667945810863115,
          1.571887157701974,
          3.4150633976416174,
          1.0934681033425258,
          0.3888087768526672,
          0.18410559429804998,
          1.9372935093310264,
          0.01672652703400531,
          1.895763469329797,
          0.21723707511770277,
          2.262268957664964,
          0.17287090083874293,
          1.1204655660213656,
          1.3459375536405433,
          0.21771076599643824,
          2.067498605022927,
          0.06596875494245966,
          0.2985510482453649,
          0.237823453776858,
          0.7041705210155684,
          0.43956518319047266,
          0.10617456718374181,
          1.4265130404975452,
          2.667313791173318,
          1.3136827317861228,
          0.08979979235868295,
          0.08284837309277877,
          0.0024511060086387973,
          0.5476651579432513,
          0.013560389601110962,
          0.013141029039543303,
          3.180377821412056,
          0.048639212274138956,
          0.0017488582482947143,
          0.2682525218253719,
          3.4996023574091364,
          2.9355345934294466,
          0.32271638715585593,
          0.8157295631509495,
          1.5559078572665936,
          0.24592382944732077,
          1.934718896744285,
          0.020811304764946695,
          0.5056915420538463,
          2.282077310541854,
          1.5382010487929814,
          3.1705609504563976,
          0.05204757418614139,
          0.08464151571668152,
          3.5020493856485357,
          0.5545975531887497,
          0.5688612508365599,
          0.307304863864374,
          1.6722767675427417,
          1.995850060734009e-05,
          0.4793559590470062,
          1.9364722615092027,
          1.7529479195958468,
          1.6274190382836813,
          2.918847209334848,
          1.1256573580894758,
          0.49672928798838145,
          0.2903327112586038,
          0.34454412706824206,
          0.2454097799407672,
          0.35614886621650366,
          0.020152193699957206,
          1.4147890438651338,
          1.3103179069862902,
          7.109208028663184,
          3.3045683968099833,
          0.2277810387448032,
          0.1928519269672502,
          1.4193415884489733,
          0.001595917773440627,
          0.00634355687498486,
          1.4117338515229698,
          6.357710304278931,
          0.23675159995878167,
          0.16542290000186743,
          0.002163050312196669,
          0.2705593154327411,
          0.5592550099232441,
          1.9784004146865084,
          0.003957052802333967,
          0.9139833813721966,
          4.619793188804429,
          2.0395956501911567,
          0.6279405312506269,
          0.35608632637727583,
          0.03972291094427425,
          0.2545630956587148,
          1.2712248515392037,
          0.46488970359730925,
          9.369116458231797,
          5.905784654715557,
          0.05358903327968225,
          0.048681176731262654,
          0.09565960740986887,
          0.03560412341518503,
          0.09319343471466124,
          0.14721912155664188,
          2.8229280820666283,
          0.2328171643982952,
          0.000529876386847152,
          0.06253179829884738,
          0.6831146097652414,
          3.102397183056822,
          3.2041604835834585,
          0.46578511566799274,
          0.16716599354203343,
          2.0874228310901843,
          0.1488447959616094,
          1.1370229911138263,
          0.30521129715236917,
          0.4286223308081461,
          0.19139616763106523,
          0.516321035043264,
          0.02119833648736549,
          0.44459917149946254,
          0.04631545598740886,
          0.24094235887196705,
          2.756341265780606,
          3.1507318733514964,
          6.50092215291319,
          0.9152383756215148,
          0.222933875504521,
          0.27079629828178653,
          0.10507955540380914,
          1.8291712505748539,
          0.42079036438679296,
          0.7200821347083433,
          0.2839423464888578,
          2.522798065912982,
          0.006161850369202675,
          0.3861995663109075,
          0.212503461514444,
          0.16255807156664465,
          6.635322332972744,
          1.4671697416611933,
          0.006260049002173468,
          0.046323296253568645,
          1.1331522444360218,
          0.2832858454997329,
          1.2435157071866916,
          0.5477146722473979,
          0.21170106675850228,
          0.17031796175990555,
          5.8028625562292415,
          0.8973652796372241,
          0.06723705304167658,
          0.031077819626437478,
          0.04103134385666847,
          0.08778764622073437,
          5.702287233419973,
          0.2652119707596907,
          1.2961711241273375,
          0.06786725558868097,
          0.17586901711300237,
          0.41864719927184985,
          0.02518941629192803,
          0.21930896652882945,
          0.7072917565353823,
          0.31451674736557544,
          0.16202328412117808,
          5.882015392543769,
          0.003365991145275115,
          0.1722899958854802,
          0.041510795411625806,
          0.013740284940630135,
          0.45039442197336194,
          0.31948859770769233,
          0.8089209262345803,
          0.01262371606786435,
          1.2576529099285934,
          0.1958594963085734,
          0.14932744345864188,
          0.0018847404342281918,
          0.028199677300761478,
          0.06860257684786007,
          0.7883007566474072,
          0.027935848616574388,
          0.7962925619726926,
          3.194522076547682,
          1.5149903999708771,
          5.176006023703874,
          1.706535995926705,
          0.016368253393574846,
          0.26802968047491843,
          0.99547542850973,
          0.2220464173504977,
          0.07520489045405697,
          0.9931062913907512,
          0.4607045296452779,
          0.05281306644357686,
          0.014346434072676799,
          0.2019262054905126,
          1.2659738172272936,
          0.012244738472364122,
          0.8961675889279285,
          0.37729575247812247,
          0.02666280389666252,
          3.293521725006616,
          0.08465770020401817,
          1.0351010136559742,
          0.06567100296182884,
          0.24906669794407896,
          0.1623657476615419,
          0.022325792111033145,
          4.384340827321878,
          0.11503758105547351,
          0.14994921351724474,
          0.000395151690632437,
          5.742978239772482,
          1.156658237096727,
          1.7198510107074214,
          0.09759935263047373,
          0.036920004054161105,
          2.5552225560310404,
          0.3882714084242131,
          0.3251349684163801,
          0.16767219389661187,
          0.2188983606785493,
          3.4641407651962433,
          0.17730895919907844,
          0.6530101444100397,
          0.7260154330418522,
          0.7100200635244955,
          0.10795034052444467,
          0.027566933047111268,
          1.3747565413648293,
          0.49552956725620934,
          3.632997816115866,
          0.5136383643767981,
          0.014454929384852672,
          0.196398017162532,
          0.7828162285860542,
          0.00021036567734926038,
          2.7994209795099367,
          0.00020689373859768986,
          0.8649974724667041,
          1.718796797298638,
          5.165223047808898,
          1.3236716666439545,
          0.7666929813021928,
          1.843228359033152,
          0.12118824120224428,
          0.00018612622479163645,
          0.7510977722897655,
          2.831720740033222,
          0.043880869864560856,
          0.40106637597166594,
          0.017004624439536712,
          2.8800723705708617,
          1.0828678422148292,
          0.5647395012082965,
          0.15494562262810868,
          0.009465857640364124,
          0.04646470381829594,
          1.3158727091622964,
          0.06982566407870709,
          1.9963730349613662,
          1.204384379755664,
          0.0018592185200886578,
          0.019441687102692087,
          0.9328209165707282,
          0.9479085664954032,
          4.099653675120987,
          0.44969227899850567,
          1.0841232764045379,
          1.8439865360914656,
          2.8089131466477335,
          0.69184989201526,
          2.822734521966064,
          0.8517159215475865,
          0.3285645091932044,
          0.3253344823202851,
          0.2693968309583605,
          0.05298306448648283,
          0.05373841122713277,
          4.496370093876034,
          0.5751242592251482,
          0.24134940873155272,
          2.184512356678516,
          0.10765853424369828,
          0.03785629071062426,
          2.35463823255316,
          1.520344298168721,
          2.4868981629650238,
          0.7965763133869603,
          0.5887923232999188,
          0.6956423145575945,
          0.33512651558649514,
          4.724278137704474,
          2.0790564026097913,
          0.4627463889177516,
          0.5191021465595156,
          0.06998674299926261,
          0.6669826708247912,
          0.2263584817213294,
          0.7969362717193468,
          0.4121871265509067,
          0.1327074242228854,
          0.14261571994415995,
          0.220847748804833,
          5.717021813707815,
          0.9992957026130402,
          1.373448993959589,
          0.337816986056762,
          0.2676830011677497,
          0.37034181029363106,
          0.0034535738352099135,
          0.0462008465794367,
          0.12720514469416092,
          2.38441785445907,
          2.329702706637751,
          1.2730393609725352,
          0.025286400262972082,
          2.8247331746555258,
          0.2410675853646511,
          0.9866216317186626,
          1.9809817790263289,
          3.8753433803004627,
          1.4751981440197859,
          0.6108393540113292,
          0.028232242199979125,
          0.18228259079185638,
          0.0009144928860504998,
          0.14783568733034286,
          1.2888307412824223,
          3.709325659180924e-05,
          0.27845454497110794,
          1.2465771612379557,
          0.022119918157199922,
          7.902463813889645,
          0.05795087803174254,
          0.06823272038207065,
          2.6377087620653192,
          0.0014954084517726507,
          0.35734611594831034,
          1.0150277220032127,
          0.5219372174949845,
          1.000835527221999,
          1.096136776658365,
          0.14830561962428632,
          3.148188082349439,
          0.48874063254614564,
          0.9831840870712345,
          0.18737650536963427,
          2.292180601507917,
          0.7904288418021125,
          0.29691264083913205,
          0.4387009437941749,
          0.6286680129531952,
          0.153499261774419,
          0.027406076478955738,
          0.1308055819758959,
          0.5567602544799767,
          0.7515008456584811,
          0.18165309556585196,
          0.15009320924759215,
          3.688563220405689,
          0.551003474722923,
          0.10846358347462415,
          0.002475184856946521,
          6.517640133001141,
          0.47398231876599733,
          0.16847472134337718,
          1.4889256412561436,
          0.7065789897304865,
          1.5243092211068254,
          2.16129241517408,
          1.4834984862847755,
          0.09435489213252031,
          0.48326154851337527,
          1.7501676124500896,
          7.24320446056667,
          0.042763440012876235,
          4.584699853880477,
          0.2709619400505826,
          1.2784387694886445,
          0.10353431103094957,
          0.013614698765391682,
          4.0767299145061155,
          0.01923527490762969,
          2.737398872458467,
          0.27011891127406024,
          1.9421453360571281,
          0.041691861945637246,
          0.21296498037753905,
          1.1800896390325148,
          2.576198165279103,
          0.18792410243650934,
          0.2660307100957683,
          0.7912843183394555,
          2.047082844548392,
          4.186248796891642,
          1.5866211354283293,
          0.33887130980868985,
          0.7791574490830384,
          0.1691540837731352,
          0.5988665765927558,
          0.27546776657634303,
          0.2272530207446985,
          1.033603687217115,
          1.9111651499995959,
          0.6925173671762221,
          0.9747756719779772,
          0.2803325313585991,
          0.6308405324253346,
          0.8007007532317704,
          0.1145487726844969,
          1.1374896161576846,
          0.00033615075574785596,
          0.16423135414263737,
          0.05647844880804881,
          0.6003546823316694,
          3.1360369656320226,
          0.6441525208700629,
          3.093364428296922,
          0.7525701363659522,
          0.28592321253753344,
          0.8200350906187477,
          1.482802005521061,
          1.198308199641916,
          0.9606319902565268,
          0.03735445786250204,
          1.9702384705752185,
          0.0001935031841929614,
          0.12691753466252945,
          1.1678624286719559,
          0.07604836045653388,
          0.04345301084095009,
          2.020940071760593,
          0.003339082454318036,
          0.08459683295703291,
          0.011022033410384234,
          0.760108509155061,
          1.0308685360671122,
          0.3819642837636669,
          1.2976397543121958,
          0.08475920830396354,
          0.007211336510967901,
          0.0013962354559016491,
          1.4711907751095032,
          0.919822824374144,
          1.026769128874043,
          5.275875848990509,
          0.013834074177054928,
          0.3064771141611208,
          1.601057506627598,
          4.975111724946706,
          0.16168394337376527,
          0.02761359816416955,
          0.1343776320244292,
          0.16930007729045027,
          0.6837185261319032,
          0.9040958602890983,
          1.359341610052671,
          0.25260625723020447,
          2.11862456366424,
          0.025217468281504923,
          3.048647838729174,
          0.4256141914639317,
          2.0135717188094993,
          0.3055844997968123,
          0.42937849497171615,
          0.030452460898116485,
          0.11181518770863887,
          0.08890556381935841,
          0.572802245803158,
          1.4672317110045374,
          0.023822744780711357,
          1.3166953986469927,
          4.137920150721894,
          0.00024188946397475606,
          1.0609960801855876,
          0.3629064824245813,
          2.217499315821199,
          0.42090858870379927,
          0.19999445831696194,
          0.06649108182190222,
          0.007838657324921058,
          0.5846220725637685,
          0.2911859738963516,
          5.140409641534979,
          0.014841688645756855,
          0.07926477205086455,
          3.485028804719067,
          0.6700718143515875,
          2.822549548840683,
          0.8378303146133288,
          0.925560600232822,
          1.672493040901271,
          0.1449059568464131,
          0.03692982562670456,
          3.7340427998990173,
          0.8016836083893012,
          0.5845202331086964,
          0.00044001400779454465,
          1.2878793981453431,
          1.8358588760349417,
          0.06911526514480745,
          0.7651913053962895,
          0.5895270110943515,
          0.6252144737209467,
          0.0831265503202721,
          0.452789801859455,
          1.1265477316417585,
          0.5814955181594423,
          0.03520323293628544,
          0.5391193221440084,
          0.1912963512537743,
          1.9546779147989488,
          0.7935305293067899,
          3.236579892998089,
          0.2204247647202334,
          0.24079840113058557,
          0.0027352291010869995,
          0.3111134331515333,
          0.024310603391395638,
          0.018066653673527784,
          2.977625590078904,
          1.735473279151948,
          2.193704719424771,
          0.02546404393352783,
          0.25764013576071876,
          0.10700817034659806,
          0.19474953163509226,
          0.6842166744056472,
          0.0035774324671053485,
          1.566750824453146,
          0.013367596065877915,
          7.696568906671802,
          1.4259428400114509,
          0.08914014458196323,
          2.468129345133019,
          0.7590618544757477,
          0.7715038712780302,
          6.658952580549601,
          1.6794739962765382,
          0.6440055948873413,
          3.2257077725424645,
          0.054291441193610956,
          0.017402232514495748,
          0.9757876930830156,
          2.589045710550228,
          0.20297642436087818,
          0.004730725096191419,
          0.06774365638032696,
          0.2688439058958241,
          0.18902581789442977,
          3.370636533687784,
          0.5393036789585397,
          0.8767944357479317,
          3.3450934906344947,
          1.693427807460998,
          0.31101052042570365,
          2.934201191878007,
          0.12494893509636587,
          2.6692641554896275,
          3.039269413721668,
          0.7453280199725895,
          0.3298498689613016,
          2.816378371838392,
          0.473240032575548,
          0.701178644610502,
          2.973488610318313,
          0.5169628561836684,
          1.8903069035599125,
          2.2753680706477275,
          1.5775128234647975,
          0.0007968020489009498,
          0.5177807285908609,
          0.19649262269356027,
          0.0018086946902722205,
          1.4123007031599248,
          0.5322859203189366,
          0.17640542465608602,
          0.05757626594869127,
          1.3956015819805034,
          0.39382628427740635,
          0.8517877890024429,
          0.9829330497416217,
          1.5144132693110666,
          4.4766698832772756,
          0.001048547740949335,
          2.25451299297218,
          1.2948050174464765,
          0.5057399745290978,
          0.06204545196302546,
          0.2851744435334792,
          0.033541585149012926,
          0.070830123199641,
          0.04158413061855665,
          1.3953842362202817,
          0.21815325873881727,
          2.2512120169489678,
          3.5168132954420184,
          1.3688464490055083,
          0.5773843731925704,
          0.5953548082010323,
          3.7475008677319757,
          1.967041023284636,
          0.21274672708898246,
          0.0552038785206627,
          0.14760221320172814,
          0.4149757724450292,
          3.570202255604005,
          0.05222488921325739,
          0.8534538892635145,
          0.5550562742472985,
          0.026634721140707553,
          0.0033814083718286727,
          1.307921988163668,
          0.3885443394295027,
          5.903374946584558,
          0.13304632910021688,
          0.044929350986191045,
          1.9645891642038178,
          0.08103929665701944,
          0.00016718983713915174,
          0.2016824644168978,
          0.17018684988691515,
          0.3732088782606763,
          0.0005241462807906978,
          0.11862863798913277,
          0.6938034708876301,
          0.07256366148292301,
          8.038729523362298,
          0.6110449465744608,
          0.0008020457633481805,
          0.013208690582956784,
          0.2334178035636262,
          0.1917438636989715,
          0.0014583182535965506,
          2.4883273097580743,
          0.2814985312723081,
          1.1538432341152494,
          0.0012017570551997084,
          0.40483849361279034,
          0.004152963758588801,
          0.023893752501043357,
          0.5605137313770686,
          0.8429766189134345,
          0.3016705640089716,
          0.03498152090826702,
          0.43517790486274804,
          3.452582211194106,
          0.7011509603186072,
          0.9533260455897234,
          0.7439749580930635,
          0.061678037701475945,
          0.29530181161044766,
          0.014116758864250485,
          0.036496265213178974,
          1.468602353799463,
          0.9004306279697242,
          0.0918352343420103,
          0.18033241683764242,
          0.013895948429594282,
          0.4562904629297987,
          0.42100195184418504,
          0.2389024763608035,
          0.6950172075311009,
          1.3573951045797923,
          0.060252520492408985,
          0.1640515286441231,
          0.012546861446519203,
          0.007704436243868205,
          0.4262153486492818,
          0.19175517731266442,
          0.1929953229748726,
          0.11265962135071644,
          0.13700789824227444,
          0.10944487581643718,
          0.25827661526952145,
          0.05549924838883874,
          0.02527813783202132,
          0.006292836624459514,
          0.009109034512819992,
          0.13508214434833854,
          0.3100492109253796,
          0.9794704394131623,
          0.272450013601935,
          0.2108949027933648,
          0.19144816399328193,
          0.6370852571968721,
          1.087102394473455,
          1.0051711183346792,
          0.819644039358886,
          0.1289522920841064,
          1.9372515703293158,
          0.9370847500506697,
          1.548420352512597,
          1.1197823973492573,
          0.4858304703519747,
          1.4543840409674544,
          1.8965296605143174,
          0.08277323244017604,
          0.12019314394882967,
          1.5185018300880595,
          0.4717428710093448,
          0.4026714718449029,
          0.08378371678035573,
          1.5271817481248167,
          0.03979153619285548,
          0.18681235853207073,
          0.5677342337134227,
          0.20847042606890062,
          0.15076779732523435,
          1.6525959517264643,
          0.6050161542787952,
          5.0989496606007245,
          1.4032147155961225,
          0.4483046479511426,
          0.005599251272240369,
          2.361967704201856,
          0.23460106318096263,
          0.31511183176730406,
          0.4197421352736681,
          0.14667804645011173,
          0.6516742945150709,
          0.2665278347335064,
          0.8812442755594885,
          0.2269650976871275,
          0.0028209167952731123,
          0.5084081381682475,
          0.042543265868145254,
          0.0013818104933758354,
          2.905184110291877,
          0.0032279944045633634,
          0.0007492189125729176,
          1.484421370863016,
          0.7278076991857515,
          0.03297243680243104,
          0.1365733135931034,
          0.042501744888989855,
          0.0830265938355001,
          0.9701630884836071,
          2.137424766979748,
          1.5718943357037047,
          0.38055961830498347,
          0.2609831933036154,
          0.32654388085335573,
          0.26632315182592026,
          2.619536171043624,
          4.0538313622931765,
          1.4133784418066135,
          0.35869166692354804,
          0.6754234938418774,
          0.011450004202841929,
          1.4882999642824153,
          0.2124498000511143,
          1.1706466754049998,
          0.5494272807317376,
          0.9347378476969596,
          0.8597673792038185,
          1.7813303763572474,
          0.5886885365273147,
          1.3881045489409156,
          0.08311268843232222,
          0.09912431304716768,
          0.5300667435446202,
          0.3655314667686166,
          0.9614033578752396,
          0.7802899290542832,
          0.84317781711054,
          0.8341130585921853,
          0.06525091698690266,
          2.000909338991965,
          0.1669494302205839,
          1.532212872323708,
          0.21116503486886953,
          0.026567003681598325,
          1.2080268882152623,
          0.2589204363518904,
          0.5998218255869945,
          1.090735473850244,
          0.23007157540051545,
          1.2627780332276752,
          0.23897230980528145,
          3.268855445792009,
          0.8922158748481103,
          0.9124953631585276,
          0.4189607125637705,
          2.520279685081395,
          0.683593936889666,
          1.7851370842910523,
          2.0091521903238354e-05,
          0.9230493983887682,
          0.11933678130903987,
          0.7501532137134989,
          0.058192472412272,
          0.14406819568920362,
          1.144082083668842,
          2.055256410474599,
          0.3074497235852136,
          1.7635356268051037,
          0.22595824743403445,
          0.16268974902462818,
          0.00019869780183630253,
          0.2012891900887195,
          0.019015866285928554,
          0.18901127552722977,
          0.0029237173332389474,
          0.1406017545917423,
          0.14485655018510094,
          3.078202294578325,
          0.5856597241274427,
          3.335394627824077,
          0.009427597188659504,
          0.4915622664561953,
          1.4398640221277073,
          0.402236980345194,
          1.4719305652645336,
          0.5607057529260037,
          0.015234960378994664,
          0.22701889073243986,
          0.29471702368088,
          2.5828218260753966,
          0.37647547057761593,
          3.475415313625443,
          1.1837641937774401,
          0.0058191706952192696,
          1.0573454598975094,
          0.0035510063974410065,
          1.4593619773408342,
          0.20086808623359406,
          1.0902426160789223,
          0.21310158813008692,
          0.01702709497508268,
          0.144385392338287,
          0.27686542330998354,
          3.3195409252579893,
          1.6649294578726042,
          0.8083602130645077,
          0.6642219183511857,
          0.6403518330820993,
          0.2636656389148592,
          0.2761203333318673,
          0.49162590732405703,
          0.0866624853077484,
          1.2723008268718636,
          2.525781545530912,
          0.002743403755681225,
          0.002562602838836409,
          0.017701684105161444,
          0.18358167834991834,
          0.0180479197898492,
          0.5853710659907175,
          0.712984634949909,
          0.3597083943973546,
          0.10735134426263311,
          0.6167546307388836,
          0.2633224146578017,
          0.010054376678474695,
          1.0331866692402516,
          1.5797383361794632e-06,
          0.11618144608434992,
          0.4269162692075274,
          0.14393157069443496,
          0.02898169038107816,
          0.20018193888942384,
          0.31406982332612965,
          0.041973556109118494,
          0.12409827814648758,
          0.351026316289463,
          7.163697735023568,
          0.25045267714573094
         ],
         "y": [
          0.7918519814670204,
          3.6923076627444575,
          0.8697111579324494,
          0.0014753740309561998,
          0.1616647626613957,
          0.9663545388125867,
          0.11256031937092822,
          3.5185765941243545,
          0.9856581655238785,
          0.2971310846124426,
          1.6984704526954728,
          0.8860544084771679,
          1.4893799466056785,
          2.086043366540142,
          0.2117069319361142,
          0.8798543087068141,
          0.07494495775536185,
          1.0857649612397529,
          0.3927726231194123,
          0.027496991014517934,
          0.07761844620204165,
          0.5803332403331631,
          0.013508264201172829,
          0.31356011130322586,
          0.08349639295098707,
          4.395837220094894,
          1.49819153000247,
          2.065347564971706,
          2.2393010273574485,
          0.19497043875503237,
          0.003626643677180224,
          0.31749547926880783,
          0.0009357297735229469,
          0.3077853556522706,
          0.9219635249111191,
          0.283335092819214,
          0.009136487021587222,
          0.02046320774307354,
          1.4864393047811004,
          0.02234531716808887,
          1.2823158074981176,
          1.2674679649332388,
          2.3232896759651875e-05,
          0.7993927197580718,
          0.07470150213630833,
          0.0034888827460152244,
          0.015238626687846271,
          0.009665528051990726,
          0.09463892509915105,
          0.35521813226241755,
          4.413116204596085,
          0.6699954098238827,
          2.5580498113683934,
          3.6986272772687188,
          0.02800009907910799,
          0.008550019536200082,
          0.017248692631919926,
          0.3760691298226792,
          1.4172744417112144,
          0.011590730554369705,
          5.331602935114981,
          0.00010214327172553247,
          0.0247953680540878,
          0.011206360219254932,
          0.14444532073475888,
          0.24109564083659113,
          1.5614774068440236,
          0.009267810059231876,
          0.15239726534470202,
          1.6582388102929728,
          0.35970006232303336,
          0.27443808216015336,
          1.7923647218661507,
          0.6066821103220631,
          0.5892618255722012,
          0.07734191540194695,
          0.37436523504543695,
          0.2977470059249422,
          0.9479977578434932,
          4.255553379159784,
          0.33274562771014105,
          0.6965871517072499,
          4.6616363778674526,
          0.1797564855461929,
          0.10671547147927812,
          0.044566759779488874,
          0.07446271072511815,
          0.39053272456346555,
          0.8008095250744373,
          0.054181511658217225,
          2.180014781315639,
          2.7406229085215563,
          0.216714667715139,
          0.016202865005597714,
          0.222237691372017,
          0.6535853868552849,
          0.9252377230665321,
          2.1546937851135697,
          0.08621641666619279,
          1.946293432420824e-09,
          0.026550263169377704,
          3.319394674117532,
          2.625260613607909,
          1.8889362543370671,
          0.25247877339648994,
          0.13661131547177455,
          0.000973995217264575,
          3.46081543625005,
          0.04935623585401295,
          0.011154690087258242,
          2.8533336241020857,
          0.3017652818209844,
          0.07914829491732965,
          0.8714747603460913,
          0.289949238745163,
          0.08763053142469626,
          2.0157795615857443,
          2.0773973988313563,
          1.3521012907371281,
          0.007660467724071461,
          7.803454150380816,
          0.5636297048808319,
          0.3166707797748203,
          0.4043907140722177,
          0.00019440998815573493,
          0.5812396515817265,
          7.617749964512401,
          0.164119851072339,
          0.2659372435714131,
          0.0040243397821987685,
          0.20418277886143968,
          0.4785397376732474,
          2.452028908715059,
          0.11011164048487211,
          0.0022929671769992962,
          1.1060964917278515,
          0.5951198885854493,
          0.9132444009220194,
          1.0323236031182215,
          0.06137785002192145,
          1.1211916303370948,
          0.12636639946656184,
          2.57984221386455,
          0.03561699936823796,
          2.498487454759658,
          0.5279480335953836,
          0.11167789008242329,
          2.973491697853348,
          1.771077869003227,
          2.47057172624724,
          0.3257206906573876,
          0.644292767809396,
          0.07560700913326168,
          1.3049665735432268,
          4.9621132531804594e-05,
          0.17309165348048308,
          0.5178151076943002,
          0.5296975958660969,
          0.1521492358274549,
          0.09218996073793807,
          0.3708878103779945,
          2.6225722026256815,
          0.009536971821452874,
          0.29380076393512516,
          0.6234694239400045,
          3.134275724741698,
          0.0036952310729513895,
          0.2763506923439796,
          0.001333901164874188,
          0.8067944229172471,
          1.6353048955018357,
          3.5037477287268763,
          0.20874336365533044,
          1.621254538762731,
          6.023783409057051,
          1.7714646151164455,
          0.34013642422804535,
          1.2643436522288771,
          0.2121306414036005,
          3.0696324470810494,
          1.0512929688959816,
          0.6297050716518998,
          0.0005244096573707678,
          0.4769157527756661,
          2.8018819087977067,
          0.003734988343030526,
          0.005844096172284334,
          0.07578588596756182,
          0.9109187961826398,
          0.00015078092017418887,
          3.3320813913289498,
          0.40963154300972393,
          0.23168929194007123,
          11.203820530699174,
          0.23871823524576302,
          0.333740946879605,
          0.3874524720032466,
          0.2879593279476957,
          0.009910863575202726,
          1.2532033805140659,
          0.6646798097414367,
          0.054102335140130874,
          0.9409696641140157,
          0.06923064091023254,
          1.2715547461334618,
          1.7856177481427051,
          2.2586360868283517,
          1.4152258380731875,
          2.2373450263476915,
          0.8865415498758484,
          3.270020172361264,
          0.11085238803541352,
          1.260541315547742,
          0.4124265776391567,
          0.3407495661335217,
          1.3074536830066226,
          3.8005086806217467,
          0.01945425489251367,
          1.7626917120186418,
          0.33391336931485166,
          0.028115351386213953,
          6.062712426943066,
          0.010822379340991561,
          8.43408428512823,
          2.3616864944840277,
          0.04541137470554939,
          0.09077541068318407,
          1.150505664998979,
          0.2557388626663788,
          0.03263760247710765,
          0.7602199147033137,
          0.010753234376934739,
          0.01406963762283426,
          4.018140336556324,
          0.2844657788718351,
          0.010168559061265008,
          0.19893366142417124,
          1.2593025189235678,
          0.8561039947453101,
          0.07589618373358219,
          0.2827139296134658,
          0.22800521536473972,
          0.6430965955561994,
          0.23247487078133686,
          1.8302733685655193,
          0.05126254617464994,
          0.5024740837913679,
          0.4886446273942956,
          4.585597569671724,
          0.19325501457228472,
          0.08728676724657347,
          0.168697076776378,
          6.6776846385724795,
          0.15252200313838485,
          0.03202615964572838,
          0.01181708043404785,
          1.157431289517234,
          0.0002628325695745134,
          4.955817487145788,
          1.2474882450396403,
          2.526754701356298,
          0.10942713866841927,
          2.9950181206898128,
          0.57564669128533,
          5.416010685523604,
          0.06508616727869082,
          0.006189517936607854,
          0.012902831791629581,
          0.007440713709618235,
          0.005960817305114534,
          0.697934428479904,
          0.9288823508082334,
          1.018720746882525,
          0.5992566845095155,
          1.9432938071414227,
          0.3461077155713454,
          1.2459780194821404,
          0.06044346474089072,
          0.18305167391555047,
          0.7493891539894584,
          0.007018403013268643,
          0.086574569083631,
          0.4395527922384252,
          0.5854898688225734,
          2.405833569143635,
          0.02176150596572484,
          0.061223479201966816,
          1.3702040520863212,
          1.1876651522946238,
          0.5269730580293039,
          0.19866711725973513,
          0.5343529086619978,
          0.5207802954210474,
          0.0002648190473557744,
          0.07868308146586357,
          0.48452217057976965,
          5.809215103305315,
          3.9689298619793028,
          0.12434877618418824,
          0.8914859306918055,
          0.901503921619866,
          0.09890540739037895,
          0.8008326463474011,
          0.7046582064058079,
          0.7756203858342905,
          2.4873604921950876,
          0.025109856531871106,
          0.6155378480122694,
          0.9341301747880549,
          3.9463886279741844,
          0.24972596438397976,
          0.04619986232038244,
          0.007092182563958591,
          1.2612508337387214,
          0.0798558179760484,
          0.07217712455323305,
          0.02910016098351477,
          0.007072373224211535,
          0.8597258719958455,
          0.0010200028432539288,
          0.8505244114115192,
          0.01774812133009954,
          2.2803577801853963,
          0.08625788550332011,
          0.0011192396786630118,
          1.4504330875488076,
          0.9882555172811914,
          0.4194718196004681,
          2.8596994605048454,
          0.4251826420393815,
          0.16398564022056772,
          0.8383959519408746,
          0.26108814590034124,
          4.885894660910984,
          1.5832728917753585,
          0.15310971007317742,
          1.8914961742671434,
          0.00040455704864646516,
          1.1945868147436065,
          0.13868859445361834,
          0.016137649402406366,
          0.29080681509233725,
          0.04464968384717794,
          0.39122718515820865,
          0.022382670686984116,
          0.3994105073956273,
          0.44693420395831485,
          0.802799030557662,
          0.006815571384206239,
          1.5990502013021937,
          0.18346114264561886,
          0.17319682874536158,
          1.0571903037312114,
          0.18060228481783236,
          0.3364165051037079,
          2.3385177812392937,
          0.19056273617338848,
          0.002552443074673972,
          0.05965839226856926,
          0.35327217513435744,
          1.762134037446577,
          0.0676334914864975,
          0.8069971802595485,
          1.1329561184935013,
          1.5534584118013108,
          0.0579287920465569,
          0.906632340592762,
          1.1574068128355162,
          0.0145121409867306,
          0.20934868477972732,
          0.6231498451845262,
          0.9228160948409665,
          0.7841823206158738,
          0.3270448898248812,
          0.14136033418143448,
          0.7050845546445088,
          0.14826096740733682,
          0.009196737097097491,
          0.38723456245447263,
          4.40077946239702,
          3.857124877690581,
          2.907823445243672,
          0.00043471461298310584,
          0.07782866354450914,
          1.4707364521404684,
          6.812631429291751,
          0.14195613629131984,
          0.6905602065432386,
          0.4616679612982015,
          0.01745789074147906,
          1.0444141113666336,
          0.7330791756220577,
          0.4971260957628067,
          0.06412775801372622,
          0.267137729202786,
          0.8213971825974341,
          0.22879727146912476,
          0.14157997550340157,
          1.7750113240348753,
          0.34072958730821046,
          1.302444806908568,
          1.0782016946255473,
          0.47524634454659176,
          0.8507657074969489,
          0.02768747920544329,
          0.4682733376263324,
          0.01221119451640027,
          0.12856644757304633,
          0.5471653082659993,
          6.967338151265657,
          0.25926522162193255,
          0.010716464095005608,
          0.7286902123246326,
          0.009906374990504346,
          0.9244485855035557,
          3.3145765407075336,
          0.25123548509926946,
          0.4618805737476511,
          0.3964782005890883,
          0.10241384722313968,
          0.055011451611658935,
          1.4084604485100198,
          0.052403134360453,
          0.8397855461201148,
          1.2454110482296008,
          2.8267144978041725,
          0.3368432296894829,
          0.01302464362292691,
          2.4128792723507213,
          1.1796522900086892,
          0.05355030078774898,
          0.023314840813708652,
          0.22569972684530507,
          0.9539657967652168,
          0.18825632979471593,
          0.6580195759566138,
          4.451005414069253,
          1.1887577380074026,
          4.0090746901722705,
          1.658169148206863,
          6.121731767085831,
          9.009925937256872,
          3.1871897101689846,
          2.6127118330350414,
          5.364329591256283,
          0.11350678614750336,
          0.9954570660004631,
          0.12092014671606448,
          0.5840727629767437,
          1.1404792548260108,
          0.18945994265792732,
          0.6254616995677406,
          0.10924699295862052,
          0.1572514453364644,
          0.8891502306699633,
          4.001221037690172,
          0.694200805782362,
          0.07563983903201728,
          0.6643367231131437,
          0.3584344785799119,
          1.0564387006907021,
          0.20891763045696374,
          0.001699250698664528,
          1.461205364845948,
          0.39044760294539516,
          0.00709502391127197,
          0.11757501307632173,
          2.15525018524796,
          2.2692868249675495,
          0.13770742733146626,
          0.008189795107561461,
          0.3025915197518115,
          2.1515190158106847,
          0.10713504809959606,
          2.1126507685312905,
          0.7156797421788482,
          0.25687162216469167,
          5.248500478804207,
          0.13005812580967463,
          1.0579348988757757,
          2.838737482171912,
          0.08000109677896923,
          1.9402600251161841,
          1.067431085871668,
          0.028000860776643613,
          0.9558528829240632,
          3.79169948745855,
          2.1778404350595792,
          1.3318930061031287,
          0.24787842200187943,
          0.04089248206420712,
          0.6126481419068692,
          1.3836779367539105,
          0.035260968443578664,
          0.22766982189095494,
          2.5748642822899517,
          1.7282436051957217,
          4.282489665340458,
          0.027696661988477714,
          4.248816510024587,
          0.9951284255834644,
          5.628260512280332,
          0.37417184252714664,
          0.0003917117116826563,
          1.9036248814141303,
          1.3421498404497492,
          0.7313253986153608,
          1.9839125570169402,
          0.026129692485360435,
          0.11184652048879981,
          0.026389809802073054,
          0.08993299856283482,
          2.726995575525728,
          0.10445232026997321,
          0.6402349308975825,
          0.23764753802315974,
          1.9200897679263703e-05,
          3.1679320140666056,
          2.8501854457385005,
          0.326221018695879,
          0.9292965746212613,
          0.36057161303570306,
          1.3505375205442065,
          0.1497980817445567,
          0.07670117857047531,
          0.029265257256227563,
          0.024022231804811292,
          0.3651063962759426,
          0.004480997647311262,
          0.5015925509146364,
          3.278909556527886,
          2.2185089271101393,
          0.012522850504355776,
          0.8581684714479021,
          3.852061779891369,
          0.5670737694062343,
          0.0041303483142423525,
          1.0167174198929716,
          0.17303425370990913,
          0.023047178298966266,
          0.4219217549104984,
          1.3025865336851559,
          1.002898791833432,
          2.8883321839526697,
          0.1348774487531157,
          0.08474607122686723,
          0.2183702876283187,
          1.5874208400217378,
          0.36714804756797625,
          1.2204312306095044,
          0.009423606566812827,
          0.04477539128759461,
          4.849821395649309,
          3.663786869408449,
          1.9647566429170498,
          0.03378728856240859,
          0.14248887534147137,
          0.6167480186531745,
          0.6956491123807266,
          0.28124506571146035,
          1.3266563951733035,
          0.11769514798439841,
          3.8249362108640854,
          2.221766716817029,
          0.09915984863169953,
          0.39672445940230217,
          0.38865297412688704,
          0.11447142579230261,
          1.2304298657624229,
          1.4283154439623582,
          0.02785136508981618,
          0.8196950849493769,
          2.9777563102071793,
          0.025991271007907712,
          0.4345310390994396,
          1.6758198591071203,
          0.9882895267642686,
          0.10104548355274205,
          0.2521851473448547,
          0.3032956894278785,
          0.22901040757104382,
          0.11174372990344106,
          0.20373096695488935,
          0.23391124353326703,
          0.6731159278777249,
          0.2736781185073242,
          0.00393762979573237,
          1.8077236789941065,
          4.027360860738312,
          1.1174719012707268,
          2.02447744749872,
          0.19510927130898917,
          0.01604649855525805,
          3.1921422005965425,
          0.549277606972793,
          4.776008973604448e-05,
          3.4591881959235296,
          3.5613160122985383,
          0.01561638209182615,
          0.034287559106441656,
          0.18461444679857725,
          0.5850563846846104,
          2.585233981758582,
          1.4711974524228582,
          0.9258973602028318,
          0.002321207904887499,
          0.18415616670443768,
          0.0015671716904477552,
          2.1934630305938922,
          0.17691208271027534,
          1.993175896717354,
          0.5608827296810455,
          0.10737596444896316,
          0.24198748107967405,
          0.5117538525229129,
          1.1625880046936141,
          0.6352301054638402,
          0.7002713827620092,
          1.0522967952545734,
          0.025592784684215716,
          0.5520863004362799,
          0.09580051825672406,
          0.1587633743279393,
          0.25242700145709274,
          0.02311914649427742,
          0.15240620101643482,
          0.20068080481635392,
          0.03464919477666078,
          0.49517887635329033,
          0.27665865315129934,
          0.4409916513965619,
          6.325105936306095,
          0.11506196256380917,
          0.3314882472014121,
          0.034388177789714106,
          0.5916514433801825,
          2.4576338493421046,
          3.223361981144405,
          2.618187523614192,
          2.932867955539859,
          2.5324019707631917,
          1.1652522809607417,
          0.19612565050455505,
          0.4971462948676815,
          7.051482852355532,
          1.5252544930143956,
          0.08700545124169827,
          1.0134119994660338,
          1.4863491061471614,
          5.773678083859349,
          1.4210639181359073,
          0.004838696640331666,
          1.0693648375011122,
          1.0204241921007489,
          0.26324547149623184,
          0.8172935959675016,
          0.10200085272829836,
          2.488385007077089,
          0.24564787444448313,
          1.321605081864231,
          1.421247321618253,
          0.5688754168088647,
          0.00820665232397259,
          0.10487479927855721,
          1.726197200989158,
          0.19041769277973014,
          0.10607640723259591,
          0.28241186362633997,
          0.1599768023826538,
          0.12944527310384032,
          0.22029613883766452,
          0.3478475888206311,
          0.11700976848369761,
          2.3199769334685945,
          0.986095729358724,
          0.3172390965481831,
          3.793671212940575,
          0.44895506020877757,
          0.38487633216062295,
          0.07949328318885746,
          0.1423771502971931,
          6.168240412888896,
          0.6167684192215994,
          1.568397890955319,
          3.706120367983534,
          0.012489684950951081,
          0.9336896408887693,
          0.3271195800389579,
          0.012763811332633861,
          0.003992763566081934,
          0.045737750951506034,
          1.9185112418127377,
          0.02635657838323211,
          0.03921071123170758,
          1.1320309972000588,
          3.1305281338322843,
          0.19364276885688503,
          0.41542220777063743,
          3.457418688537713,
          0.27915837481095873,
          2.589792142996259,
          0.06242739459237349,
          0.7495704275724633,
          1.4982322721774621,
          1.3481521914887782,
          1.0518645478019661,
          0.9406476254476174,
          0.21177182672976316,
          1.4636357226976655,
          0.30960918472049276,
          0.13447572285252146,
          3.3512131179805262,
          6.694158860430635,
          0.002918462668727682,
          0.07065200063457479,
          0.20721062892504974,
          1.535356017236579,
          0.33146701673166284,
          0.4233279586568455,
          0.19069229167608004,
          0.2078050076691508,
          1.4484528601877287,
          4.3734316435113465,
          5.295991870524718,
          3.294262899125654,
          0.5061100853040013,
          0.0970126802608425,
          1.0634366845450296,
          0.04046890489757575,
          1.2143259499973535,
          0.02925737991486672,
          0.24866062529616773,
          0.17745573991264713,
          2.7225740735965873,
          0.9287353085001053,
          0.5631112779894193,
          0.25813287681112346,
          0.16984929066156865,
          0.186796825067922,
          0.32806600600789704,
          0.050287260152199774,
          2.275835183114118,
          1.8138472069289893,
          0.5958865026679627,
          0.1952430497798879,
          0.43171967038384607,
          0.006449480720111089,
          0.23349251162168638,
          0.12574173197214797,
          0.7371739376912197,
          0.5277043473876424,
          0.9233425576722181,
          0.012154042803439132,
          3.9044193539679717,
          0.31820238110069476,
          2.9462161866277614,
          0.18940882549546603,
          0.10998629802738825,
          1.0804429108213858e-05,
          0.2568078046174187,
          0.22636387081468684,
          1.3831332890320347,
          0.011643048920563549,
          0.4781054224598955,
          0.3165868519383744,
          7.621079793695106,
          0.0006038618392926801,
          0.08200101614465649,
          0.0540338093911832,
          0.4092045884883197,
          0.16779437676895362,
          0.45645819092927503,
          1.6762940224801082,
          3.908735840659712,
          1.0141192469991192,
          0.08232134126548853,
          0.6455951468312556,
          1.8847392794607245,
          1.2575720847287581,
          10.157155774632438,
          1.1628067323276716,
          0.11209812308034992,
          2.6665113320423686,
          0.0685022192078604,
          0.004251706596604629,
          1.463655382697264,
          0.37775422843840123,
          1.1048384540980134,
          2.22073956867397,
          0.9199188130044635,
          0.0024276642914917374,
          0.24263839509764137,
          0.030378704549931884,
          0.022344292710032444,
          0.36453441959924177,
          0.1482870697203629,
          0.06444168275852012,
          3.282591456168307,
          0.4214777133638766,
          0.15658989615608462,
          0.011564115946260618,
          0.17696463469537654,
          0.9380480739378625,
          1.119590805404418,
          0.09920757405721166,
          3.764206926376032,
          3.993298896557751,
          0.00023401954063542493,
          0.589438447831915,
          0.027635181989232514,
          8.555588354327337,
          0.4383279135832067,
          0.006120849043735569,
          0.9741798082998778,
          0.2352062948960233,
          2.039006434086707,
          1.5423288447114614,
          2.449525910866265,
          0.021940784249572895,
          2.5845402771395873,
          2.907772034852592,
          0.26805022343797447,
          2.1537853433150516,
          0.3266157580838699,
          0.3398223485989281,
          0.3950636751620932,
          1.7713267229624934,
          0.03713297493789769,
          0.5994108078068741,
          0.8083634740480176,
          0.3419333087780437,
          3.3027149776841007,
          0.21017721905426004,
          0.0197825163544869,
          0.4711763695372339,
          0.582921687707721,
          0.18895703637549413,
          0.2736662154227143,
          5.600430494523064,
          1.7168749463354254,
          0.046668424460672264,
          3.659605996399344,
          0.07111891476480402,
          0.5444093855372388,
          0.5390969885235298,
          1.6188359097755098,
          0.09870498613547954,
          1.7984526539244383,
          2.2530708552751966,
          0.13981522194999624,
          0.4756280287405798,
          1.1193680412476457,
          0.0319836876523689,
          0.04664026578407743,
          0.32118775860056864,
          0.5572662467495997,
          0.04458846953508198,
          1.8260412690342835,
          1.6027667978393865,
          1.3546823705296598,
          2.161166979939506,
          0.9908262103494526,
          0.7188210458338254,
          1.02478540934459,
          0.7098896117335332,
          0.5103543641717138,
          0.16154977329043407,
          0.49503793077299896,
          0.0002639208222305072,
          2.3070715289762997,
          2.8389756504990844,
          0.021712238419562494,
          0.28560845397882506,
          1.1832389571449748,
          0.3178611025506932,
          0.28404309491775875,
          2.3319360741019155,
          0.34960875777408856,
          1.7558028982148215,
          0.03867979773168094,
          1.4137365445770202,
          0.23574797673672604,
          0.4236477293651593,
          0.363887376938685,
          0.00937703371338369,
          2.4874215493799934,
          1.3170720328645953,
          2.7763550045456866,
          0.7790967624165611,
          3.2204413674480774,
          0.47658045959654655,
          0.0005921149672136822,
          0.579081879964739,
          0.6907313515158505,
          6.040051826178929,
          1.9107288981629487,
          0.16379870027661564,
          0.4589954762641342,
          1.514027908020964,
          1.0232238094749744,
          2.61807166819565,
          6.640259427392377,
          1.22341105293848,
          1.917357908209763,
          1.0989602792386088,
          0.4640362312449985,
          0.6851584429134493,
          0.15665907537681067,
          0.27519096625815054,
          0.104254112268012,
          0.9866968863155696,
          1.948640431014637,
          1.2405149391227537,
          1.5178577987123845,
          0.008989828181957883,
          0.016487030086418827,
          3.39193184929894,
          0.20941409450925583,
          0.5157234023460737,
          2.3224996284530075,
          0.431388472074868,
          0.7483788091132875,
          0.0856243606305623,
          2.594195410143539,
          0.09254875194654641,
          2.016579267178009,
          0.688184649234223,
          9.326842996068963,
          0.7527632073822186,
          0.1787822983548493,
          0.608283968962272,
          1.2488994763356371,
          0.013230485296181826,
          0.5382702443702563,
          2.900006782107628,
          0.41348356364847233,
          0.5460846841091354,
          0.947916963539167,
          1.0566785400781515,
          1.6325867513277368,
          0.2364868333715518,
          1.6173833425130484,
          0.08399829840635217,
          0.5276080005089689,
          0.3129270734346993,
          0.26227840030837757,
          2.4521064067166924,
          1.8762125910694256,
          0.655097250727268,
          0.18518859713082084,
          4.573413262143194,
          1.998909296722028,
          0.17043937959819297,
          0.31343923575184485,
          0.0017274339463631283,
          2.555719772246297,
          0.8751709748716492,
          0.4364354670819308,
          1.109191038912921,
          1.4503047818790034,
          0.10123735645111845,
          3.2456785907605785,
          0.054150455569860714,
          0.02205388623659232,
          1.8882041926870778,
          0.2664319915872844,
          2.3259500185043973,
          1.9003873324271643,
          1.258156526791304,
          0.7275423397343849,
          3.227332168245401,
          0.10141370273447047,
          0.18835881000757468,
          0.3057902871716013,
          7.215978127932026,
          1.3666443611618981,
          0.3802796383031577,
          0.19962182953031932,
          2.2949725940435206,
          0.5790234315578403,
          1.42300530662292,
          0.23126069604385655,
          1.6951364613338968,
          4.398402686345283,
          0.3230845899312443,
          2.3814146831863954,
          0.10026078273803762,
          2.84266456464074,
          1.0286984176648275,
          0.34777265446987443,
          0.09780097332011158,
          0.1830031919608907,
          2.5013118666930314,
          0.20561904859899846,
          0.45597305167255436,
          0.04444104869218919,
          0.174373912872518,
          0.20757357691901446,
          3.3205941151166947,
          3.070772629904151
         ]
        },
        {
         "mode": "markers",
         "type": "scatter",
         "x": [
          0.7918519814670204,
          3.6923076627444575,
          0.8697111579324494,
          0.0014753740309561998,
          0.1616647626613957,
          0.9663545388125867,
          0.11256031937092822,
          3.5185765941243545,
          0.9856581655238785,
          0.2971310846124426,
          1.6984704526954728,
          0.8860544084771679,
          1.4893799466056785,
          2.086043366540142,
          0.2117069319361142,
          0.8798543087068141,
          0.07494495775536185,
          1.0857649612397529,
          0.3927726231194123,
          0.027496991014517934,
          0.07761844620204165,
          0.5803332403331631,
          0.013508264201172829,
          0.31356011130322586,
          0.08349639295098707,
          4.395837220094894,
          1.49819153000247,
          2.065347564971706,
          2.2393010273574485,
          0.19497043875503237,
          0.003626643677180224,
          0.31749547926880783,
          0.0009357297735229469,
          0.3077853556522706,
          0.9219635249111191,
          0.283335092819214,
          0.009136487021587222,
          0.02046320774307354,
          1.4864393047811004,
          0.02234531716808887,
          1.2823158074981176,
          1.2674679649332388,
          2.3232896759651875e-05,
          0.7993927197580718,
          0.07470150213630833,
          0.0034888827460152244,
          0.015238626687846271,
          0.009665528051990726,
          0.09463892509915105,
          0.35521813226241755,
          4.413116204596085,
          0.6699954098238827,
          2.5580498113683934,
          3.6986272772687188,
          0.02800009907910799,
          0.008550019536200082,
          0.017248692631919926,
          0.3760691298226792,
          1.4172744417112144,
          0.011590730554369705,
          5.331602935114981,
          0.00010214327172553247,
          0.0247953680540878,
          0.011206360219254932,
          0.14444532073475888,
          0.24109564083659113,
          1.5614774068440236,
          0.009267810059231876,
          0.15239726534470202,
          1.6582388102929728,
          0.35970006232303336,
          0.27443808216015336,
          1.7923647218661507,
          0.6066821103220631,
          0.5892618255722012,
          0.07734191540194695,
          0.37436523504543695,
          0.2977470059249422,
          0.9479977578434932,
          4.255553379159784,
          0.33274562771014105,
          0.6965871517072499,
          4.6616363778674526,
          0.1797564855461929,
          0.10671547147927812,
          0.044566759779488874,
          0.07446271072511815,
          0.39053272456346555,
          0.8008095250744373,
          0.054181511658217225,
          2.180014781315639,
          2.7406229085215563,
          0.216714667715139,
          0.016202865005597714,
          0.222237691372017,
          0.6535853868552849,
          0.9252377230665321,
          2.1546937851135697,
          0.08621641666619279,
          1.946293432420824e-09,
          0.026550263169377704,
          3.319394674117532,
          2.625260613607909,
          1.8889362543370671,
          0.25247877339648994,
          0.13661131547177455,
          0.000973995217264575,
          3.46081543625005,
          0.04935623585401295,
          0.011154690087258242,
          2.8533336241020857,
          0.3017652818209844,
          0.07914829491732965,
          0.8714747603460913,
          0.289949238745163,
          0.08763053142469626,
          2.0157795615857443,
          2.0773973988313563,
          1.3521012907371281,
          0.007660467724071461,
          7.803454150380816,
          0.5636297048808319,
          0.3166707797748203,
          0.4043907140722177,
          0.00019440998815573493,
          0.5812396515817265,
          7.617749964512401,
          0.164119851072339,
          0.2659372435714131,
          0.0040243397821987685,
          0.20418277886143968,
          0.4785397376732474,
          2.452028908715059,
          0.11011164048487211,
          0.0022929671769992962,
          1.1060964917278515,
          0.5951198885854493,
          0.9132444009220194,
          1.0323236031182215,
          0.06137785002192145,
          1.1211916303370948,
          0.12636639946656184,
          2.57984221386455,
          0.03561699936823796,
          2.498487454759658,
          0.5279480335953836,
          0.11167789008242329,
          2.973491697853348,
          1.771077869003227,
          2.47057172624724,
          0.3257206906573876,
          0.644292767809396,
          0.07560700913326168,
          1.3049665735432268,
          4.9621132531804594e-05,
          0.17309165348048308,
          0.5178151076943002,
          0.5296975958660969,
          0.1521492358274549,
          0.09218996073793807,
          0.3708878103779945,
          2.6225722026256815,
          0.009536971821452874,
          0.29380076393512516,
          0.6234694239400045,
          3.134275724741698,
          0.0036952310729513895,
          0.2763506923439796,
          0.001333901164874188,
          0.8067944229172471,
          1.6353048955018357,
          3.5037477287268763,
          0.20874336365533044,
          1.621254538762731,
          6.023783409057051,
          1.7714646151164455,
          0.34013642422804535,
          1.2643436522288771,
          0.2121306414036005,
          3.0696324470810494,
          1.0512929688959816,
          0.6297050716518998,
          0.0005244096573707678,
          0.4769157527756661,
          2.8018819087977067,
          0.003734988343030526,
          0.005844096172284334,
          0.07578588596756182,
          0.9109187961826398,
          0.00015078092017418887,
          3.3320813913289498,
          0.40963154300972393,
          0.23168929194007123,
          11.203820530699174,
          0.23871823524576302,
          0.333740946879605,
          0.3874524720032466,
          0.2879593279476957,
          0.009910863575202726,
          1.2532033805140659,
          0.6646798097414367,
          0.054102335140130874,
          0.9409696641140157,
          0.06923064091023254,
          1.2715547461334618,
          1.7856177481427051,
          2.2586360868283517,
          1.4152258380731875,
          2.2373450263476915,
          0.8865415498758484,
          3.270020172361264,
          0.11085238803541352,
          1.260541315547742,
          0.4124265776391567,
          0.3407495661335217,
          1.3074536830066226,
          3.8005086806217467,
          0.01945425489251367,
          1.7626917120186418,
          0.33391336931485166,
          0.028115351386213953,
          6.062712426943066,
          0.010822379340991561,
          8.43408428512823,
          2.3616864944840277,
          0.04541137470554939,
          0.09077541068318407,
          1.150505664998979,
          0.2557388626663788,
          0.03263760247710765,
          0.7602199147033137,
          0.010753234376934739,
          0.01406963762283426,
          4.018140336556324,
          0.2844657788718351,
          0.010168559061265008,
          0.19893366142417124,
          1.2593025189235678,
          0.8561039947453101,
          0.07589618373358219,
          0.2827139296134658,
          0.22800521536473972,
          0.6430965955561994,
          0.23247487078133686,
          1.8302733685655193,
          0.05126254617464994,
          0.5024740837913679,
          0.4886446273942956,
          4.585597569671724,
          0.19325501457228472,
          0.08728676724657347,
          0.168697076776378,
          6.6776846385724795,
          0.15252200313838485,
          0.03202615964572838,
          0.01181708043404785,
          1.157431289517234,
          0.0002628325695745134,
          4.955817487145788,
          1.2474882450396403,
          2.526754701356298,
          0.10942713866841927,
          2.9950181206898128,
          0.57564669128533,
          5.416010685523604,
          0.06508616727869082,
          0.006189517936607854,
          0.012902831791629581,
          0.007440713709618235,
          0.005960817305114534,
          0.697934428479904,
          0.9288823508082334,
          1.018720746882525,
          0.5992566845095155,
          1.9432938071414227,
          0.3461077155713454,
          1.2459780194821404,
          0.06044346474089072,
          0.18305167391555047,
          0.7493891539894584,
          0.007018403013268643,
          0.086574569083631,
          0.4395527922384252,
          0.5854898688225734,
          2.405833569143635,
          0.02176150596572484,
          0.061223479201966816,
          1.3702040520863212,
          1.1876651522946238,
          0.5269730580293039,
          0.19866711725973513,
          0.5343529086619978,
          0.5207802954210474,
          0.0002648190473557744,
          0.07868308146586357,
          0.48452217057976965,
          5.809215103305315,
          3.9689298619793028,
          0.12434877618418824,
          0.8914859306918055,
          0.901503921619866,
          0.09890540739037895,
          0.8008326463474011,
          0.7046582064058079,
          0.7756203858342905,
          2.4873604921950876,
          0.025109856531871106,
          0.6155378480122694,
          0.9341301747880549,
          3.9463886279741844,
          0.24972596438397976,
          0.04619986232038244,
          0.007092182563958591,
          1.2612508337387214,
          0.0798558179760484,
          0.07217712455323305,
          0.02910016098351477,
          0.007072373224211535,
          0.8597258719958455,
          0.0010200028432539288,
          0.8505244114115192,
          0.01774812133009954,
          2.2803577801853963,
          0.08625788550332011,
          0.0011192396786630118,
          1.4504330875488076,
          0.9882555172811914,
          0.4194718196004681,
          2.8596994605048454,
          0.4251826420393815,
          0.16398564022056772,
          0.8383959519408746,
          0.26108814590034124,
          4.885894660910984,
          1.5832728917753585,
          0.15310971007317742,
          1.8914961742671434,
          0.00040455704864646516,
          1.1945868147436065,
          0.13868859445361834,
          0.016137649402406366,
          0.29080681509233725,
          0.04464968384717794,
          0.39122718515820865,
          0.022382670686984116,
          0.3994105073956273,
          0.44693420395831485,
          0.802799030557662,
          0.006815571384206239,
          1.5990502013021937,
          0.18346114264561886,
          0.17319682874536158,
          1.0571903037312114,
          0.18060228481783236,
          0.3364165051037079,
          2.3385177812392937,
          0.19056273617338848,
          0.002552443074673972,
          0.05965839226856926,
          0.35327217513435744,
          1.762134037446577,
          0.0676334914864975,
          0.8069971802595485,
          1.1329561184935013,
          1.5534584118013108,
          0.0579287920465569,
          0.906632340592762,
          1.1574068128355162,
          0.0145121409867306,
          0.20934868477972732,
          0.6231498451845262,
          0.9228160948409665,
          0.7841823206158738,
          0.3270448898248812,
          0.14136033418143448,
          0.7050845546445088,
          0.14826096740733682,
          0.009196737097097491,
          0.38723456245447263,
          4.40077946239702,
          3.857124877690581,
          2.907823445243672,
          0.00043471461298310584,
          0.07782866354450914,
          1.4707364521404684,
          6.812631429291751,
          0.14195613629131984,
          0.6905602065432386,
          0.4616679612982015,
          0.01745789074147906,
          1.0444141113666336,
          0.7330791756220577,
          0.4971260957628067,
          0.06412775801372622,
          0.267137729202786,
          0.8213971825974341,
          0.22879727146912476,
          0.14157997550340157,
          1.7750113240348753,
          0.34072958730821046,
          1.302444806908568,
          1.0782016946255473,
          0.47524634454659176,
          0.8507657074969489,
          0.02768747920544329,
          0.4682733376263324,
          0.01221119451640027,
          0.12856644757304633,
          0.5471653082659993,
          6.967338151265657,
          0.25926522162193255,
          0.010716464095005608,
          0.7286902123246326,
          0.009906374990504346,
          0.9244485855035557,
          3.3145765407075336,
          0.25123548509926946,
          0.4618805737476511,
          0.3964782005890883,
          0.10241384722313968,
          0.055011451611658935,
          1.4084604485100198,
          0.052403134360453,
          0.8397855461201148,
          1.2454110482296008,
          2.8267144978041725,
          0.3368432296894829,
          0.01302464362292691,
          2.4128792723507213,
          1.1796522900086892,
          0.05355030078774898,
          0.023314840813708652,
          0.22569972684530507,
          0.9539657967652168,
          0.18825632979471593,
          0.6580195759566138,
          4.451005414069253,
          1.1887577380074026,
          4.0090746901722705,
          1.658169148206863,
          6.121731767085831,
          9.009925937256872,
          3.1871897101689846,
          2.6127118330350414,
          5.364329591256283,
          0.11350678614750336,
          0.9954570660004631,
          0.12092014671606448,
          0.5840727629767437,
          1.1404792548260108,
          0.18945994265792732,
          0.6254616995677406,
          0.10924699295862052,
          0.1572514453364644,
          0.8891502306699633,
          4.001221037690172,
          0.694200805782362,
          0.07563983903201728,
          0.6643367231131437,
          0.3584344785799119,
          1.0564387006907021,
          0.20891763045696374,
          0.001699250698664528,
          1.461205364845948,
          0.39044760294539516,
          0.00709502391127197,
          0.11757501307632173,
          2.15525018524796,
          2.2692868249675495,
          0.13770742733146626,
          0.008189795107561461,
          0.3025915197518115,
          2.1515190158106847,
          0.10713504809959606,
          2.1126507685312905,
          0.7156797421788482,
          0.25687162216469167,
          5.248500478804207,
          0.13005812580967463,
          1.0579348988757757,
          2.838737482171912,
          0.08000109677896923,
          1.9402600251161841,
          1.067431085871668,
          0.028000860776643613,
          0.9558528829240632,
          3.79169948745855,
          2.1778404350595792,
          1.3318930061031287,
          0.24787842200187943,
          0.04089248206420712,
          0.6126481419068692,
          1.3836779367539105,
          0.035260968443578664,
          0.22766982189095494,
          2.5748642822899517,
          1.7282436051957217,
          4.282489665340458,
          0.027696661988477714,
          4.248816510024587,
          0.9951284255834644,
          5.628260512280332,
          0.37417184252714664,
          0.0003917117116826563,
          1.9036248814141303,
          1.3421498404497492,
          0.7313253986153608,
          1.9839125570169402,
          0.026129692485360435,
          0.11184652048879981,
          0.026389809802073054,
          0.08993299856283482,
          2.726995575525728,
          0.10445232026997321,
          0.6402349308975825,
          0.23764753802315974,
          1.9200897679263703e-05,
          3.1679320140666056,
          2.8501854457385005,
          0.326221018695879,
          0.9292965746212613,
          0.36057161303570306,
          1.3505375205442065,
          0.1497980817445567,
          0.07670117857047531,
          0.029265257256227563,
          0.024022231804811292,
          0.3651063962759426,
          0.004480997647311262,
          0.5015925509146364,
          3.278909556527886,
          2.2185089271101393,
          0.012522850504355776,
          0.8581684714479021,
          3.852061779891369,
          0.5670737694062343,
          0.0041303483142423525,
          1.0167174198929716,
          0.17303425370990913,
          0.023047178298966266,
          0.4219217549104984,
          1.3025865336851559,
          1.002898791833432,
          2.8883321839526697,
          0.1348774487531157,
          0.08474607122686723,
          0.2183702876283187,
          1.5874208400217378,
          0.36714804756797625,
          1.2204312306095044,
          0.009423606566812827,
          0.04477539128759461,
          4.849821395649309,
          3.663786869408449,
          1.9647566429170498,
          0.03378728856240859,
          0.14248887534147137,
          0.6167480186531745,
          0.6956491123807266,
          0.28124506571146035,
          1.3266563951733035,
          0.11769514798439841,
          3.8249362108640854,
          2.221766716817029,
          0.09915984863169953,
          0.39672445940230217,
          0.38865297412688704,
          0.11447142579230261,
          1.2304298657624229,
          1.4283154439623582,
          0.02785136508981618,
          0.8196950849493769,
          2.9777563102071793,
          0.025991271007907712,
          0.4345310390994396,
          1.6758198591071203,
          0.9882895267642686,
          0.10104548355274205,
          0.2521851473448547,
          0.3032956894278785,
          0.22901040757104382,
          0.11174372990344106,
          0.20373096695488935,
          0.23391124353326703,
          0.6731159278777249,
          0.2736781185073242,
          0.00393762979573237,
          1.8077236789941065,
          4.027360860738312,
          1.1174719012707268,
          2.02447744749872,
          0.19510927130898917,
          0.01604649855525805,
          3.1921422005965425,
          0.549277606972793,
          4.776008973604448e-05,
          3.4591881959235296,
          3.5613160122985383,
          0.01561638209182615,
          0.034287559106441656,
          0.18461444679857725,
          0.5850563846846104,
          2.585233981758582,
          1.4711974524228582,
          0.9258973602028318,
          0.002321207904887499,
          0.18415616670443768,
          0.0015671716904477552,
          2.1934630305938922,
          0.17691208271027534,
          1.993175896717354,
          0.5608827296810455,
          0.10737596444896316,
          0.24198748107967405,
          0.5117538525229129,
          1.1625880046936141,
          0.6352301054638402,
          0.7002713827620092,
          1.0522967952545734,
          0.025592784684215716,
          0.5520863004362799,
          0.09580051825672406,
          0.1587633743279393,
          0.25242700145709274,
          0.02311914649427742,
          0.15240620101643482,
          0.20068080481635392,
          0.03464919477666078,
          0.49517887635329033,
          0.27665865315129934,
          0.4409916513965619,
          6.325105936306095,
          0.11506196256380917,
          0.3314882472014121,
          0.034388177789714106,
          0.5916514433801825,
          2.4576338493421046,
          3.223361981144405,
          2.618187523614192,
          2.932867955539859,
          2.5324019707631917,
          1.1652522809607417,
          0.19612565050455505,
          0.4971462948676815,
          7.051482852355532,
          1.5252544930143956,
          0.08700545124169827,
          1.0134119994660338,
          1.4863491061471614,
          5.773678083859349,
          1.4210639181359073,
          0.004838696640331666,
          1.0693648375011122,
          1.0204241921007489,
          0.26324547149623184,
          0.8172935959675016,
          0.10200085272829836,
          2.488385007077089,
          0.24564787444448313,
          1.321605081864231,
          1.421247321618253,
          0.5688754168088647,
          0.00820665232397259,
          0.10487479927855721,
          1.726197200989158,
          0.19041769277973014,
          0.10607640723259591,
          0.28241186362633997,
          0.1599768023826538,
          0.12944527310384032,
          0.22029613883766452,
          0.3478475888206311,
          0.11700976848369761,
          2.3199769334685945,
          0.986095729358724,
          0.3172390965481831,
          3.793671212940575,
          0.44895506020877757,
          0.38487633216062295,
          0.07949328318885746,
          0.1423771502971931,
          6.168240412888896,
          0.6167684192215994,
          1.568397890955319,
          3.706120367983534,
          0.012489684950951081,
          0.9336896408887693,
          0.3271195800389579,
          0.012763811332633861,
          0.003992763566081934,
          0.045737750951506034,
          1.9185112418127377,
          0.02635657838323211,
          0.03921071123170758,
          1.1320309972000588,
          3.1305281338322843,
          0.19364276885688503,
          0.41542220777063743,
          3.457418688537713,
          0.27915837481095873,
          2.589792142996259,
          0.06242739459237349,
          0.7495704275724633,
          1.4982322721774621,
          1.3481521914887782,
          1.0518645478019661,
          0.9406476254476174,
          0.21177182672976316,
          1.4636357226976655,
          0.30960918472049276,
          0.13447572285252146,
          3.3512131179805262,
          6.694158860430635,
          0.002918462668727682,
          0.07065200063457479,
          0.20721062892504974,
          1.535356017236579,
          0.33146701673166284,
          0.4233279586568455,
          0.19069229167608004,
          0.2078050076691508,
          1.4484528601877287,
          4.3734316435113465,
          5.295991870524718,
          3.294262899125654,
          0.5061100853040013,
          0.0970126802608425,
          1.0634366845450296,
          0.04046890489757575,
          1.2143259499973535,
          0.02925737991486672,
          0.24866062529616773,
          0.17745573991264713,
          2.7225740735965873,
          0.9287353085001053,
          0.5631112779894193,
          0.25813287681112346,
          0.16984929066156865,
          0.186796825067922,
          0.32806600600789704,
          0.050287260152199774,
          2.275835183114118,
          1.8138472069289893,
          0.5958865026679627,
          0.1952430497798879,
          0.43171967038384607,
          0.006449480720111089,
          0.23349251162168638,
          0.12574173197214797,
          0.7371739376912197,
          0.5277043473876424,
          0.9233425576722181,
          0.012154042803439132,
          3.9044193539679717,
          0.31820238110069476,
          2.9462161866277614,
          0.18940882549546603,
          0.10998629802738825,
          1.0804429108213858e-05,
          0.2568078046174187,
          0.22636387081468684,
          1.3831332890320347,
          0.011643048920563549,
          0.4781054224598955,
          0.3165868519383744,
          7.621079793695106,
          0.0006038618392926801,
          0.08200101614465649,
          0.0540338093911832,
          0.4092045884883197,
          0.16779437676895362,
          0.45645819092927503,
          1.6762940224801082,
          3.908735840659712,
          1.0141192469991192,
          0.08232134126548853,
          0.6455951468312556,
          1.8847392794607245,
          1.2575720847287581,
          10.157155774632438,
          1.1628067323276716,
          0.11209812308034992,
          2.6665113320423686,
          0.0685022192078604,
          0.004251706596604629,
          1.463655382697264,
          0.37775422843840123,
          1.1048384540980134,
          2.22073956867397,
          0.9199188130044635,
          0.0024276642914917374,
          0.24263839509764137,
          0.030378704549931884,
          0.022344292710032444,
          0.36453441959924177,
          0.1482870697203629,
          0.06444168275852012,
          3.282591456168307,
          0.4214777133638766,
          0.15658989615608462,
          0.011564115946260618,
          0.17696463469537654,
          0.9380480739378625,
          1.119590805404418,
          0.09920757405721166,
          3.764206926376032,
          3.993298896557751,
          0.00023401954063542493,
          0.589438447831915,
          0.027635181989232514,
          8.555588354327337,
          0.4383279135832067,
          0.006120849043735569,
          0.9741798082998778,
          0.2352062948960233,
          2.039006434086707,
          1.5423288447114614,
          2.449525910866265,
          0.021940784249572895,
          2.5845402771395873,
          2.907772034852592,
          0.26805022343797447,
          2.1537853433150516,
          0.3266157580838699,
          0.3398223485989281,
          0.3950636751620932,
          1.7713267229624934,
          0.03713297493789769,
          0.5994108078068741,
          0.8083634740480176,
          0.3419333087780437,
          3.3027149776841007,
          0.21017721905426004,
          0.0197825163544869,
          0.4711763695372339,
          0.582921687707721,
          0.18895703637549413,
          0.2736662154227143,
          5.600430494523064,
          1.7168749463354254,
          0.046668424460672264,
          3.659605996399344,
          0.07111891476480402,
          0.5444093855372388,
          0.5390969885235298,
          1.6188359097755098,
          0.09870498613547954,
          1.7984526539244383,
          2.2530708552751966,
          0.13981522194999624,
          0.4756280287405798,
          1.1193680412476457,
          0.0319836876523689,
          0.04664026578407743,
          0.32118775860056864,
          0.5572662467495997,
          0.04458846953508198,
          1.8260412690342835,
          1.6027667978393865,
          1.3546823705296598,
          2.161166979939506,
          0.9908262103494526,
          0.7188210458338254,
          1.02478540934459,
          0.7098896117335332,
          0.5103543641717138,
          0.16154977329043407,
          0.49503793077299896,
          0.0002639208222305072,
          2.3070715289762997,
          2.8389756504990844,
          0.021712238419562494,
          0.28560845397882506,
          1.1832389571449748,
          0.3178611025506932,
          0.28404309491775875,
          2.3319360741019155,
          0.34960875777408856,
          1.7558028982148215,
          0.03867979773168094,
          1.4137365445770202,
          0.23574797673672604,
          0.4236477293651593,
          0.363887376938685,
          0.00937703371338369,
          2.4874215493799934,
          1.3170720328645953,
          2.7763550045456866,
          0.7790967624165611,
          3.2204413674480774,
          0.47658045959654655,
          0.0005921149672136822,
          0.579081879964739,
          0.6907313515158505,
          6.040051826178929,
          1.9107288981629487,
          0.16379870027661564,
          0.4589954762641342,
          1.514027908020964,
          1.0232238094749744,
          2.61807166819565,
          6.640259427392377,
          1.22341105293848,
          1.917357908209763,
          1.0989602792386088,
          0.4640362312449985,
          0.6851584429134493,
          0.15665907537681067,
          0.27519096625815054,
          0.104254112268012,
          0.9866968863155696,
          1.948640431014637,
          1.2405149391227537,
          1.5178577987123845,
          0.008989828181957883,
          0.016487030086418827,
          3.39193184929894,
          0.20941409450925583,
          0.5157234023460737,
          2.3224996284530075,
          0.431388472074868,
          0.7483788091132875,
          0.0856243606305623,
          2.594195410143539,
          0.09254875194654641,
          2.016579267178009,
          0.688184649234223,
          9.326842996068963,
          0.7527632073822186,
          0.1787822983548493,
          0.608283968962272,
          1.2488994763356371,
          0.013230485296181826,
          0.5382702443702563,
          2.900006782107628,
          0.41348356364847233,
          0.5460846841091354,
          0.947916963539167,
          1.0566785400781515,
          1.6325867513277368,
          0.2364868333715518,
          1.6173833425130484,
          0.08399829840635217,
          0.5276080005089689,
          0.3129270734346993,
          0.26227840030837757,
          2.4521064067166924,
          1.8762125910694256,
          0.655097250727268,
          0.18518859713082084,
          4.573413262143194,
          1.998909296722028,
          0.17043937959819297,
          0.31343923575184485,
          0.0017274339463631283,
          2.555719772246297,
          0.8751709748716492,
          0.4364354670819308,
          1.109191038912921,
          1.4503047818790034,
          0.10123735645111845,
          3.2456785907605785,
          0.054150455569860714,
          0.02205388623659232,
          1.8882041926870778,
          0.2664319915872844,
          2.3259500185043973,
          1.9003873324271643,
          1.258156526791304,
          0.7275423397343849,
          3.227332168245401,
          0.10141370273447047,
          0.18835881000757468,
          0.3057902871716013,
          7.215978127932026,
          1.3666443611618981,
          0.3802796383031577,
          0.19962182953031932,
          2.2949725940435206,
          0.5790234315578403,
          1.42300530662292,
          0.23126069604385655,
          1.6951364613338968,
          4.398402686345283,
          0.3230845899312443,
          2.3814146831863954,
          0.10026078273803762,
          2.84266456464074,
          1.0286984176648275,
          0.34777265446987443,
          0.09780097332011158,
          0.1830031919608907,
          2.5013118666930314,
          0.20561904859899846,
          0.45597305167255436,
          0.04444104869218919,
          0.174373912872518,
          0.20757357691901446,
          3.3205941151166947,
          3.070772629904151
         ],
         "y": [
          0.45270646360902084,
          0.34635617453056805,
          0.15106246094835957,
          0.03372147370606769,
          0.26364557982142217,
          0.0013420784763791816,
          0.529978971745442,
          0.21087835683836254,
          4.882566369863785,
          0.11199933274662484,
          0.5575734637497782,
          0.9385496647900416,
          0.3672822312115047,
          0.22723768181603826,
          3.3849956647764636,
          1.956395108023255,
          0.07505181927842086,
          3.2072439100104604,
          4.3587735034036,
          0.0033971071182163667,
          5.086169723226225,
          1.1133087314519419,
          0.04915793847712534,
          0.1510970227870143,
          0.06516991304226126,
          0.18456305490147012,
          0.6950961374634553,
          0.5874551396399333,
          1.2033992439142338,
          0.650398722654999,
          4.745733957682616,
          0.22000931706388277,
          1.0303548370083087,
          1.9128552635358742,
          5.324846546528105,
          0.014679273598941032,
          0.12360733923000258,
          0.5634139415615819,
          1.6488966083932814,
          0.017285400004665247,
          1.5541445953438684,
          0.025991015635211688,
          1.142573418260627,
          0.9665700610381588,
          0.9603338382226851,
          1.9919245128584484,
          2.24498967583714,
          1.8348353432400766,
          3.5967827669575585,
          0.29768963943283655,
          0.007323510622613432,
          4.174006668329159,
          0.0022878883156449664,
          3.083244516206605,
          6.840195658043879,
          0.02879403607990549,
          0.12661753011754565,
          1.1676320187547422,
          0.06610123584321556,
          0.11775096131279188,
          0.035761830770499964,
          0.06701504482248968,
          0.344800775079129,
          0.34826838859998566,
          0.05773337258041477,
          0.03142479353206856,
          3.6660090694812477,
          0.00834784167763633,
          0.0796725281383676,
          0.06105240093811898,
          0.0006813451845705649,
          0.7477854022862173,
          0.29002554588539575,
          0.3337900002945423,
          0.32156021783454175,
          0.05382830535862377,
          0.088405021988629,
          0.04215180672872761,
          0.6065370658005017,
          3.423088155935823,
          1.107147898335048,
          0.13330017039976674,
          2.4512819965751573,
          1.7093136884923603,
          0.017771863544168293,
          0.38624734844219805,
          0.44215512673357993,
          0.49978905917613353,
          0.40563788765771225,
          0.98053575077981,
          1.4877134853940812,
          2.6772311767572834,
          0.969219316258461,
          0.04232435506929678,
          0.0010499508413502967,
          0.0770436366884689,
          1.1510737963410562,
          0.05209150394331581,
          0.033668699130056615,
          0.2530451618109358,
          0.1533950404532787,
          0.2744145738211729,
          0.6758301621269529,
          0.45993315893247394,
          2.036976902181137,
          1.3883768588434517,
          1.694571653796326,
          0.13803575419264394,
          0.30966786092256887,
          0.2594114374817174,
          0.2432261445406538,
          0.3959622505723059,
          2.6962027745768493,
          1.0779883593269188,
          1.3862228836925379,
          0.1710465690132965,
          2.0823796456574364,
          1.6477406556667602,
          0.4120661321260335,
          1.1732179003123762,
          0.07722712779682835,
          2.6629783458550254,
          1.0018573984023584,
          0.0291775030113902,
          3.0369827240817875,
          0.010517066189029839,
          0.7511507569701457,
          0.8245516646104247,
          0.16997654359957773,
          0.005891129552761802,
          3.2667945810863115,
          1.571887157701974,
          3.4150633976416174,
          1.0934681033425258,
          0.3888087768526672,
          0.18410559429804998,
          1.9372935093310264,
          0.01672652703400531,
          1.895763469329797,
          0.21723707511770277,
          2.262268957664964,
          0.17287090083874293,
          1.1204655660213656,
          1.3459375536405433,
          0.21771076599643824,
          2.067498605022927,
          0.06596875494245966,
          0.2985510482453649,
          0.237823453776858,
          0.7041705210155684,
          0.43956518319047266,
          0.10617456718374181,
          1.4265130404975452,
          2.667313791173318,
          1.3136827317861228,
          0.08979979235868295,
          0.08284837309277877,
          0.0024511060086387973,
          0.5476651579432513,
          0.013560389601110962,
          0.013141029039543303,
          3.180377821412056,
          0.048639212274138956,
          0.0017488582482947143,
          0.2682525218253719,
          3.4996023574091364,
          2.9355345934294466,
          0.32271638715585593,
          0.8157295631509495,
          1.5559078572665936,
          0.24592382944732077,
          1.934718896744285,
          0.020811304764946695,
          0.5056915420538463,
          2.282077310541854,
          1.5382010487929814,
          3.1705609504563976,
          0.05204757418614139,
          0.08464151571668152,
          3.5020493856485357,
          0.5545975531887497,
          0.5688612508365599,
          0.307304863864374,
          1.6722767675427417,
          1.995850060734009e-05,
          0.4793559590470062,
          1.9364722615092027,
          1.7529479195958468,
          1.6274190382836813,
          2.918847209334848,
          1.1256573580894758,
          0.49672928798838145,
          0.2903327112586038,
          0.34454412706824206,
          0.2454097799407672,
          0.35614886621650366,
          0.020152193699957206,
          1.4147890438651338,
          1.3103179069862902,
          7.109208028663184,
          3.3045683968099833,
          0.2277810387448032,
          0.1928519269672502,
          1.4193415884489733,
          0.001595917773440627,
          0.00634355687498486,
          1.4117338515229698,
          6.357710304278931,
          0.23675159995878167,
          0.16542290000186743,
          0.002163050312196669,
          0.2705593154327411,
          0.5592550099232441,
          1.9784004146865084,
          0.003957052802333967,
          0.9139833813721966,
          4.619793188804429,
          2.0395956501911567,
          0.6279405312506269,
          0.35608632637727583,
          0.03972291094427425,
          0.2545630956587148,
          1.2712248515392037,
          0.46488970359730925,
          9.369116458231797,
          5.905784654715557,
          0.05358903327968225,
          0.048681176731262654,
          0.09565960740986887,
          0.03560412341518503,
          0.09319343471466124,
          0.14721912155664188,
          2.8229280820666283,
          0.2328171643982952,
          0.000529876386847152,
          0.06253179829884738,
          0.6831146097652414,
          3.102397183056822,
          3.2041604835834585,
          0.46578511566799274,
          0.16716599354203343,
          2.0874228310901843,
          0.1488447959616094,
          1.1370229911138263,
          0.30521129715236917,
          0.4286223308081461,
          0.19139616763106523,
          0.516321035043264,
          0.02119833648736549,
          0.44459917149946254,
          0.04631545598740886,
          0.24094235887196705,
          2.756341265780606,
          3.1507318733514964,
          6.50092215291319,
          0.9152383756215148,
          0.222933875504521,
          0.27079629828178653,
          0.10507955540380914,
          1.8291712505748539,
          0.42079036438679296,
          0.7200821347083433,
          0.2839423464888578,
          2.522798065912982,
          0.006161850369202675,
          0.3861995663109075,
          0.212503461514444,
          0.16255807156664465,
          6.635322332972744,
          1.4671697416611933,
          0.006260049002173468,
          0.046323296253568645,
          1.1331522444360218,
          0.2832858454997329,
          1.2435157071866916,
          0.5477146722473979,
          0.21170106675850228,
          0.17031796175990555,
          5.8028625562292415,
          0.8973652796372241,
          0.06723705304167658,
          0.031077819626437478,
          0.04103134385666847,
          0.08778764622073437,
          5.702287233419973,
          0.2652119707596907,
          1.2961711241273375,
          0.06786725558868097,
          0.17586901711300237,
          0.41864719927184985,
          0.02518941629192803,
          0.21930896652882945,
          0.7072917565353823,
          0.31451674736557544,
          0.16202328412117808,
          5.882015392543769,
          0.003365991145275115,
          0.1722899958854802,
          0.041510795411625806,
          0.013740284940630135,
          0.45039442197336194,
          0.31948859770769233,
          0.8089209262345803,
          0.01262371606786435,
          1.2576529099285934,
          0.1958594963085734,
          0.14932744345864188,
          0.0018847404342281918,
          0.028199677300761478,
          0.06860257684786007,
          0.7883007566474072,
          0.027935848616574388,
          0.7962925619726926,
          3.194522076547682,
          1.5149903999708771,
          5.176006023703874,
          1.706535995926705,
          0.016368253393574846,
          0.26802968047491843,
          0.99547542850973,
          0.2220464173504977,
          0.07520489045405697,
          0.9931062913907512,
          0.4607045296452779,
          0.05281306644357686,
          0.014346434072676799,
          0.2019262054905126,
          1.2659738172272936,
          0.012244738472364122,
          0.8961675889279285,
          0.37729575247812247,
          0.02666280389666252,
          3.293521725006616,
          0.08465770020401817,
          1.0351010136559742,
          0.06567100296182884,
          0.24906669794407896,
          0.1623657476615419,
          0.022325792111033145,
          4.384340827321878,
          0.11503758105547351,
          0.14994921351724474,
          0.000395151690632437,
          5.742978239772482,
          1.156658237096727,
          1.7198510107074214,
          0.09759935263047373,
          0.036920004054161105,
          2.5552225560310404,
          0.3882714084242131,
          0.3251349684163801,
          0.16767219389661187,
          0.2188983606785493,
          3.4641407651962433,
          0.17730895919907844,
          0.6530101444100397,
          0.7260154330418522,
          0.7100200635244955,
          0.10795034052444467,
          0.027566933047111268,
          1.3747565413648293,
          0.49552956725620934,
          3.632997816115866,
          0.5136383643767981,
          0.014454929384852672,
          0.196398017162532,
          0.7828162285860542,
          0.00021036567734926038,
          2.7994209795099367,
          0.00020689373859768986,
          0.8649974724667041,
          1.718796797298638,
          5.165223047808898,
          1.3236716666439545,
          0.7666929813021928,
          1.843228359033152,
          0.12118824120224428,
          0.00018612622479163645,
          0.7510977722897655,
          2.831720740033222,
          0.043880869864560856,
          0.40106637597166594,
          0.017004624439536712,
          2.8800723705708617,
          1.0828678422148292,
          0.5647395012082965,
          0.15494562262810868,
          0.009465857640364124,
          0.04646470381829594,
          1.3158727091622964,
          0.06982566407870709,
          1.9963730349613662,
          1.204384379755664,
          0.0018592185200886578,
          0.019441687102692087,
          0.9328209165707282,
          0.9479085664954032,
          4.099653675120987,
          0.44969227899850567,
          1.0841232764045379,
          1.8439865360914656,
          2.8089131466477335,
          0.69184989201526,
          2.822734521966064,
          0.8517159215475865,
          0.3285645091932044,
          0.3253344823202851,
          0.2693968309583605,
          0.05298306448648283,
          0.05373841122713277,
          4.496370093876034,
          0.5751242592251482,
          0.24134940873155272,
          2.184512356678516,
          0.10765853424369828,
          0.03785629071062426,
          2.35463823255316,
          1.520344298168721,
          2.4868981629650238,
          0.7965763133869603,
          0.5887923232999188,
          0.6956423145575945,
          0.33512651558649514,
          4.724278137704474,
          2.0790564026097913,
          0.4627463889177516,
          0.5191021465595156,
          0.06998674299926261,
          0.6669826708247912,
          0.2263584817213294,
          0.7969362717193468,
          0.4121871265509067,
          0.1327074242228854,
          0.14261571994415995,
          0.220847748804833,
          5.717021813707815,
          0.9992957026130402,
          1.373448993959589,
          0.337816986056762,
          0.2676830011677497,
          0.37034181029363106,
          0.0034535738352099135,
          0.0462008465794367,
          0.12720514469416092,
          2.38441785445907,
          2.329702706637751,
          1.2730393609725352,
          0.025286400262972082,
          2.8247331746555258,
          0.2410675853646511,
          0.9866216317186626,
          1.9809817790263289,
          3.8753433803004627,
          1.4751981440197859,
          0.6108393540113292,
          0.028232242199979125,
          0.18228259079185638,
          0.0009144928860504998,
          0.14783568733034286,
          1.2888307412824223,
          3.709325659180924e-05,
          0.27845454497110794,
          1.2465771612379557,
          0.022119918157199922,
          7.902463813889645,
          0.05795087803174254,
          0.06823272038207065,
          2.6377087620653192,
          0.0014954084517726507,
          0.35734611594831034,
          1.0150277220032127,
          0.5219372174949845,
          1.000835527221999,
          1.096136776658365,
          0.14830561962428632,
          3.148188082349439,
          0.48874063254614564,
          0.9831840870712345,
          0.18737650536963427,
          2.292180601507917,
          0.7904288418021125,
          0.29691264083913205,
          0.4387009437941749,
          0.6286680129531952,
          0.153499261774419,
          0.027406076478955738,
          0.1308055819758959,
          0.5567602544799767,
          0.7515008456584811,
          0.18165309556585196,
          0.15009320924759215,
          3.688563220405689,
          0.551003474722923,
          0.10846358347462415,
          0.002475184856946521,
          6.517640133001141,
          0.47398231876599733,
          0.16847472134337718,
          1.4889256412561436,
          0.7065789897304865,
          1.5243092211068254,
          2.16129241517408,
          1.4834984862847755,
          0.09435489213252031,
          0.48326154851337527,
          1.7501676124500896,
          7.24320446056667,
          0.042763440012876235,
          4.584699853880477,
          0.2709619400505826,
          1.2784387694886445,
          0.10353431103094957,
          0.013614698765391682,
          4.0767299145061155,
          0.01923527490762969,
          2.737398872458467,
          0.27011891127406024,
          1.9421453360571281,
          0.041691861945637246,
          0.21296498037753905,
          1.1800896390325148,
          2.576198165279103,
          0.18792410243650934,
          0.2660307100957683,
          0.7912843183394555,
          2.047082844548392,
          4.186248796891642,
          1.5866211354283293,
          0.33887130980868985,
          0.7791574490830384,
          0.1691540837731352,
          0.5988665765927558,
          0.27546776657634303,
          0.2272530207446985,
          1.033603687217115,
          1.9111651499995959,
          0.6925173671762221,
          0.9747756719779772,
          0.2803325313585991,
          0.6308405324253346,
          0.8007007532317704,
          0.1145487726844969,
          1.1374896161576846,
          0.00033615075574785596,
          0.16423135414263737,
          0.05647844880804881,
          0.6003546823316694,
          3.1360369656320226,
          0.6441525208700629,
          3.093364428296922,
          0.7525701363659522,
          0.28592321253753344,
          0.8200350906187477,
          1.482802005521061,
          1.198308199641916,
          0.9606319902565268,
          0.03735445786250204,
          1.9702384705752185,
          0.0001935031841929614,
          0.12691753466252945,
          1.1678624286719559,
          0.07604836045653388,
          0.04345301084095009,
          2.020940071760593,
          0.003339082454318036,
          0.08459683295703291,
          0.011022033410384234,
          0.760108509155061,
          1.0308685360671122,
          0.3819642837636669,
          1.2976397543121958,
          0.08475920830396354,
          0.007211336510967901,
          0.0013962354559016491,
          1.4711907751095032,
          0.919822824374144,
          1.026769128874043,
          5.275875848990509,
          0.013834074177054928,
          0.3064771141611208,
          1.601057506627598,
          4.975111724946706,
          0.16168394337376527,
          0.02761359816416955,
          0.1343776320244292,
          0.16930007729045027,
          0.6837185261319032,
          0.9040958602890983,
          1.359341610052671,
          0.25260625723020447,
          2.11862456366424,
          0.025217468281504923,
          3.048647838729174,
          0.4256141914639317,
          2.0135717188094993,
          0.3055844997968123,
          0.42937849497171615,
          0.030452460898116485,
          0.11181518770863887,
          0.08890556381935841,
          0.572802245803158,
          1.4672317110045374,
          0.023822744780711357,
          1.3166953986469927,
          4.137920150721894,
          0.00024188946397475606,
          1.0609960801855876,
          0.3629064824245813,
          2.217499315821199,
          0.42090858870379927,
          0.19999445831696194,
          0.06649108182190222,
          0.007838657324921058,
          0.5846220725637685,
          0.2911859738963516,
          5.140409641534979,
          0.014841688645756855,
          0.07926477205086455,
          3.485028804719067,
          0.6700718143515875,
          2.822549548840683,
          0.8378303146133288,
          0.925560600232822,
          1.672493040901271,
          0.1449059568464131,
          0.03692982562670456,
          3.7340427998990173,
          0.8016836083893012,
          0.5845202331086964,
          0.00044001400779454465,
          1.2878793981453431,
          1.8358588760349417,
          0.06911526514480745,
          0.7651913053962895,
          0.5895270110943515,
          0.6252144737209467,
          0.0831265503202721,
          0.452789801859455,
          1.1265477316417585,
          0.5814955181594423,
          0.03520323293628544,
          0.5391193221440084,
          0.1912963512537743,
          1.9546779147989488,
          0.7935305293067899,
          3.236579892998089,
          0.2204247647202334,
          0.24079840113058557,
          0.0027352291010869995,
          0.3111134331515333,
          0.024310603391395638,
          0.018066653673527784,
          2.977625590078904,
          1.735473279151948,
          2.193704719424771,
          0.02546404393352783,
          0.25764013576071876,
          0.10700817034659806,
          0.19474953163509226,
          0.6842166744056472,
          0.0035774324671053485,
          1.566750824453146,
          0.013367596065877915,
          7.696568906671802,
          1.4259428400114509,
          0.08914014458196323,
          2.468129345133019,
          0.7590618544757477,
          0.7715038712780302,
          6.658952580549601,
          1.6794739962765382,
          0.6440055948873413,
          3.2257077725424645,
          0.054291441193610956,
          0.017402232514495748,
          0.9757876930830156,
          2.589045710550228,
          0.20297642436087818,
          0.004730725096191419,
          0.06774365638032696,
          0.2688439058958241,
          0.18902581789442977,
          3.370636533687784,
          0.5393036789585397,
          0.8767944357479317,
          3.3450934906344947,
          1.693427807460998,
          0.31101052042570365,
          2.934201191878007,
          0.12494893509636587,
          2.6692641554896275,
          3.039269413721668,
          0.7453280199725895,
          0.3298498689613016,
          2.816378371838392,
          0.473240032575548,
          0.701178644610502,
          2.973488610318313,
          0.5169628561836684,
          1.8903069035599125,
          2.2753680706477275,
          1.5775128234647975,
          0.0007968020489009498,
          0.5177807285908609,
          0.19649262269356027,
          0.0018086946902722205,
          1.4123007031599248,
          0.5322859203189366,
          0.17640542465608602,
          0.05757626594869127,
          1.3956015819805034,
          0.39382628427740635,
          0.8517877890024429,
          0.9829330497416217,
          1.5144132693110666,
          4.4766698832772756,
          0.001048547740949335,
          2.25451299297218,
          1.2948050174464765,
          0.5057399745290978,
          0.06204545196302546,
          0.2851744435334792,
          0.033541585149012926,
          0.070830123199641,
          0.04158413061855665,
          1.3953842362202817,
          0.21815325873881727,
          2.2512120169489678,
          3.5168132954420184,
          1.3688464490055083,
          0.5773843731925704,
          0.5953548082010323,
          3.7475008677319757,
          1.967041023284636,
          0.21274672708898246,
          0.0552038785206627,
          0.14760221320172814,
          0.4149757724450292,
          3.570202255604005,
          0.05222488921325739,
          0.8534538892635145,
          0.5550562742472985,
          0.026634721140707553,
          0.0033814083718286727,
          1.307921988163668,
          0.3885443394295027,
          5.903374946584558,
          0.13304632910021688,
          0.044929350986191045,
          1.9645891642038178,
          0.08103929665701944,
          0.00016718983713915174,
          0.2016824644168978,
          0.17018684988691515,
          0.3732088782606763,
          0.0005241462807906978,
          0.11862863798913277,
          0.6938034708876301,
          0.07256366148292301,
          8.038729523362298,
          0.6110449465744608,
          0.0008020457633481805,
          0.013208690582956784,
          0.2334178035636262,
          0.1917438636989715,
          0.0014583182535965506,
          2.4883273097580743,
          0.2814985312723081,
          1.1538432341152494,
          0.0012017570551997084,
          0.40483849361279034,
          0.004152963758588801,
          0.023893752501043357,
          0.5605137313770686,
          0.8429766189134345,
          0.3016705640089716,
          0.03498152090826702,
          0.43517790486274804,
          3.452582211194106,
          0.7011509603186072,
          0.9533260455897234,
          0.7439749580930635,
          0.061678037701475945,
          0.29530181161044766,
          0.014116758864250485,
          0.036496265213178974,
          1.468602353799463,
          0.9004306279697242,
          0.0918352343420103,
          0.18033241683764242,
          0.013895948429594282,
          0.4562904629297987,
          0.42100195184418504,
          0.2389024763608035,
          0.6950172075311009,
          1.3573951045797923,
          0.060252520492408985,
          0.1640515286441231,
          0.012546861446519203,
          0.007704436243868205,
          0.4262153486492818,
          0.19175517731266442,
          0.1929953229748726,
          0.11265962135071644,
          0.13700789824227444,
          0.10944487581643718,
          0.25827661526952145,
          0.05549924838883874,
          0.02527813783202132,
          0.006292836624459514,
          0.009109034512819992,
          0.13508214434833854,
          0.3100492109253796,
          0.9794704394131623,
          0.272450013601935,
          0.2108949027933648,
          0.19144816399328193,
          0.6370852571968721,
          1.087102394473455,
          1.0051711183346792,
          0.819644039358886,
          0.1289522920841064,
          1.9372515703293158,
          0.9370847500506697,
          1.548420352512597,
          1.1197823973492573,
          0.4858304703519747,
          1.4543840409674544,
          1.8965296605143174,
          0.08277323244017604,
          0.12019314394882967,
          1.5185018300880595,
          0.4717428710093448,
          0.4026714718449029,
          0.08378371678035573,
          1.5271817481248167,
          0.03979153619285548,
          0.18681235853207073,
          0.5677342337134227,
          0.20847042606890062,
          0.15076779732523435,
          1.6525959517264643,
          0.6050161542787952,
          5.0989496606007245,
          1.4032147155961225,
          0.4483046479511426,
          0.005599251272240369,
          2.361967704201856,
          0.23460106318096263,
          0.31511183176730406,
          0.4197421352736681,
          0.14667804645011173,
          0.6516742945150709,
          0.2665278347335064,
          0.8812442755594885,
          0.2269650976871275,
          0.0028209167952731123,
          0.5084081381682475,
          0.042543265868145254,
          0.0013818104933758354,
          2.905184110291877,
          0.0032279944045633634,
          0.0007492189125729176,
          1.484421370863016,
          0.7278076991857515,
          0.03297243680243104,
          0.1365733135931034,
          0.042501744888989855,
          0.0830265938355001,
          0.9701630884836071,
          2.137424766979748,
          1.5718943357037047,
          0.38055961830498347,
          0.2609831933036154,
          0.32654388085335573,
          0.26632315182592026,
          2.619536171043624,
          4.0538313622931765,
          1.4133784418066135,
          0.35869166692354804,
          0.6754234938418774,
          0.011450004202841929,
          1.4882999642824153,
          0.2124498000511143,
          1.1706466754049998,
          0.5494272807317376,
          0.9347378476969596,
          0.8597673792038185,
          1.7813303763572474,
          0.5886885365273147,
          1.3881045489409156,
          0.08311268843232222,
          0.09912431304716768,
          0.5300667435446202,
          0.3655314667686166,
          0.9614033578752396,
          0.7802899290542832,
          0.84317781711054,
          0.8341130585921853,
          0.06525091698690266,
          2.000909338991965,
          0.1669494302205839,
          1.532212872323708,
          0.21116503486886953,
          0.026567003681598325,
          1.2080268882152623,
          0.2589204363518904,
          0.5998218255869945,
          1.090735473850244,
          0.23007157540051545,
          1.2627780332276752,
          0.23897230980528145,
          3.268855445792009,
          0.8922158748481103,
          0.9124953631585276,
          0.4189607125637705,
          2.520279685081395,
          0.683593936889666,
          1.7851370842910523,
          2.0091521903238354e-05,
          0.9230493983887682,
          0.11933678130903987,
          0.7501532137134989,
          0.058192472412272,
          0.14406819568920362,
          1.144082083668842,
          2.055256410474599,
          0.3074497235852136,
          1.7635356268051037,
          0.22595824743403445,
          0.16268974902462818,
          0.00019869780183630253,
          0.2012891900887195,
          0.019015866285928554,
          0.18901127552722977,
          0.0029237173332389474,
          0.1406017545917423,
          0.14485655018510094,
          3.078202294578325,
          0.5856597241274427,
          3.335394627824077,
          0.009427597188659504,
          0.4915622664561953,
          1.4398640221277073,
          0.402236980345194,
          1.4719305652645336,
          0.5607057529260037,
          0.015234960378994664,
          0.22701889073243986,
          0.29471702368088,
          2.5828218260753966,
          0.37647547057761593,
          3.475415313625443,
          1.1837641937774401,
          0.0058191706952192696,
          1.0573454598975094,
          0.0035510063974410065,
          1.4593619773408342,
          0.20086808623359406,
          1.0902426160789223,
          0.21310158813008692,
          0.01702709497508268,
          0.144385392338287,
          0.27686542330998354,
          3.3195409252579893,
          1.6649294578726042,
          0.8083602130645077,
          0.6642219183511857,
          0.6403518330820993,
          0.2636656389148592,
          0.2761203333318673,
          0.49162590732405703,
          0.0866624853077484,
          1.2723008268718636,
          2.525781545530912,
          0.002743403755681225,
          0.002562602838836409,
          0.017701684105161444,
          0.18358167834991834,
          0.0180479197898492,
          0.5853710659907175,
          0.712984634949909,
          0.3597083943973546,
          0.10735134426263311,
          0.6167546307388836,
          0.2633224146578017,
          0.010054376678474695,
          1.0331866692402516,
          1.5797383361794632e-06,
          0.11618144608434992,
          0.4269162692075274,
          0.14393157069443496,
          0.02898169038107816,
          0.20018193888942384,
          0.31406982332612965,
          0.041973556109118494,
          0.12409827814648758,
          0.351026316289463,
          7.163697735023568,
          0.25045267714573094
         ]
        }
       ],
       "layout": {
        "autosize": true,
        "template": {
         "data": {
          "bar": [
           {
            "error_x": {
             "color": "#2a3f5f"
            },
            "error_y": {
             "color": "#2a3f5f"
            },
            "marker": {
             "line": {
              "color": "#E5ECF6",
              "width": 0.5
             },
             "pattern": {
              "fillmode": "overlay",
              "size": 10,
              "solidity": 0.2
             }
            },
            "type": "bar"
           }
          ],
          "barpolar": [
           {
            "marker": {
             "line": {
              "color": "#E5ECF6",
              "width": 0.5
             },
             "pattern": {
              "fillmode": "overlay",
              "size": 10,
              "solidity": 0.2
             }
            },
            "type": "barpolar"
           }
          ],
          "carpet": [
           {
            "aaxis": {
             "endlinecolor": "#2a3f5f",
             "gridcolor": "white",
             "linecolor": "white",
             "minorgridcolor": "white",
             "startlinecolor": "#2a3f5f"
            },
            "baxis": {
             "endlinecolor": "#2a3f5f",
             "gridcolor": "white",
             "linecolor": "white",
             "minorgridcolor": "white",
             "startlinecolor": "#2a3f5f"
            },
            "type": "carpet"
           }
          ],
          "choropleth": [
           {
            "colorbar": {
             "outlinewidth": 0,
             "ticks": ""
            },
            "type": "choropleth"
           }
          ],
          "contour": [
           {
            "colorbar": {
             "outlinewidth": 0,
             "ticks": ""
            },
            "colorscale": [
             [
              0,
              "#0d0887"
             ],
             [
              0.1111111111111111,
              "#46039f"
             ],
             [
              0.2222222222222222,
              "#7201a8"
             ],
             [
              0.3333333333333333,
              "#9c179e"
             ],
             [
              0.4444444444444444,
              "#bd3786"
             ],
             [
              0.5555555555555556,
              "#d8576b"
             ],
             [
              0.6666666666666666,
              "#ed7953"
             ],
             [
              0.7777777777777778,
              "#fb9f3a"
             ],
             [
              0.8888888888888888,
              "#fdca26"
             ],
             [
              1,
              "#f0f921"
             ]
            ],
            "type": "contour"
           }
          ],
          "contourcarpet": [
           {
            "colorbar": {
             "outlinewidth": 0,
             "ticks": ""
            },
            "type": "contourcarpet"
           }
          ],
          "heatmap": [
           {
            "colorbar": {
             "outlinewidth": 0,
             "ticks": ""
            },
            "colorscale": [
             [
              0,
              "#0d0887"
             ],
             [
              0.1111111111111111,
              "#46039f"
             ],
             [
              0.2222222222222222,
              "#7201a8"
             ],
             [
              0.3333333333333333,
              "#9c179e"
             ],
             [
              0.4444444444444444,
              "#bd3786"
             ],
             [
              0.5555555555555556,
              "#d8576b"
             ],
             [
              0.6666666666666666,
              "#ed7953"
             ],
             [
              0.7777777777777778,
              "#fb9f3a"
             ],
             [
              0.8888888888888888,
              "#fdca26"
             ],
             [
              1,
              "#f0f921"
             ]
            ],
            "type": "heatmap"
           }
          ],
          "heatmapgl": [
           {
            "colorbar": {
             "outlinewidth": 0,
             "ticks": ""
            },
            "colorscale": [
             [
              0,
              "#0d0887"
             ],
             [
              0.1111111111111111,
              "#46039f"
             ],
             [
              0.2222222222222222,
              "#7201a8"
             ],
             [
              0.3333333333333333,
              "#9c179e"
             ],
             [
              0.4444444444444444,
              "#bd3786"
             ],
             [
              0.5555555555555556,
              "#d8576b"
             ],
             [
              0.6666666666666666,
              "#ed7953"
             ],
             [
              0.7777777777777778,
              "#fb9f3a"
             ],
             [
              0.8888888888888888,
              "#fdca26"
             ],
             [
              1,
              "#f0f921"
             ]
            ],
            "type": "heatmapgl"
           }
          ],
          "histogram": [
           {
            "marker": {
             "pattern": {
              "fillmode": "overlay",
              "size": 10,
              "solidity": 0.2
             }
            },
            "type": "histogram"
           }
          ],
          "histogram2d": [
           {
            "colorbar": {
             "outlinewidth": 0,
             "ticks": ""
            },
            "colorscale": [
             [
              0,
              "#0d0887"
             ],
             [
              0.1111111111111111,
              "#46039f"
             ],
             [
              0.2222222222222222,
              "#7201a8"
             ],
             [
              0.3333333333333333,
              "#9c179e"
             ],
             [
              0.4444444444444444,
              "#bd3786"
             ],
             [
              0.5555555555555556,
              "#d8576b"
             ],
             [
              0.6666666666666666,
              "#ed7953"
             ],
             [
              0.7777777777777778,
              "#fb9f3a"
             ],
             [
              0.8888888888888888,
              "#fdca26"
             ],
             [
              1,
              "#f0f921"
             ]
            ],
            "type": "histogram2d"
           }
          ],
          "histogram2dcontour": [
           {
            "colorbar": {
             "outlinewidth": 0,
             "ticks": ""
            },
            "colorscale": [
             [
              0,
              "#0d0887"
             ],
             [
              0.1111111111111111,
              "#46039f"
             ],
             [
              0.2222222222222222,
              "#7201a8"
             ],
             [
              0.3333333333333333,
              "#9c179e"
             ],
             [
              0.4444444444444444,
              "#bd3786"
             ],
             [
              0.5555555555555556,
              "#d8576b"
             ],
             [
              0.6666666666666666,
              "#ed7953"
             ],
             [
              0.7777777777777778,
              "#fb9f3a"
             ],
             [
              0.8888888888888888,
              "#fdca26"
             ],
             [
              1,
              "#f0f921"
             ]
            ],
            "type": "histogram2dcontour"
           }
          ],
          "mesh3d": [
           {
            "colorbar": {
             "outlinewidth": 0,
             "ticks": ""
            },
            "type": "mesh3d"
           }
          ],
          "parcoords": [
           {
            "line": {
             "colorbar": {
              "outlinewidth": 0,
              "ticks": ""
             }
            },
            "type": "parcoords"
           }
          ],
          "pie": [
           {
            "automargin": true,
            "type": "pie"
           }
          ],
          "scatter": [
           {
            "fillpattern": {
             "fillmode": "overlay",
             "size": 10,
             "solidity": 0.2
            },
            "type": "scatter"
           }
          ],
          "scatter3d": [
           {
            "line": {
             "colorbar": {
              "outlinewidth": 0,
              "ticks": ""
             }
            },
            "marker": {
             "colorbar": {
              "outlinewidth": 0,
              "ticks": ""
             }
            },
            "type": "scatter3d"
           }
          ],
          "scattercarpet": [
           {
            "marker": {
             "colorbar": {
              "outlinewidth": 0,
              "ticks": ""
             }
            },
            "type": "scattercarpet"
           }
          ],
          "scattergeo": [
           {
            "marker": {
             "colorbar": {
              "outlinewidth": 0,
              "ticks": ""
             }
            },
            "type": "scattergeo"
           }
          ],
          "scattergl": [
           {
            "marker": {
             "colorbar": {
              "outlinewidth": 0,
              "ticks": ""
             }
            },
            "type": "scattergl"
           }
          ],
          "scattermapbox": [
           {
            "marker": {
             "colorbar": {
              "outlinewidth": 0,
              "ticks": ""
             }
            },
            "type": "scattermapbox"
           }
          ],
          "scatterpolar": [
           {
            "marker": {
             "colorbar": {
              "outlinewidth": 0,
              "ticks": ""
             }
            },
            "type": "scatterpolar"
           }
          ],
          "scatterpolargl": [
           {
            "marker": {
             "colorbar": {
              "outlinewidth": 0,
              "ticks": ""
             }
            },
            "type": "scatterpolargl"
           }
          ],
          "scatterternary": [
           {
            "marker": {
             "colorbar": {
              "outlinewidth": 0,
              "ticks": ""
             }
            },
            "type": "scatterternary"
           }
          ],
          "surface": [
           {
            "colorbar": {
             "outlinewidth": 0,
             "ticks": ""
            },
            "colorscale": [
             [
              0,
              "#0d0887"
             ],
             [
              0.1111111111111111,
              "#46039f"
             ],
             [
              0.2222222222222222,
              "#7201a8"
             ],
             [
              0.3333333333333333,
              "#9c179e"
             ],
             [
              0.4444444444444444,
              "#bd3786"
             ],
             [
              0.5555555555555556,
              "#d8576b"
             ],
             [
              0.6666666666666666,
              "#ed7953"
             ],
             [
              0.7777777777777778,
              "#fb9f3a"
             ],
             [
              0.8888888888888888,
              "#fdca26"
             ],
             [
              1,
              "#f0f921"
             ]
            ],
            "type": "surface"
           }
          ],
          "table": [
           {
            "cells": {
             "fill": {
              "color": "#EBF0F8"
             },
             "line": {
              "color": "white"
             }
            },
            "header": {
             "fill": {
              "color": "#C8D4E3"
             },
             "line": {
              "color": "white"
             }
            },
            "type": "table"
           }
          ]
         },
         "layout": {
          "annotationdefaults": {
           "arrowcolor": "#2a3f5f",
           "arrowhead": 0,
           "arrowwidth": 1
          },
          "autotypenumbers": "strict",
          "coloraxis": {
           "colorbar": {
            "outlinewidth": 0,
            "ticks": ""
           }
          },
          "colorscale": {
           "diverging": [
            [
             0,
             "#8e0152"
            ],
            [
             0.1,
             "#c51b7d"
            ],
            [
             0.2,
             "#de77ae"
            ],
            [
             0.3,
             "#f1b6da"
            ],
            [
             0.4,
             "#fde0ef"
            ],
            [
             0.5,
             "#f7f7f7"
            ],
            [
             0.6,
             "#e6f5d0"
            ],
            [
             0.7,
             "#b8e186"
            ],
            [
             0.8,
             "#7fbc41"
            ],
            [
             0.9,
             "#4d9221"
            ],
            [
             1,
             "#276419"
            ]
           ],
           "sequential": [
            [
             0,
             "#0d0887"
            ],
            [
             0.1111111111111111,
             "#46039f"
            ],
            [
             0.2222222222222222,
             "#7201a8"
            ],
            [
             0.3333333333333333,
             "#9c179e"
            ],
            [
             0.4444444444444444,
             "#bd3786"
            ],
            [
             0.5555555555555556,
             "#d8576b"
            ],
            [
             0.6666666666666666,
             "#ed7953"
            ],
            [
             0.7777777777777778,
             "#fb9f3a"
            ],
            [
             0.8888888888888888,
             "#fdca26"
            ],
            [
             1,
             "#f0f921"
            ]
           ],
           "sequentialminus": [
            [
             0,
             "#0d0887"
            ],
            [
             0.1111111111111111,
             "#46039f"
            ],
            [
             0.2222222222222222,
             "#7201a8"
            ],
            [
             0.3333333333333333,
             "#9c179e"
            ],
            [
             0.4444444444444444,
             "#bd3786"
            ],
            [
             0.5555555555555556,
             "#d8576b"
            ],
            [
             0.6666666666666666,
             "#ed7953"
            ],
            [
             0.7777777777777778,
             "#fb9f3a"
            ],
            [
             0.8888888888888888,
             "#fdca26"
            ],
            [
             1,
             "#f0f921"
            ]
           ]
          },
          "colorway": [
           "#636efa",
           "#EF553B",
           "#00cc96",
           "#ab63fa",
           "#FFA15A",
           "#19d3f3",
           "#FF6692",
           "#B6E880",
           "#FF97FF",
           "#FECB52"
          ],
          "font": {
           "color": "#2a3f5f"
          },
          "geo": {
           "bgcolor": "white",
           "lakecolor": "white",
           "landcolor": "#E5ECF6",
           "showlakes": true,
           "showland": true,
           "subunitcolor": "white"
          },
          "hoverlabel": {
           "align": "left"
          },
          "hovermode": "closest",
          "mapbox": {
           "style": "light"
          },
          "paper_bgcolor": "white",
          "plot_bgcolor": "#E5ECF6",
          "polar": {
           "angularaxis": {
            "gridcolor": "white",
            "linecolor": "white",
            "ticks": ""
           },
           "bgcolor": "#E5ECF6",
           "radialaxis": {
            "gridcolor": "white",
            "linecolor": "white",
            "ticks": ""
           }
          },
          "scene": {
           "xaxis": {
            "backgroundcolor": "#E5ECF6",
            "gridcolor": "white",
            "gridwidth": 2,
            "linecolor": "white",
            "showbackground": true,
            "ticks": "",
            "zerolinecolor": "white"
           },
           "yaxis": {
            "backgroundcolor": "#E5ECF6",
            "gridcolor": "white",
            "gridwidth": 2,
            "linecolor": "white",
            "showbackground": true,
            "ticks": "",
            "zerolinecolor": "white"
           },
           "zaxis": {
            "backgroundcolor": "#E5ECF6",
            "gridcolor": "white",
            "gridwidth": 2,
            "linecolor": "white",
            "showbackground": true,
            "ticks": "",
            "zerolinecolor": "white"
           }
          },
          "shapedefaults": {
           "line": {
            "color": "#2a3f5f"
           }
          },
          "ternary": {
           "aaxis": {
            "gridcolor": "white",
            "linecolor": "white",
            "ticks": ""
           },
           "baxis": {
            "gridcolor": "white",
            "linecolor": "white",
            "ticks": ""
           },
           "bgcolor": "#E5ECF6",
           "caxis": {
            "gridcolor": "white",
            "linecolor": "white",
            "ticks": ""
           }
          },
          "title": {
           "x": 0.05
          },
          "xaxis": {
           "automargin": true,
           "gridcolor": "white",
           "linecolor": "white",
           "ticks": "",
           "title": {
            "standoff": 15
           },
           "zerolinecolor": "white",
           "zerolinewidth": 2
          },
          "yaxis": {
           "automargin": true,
           "gridcolor": "white",
           "linecolor": "white",
           "ticks": "",
           "title": {
            "standoff": 15
           },
           "zerolinecolor": "white",
           "zerolinewidth": 2
          }
         }
        },
        "xaxis": {
         "autorange": true,
         "range": [
          -3.746078512628377,
          12.114633707708625
         ],
         "type": "linear"
        },
        "yaxis": {
         "autorange": true,
         "range": [
          -4.5480241283917175,
          12.404633800674713
         ],
         "type": "linear"
        }
       }
      },
      "image/png": "[encoded data removed]",
      "text/html": [
       "<div>                            <div id=\"f3eb51f1-2952-467f-8e2a-71af0f16140a\" class=\"plotly-graph-div\" style=\"height:525px; width:100%;\"></div>            <script type=\"text/javascript\">                require([\"plotly\"], function(Plotly) {                    window.PLOTLYENV=window.PLOTLYENV || {};                                    if (document.getElementById(\"f3eb51f1-2952-467f-8e2a-71af0f16140a\")) {                    Plotly.newPlot(                        \"f3eb51f1-2952-467f-8e2a-71af0f16140a\",                        [{\"mode\":\"markers\",\"x\":[0.672834648044392,0.5885203263529375,-0.38866754553005783,0.18363407555807199,0.5134642926449922,0.03663438925898972,-0.7279965465202716,0.4592149353389571,-2.20965299761383,0.33466301371174084,0.7467084194983864,-0.9687877294794983,-0.6060381433635219,-0.47669453722068,-1.839835771142757,1.398711946050099,0.27395587104207286,-1.7908779718368475,2.0877675884550944,-0.05828470741297726,2.255253804614067,1.05513446131379,-0.22171589586027732,0.38871200494326685,0.2552839850877083,0.42960802471726495,-0.8337242574517401,-0.7664562216069052,1.0969955532791524,0.8064730142137423,2.1784705546971748,-0.46905150790065986,-1.0150639571023634,1.3830601084319778,2.3075629019656443,-0.12115805214240212,0.3515783543251811,-0.7506090470821557,1.2840936914389391,0.13147395181048316,-1.2466533581328325,-0.16121729322629036,-1.0689122593836349,-0.9831429504594735,-0.9799662434097846,-1.411355558623853,1.49832896115544,1.354560941131877,1.8965185912501776,-0.5456094202200293,0.08557751236518524,-2.043038587087664,0.04783187551878942,1.755917001514196,-2.6153767717183465,0.16968805520691635,0.3558335708130216,1.080570228515825,-0.257101606068915,0.3431485994620871,0.18910798706162563,-0.25887264208967636,0.5871973902182545,-0.5901426849499921,0.24027769888280262,-0.17727039666021105,-1.9146824983482895,0.09136652383469741,0.2822632249131431,0.24708784053068855,0.02610258961426174,0.8647458599416462,-0.5385401989502694,0.5777456190180436,0.5670627988455439,-0.23200927860459325,0.2973298202142345,0.20530905174572214,0.7788048958503675,-1.850158954234966,-1.052210957144549,0.36510295862916087,-1.5656570494764035,1.3074072389628109,-0.13331115311243952,0.6214880115031971,-0.6649474616340602,0.7069576077645204,0.6368970777588104,-0.9902200516954855,-1.2197186091037888,-1.6362246718459184,0.9844893682810704,-0.2057288386913628,-0.03240294494872799,-0.2775673552283642,1.072881072785356,-0.22823563250140372,-0.18349032434996843,-0.5030359448498047,-0.39165678910658336,-0.5238459447406011,-0.8220889015957781,0.6781837206336303,-1.4272269974258254,1.1782940460018678,-1.30175714086627,-0.3715316328290822,-0.5564780866508302,-0.5093244913429134,-0.4931796270535248,-0.6292553142980247,1.6420118070759568,1.0382621823638376,1.1773796684555657,-0.4135777665848305,-1.443045268055523,1.283643508014106,0.6419237743891665,-1.0831518362225936,0.2778976930397738,1.6318634580917073,-1.000928268360105,-0.17081423538859458,1.7426940993994866,-0.10255274832509287,-0.8666895389758351,-0.9080482721807386,-0.41228211651680663,0.07675369406590019,1.8074276143420824,1.2537492403594803,1.8479890144807727,-1.0456902521026605,0.6235453286270912,0.4290752781250045,1.3918669150931875,-0.12933107528357332,1.3768672664167003,0.46608698235168805,-1.5040840926174852,0.41577746552542133,-1.058520460842097,-1.1601454881352353,-0.46659486280545165,-1.4378798993737019,-0.2568438337637477,0.5463982505877603,0.4876714609005309,0.8391486882642244,-0.662997121555194,-0.325844391057667,1.1943672134220469,-1.6331912904412997,1.1461599939738443,-0.2996661348212089,-0.2878339331850551,-0.04950864579685853,0.7400440243277769,-0.11644908587494777,-0.11463432749200085,-1.7833613827298314,-0.22054299416245113,0.04181935255709627,-0.5179310010275229,1.87072241591561,-1.7133401861362636,0.5680813209003232,0.9031774815344709,-1.2473603558180746,0.49590707743217455,1.3909417301757414,-0.14426123791561854,-0.7111199210075937,-1.5106545967036455,1.240242334704384,1.7806069050906204,0.22813937447565116,-0.29093214967872066,1.8713763345860008,-0.7447130676903352,-0.754228911429786,0.5543508490697692,1.2931654061034659,0.004467493772501546,-0.6923553704904774,-1.3915718671736659,-1.3239893955752995,-1.2757033504242596,-1.708463405910366,1.0609700081008302,0.7047902439650974,-0.5388253068097338,0.5869788131340364,-0.49538851413892027,0.5967820927411476,0.1419584224340254,1.1894490505545556,1.144691184113117,2.666309814830824,-1.8178471874197741,0.4772641184342305,0.43914909423480564,1.1913612334002535,-0.03994893957842469,-0.07964644923023788,-1.1881640675946104,2.521450040012479,0.48657126914644444,-0.4067221410273449,-0.04650860471135066,0.5201531653587634,-0.7478335442618524,-1.4065562252133785,-0.06290510950895775,0.9560247807312301,-2.149370416844065,1.428144127947581,-0.7924269879620626,0.5967296928905715,-0.19930607352580665,0.5045424617004151,1.1274860759846232,0.6818282068067507,3.060901249343369,2.430182020902047,0.23149305233566353,-0.22063811259903093,0.3092888737246603,0.18869054935312746,-0.30527599760652857,0.3836914405569166,1.6801571599307692,0.48251131012474224,0.023019044003762448,-0.2500635885106974,0.826507477138133,-1.7613623088555126,-1.7900168947759847,0.6824845167972624,-0.4088593811349245,1.4447916220307289,0.38580409013074163,1.066312801720877,0.5524593171921071,-0.6546925467791321,-0.43748847714090167,-0.7185548239649248,-0.14559648514770365,0.6667827018598057,-0.2152102599492154,-0.4908587972848883,1.6602232578122154,-1.7750301049141382,-2.549690599447939,0.9566809163046552,-0.47215873973116396,-0.5203809165234506,0.3241597683300769,1.3524685765572722,0.6486835625995104,-0.8485765343846973,0.5328624085904895,-1.5883318500593577,0.0784974545396389,-0.621449568598215,0.46098097738892,0.4031849098945106,2.575911942006703,-1.2112678240840022,-0.0791204714481244,-0.21522847454174981,1.064496239747244,-0.5322460385007416,1.1151303543472806,-0.7400774771923531,-0.4601098420578528,-0.4126959677049263,2.4089131483366604,-0.9472936607183773,-0.25930108569320837,0.17628902298906043,0.20256195066366356,-0.2962898010744453,-2.387946237548068,-0.5149873500967677,1.1384951137915953,-0.26051344608039134,-0.4193674011091019,-0.6470295196293983,-0.1587117396159718,0.4683043524555686,-0.8410063950621198,-0.5608179271078765,0.40252115984278153,-2.425286661931692,0.05801716250623702,-0.4150783009089733,-0.20374198244747155,0.11721896152342476,-0.6711143136406509,0.565233224171839,-0.8994003147845682,-0.11235531170293797,1.1214512516951387,0.44256016123073416,-0.3864290924071865,0.04341359734263209,0.16792759541171748,0.2619209362534047,-0.8878630280890218,0.16714020646323968,-0.8923522633874431,1.7873226000215188,1.2308494627576831,2.2750837399321973,-1.3063445165524694,0.127938475032239,-0.5177158298477249,-0.9977351494809281,0.4712180146710201,0.2742351006965683,0.9965471847287268,-0.6787521857388585,0.22981093630107524,0.11977660068926985,-0.4493619982714522,-1.1251550191983741,0.11065594639405567,-0.9466612852165913,0.6142440496074199,-0.16328748848782787,1.8148062499910607,0.2909599632320883,-1.0173991417609778,0.25626354200671786,0.4990658252616372,0.40294633347573955,-0.14941817864983212,-2.0938817605877076,0.3391719048734336,-0.38723276400279555,-0.019878422740057546,-2.396451176171232,-1.0754804680219567,1.3114309019950008,-0.31240895094486926,0.19214578854130815,1.5985063515766962,0.6231142819934503,-0.5702060753941334,0.4094779528822179,-0.46786575070050734,-1.8612202355434038,0.4210807039025636,0.8080904308368214,0.8520653924681205,-0.8426268827449641,-0.32855797132993847,0.16603292759904967,-1.1725001242493875,0.7039386104314845,1.906042448665786,-0.7166856803207373,-0.12022865459137715,0.44316815901250395,0.8847690255575487,-0.014503988325604112,-1.6731470286588495,0.014383801256889287,0.9300524030756031,-1.311028907880615,-2.2727127068349176,1.150509307499924,0.8756100623577785,1.357655464038337,-0.34812101516892696,-0.013642808537527617,-0.8666589711586475,-1.6827717432953353,-0.20947761184565966,-0.6332980151332119,0.13040178081428455,-1.6970775970976877,1.0406093610067273,-0.7514915177221207,0.3936313283112876,0.09729263918901637,0.2155567299304198,-1.1471149502827938,0.2642454617939674,-1.4129306546895237,1.0974444768441198,-0.043118656288069296,-0.13943345044390204,-0.9658265457993626,-0.9736059605895001,2.024760152492385,0.6705909923332595,1.041212406958608,1.357934658255494,1.6759812488950268,0.8317751451054907,-1.6800995571590582,-0.9228845656676605,0.5732054685653343,-0.5703809975098093,0.5190345180798291,-0.2301805041407348,0.2318154680497675,2.1204645938746616,-0.7583694740857837,0.4912732526115713,1.4780095928912356,-0.3281135996018731,0.19456693118468066,1.5344830505916838,-1.233022424033205,-1.5769902228501684,-0.8925112399219185,-0.7673280415180451,0.8340517457313992,-0.5789011276431366,2.1735404614831704,-1.4418933395399922,-0.6802546500522813,-0.7204874367811805,-0.2645500765436718,-0.8166900702376583,0.4757714595489408,-0.8927128719355103,0.6420180110798347,0.36429030212577085,0.3776449654691029,0.46994441033470435,2.391029446432606,-0.9996477892803246,1.1719424021510567,-0.5812202560619872,-0.5173809052987457,-0.608557154500406,0.058767115253429904,0.214943821915022,-0.3566583024326798,1.544156033067601,-1.5263363674622155,-1.1282904594883958,-0.1590169810522514,-1.6806942537700085,0.490986339285169,-0.9932882923495386,1.4074735446985598,1.9685891852543695,-1.2145773520117136,-0.7815621242174733,0.16802452856645403,0.4269456532064197,-0.03024058342774656,0.38449406670369163,1.1352668150185763,-0.00609042335078681,0.5276879238443002,-1.116502199387872,0.14872766439771695,2.8111321231649082,0.24072988603773846,-0.2612139360410747,1.6241024481433797,-0.03867051139786815,-0.5977843389955196,1.00748584208574,0.722452225060581,-1.0004176763842185,-1.0469655088198297,0.3851046865779308,1.774313411534005,-0.6990998730840577,0.9915563963140143,0.43287007908798025,-1.513994914624193,0.8890606513630622,-0.5448969084507014,0.6623450337959627,-0.7928858763738923,0.39178981836492255,0.16554780723088947,-0.36167054341748084,0.7461636914779335,-0.8668914843614979,-0.4262078079597463,-0.38741864855423797,-1.9205632560282124,0.7422960829230631,-0.3293380990329302,-0.04975122970285781,2.552966927518087,0.6884637381634543,0.4104567228629313,1.2202154077277272,0.8405825299936268,-1.234629183644557,-1.4701334684898784,-1.2179895263444491,-0.3071724143417184,-0.6951701579565792,-1.322939005566806,2.6913202077357257,0.20679323009440187,2.1411912231000008,0.5205400465387678,1.1306806664521352,0.3217674797597631,-0.1166820413148128,-2.0190913586329162,0.13869129355381213,1.6545086498590653,0.5197296521019945,-1.3936087456876582,0.20418585148250906,-0.46148128930384497,-1.086319308045528,1.6050539446632637,0.43350213659970505,0.515781649630702,-0.8895416338426524,1.4307630287886224,2.046032452550947,1.2596115017847087,-0.5821265410618982,0.8826989572232644,-0.4112834591533377,0.7738647017358756,-0.5248502325200428,-0.4767106257937812,1.0166630155647027,1.382448968316587,-0.8321762837141071,-0.9873072834624371,-0.5294643815768905,-0.7942547024886504,0.8948188382190947,0.3384505468816632,-1.066531582353605,-0.01833441451881832,0.4052546781255429,-0.23765194888333824,-0.7748255818774116,1.7708859267699946,-0.8025911293243048,1.758796300967489,0.8675080036322156,0.5347178812584571,0.9055578891593555,1.217703578676297,-1.0946726449683102,0.9801183552288605,-0.19327301379784514,1.4036518338160708,0.013910542196225185,-0.3562548731772373,-1.0806768382231369,-0.2757686719998011,-0.2084538578221811,1.421597717978118,0.05778479431751952,-0.29085534713501987,0.10498587243236222,0.8718420207555156,-1.015316963350417,0.6180325911824286,1.1391399186720637,0.29113434751668094,-0.08491958849975606,-0.03736623416805136,1.2129265332696384,0.9590739410359057,-1.0132961703638492,-2.296927480133082,-0.11761834115925512,0.5536037519391652,1.2653290112170819,-2.2304958473278327,0.4020994197630298,0.16617339788356483,-0.3665755474993241,-0.4114609061508156,0.8268727387765926,0.9508395554924597,1.165908062435744,-0.502599499830834,-1.4555495744440448,0.15880008904753462,-1.7460377540961634,0.6523911338023622,1.4190037768834511,-0.5527969788238828,-0.6552697879283892,-0.17450633483663705,0.33438778044156886,-0.29817036039713674,-0.7568370008153393,-1.2112934041777563,0.15434618485959203,1.1474734849428951,-2.0341878356538006,0.015552796017911251,1.0300466398108328,0.6024171996420598,1.4891270314587668,-0.6487746825391688,-0.44720739966704703,0.2578586469791196,-0.08853619217540959,0.7646058282303166,-0.5396165063231031,-2.267247150518659,-0.12182646939707666,-0.28154000080071134,1.8668231851782502,0.8185791436089656,1.6800445079939648,-0.9153307132470366,-0.9620606011228305,1.2932490250919468,-0.38066515055414923,-0.19217134444735656,1.9323671493530978,0.8953678620484997,-0.7645392292804185,-0.020976510858446994,-1.1348477422744176,1.3549386982572096,0.26289782263230604,-0.8747521394065233,0.7678066235025272,0.7907050484984567,0.2883167534505619,0.6728965759011224,-1.061389528703651,-0.7625585342512681,-0.18762524599926694,0.7342474529366843,-0.43737438339913587,-1.3980979632339605,0.8908033056218359,1.7990497194347046,0.46949415834516345,-0.4907121367263964,-0.052299417789178106,-0.5577754325456915,0.155918579365628,0.1344122526912178,1.725579783747742,1.3173736292912304,-1.4811160384739512,-0.15957457170090675,0.507582639341338,-0.32712103317670976,-0.4413043526129017,0.8271739081992656,-0.059811641568388245,-1.2516991749031179,0.11561832063249282,2.774269076112085,-1.1941284855539838,0.2985634682642256,-1.5710281172318397,-0.8712415591991395,0.8783529309326805,-2.580494638736845,1.2959452134548506,0.8024995918300154,1.7960255489670698,0.23300523855400967,-0.1319175216356635,-0.9878196662767024,-1.609051183322093,0.45052904940844624,-0.06878026676446827,-0.26027611565475417,0.5185015968112577,0.4347709947713046,1.8359293378798063,-0.7343729835434714,-0.9363730216895036,1.8289596744145276,1.3013177196445909,0.5576831720840281,-1.712951018528553,0.35348116653701067,1.6337882835574589,-1.7433500548431655,-0.8633238210385425,0.5743255774918105,-1.678206891845696,-0.6879244381293254,-0.8373641051600564,-1.7243806454255721,-0.7190012908080683,1.3748843237014206,1.5084323221966995,1.2559907736384044,-0.028227682315431952,-0.7195698219011557,-0.4432748838966181,0.04252875133685705,1.1884025846319608,-0.7295792762400373,-0.42000645787426416,-0.23995054896518006,-1.1813558236113721,0.6275558017239633,0.9229235011648814,0.9914298007129005,1.2306149963782607,2.1158142364766515,0.03238128689458365,-1.5015035774090517,-1.1378949940334901,-0.7111539738545358,0.2490892449766257,-0.5340172689468752,-0.18314361891426337,0.2661392928517715,0.20392187381091967,-1.1812638300651899,-0.46706879443912463,-1.5004039512574499,-1.8753168520124854,1.1699771147358005,0.7598581270162019,0.7715923847479524,1.9358462923827335,-1.40251239683813,0.4612447583322573,0.2349550563845407,0.38419033460217106,-0.644186131832275,-1.8894978845195898,-0.2285276552482377,0.9238256812102132,-0.7450209891320503,-0.16320147407639293,0.05814987851946617,1.1436441702573699,0.6233332490967434,2.429686182737301,-0.3647551632262618,-0.2119654476234064,-1.4016380289517754,0.2846740182331704,-0.012930190916577827,-0.44909070845086274,0.4125370891046224,-0.6109082404589713,-0.022894241214565243,0.34442508327520627,-0.8329486604152924,0.26937643082297125,-2.8352653356189252,-0.7816936398452151,0.028320412485487927,0.11492906761545046,-0.48313331862295134,-0.43788567423355096,-0.0381879333506875,-1.5774432825804148,-0.5305643516787649,-1.0741709519975158,0.034666367782040686,0.6362691990131145,-0.06444349275597033,0.15457604116111706,0.7486746498827569,-0.91813758169102,-0.5492454496934605,0.18703347536809292,0.6596801534552544,-1.8581125399700917,0.8373475743791268,0.9763841690593531,-0.8625398298589251,-0.2483506345904434,-0.5434167936404318,-0.11881396746279659,-0.19103995711153982,-1.2118590486518896,0.9489102317762856,-0.30304328790126717,-0.4246556450085674,-0.11788107748741646,0.6754927556456832,0.648846631989552,0.48877650962459673,0.8336769203541027,1.1650730039700483,0.24546388836732988,0.4050327500883393,0.11201277358640488,-0.08777491807953001,-0.6528517049447614,0.43789859249906754,-0.43931232964130723,-0.3356480617413371,-0.3701457797169575,-0.3308245393202221,0.5082092239122795,-0.23558278457654486,-0.15899099921700385,-0.07932740147300625,0.0954412621082726,-0.3675352287173823,-0.5568206272448782,-0.9896819890314071,-0.5219674449637017,-0.4592329504656268,-0.4375478990845253,-0.7981762068596584,1.0426420260441525,1.0025822252237864,-0.9053419460948918,-0.3590992788688198,1.391851849274669,0.9680313786498193,1.2443553963850509,-1.0581977118427621,0.6970154018039879,-1.2059784579201465,-1.377145475436171,-0.28770337578863414,-0.34668882870497814,-1.2322750626739387,0.6868354031420809,-0.634564001378035,0.28945417043179,-1.2357919517964246,-0.19947815968886287,0.4322179525795646,0.7534814090031835,-0.4565856174573402,0.3882882915119053,1.285533333572671,-0.7778278435995944,2.2580853971009875,-1.184573642960252,-0.6695555600180934,0.07482814492048008,1.5368694493033088,0.4843563390531424,0.5613482268318873,0.647875092339309,-0.3829857000595606,0.8072634604112036,-0.516263338552629,0.9387461187986283,0.4764085407369682,-0.053112303614822734,0.7130274455925575,0.20626018973167182,-0.0371727116763875,-1.7044600641528322,-0.05681544160317126,-0.02737186352028151,1.218368323153149,-0.8531164628500328,0.18158314019322125,0.3695582681974568,0.20615951321486442,0.28814335639660354,-0.9849685723329487,1.4619934223448983,1.2537521029708005,0.6168951436873072,0.5108651419930855,0.5714401813430307,-0.516065065496513,-1.618498122038955,-2.0134128643408378,-1.1888559382055564,-0.5989087300445269,0.8218415259901859,0.10700469243375231,1.2199590010661896,-0.46092277015907374,1.081964267157192,-0.7412336208859779,0.9668184150588773,-0.9272364203393968,-1.334664892906548,0.767260409852688,-1.178178487726251,0.2882927131099956,-0.3148401388755374,-0.7280568271396267,0.604591983711839,-0.980511783649355,-0.8833402113875962,0.9182471438074501,-0.913297902435008,-0.25544259039342415,1.4145350257211609,0.4085944569136785,-1.2378258651053096,-0.45952696859800246,0.16299387620888806,1.0991027650839853,-0.5088422509500271,0.7744816496128197,1.0443828195878386,-0.4796577690400891,1.1237339690637083,-0.48884794139413273,1.8079976343435875,-0.9445717944381519,-0.9552462316903049,-0.6472717455317901,-1.5875388767149594,0.8267973977279234,-1.3360902231103453,-0.004482356735383559,0.9607545984218697,-0.3454515614511532,-0.8661138572459737,0.24123115970428033,0.37956316429443415,1.0696177278209453,1.433616549316657,0.5544814907507857,-1.3279817870758257,-0.4753506573404884,-0.40334817344897966,-0.014096020780216753,-0.4486526385620835,0.13789802857883268,0.4347542702806147,-0.05407140957325736,0.3749690048413899,0.38060024984897334,1.7544806338567334,-0.7652840806703369,1.8263062798512404,-0.09709581447549376,-0.7011150165673213,-1.1999433412156206,0.6342215546204607,1.2132314557678323,0.7488028798862914,0.12342998168595289,-0.4764649942361347,0.5428784612423668,1.6071159964593087,0.6135759696872229,1.8642465806929733,-1.0880092801890249,0.0762834890079057,-1.02827304734565,-0.05959032134030665,1.208040552854429,0.4481830945423913,-1.0441468364549702,0.4616292756423567,0.13048791122200815,-0.3799807789063639,0.5261800293720615,-1.821960736475402,-1.290321455247724,-0.8990885457309017,0.8149981094157125,-0.8002198654632984,-0.5134838253682965,-0.5254715342736154,0.701160400567557,0.29438492710692304,1.1279631318761547,-1.5892707590372737,-0.052377511927173714,0.05062215758772446,-0.13304767606073187,0.4284643256444092,0.13434254646183091,0.765095462011583,-0.8443841749760053,0.5997569461017976,0.3276451499147105,0.7853372719659265,-0.5131495051715452,-0.10027151479096491,-1.0164579033291303,-0.0012568764204087303,-0.34085399525948046,0.6533882989521066,-0.3793831449793664,-0.17024009627898523,-0.44741696312212376,-0.5604193281161256,0.20487448867323255,-0.35227585518523347,0.5924747389462803,-2.6765084970953423,-0.5004524724144451],\"y\":[-0.8898606528367351,-1.921537837968448,0.9325830568546961,0.03841059789896793,0.40207556834679187,-0.9830333355551004,0.33550010338437786,-1.8757869266322214,0.9928031856938607,-0.5450973166439572,-1.3032537944297238,-0.9413046310717736,-1.2204015513779383,-1.4443141509173625,-0.4601162156848139,-0.9380054950301806,-0.27376076737794597,-1.04200046124738,-0.6267157434749923,-0.1658221668370002,0.27860087257946925,-0.7617960621670101,-0.11622505840468668,-0.5599643839595746,0.2889574241146731,-2.0966251978107326,-1.2240063439388171,-1.437131714552186,1.4964294261198716,-0.44155457052898045,-0.06022162134300457,0.563467371964702,0.030589700448401695,0.5547840621829998,-0.9601893172240145,-0.5322923001690086,-0.09558497278122342,-0.14304966879749684,1.2191961715741648,-0.14948350132402194,1.1323938393942796,-1.125818797557244,0.00482005153080876,-0.8940876465750278,-0.27331575537518565,-0.059066765156179195,0.12344483256842415,0.0983134174565747,-0.3076344016834773,-0.5960017888080685,-2.100741822451318,0.8185324732861139,1.5993904499428504,1.9231815507821197,0.16733230136201435,0.09246631568414566,0.1313342782061101,-0.6132447552345468,1.1904933606329833,0.10766025522155195,2.3090264041614987,-0.010106595456707093,-0.1574654503505064,-0.105860097389219,0.38005962786746883,0.4910149089758794,1.249590895791108,0.09626946587174916,-0.3903809233872757,1.2877262171335073,0.5997499998524664,0.5238683824780356,-1.338792262401509,0.7788980102183232,-0.7676339137715329,0.27810414488451435,-0.6118539327694453,0.5456619887118235,0.973651764155693,-2.0628992653931952,0.5768410766494885,0.8346179675200205,2.159082299929174,-0.42397698704787373,0.32667334063139913,0.2111084076475612,0.2728785640630611,-0.6249261752907023,0.8948796148501972,-0.23276922403577588,1.476487311599947,-1.655482681432082,-0.46552622666734794,-0.1272904749209371,-0.4714209280165837,0.8084462795110662,-0.9618927814816639,-1.4678875246808147,0.2936263214805389,4.411681575568237e-05,-0.16294251492283315,-1.8219206003878248,-1.6202655997113278,1.3743857734773985,0.5024726593522179,-0.3696096798945809,-0.031208896444196405,-1.860326701482847,0.22216263379338333,0.10561576628164113,1.6891813473106094,0.5493316683215927,-0.2813330675859659,0.933528125096449,-0.5384693480089308,-0.296024545307811,1.4197815189618945,1.4413179381494412,-1.1627989038252178,0.08752409796205535,-2.7934663324230016,0.7507527588233238,-0.562735088451769,-0.6359172226573343,-0.013943098226568402,-0.7623907473085744,-2.7600271673504233,-0.40511708316527334,0.515691034992284,0.06343768424366363,-0.45186588592351123,0.6917656667349482,-1.565895561241253,0.3318307407171194,-0.04788493684865102,-1.051711220691237,0.7714401393403439,-0.9556382165453721,-1.0160332687064049,0.2477455348173231,1.0588633671711827,0.35548051910978445,-1.6061887229913394,-0.18872466550040023,-1.580660448913573,-0.726600325898209,0.3341824203671152,-1.7243815406844705,-1.3308184958901146,-1.571805244375791,-0.5707194500430028,0.8026784959181329,0.2749672873875394,-1.1423513354232255,-0.007044226893833318,-0.4160428505340322,-0.7195937101547651,-0.7278032672818231,-0.39006311774821123,-0.3036279972893443,-0.609005591417677,1.6194357667489259,0.09765742071882133,0.5420339140082705,-0.7896008003668717,-1.7703885801545653,0.060788412324647774,0.5256906812413357,-0.03652261169295246,-0.8982173583923031,-1.278790403272497,-1.8718300480350443,0.45688440951222054,1.273284940130343,2.454339709383575,1.330963791812702,-0.5832121605625566,1.1244303678880596,-0.4605764229784244,1.752036656888505,-1.0253257867117074,-0.7935395841745387,-0.022899992519011175,0.6905908722070297,1.6738822864221088,0.06111455099262798,0.07644668843242547,-0.2752923645282626,-0.9544206599726558,-0.01227928826008205,1.8253989677133462,0.6400246425019305,-0.48134113884029406,-3.347210858416179,-0.48858800153683984,-0.5777031650247426,0.6224568033231275,0.5366184193145961,-0.09955332026207225,1.1194656674119425,-0.8152789766340334,-0.23259908671387958,0.9700359086724655,0.2631171619454583,1.1276323630215044,1.3362700880221428,-1.5028759386018367,1.189632648372256,-1.4957757272892522,-0.9415633541487521,1.808319709664545,-0.3329450225418808,1.1227383112496616,0.6422044671591414,-0.5837375832799544,-1.1434394094164424,-1.9494893384221794,-0.13947851050435572,1.3276640056952067,-0.5778523767493318,0.16767632923646067,2.4622575874475574,0.1040306653876229,-2.90414949428025,1.536777958744863,0.213099447924084,0.3012895794467244,1.0726162710862535,-0.5057063007975863,-0.18065880127219833,0.8719059093178081,-0.10369780314420715,0.11861550329882793,-2.004529954018229,0.5333533339839877,-0.100839273407066,0.4460197993634041,1.122186490260673,-0.9252588798521796,-0.2754926201072947,-0.5317085006029768,-0.47749891661106386,-0.8019330368280131,0.482156479559631,1.3528759620029913,0.22641233662203555,0.7088540638180527,0.6990312063093432,-2.141400842829694,-0.43960779630516644,-0.2954433401628364,0.4107274969811225,-2.584121637727698,-0.39054065491109224,0.17895854169535574,0.10870639555264378,-1.0758398066242176,-0.016212111817234465,2.226166545239998,-1.1169101329290734,1.58957689381681,0.330797730748594,1.7306120653369468,-0.7587138401830626,2.3272324090050835,0.25511990764871884,-0.07867348941421026,-0.1135906324994697,0.08625957169855548,0.07720632943687022,-0.8354246994672254,0.9637854277837123,-1.0093169704718756,-0.7741167124597657,1.3940207341146051,-0.5883092006516177,1.1162338551943944,-0.24585252640737845,0.42784538552560136,-0.865672659837111,0.083775909504276,0.29423556733275974,0.6629877768393813,0.7651730972940524,1.55107497212212,0.1475178157570293,0.24743378751085474,-1.1705571545577436,1.089800510320409,-0.7259290998639633,0.4457208961443642,0.7309944655481311,0.7216510898079815,-0.016273261730697212,-0.28050504713082003,0.6960762677895072,2.4102313381302873,1.992217322979424,-0.35263121839137873,-0.9441853264544019,-0.9494756034885078,0.31449230100334563,-0.8948925334068897,0.839439221388784,0.880693128072594,-1.5771368019912184,-0.1584608990630531,-0.7845622014934631,-0.96650409972646,1.9865519444439868,0.499725889247275,-0.21494153233003258,0.08421509700735724,1.1230542434534145,-0.2825877173127813,-0.2686580066799295,0.17058769294270548,0.08409740319541106,-0.9272140378552546,0.0319374833581785,-0.922238803895997,0.13322207523567384,-1.5100853552648592,0.29369692797732855,0.03345503966016199,-1.204339274269841,-0.9941104150350661,-0.647666441619811,-1.6910645938298292,0.6520603055234857,0.40495140476428493,-0.9156396408745499,0.5109678521202105,-2.2104059945880947,1.2582817219428082,-0.39129235882288504,-1.3753167541577989,-0.02011360357187307,1.0929715525774706,-0.37240917611361074,-0.12703404820128486,0.5392650694160871,-0.2113047179955477,0.6254815626045332,0.14960839109817375,-0.6319893253810758,-0.6685313784395724,0.8959905303950829,0.08255647390850847,1.264535567432642,0.42832364240795634,0.41616923089695324,1.0281975995552661,0.4249732754160341,-0.5800142283631565,-1.529221298975166,-0.4365349197640304,0.050521708944511884,-0.24425067506266848,-0.5943670373888154,1.3274539681083397,-0.2600643987294253,-0.8983302178261335,1.0644041142787364,1.2463781175074082,0.24068400870551598,0.952172432174321,-1.0758284309477586,0.12046634794302764,0.45754637445807317,-0.7893984071332588,-0.9606331739227865,0.8855406939355603,-0.5718783872685531,-0.37597916721732666,0.8396931312357562,0.38504670808531377,-0.09589961990069351,-0.6222817388084537,-2.09780348517134,1.9639564347740968,-1.7052341320896882,0.020849810862046347,-0.27897789078080926,1.2127392350132276,-2.6101018043922637,-0.3767706680347076,-0.8309995225890557,-0.6794615230446839,0.13212831165756664,1.0219658073373266,-0.8562004295853032,0.7050716954769967,0.2532345908712438,0.5168536825860739,0.9063096505044146,-0.4783275775753733,-0.3762711462541362,-1.332295509275204,0.5837204701808996,-1.1412470402627855,1.0383649139996725,-0.6893811315568419,-0.9223696154454292,-0.16639555043763427,-0.6843050033620479,0.1105042737472188,0.3585616370626483,-0.7397062310579784,2.639571584796604,-0.5091809321075688,-0.10352035594512611,0.8536335351452827,0.09953077408773804,0.9614824936022266,1.8205978525494129,0.5012339624359761,0.6796179616134723,0.6296651495748262,0.3200216355547538,-0.23454520163853051,-1.1867857635268548,-0.22891730900142304,0.9163981373399418,-1.1159798601361948,-1.6812835863720828,-0.580381968783906,-0.11412556077814869,1.5533445439923241,-1.0861179908318843,-0.23140937921300636,0.15269198018792163,-0.47507865332522053,-0.9767117265422878,-0.43388515738005595,0.8111840580020133,2.109740603503012,-1.090301672936166,-2.002267387281796,1.2876991683645924,-2.47421336329061,3.0016538669968047,1.7852702064866777,-1.6163885154983753,-2.31610224110601,0.3369076819360214,0.997725947342487,0.3477357426495937,0.7642465328522883,-1.0679322332554677,-0.43526996526055795,0.7908613655804287,-0.3305253287701572,0.3965494235734865,-0.9429476288055256,-2.000305236130269,-0.8331871373121179,0.2750269787348457,-0.8150685389052529,-0.5986939774040757,-1.0278320391438973,-0.45707508185960405,0.041221968641302516,-1.208803277976176,0.6248580662401624,0.08423196490211997,0.34289213037968913,-1.4680770365508617,1.506415223292552,-0.37108951390663986,0.09049748674721006,0.5500831934824145,1.4668057184953585,0.3273149066260137,1.4534960504009946,0.8459785707562859,0.5068250409803088,-2.290960601757308,-0.3606357245333227,-1.0285596233936931,-1.684855329745528,-0.2828446513175903,-1.3929321681676334,-1.033165565566172,-0.16733457734922455,-0.9776772897659346,1.9472286685077718,-1.475750803848529,1.154076689870794,-0.4978739017079319,0.2022188964073514,0.7827184307954357,1.1762984046380027,0.1877790415450528,-0.47714758921213773,-1.6046383649564009,1.314626793122566,2.069417711662017,-0.16642314138507816,-2.061265754342362,0.9975612390141592,2.3723955218892847,-0.6116958742113164,-0.01979170815474643,-1.3797191313503376,1.1585119077720993,0.8551756536614924,-1.4085143084175398,0.1616468140278689,-0.33443462812454067,-0.16244940689972695,0.2998883101470193,-1.6513617336991093,0.3231908418720636,-0.8001468183387237,-0.48749106455724883,0.004381882892007008,1.779868538422601,1.6882492250075225,-0.5711576128319389,-0.9640002980400272,-0.600476155259893,1.1621262928546994,-0.3870375714895864,0.2769497762600203,0.17107091294614513,0.154991070080864,-0.6042403464482843,-0.06694025431167155,0.7082319894742375,-1.8107759542604618,-1.4894659872283553,-0.1119055427776291,0.9263738292114594,1.962667006878999,0.7530430063457427,0.06426778597588649,-1.0083240649181053,0.41597386181094254,-0.15181297144501937,-0.6495550437880522,1.1413091315174675,-1.0014483470621098,1.6995093950763172,-0.3672566524286738,0.29111178476122745,0.4673010674375982,-1.2599289027646512,-0.605927427641278,-1.1047312933965003,0.09707526238343539,-0.2116019642810402,2.2022310041522233,1.9141021052724563,-1.4016977716030834,-0.18381318930481727,0.37747698650576217,-0.7853330622437683,0.8340558209021304,0.5303254337776573,-1.1518057106879196,0.3430672645187798,1.9557444134814972,1.4905591960123654,0.31489656814849465,0.629860666657557,0.6234203831499954,-0.33833626142094586,1.1092474321639978,-1.1951215184918889,0.1668872825886268,0.9053701369878382,-1.7256176604935345,0.16121808523831224,-0.6591896837022251,-1.294534611011664,0.9941275203736534,-0.3178765224937854,0.5021803932302163,-0.5507228789762402,-0.47855031874510734,0.33428091465628285,0.4513656687818529,0.48364371549030494,0.8204364252504425,0.5231425412899664,0.06275053621868398,-1.344516150514417,-2.0068285578838845,-1.057105435266855,-1.4228413289958652,-0.44171175138204005,-0.12667477473932232,-1.7866567103382067,-0.7411326514010789,-0.006910867509657849,-1.8598892966850284,-1.887144936749305,-0.12496552361281951,-0.1851690014728212,-0.42966783309735584,0.7648897859722081,1.6078662823004226,1.2129292858294989,-0.9622356053497666,-0.048178915563631144,0.42913420593613566,0.039587519377295606,1.481034446119972,-0.4206091804873918,1.4117988159498343,-0.7489210436895504,0.32768271917964054,0.4919222307231846,-0.7153697313438087,-1.0782337430694766,0.7970132404570455,0.8368221930386461,1.0258151857203974,-0.1599774505491812,-0.7430251008117289,-0.3095165880154472,0.3984512195086612,-0.5024211395404186,0.1520498158311197,0.390392368030466,0.4479741117702606,-0.1861429417857706,0.7036894743800637,-0.5259835103416259,0.6640720227479561,2.5149763291741127,-0.33920784566959705,-0.5757501604006829,0.18544049662820175,-0.7691888216687646,1.567684231387847,1.7953723795203058,1.6180814329366096,1.7125618107209617,-1.5913522459729623,-1.0794685178182557,-0.44286075746735004,-0.7050860194810854,2.655462832041814,1.235011940433936,0.29496686465041844,1.0066836640504473,1.2191591799872408,2.4028479110961953,1.1920838553289392,-0.06956074065399007,1.0341009803211252,1.0101604783898195,0.5130745282083606,-0.9040429171048804,-0.3193757234485714,1.5774615707132422,0.49562876676448386,-1.1496108393122566,-1.1921607784264054,0.7542383024010811,0.09059057524915376,0.32384378838964506,1.313848241232281,-0.43636875779520484,0.325693732258691,-0.5314243724429093,0.39997100192720697,0.3597850373540294,0.46935715488065644,-0.5897860534300816,0.34206690644331206,-1.5231470491940673,0.9930235291062967,-0.5632398215220432,1.9477348928795661,-0.670041088448147,-0.6203840199107509,-0.2819455323087377,0.377328968271975,-2.4835942528700006,0.7853460506181968,1.25235693432636,1.925128662708946,-0.11175725905260508,0.9662761721623737,-0.5719436860731639,0.11297703896205574,0.06318831827230358,-0.21386386078883463,-1.385103332539756,-0.16234709231529867,0.19801694682957713,1.0639694531329642,-1.7693298544455425,-0.4400485982898764,-0.644532549814699,1.8594135334932123,-0.5283544026607129,1.609283114618512,-0.2498547469878719,0.8657773545042994,-1.2240229867847507,-1.161099561402371,1.0256044792228465,0.969869901299972,0.4601867302843088,1.2098081346633711,0.5564253631175459,-0.3667093165608442,-1.8306318903538543,-2.5873072605376106,-0.05402279767586719,0.26580444058475544,0.45520394212380205,-1.2390948378702007,0.5757317228811201,-0.6506365795563953,0.4366832853179522,-0.4558563454303897,1.2035168715841622,-2.091275123820715,-2.301302211906276,-1.8150104405004546,0.711414144717408,-0.31146858631464347,-1.031230665052698,0.2011688467372017,1.10196458654412,-0.1710478877825351,0.4986588265499446,0.42125495832410936,-1.6500224463917414,-0.9637091410275744,0.7504074080054243,-0.5080677876141366,0.412127760120049,0.4321999827254994,0.5727704653767485,0.22424821103455825,-1.5085871480011084,-1.3467914489366901,-0.7719368514768308,-0.4418631573008638,-0.6570537804349398,-0.08030865906059625,-0.48321062863071046,-0.35460080650239356,0.8585883400624654,-0.7264326172382697,-0.9609071535128761,0.1102453754288094,1.9759603624485922,0.5640943016027504,1.7164545396332993,-0.43521124238174963,-0.3316418218913113,-0.0032870091433115697,-0.5067620789062839,-0.4757771230467968,1.1760668726871082,0.10790296066634848,0.6914516776029223,0.5626605121548645,2.760630325432057,-0.02457360045440391,0.28635819552556285,-0.23245173561662902,-0.6396910101668771,-0.40962711918152295,-0.6756168965688136,-1.294717738536129,1.9770523110579832,1.0070348787401155,-0.286916958832148,0.8034893570118123,1.3728580696709782,1.121415215131647,3.187029302443333,1.0783351669716015,-0.3348105779098831,-1.6329455998416997,-0.26172928611040147,-0.06520511173676975,-1.2098162598912547,0.6146171397206567,-1.0511129597231752,1.4902146049056055,-0.9591239820818076,-0.049271333364256924,-0.4925833889785986,0.1742948781517457,-0.14948007462545784,-0.6037668586459858,-0.3850806015892814,0.25385366406360993,1.8117923325172527,0.6492131494077092,-0.39571441236842086,-0.10753657957300213,0.42067164712561333,0.968528819363607,-1.0581071804899624,0.31497233855881956,-1.9401564180178958,-1.9983240219138014,0.015297697233094428,-0.7677489484407745,-0.16623832888125564,2.924993735775743,-0.6620633758056752,-0.07823585523106122,0.9870054753140318,0.48498071600427917,1.4279378257076556,1.241905328401268,1.565096134704276,-0.14812421898384104,1.6076505457155754,1.7052190577320534,-0.5177356694665478,-1.4675780535682086,0.5715030691814961,0.5829428347607749,-0.6285409096964916,1.3309119891872991,0.19269918250448725,0.7742162539025347,-0.8990903592231526,0.5847506381168333,1.81733733183581,-0.4584508905589126,0.14065033364513183,-0.6864228795263412,0.7634930829468732,0.4346918867145948,0.5231311646448855,-2.366522870061277,1.3102957476598271,0.21602875841117142,-1.9130096697087926,0.26668129811594216,-0.7378410299903624,0.7342322442684807,1.2723348261269554,0.3141734968699294,-1.3410640006817118,-1.5010232693983117,-0.37391873709403256,-0.6896579070383952,1.0580019098506608,-0.17883983799022213,0.21596357513265385,-0.5667342927691676,-0.7465026769875642,-0.21115981988788013,1.35131094461426,-1.2660042645423382,1.163908231146107,1.4700908066985203,-0.995402536840977,-0.8478331474021439,-1.0123168522476498,0.8425494713864184,0.7143909043175968,-0.40193254818493374,-0.7035893196837193,-0.016245640099131434,-1.5189047135934168,1.6849260074255736,0.14735073267399282,0.534423478132113,1.0877678783384692,-0.5637917191221358,-0.5329569353313256,-1.5270678027192883,-0.5912772258205863,1.3250671297012924,0.1966718020756431,-1.1890065368100464,-0.4855388519333196,-0.6508822699729647,-0.6032307824860109,-0.09683508513645088,-1.5771561588441372,-1.1476375877708935,-1.6662397800273785,0.8826645809233319,-1.7945588225098885,0.690348071335429,0.02433341256818867,-0.760974296520414,-0.8311024915832286,2.4576516893528524,-1.3822911770545845,0.40472052119532514,-0.6774920488567627,-1.2304584137714545,1.0115452582435323,-1.6180456322970778,2.576870083530091,1.1060791350253742,1.384686935090298,-1.0483130635638425,-0.6812020487674699,0.8277429811925011,-0.3958018132560924,-0.5245864716690191,-0.3228840539079191,0.9933261731755434,1.3959371157092417,-1.1137840630583442,-1.232013716933535,0.09481470446063671,0.12840183054154183,1.84171980748944,0.4576178476734226,-0.7181388461475077,1.523974943512198,-0.6568016992021778,-0.8650889024333207,0.29261640526560073,-1.610650617031372,0.30421826366368343,1.4200631208428762,0.8295689538755793,-3.0539880477940584,0.8676192755939777,-0.42282655824208737,-0.7799256175830308,-1.1175417112285506,-0.11502384664138922,0.7336690291747746,-1.7029406278868409,0.6430268763033722,-0.7389754286233984,0.9736102729219567,1.0279487049839362,-1.2777271818849816,-0.4862991192378944,-1.2717638705801673,-0.2898245993809914,0.7263662991280425,0.5593988500477091,-0.512131233482569,1.5659203066301595,1.3697490978531162,-0.8093807822819047,-0.4303354472162627,-2.1385540119770634,-1.4138278879418202,0.4128430447496881,-0.5598564420919392,-0.04156241025690315,-1.5986618692663865,-0.9355057321425931,0.6606326264134483,-1.0531813893688593,1.2042860050166668,-0.31817818349333515,-1.8015766957752808,0.23270250443401058,0.14850550911192595,-1.3741194244632007,-0.5161705063128699,-1.5251065597211224,1.378545368287589,-1.1216757672301314,0.8529609250923426,1.7964777115916024,-0.31845518167313663,0.4340032373238415,-0.5529830803664804,2.6862572713595445,-1.1690356543587104,-0.6166681751989134,-0.4467905880055211,1.5149166954138173,-0.760935891884356,-1.1928978609348413,0.4808957226300277,-1.3019740632339405,2.097236917075723,-0.5684053042778932,-1.5431832953950724,-0.3166398312563308,1.6860203334007393,1.0142477102093095,-0.5897225232852095,0.3127314715856266,0.427788723508335,1.5815536243494974,-0.45345236640577635,-0.6752577668361575,0.21081045679042867,-0.4175810255178245,-0.45560243295993763,-1.8222497400512079,1.7523620145118848],\"type\":\"scatter\"},{\"mode\":\"markers\",\"x\":[0.45270646360902084,0.34635617453056805,0.15106246094835957,0.03372147370606769,0.26364557982142217,0.0013420784763791816,0.529978971745442,0.21087835683836254,4.882566369863785,0.11199933274662484,0.5575734637497782,0.9385496647900416,0.3672822312115047,0.22723768181603826,3.3849956647764636,1.956395108023255,0.07505181927842086,3.2072439100104604,4.3587735034036,0.0033971071182163667,5.086169723226225,1.1133087314519419,0.04915793847712534,0.1510970227870143,0.06516991304226126,0.18456305490147012,0.6950961374634553,0.5874551396399333,1.2033992439142338,0.650398722654999,4.745733957682616,0.22000931706388277,1.0303548370083087,1.9128552635358742,5.324846546528105,0.014679273598941032,0.12360733923000258,0.5634139415615819,1.6488966083932814,0.017285400004665247,1.5541445953438684,0.025991015635211688,1.142573418260627,0.9665700610381588,0.9603338382226851,1.9919245128584484,2.24498967583714,1.8348353432400766,3.5967827669575585,0.29768963943283655,0.007323510622613432,4.174006668329159,0.0022878883156449664,3.083244516206605,6.840195658043879,0.02879403607990549,0.12661753011754565,1.1676320187547422,0.06610123584321556,0.11775096131279188,0.035761830770499964,0.06701504482248968,0.344800775079129,0.34826838859998566,0.05773337258041477,0.03142479353206856,3.6660090694812477,0.00834784167763633,0.0796725281383676,0.06105240093811898,0.0006813451845705649,0.7477854022862173,0.29002554588539575,0.3337900002945423,0.32156021783454175,0.05382830535862377,0.088405021988629,0.04215180672872761,0.6065370658005017,3.423088155935823,1.107147898335048,0.13330017039976674,2.4512819965751573,1.7093136884923603,0.017771863544168293,0.38624734844219805,0.44215512673357993,0.49978905917613353,0.40563788765771225,0.98053575077981,1.4877134853940812,2.6772311767572834,0.969219316258461,0.04232435506929678,0.0010499508413502967,0.0770436366884689,1.1510737963410562,0.05209150394331581,0.033668699130056615,0.2530451618109358,0.1533950404532787,0.2744145738211729,0.6758301621269529,0.45993315893247394,2.036976902181137,1.3883768588434517,1.694571653796326,0.13803575419264394,0.30966786092256887,0.2594114374817174,0.2432261445406538,0.3959622505723059,2.6962027745768493,1.0779883593269188,1.3862228836925379,0.1710465690132965,2.0823796456574364,1.6477406556667602,0.4120661321260335,1.1732179003123762,0.07722712779682835,2.6629783458550254,1.0018573984023584,0.0291775030113902,3.0369827240817875,0.010517066189029839,0.7511507569701457,0.8245516646104247,0.16997654359957773,0.005891129552761802,3.2667945810863115,1.571887157701974,3.4150633976416174,1.0934681033425258,0.3888087768526672,0.18410559429804998,1.9372935093310264,0.01672652703400531,1.895763469329797,0.21723707511770277,2.262268957664964,0.17287090083874293,1.1204655660213656,1.3459375536405433,0.21771076599643824,2.067498605022927,0.06596875494245966,0.2985510482453649,0.237823453776858,0.7041705210155684,0.43956518319047266,0.10617456718374181,1.4265130404975452,2.667313791173318,1.3136827317861228,0.08979979235868295,0.08284837309277877,0.0024511060086387973,0.5476651579432513,0.013560389601110962,0.013141029039543303,3.180377821412056,0.048639212274138956,0.0017488582482947143,0.2682525218253719,3.4996023574091364,2.9355345934294466,0.32271638715585593,0.8157295631509495,1.5559078572665936,0.24592382944732077,1.934718896744285,0.020811304764946695,0.5056915420538463,2.282077310541854,1.5382010487929814,3.1705609504563976,0.05204757418614139,0.08464151571668152,3.5020493856485357,0.5545975531887497,0.5688612508365599,0.307304863864374,1.6722767675427417,1.995850060734009e-05,0.4793559590470062,1.9364722615092027,1.7529479195958468,1.6274190382836813,2.918847209334848,1.1256573580894758,0.49672928798838145,0.2903327112586038,0.34454412706824206,0.2454097799407672,0.35614886621650366,0.020152193699957206,1.4147890438651338,1.3103179069862902,7.109208028663184,3.3045683968099833,0.2277810387448032,0.1928519269672502,1.4193415884489733,0.001595917773440627,0.00634355687498486,1.4117338515229698,6.357710304278931,0.23675159995878167,0.16542290000186743,0.002163050312196669,0.2705593154327411,0.5592550099232441,1.9784004146865084,0.003957052802333967,0.9139833813721966,4.619793188804429,2.0395956501911567,0.6279405312506269,0.35608632637727583,0.03972291094427425,0.2545630956587148,1.2712248515392037,0.46488970359730925,9.369116458231797,5.905784654715557,0.05358903327968225,0.048681176731262654,0.09565960740986887,0.03560412341518503,0.09319343471466124,0.14721912155664188,2.8229280820666283,0.2328171643982952,0.000529876386847152,0.06253179829884738,0.6831146097652414,3.102397183056822,3.2041604835834585,0.46578511566799274,0.16716599354203343,2.0874228310901843,0.1488447959616094,1.1370229911138263,0.30521129715236917,0.4286223308081461,0.19139616763106523,0.516321035043264,0.02119833648736549,0.44459917149946254,0.04631545598740886,0.24094235887196705,2.756341265780606,3.1507318733514964,6.50092215291319,0.9152383756215148,0.222933875504521,0.27079629828178653,0.10507955540380914,1.8291712505748539,0.42079036438679296,0.7200821347083433,0.2839423464888578,2.522798065912982,0.006161850369202675,0.3861995663109075,0.212503461514444,0.16255807156664465,6.635322332972744,1.4671697416611933,0.006260049002173468,0.046323296253568645,1.1331522444360218,0.2832858454997329,1.2435157071866916,0.5477146722473979,0.21170106675850228,0.17031796175990555,5.8028625562292415,0.8973652796372241,0.06723705304167658,0.031077819626437478,0.04103134385666847,0.08778764622073437,5.702287233419973,0.2652119707596907,1.2961711241273375,0.06786725558868097,0.17586901711300237,0.41864719927184985,0.02518941629192803,0.21930896652882945,0.7072917565353823,0.31451674736557544,0.16202328412117808,5.882015392543769,0.003365991145275115,0.1722899958854802,0.041510795411625806,0.013740284940630135,0.45039442197336194,0.31948859770769233,0.8089209262345803,0.01262371606786435,1.2576529099285934,0.1958594963085734,0.14932744345864188,0.0018847404342281918,0.028199677300761478,0.06860257684786007,0.7883007566474072,0.027935848616574388,0.7962925619726926,3.194522076547682,1.5149903999708771,5.176006023703874,1.706535995926705,0.016368253393574846,0.26802968047491843,0.99547542850973,0.2220464173504977,0.07520489045405697,0.9931062913907512,0.4607045296452779,0.05281306644357686,0.014346434072676799,0.2019262054905126,1.2659738172272936,0.012244738472364122,0.8961675889279285,0.37729575247812247,0.02666280389666252,3.293521725006616,0.08465770020401817,1.0351010136559742,0.06567100296182884,0.24906669794407896,0.1623657476615419,0.022325792111033145,4.384340827321878,0.11503758105547351,0.14994921351724474,0.000395151690632437,5.742978239772482,1.156658237096727,1.7198510107074214,0.09759935263047373,0.036920004054161105,2.5552225560310404,0.3882714084242131,0.3251349684163801,0.16767219389661187,0.2188983606785493,3.4641407651962433,0.17730895919907844,0.6530101444100397,0.7260154330418522,0.7100200635244955,0.10795034052444467,0.027566933047111268,1.3747565413648293,0.49552956725620934,3.632997816115866,0.5136383643767981,0.014454929384852672,0.196398017162532,0.7828162285860542,0.00021036567734926038,2.7994209795099367,0.00020689373859768986,0.8649974724667041,1.718796797298638,5.165223047808898,1.3236716666439545,0.7666929813021928,1.843228359033152,0.12118824120224428,0.00018612622479163645,0.7510977722897655,2.831720740033222,0.043880869864560856,0.40106637597166594,0.017004624439536712,2.8800723705708617,1.0828678422148292,0.5647395012082965,0.15494562262810868,0.009465857640364124,0.04646470381829594,1.3158727091622964,0.06982566407870709,1.9963730349613662,1.204384379755664,0.0018592185200886578,0.019441687102692087,0.9328209165707282,0.9479085664954032,4.099653675120987,0.44969227899850567,1.0841232764045379,1.8439865360914656,2.8089131466477335,0.69184989201526,2.822734521966064,0.8517159215475865,0.3285645091932044,0.3253344823202851,0.2693968309583605,0.05298306448648283,0.05373841122713277,4.496370093876034,0.5751242592251482,0.24134940873155272,2.184512356678516,0.10765853424369828,0.03785629071062426,2.35463823255316,1.520344298168721,2.4868981629650238,0.7965763133869603,0.5887923232999188,0.6956423145575945,0.33512651558649514,4.724278137704474,2.0790564026097913,0.4627463889177516,0.5191021465595156,0.06998674299926261,0.6669826708247912,0.2263584817213294,0.7969362717193468,0.4121871265509067,0.1327074242228854,0.14261571994415995,0.220847748804833,5.717021813707815,0.9992957026130402,1.373448993959589,0.337816986056762,0.2676830011677497,0.37034181029363106,0.0034535738352099135,0.0462008465794367,0.12720514469416092,2.38441785445907,2.329702706637751,1.2730393609725352,0.025286400262972082,2.8247331746555258,0.2410675853646511,0.9866216317186626,1.9809817790263289,3.8753433803004627,1.4751981440197859,0.6108393540113292,0.028232242199979125,0.18228259079185638,0.0009144928860504998,0.14783568733034286,1.2888307412824223,3.709325659180924e-05,0.27845454497110794,1.2465771612379557,0.022119918157199922,7.902463813889645,0.05795087803174254,0.06823272038207065,2.6377087620653192,0.0014954084517726507,0.35734611594831034,1.0150277220032127,0.5219372174949845,1.000835527221999,1.096136776658365,0.14830561962428632,3.148188082349439,0.48874063254614564,0.9831840870712345,0.18737650536963427,2.292180601507917,0.7904288418021125,0.29691264083913205,0.4387009437941749,0.6286680129531952,0.153499261774419,0.027406076478955738,0.1308055819758959,0.5567602544799767,0.7515008456584811,0.18165309556585196,0.15009320924759215,3.688563220405689,0.551003474722923,0.10846358347462415,0.002475184856946521,6.517640133001141,0.47398231876599733,0.16847472134337718,1.4889256412561436,0.7065789897304865,1.5243092211068254,2.16129241517408,1.4834984862847755,0.09435489213252031,0.48326154851337527,1.7501676124500896,7.24320446056667,0.042763440012876235,4.584699853880477,0.2709619400505826,1.2784387694886445,0.10353431103094957,0.013614698765391682,4.0767299145061155,0.01923527490762969,2.737398872458467,0.27011891127406024,1.9421453360571281,0.041691861945637246,0.21296498037753905,1.1800896390325148,2.576198165279103,0.18792410243650934,0.2660307100957683,0.7912843183394555,2.047082844548392,4.186248796891642,1.5866211354283293,0.33887130980868985,0.7791574490830384,0.1691540837731352,0.5988665765927558,0.27546776657634303,0.2272530207446985,1.033603687217115,1.9111651499995959,0.6925173671762221,0.9747756719779772,0.2803325313585991,0.6308405324253346,0.8007007532317704,0.1145487726844969,1.1374896161576846,0.00033615075574785596,0.16423135414263737,0.05647844880804881,0.6003546823316694,3.1360369656320226,0.6441525208700629,3.093364428296922,0.7525701363659522,0.28592321253753344,0.8200350906187477,1.482802005521061,1.198308199641916,0.9606319902565268,0.03735445786250204,1.9702384705752185,0.0001935031841929614,0.12691753466252945,1.1678624286719559,0.07604836045653388,0.04345301084095009,2.020940071760593,0.003339082454318036,0.08459683295703291,0.011022033410384234,0.760108509155061,1.0308685360671122,0.3819642837636669,1.2976397543121958,0.08475920830396354,0.007211336510967901,0.0013962354559016491,1.4711907751095032,0.919822824374144,1.026769128874043,5.275875848990509,0.013834074177054928,0.3064771141611208,1.601057506627598,4.975111724946706,0.16168394337376527,0.02761359816416955,0.1343776320244292,0.16930007729045027,0.6837185261319032,0.9040958602890983,1.359341610052671,0.25260625723020447,2.11862456366424,0.025217468281504923,3.048647838729174,0.4256141914639317,2.0135717188094993,0.3055844997968123,0.42937849497171615,0.030452460898116485,0.11181518770863887,0.08890556381935841,0.572802245803158,1.4672317110045374,0.023822744780711357,1.3166953986469927,4.137920150721894,0.00024188946397475606,1.0609960801855876,0.3629064824245813,2.217499315821199,0.42090858870379927,0.19999445831696194,0.06649108182190222,0.007838657324921058,0.5846220725637685,0.2911859738963516,5.140409641534979,0.014841688645756855,0.07926477205086455,3.485028804719067,0.6700718143515875,2.822549548840683,0.8378303146133288,0.925560600232822,1.672493040901271,0.1449059568464131,0.03692982562670456,3.7340427998990173,0.8016836083893012,0.5845202331086964,0.00044001400779454465,1.2878793981453431,1.8358588760349417,0.06911526514480745,0.7651913053962895,0.5895270110943515,0.6252144737209467,0.0831265503202721,0.452789801859455,1.1265477316417585,0.5814955181594423,0.03520323293628544,0.5391193221440084,0.1912963512537743,1.9546779147989488,0.7935305293067899,3.236579892998089,0.2204247647202334,0.24079840113058557,0.0027352291010869995,0.3111134331515333,0.024310603391395638,0.018066653673527784,2.977625590078904,1.735473279151948,2.193704719424771,0.02546404393352783,0.25764013576071876,0.10700817034659806,0.19474953163509226,0.6842166744056472,0.0035774324671053485,1.566750824453146,0.013367596065877915,7.696568906671802,1.4259428400114509,0.08914014458196323,2.468129345133019,0.7590618544757477,0.7715038712780302,6.658952580549601,1.6794739962765382,0.6440055948873413,3.2257077725424645,0.054291441193610956,0.017402232514495748,0.9757876930830156,2.589045710550228,0.20297642436087818,0.004730725096191419,0.06774365638032696,0.2688439058958241,0.18902581789442977,3.370636533687784,0.5393036789585397,0.8767944357479317,3.3450934906344947,1.693427807460998,0.31101052042570365,2.934201191878007,0.12494893509636587,2.6692641554896275,3.039269413721668,0.7453280199725895,0.3298498689613016,2.816378371838392,0.473240032575548,0.701178644610502,2.973488610318313,0.5169628561836684,1.8903069035599125,2.2753680706477275,1.5775128234647975,0.0007968020489009498,0.5177807285908609,0.19649262269356027,0.0018086946902722205,1.4123007031599248,0.5322859203189366,0.17640542465608602,0.05757626594869127,1.3956015819805034,0.39382628427740635,0.8517877890024429,0.9829330497416217,1.5144132693110666,4.4766698832772756,0.001048547740949335,2.25451299297218,1.2948050174464765,0.5057399745290978,0.06204545196302546,0.2851744435334792,0.033541585149012926,0.070830123199641,0.04158413061855665,1.3953842362202817,0.21815325873881727,2.2512120169489678,3.5168132954420184,1.3688464490055083,0.5773843731925704,0.5953548082010323,3.7475008677319757,1.967041023284636,0.21274672708898246,0.0552038785206627,0.14760221320172814,0.4149757724450292,3.570202255604005,0.05222488921325739,0.8534538892635145,0.5550562742472985,0.026634721140707553,0.0033814083718286727,1.307921988163668,0.3885443394295027,5.903374946584558,0.13304632910021688,0.044929350986191045,1.9645891642038178,0.08103929665701944,0.00016718983713915174,0.2016824644168978,0.17018684988691515,0.3732088782606763,0.0005241462807906978,0.11862863798913277,0.6938034708876301,0.07256366148292301,8.038729523362298,0.6110449465744608,0.0008020457633481805,0.013208690582956784,0.2334178035636262,0.1917438636989715,0.0014583182535965506,2.4883273097580743,0.2814985312723081,1.1538432341152494,0.0012017570551997084,0.40483849361279034,0.004152963758588801,0.023893752501043357,0.5605137313770686,0.8429766189134345,0.3016705640089716,0.03498152090826702,0.43517790486274804,3.452582211194106,0.7011509603186072,0.9533260455897234,0.7439749580930635,0.061678037701475945,0.29530181161044766,0.014116758864250485,0.036496265213178974,1.468602353799463,0.9004306279697242,0.0918352343420103,0.18033241683764242,0.013895948429594282,0.4562904629297987,0.42100195184418504,0.2389024763608035,0.6950172075311009,1.3573951045797923,0.060252520492408985,0.1640515286441231,0.012546861446519203,0.007704436243868205,0.4262153486492818,0.19175517731266442,0.1929953229748726,0.11265962135071644,0.13700789824227444,0.10944487581643718,0.25827661526952145,0.05549924838883874,0.02527813783202132,0.006292836624459514,0.009109034512819992,0.13508214434833854,0.3100492109253796,0.9794704394131623,0.272450013601935,0.2108949027933648,0.19144816399328193,0.6370852571968721,1.087102394473455,1.0051711183346792,0.819644039358886,0.1289522920841064,1.9372515703293158,0.9370847500506697,1.548420352512597,1.1197823973492573,0.4858304703519747,1.4543840409674544,1.8965296605143174,0.08277323244017604,0.12019314394882967,1.5185018300880595,0.4717428710093448,0.4026714718449029,0.08378371678035573,1.5271817481248167,0.03979153619285548,0.18681235853207073,0.5677342337134227,0.20847042606890062,0.15076779732523435,1.6525959517264643,0.6050161542787952,5.0989496606007245,1.4032147155961225,0.4483046479511426,0.005599251272240369,2.361967704201856,0.23460106318096263,0.31511183176730406,0.4197421352736681,0.14667804645011173,0.6516742945150709,0.2665278347335064,0.8812442755594885,0.2269650976871275,0.0028209167952731123,0.5084081381682475,0.042543265868145254,0.0013818104933758354,2.905184110291877,0.0032279944045633634,0.0007492189125729176,1.484421370863016,0.7278076991857515,0.03297243680243104,0.1365733135931034,0.042501744888989855,0.0830265938355001,0.9701630884836071,2.137424766979748,1.5718943357037047,0.38055961830498347,0.2609831933036154,0.32654388085335573,0.26632315182592026,2.619536171043624,4.0538313622931765,1.4133784418066135,0.35869166692354804,0.6754234938418774,0.011450004202841929,1.4882999642824153,0.2124498000511143,1.1706466754049998,0.5494272807317376,0.9347378476969596,0.8597673792038185,1.7813303763572474,0.5886885365273147,1.3881045489409156,0.08311268843232222,0.09912431304716768,0.5300667435446202,0.3655314667686166,0.9614033578752396,0.7802899290542832,0.84317781711054,0.8341130585921853,0.06525091698690266,2.000909338991965,0.1669494302205839,1.532212872323708,0.21116503486886953,0.026567003681598325,1.2080268882152623,0.2589204363518904,0.5998218255869945,1.090735473850244,0.23007157540051545,1.2627780332276752,0.23897230980528145,3.268855445792009,0.8922158748481103,0.9124953631585276,0.4189607125637705,2.520279685081395,0.683593936889666,1.7851370842910523,2.0091521903238354e-05,0.9230493983887682,0.11933678130903987,0.7501532137134989,0.058192472412272,0.14406819568920362,1.144082083668842,2.055256410474599,0.3074497235852136,1.7635356268051037,0.22595824743403445,0.16268974902462818,0.00019869780183630253,0.2012891900887195,0.019015866285928554,0.18901127552722977,0.0029237173332389474,0.1406017545917423,0.14485655018510094,3.078202294578325,0.5856597241274427,3.335394627824077,0.009427597188659504,0.4915622664561953,1.4398640221277073,0.402236980345194,1.4719305652645336,0.5607057529260037,0.015234960378994664,0.22701889073243986,0.29471702368088,2.5828218260753966,0.37647547057761593,3.475415313625443,1.1837641937774401,0.0058191706952192696,1.0573454598975094,0.0035510063974410065,1.4593619773408342,0.20086808623359406,1.0902426160789223,0.21310158813008692,0.01702709497508268,0.144385392338287,0.27686542330998354,3.3195409252579893,1.6649294578726042,0.8083602130645077,0.6642219183511857,0.6403518330820993,0.2636656389148592,0.2761203333318673,0.49162590732405703,0.0866624853077484,1.2723008268718636,2.525781545530912,0.002743403755681225,0.002562602838836409,0.017701684105161444,0.18358167834991834,0.0180479197898492,0.5853710659907175,0.712984634949909,0.3597083943973546,0.10735134426263311,0.6167546307388836,0.2633224146578017,0.010054376678474695,1.0331866692402516,1.5797383361794632e-06,0.11618144608434992,0.4269162692075274,0.14393157069443496,0.02898169038107816,0.20018193888942384,0.31406982332612965,0.041973556109118494,0.12409827814648758,0.351026316289463,7.163697735023568,0.25045267714573094],\"y\":[0.7918519814670204,3.6923076627444575,0.8697111579324494,0.0014753740309561998,0.1616647626613957,0.9663545388125867,0.11256031937092822,3.5185765941243545,0.9856581655238785,0.2971310846124426,1.6984704526954728,0.8860544084771679,1.4893799466056785,2.086043366540142,0.2117069319361142,0.8798543087068141,0.07494495775536185,1.0857649612397529,0.3927726231194123,0.027496991014517934,0.07761844620204165,0.5803332403331631,0.013508264201172829,0.31356011130322586,0.08349639295098707,4.395837220094894,1.49819153000247,2.065347564971706,2.2393010273574485,0.19497043875503237,0.003626643677180224,0.31749547926880783,0.0009357297735229469,0.3077853556522706,0.9219635249111191,0.283335092819214,0.009136487021587222,0.02046320774307354,1.4864393047811004,0.02234531716808887,1.2823158074981176,1.2674679649332388,2.3232896759651875e-05,0.7993927197580718,0.07470150213630833,0.0034888827460152244,0.015238626687846271,0.009665528051990726,0.09463892509915105,0.35521813226241755,4.413116204596085,0.6699954098238827,2.5580498113683934,3.6986272772687188,0.02800009907910799,0.008550019536200082,0.017248692631919926,0.3760691298226792,1.4172744417112144,0.011590730554369705,5.331602935114981,0.00010214327172553247,0.0247953680540878,0.011206360219254932,0.14444532073475888,0.24109564083659113,1.5614774068440236,0.009267810059231876,0.15239726534470202,1.6582388102929728,0.35970006232303336,0.27443808216015336,1.7923647218661507,0.6066821103220631,0.5892618255722012,0.07734191540194695,0.37436523504543695,0.2977470059249422,0.9479977578434932,4.255553379159784,0.33274562771014105,0.6965871517072499,4.6616363778674526,0.1797564855461929,0.10671547147927812,0.044566759779488874,0.07446271072511815,0.39053272456346555,0.8008095250744373,0.054181511658217225,2.180014781315639,2.7406229085215563,0.216714667715139,0.016202865005597714,0.222237691372017,0.6535853868552849,0.9252377230665321,2.1546937851135697,0.08621641666619279,1.946293432420824e-09,0.026550263169377704,3.319394674117532,2.625260613607909,1.8889362543370671,0.25247877339648994,0.13661131547177455,0.000973995217264575,3.46081543625005,0.04935623585401295,0.011154690087258242,2.8533336241020857,0.3017652818209844,0.07914829491732965,0.8714747603460913,0.289949238745163,0.08763053142469626,2.0157795615857443,2.0773973988313563,1.3521012907371281,0.007660467724071461,7.803454150380816,0.5636297048808319,0.3166707797748203,0.4043907140722177,0.00019440998815573493,0.5812396515817265,7.617749964512401,0.164119851072339,0.2659372435714131,0.0040243397821987685,0.20418277886143968,0.4785397376732474,2.452028908715059,0.11011164048487211,0.0022929671769992962,1.1060964917278515,0.5951198885854493,0.9132444009220194,1.0323236031182215,0.06137785002192145,1.1211916303370948,0.12636639946656184,2.57984221386455,0.03561699936823796,2.498487454759658,0.5279480335953836,0.11167789008242329,2.973491697853348,1.771077869003227,2.47057172624724,0.3257206906573876,0.644292767809396,0.07560700913326168,1.3049665735432268,4.9621132531804594e-05,0.17309165348048308,0.5178151076943002,0.5296975958660969,0.1521492358274549,0.09218996073793807,0.3708878103779945,2.6225722026256815,0.009536971821452874,0.29380076393512516,0.6234694239400045,3.134275724741698,0.0036952310729513895,0.2763506923439796,0.001333901164874188,0.8067944229172471,1.6353048955018357,3.5037477287268763,0.20874336365533044,1.621254538762731,6.023783409057051,1.7714646151164455,0.34013642422804535,1.2643436522288771,0.2121306414036005,3.0696324470810494,1.0512929688959816,0.6297050716518998,0.0005244096573707678,0.4769157527756661,2.8018819087977067,0.003734988343030526,0.005844096172284334,0.07578588596756182,0.9109187961826398,0.00015078092017418887,3.3320813913289498,0.40963154300972393,0.23168929194007123,11.203820530699174,0.23871823524576302,0.333740946879605,0.3874524720032466,0.2879593279476957,0.009910863575202726,1.2532033805140659,0.6646798097414367,0.054102335140130874,0.9409696641140157,0.06923064091023254,1.2715547461334618,1.7856177481427051,2.2586360868283517,1.4152258380731875,2.2373450263476915,0.8865415498758484,3.270020172361264,0.11085238803541352,1.260541315547742,0.4124265776391567,0.3407495661335217,1.3074536830066226,3.8005086806217467,0.01945425489251367,1.7626917120186418,0.33391336931485166,0.028115351386213953,6.062712426943066,0.010822379340991561,8.43408428512823,2.3616864944840277,0.04541137470554939,0.09077541068318407,1.150505664998979,0.2557388626663788,0.03263760247710765,0.7602199147033137,0.010753234376934739,0.01406963762283426,4.018140336556324,0.2844657788718351,0.010168559061265008,0.19893366142417124,1.2593025189235678,0.8561039947453101,0.07589618373358219,0.2827139296134658,0.22800521536473972,0.6430965955561994,0.23247487078133686,1.8302733685655193,0.05126254617464994,0.5024740837913679,0.4886446273942956,4.585597569671724,0.19325501457228472,0.08728676724657347,0.168697076776378,6.6776846385724795,0.15252200313838485,0.03202615964572838,0.01181708043404785,1.157431289517234,0.0002628325695745134,4.955817487145788,1.2474882450396403,2.526754701356298,0.10942713866841927,2.9950181206898128,0.57564669128533,5.416010685523604,0.06508616727869082,0.006189517936607854,0.012902831791629581,0.007440713709618235,0.005960817305114534,0.697934428479904,0.9288823508082334,1.018720746882525,0.5992566845095155,1.9432938071414227,0.3461077155713454,1.2459780194821404,0.06044346474089072,0.18305167391555047,0.7493891539894584,0.007018403013268643,0.086574569083631,0.4395527922384252,0.5854898688225734,2.405833569143635,0.02176150596572484,0.061223479201966816,1.3702040520863212,1.1876651522946238,0.5269730580293039,0.19866711725973513,0.5343529086619978,0.5207802954210474,0.0002648190473557744,0.07868308146586357,0.48452217057976965,5.809215103305315,3.9689298619793028,0.12434877618418824,0.8914859306918055,0.901503921619866,0.09890540739037895,0.8008326463474011,0.7046582064058079,0.7756203858342905,2.4873604921950876,0.025109856531871106,0.6155378480122694,0.9341301747880549,3.9463886279741844,0.24972596438397976,0.04619986232038244,0.007092182563958591,1.2612508337387214,0.0798558179760484,0.07217712455323305,0.02910016098351477,0.007072373224211535,0.8597258719958455,0.0010200028432539288,0.8505244114115192,0.01774812133009954,2.2803577801853963,0.08625788550332011,0.0011192396786630118,1.4504330875488076,0.9882555172811914,0.4194718196004681,2.8596994605048454,0.4251826420393815,0.16398564022056772,0.8383959519408746,0.26108814590034124,4.885894660910984,1.5832728917753585,0.15310971007317742,1.8914961742671434,0.00040455704864646516,1.1945868147436065,0.13868859445361834,0.016137649402406366,0.29080681509233725,0.04464968384717794,0.39122718515820865,0.022382670686984116,0.3994105073956273,0.44693420395831485,0.802799030557662,0.006815571384206239,1.5990502013021937,0.18346114264561886,0.17319682874536158,1.0571903037312114,0.18060228481783236,0.3364165051037079,2.3385177812392937,0.19056273617338848,0.002552443074673972,0.05965839226856926,0.35327217513435744,1.762134037446577,0.0676334914864975,0.8069971802595485,1.1329561184935013,1.5534584118013108,0.0579287920465569,0.906632340592762,1.1574068128355162,0.0145121409867306,0.20934868477972732,0.6231498451845262,0.9228160948409665,0.7841823206158738,0.3270448898248812,0.14136033418143448,0.7050845546445088,0.14826096740733682,0.009196737097097491,0.38723456245447263,4.40077946239702,3.857124877690581,2.907823445243672,0.00043471461298310584,0.07782866354450914,1.4707364521404684,6.812631429291751,0.14195613629131984,0.6905602065432386,0.4616679612982015,0.01745789074147906,1.0444141113666336,0.7330791756220577,0.4971260957628067,0.06412775801372622,0.267137729202786,0.8213971825974341,0.22879727146912476,0.14157997550340157,1.7750113240348753,0.34072958730821046,1.302444806908568,1.0782016946255473,0.47524634454659176,0.8507657074969489,0.02768747920544329,0.4682733376263324,0.01221119451640027,0.12856644757304633,0.5471653082659993,6.967338151265657,0.25926522162193255,0.010716464095005608,0.7286902123246326,0.009906374990504346,0.9244485855035557,3.3145765407075336,0.25123548509926946,0.4618805737476511,0.3964782005890883,0.10241384722313968,0.055011451611658935,1.4084604485100198,0.052403134360453,0.8397855461201148,1.2454110482296008,2.8267144978041725,0.3368432296894829,0.01302464362292691,2.4128792723507213,1.1796522900086892,0.05355030078774898,0.023314840813708652,0.22569972684530507,0.9539657967652168,0.18825632979471593,0.6580195759566138,4.451005414069253,1.1887577380074026,4.0090746901722705,1.658169148206863,6.121731767085831,9.009925937256872,3.1871897101689846,2.6127118330350414,5.364329591256283,0.11350678614750336,0.9954570660004631,0.12092014671606448,0.5840727629767437,1.1404792548260108,0.18945994265792732,0.6254616995677406,0.10924699295862052,0.1572514453364644,0.8891502306699633,4.001221037690172,0.694200805782362,0.07563983903201728,0.6643367231131437,0.3584344785799119,1.0564387006907021,0.20891763045696374,0.001699250698664528,1.461205364845948,0.39044760294539516,0.00709502391127197,0.11757501307632173,2.15525018524796,2.2692868249675495,0.13770742733146626,0.008189795107561461,0.3025915197518115,2.1515190158106847,0.10713504809959606,2.1126507685312905,0.7156797421788482,0.25687162216469167,5.248500478804207,0.13005812580967463,1.0579348988757757,2.838737482171912,0.08000109677896923,1.9402600251161841,1.067431085871668,0.028000860776643613,0.9558528829240632,3.79169948745855,2.1778404350595792,1.3318930061031287,0.24787842200187943,0.04089248206420712,0.6126481419068692,1.3836779367539105,0.035260968443578664,0.22766982189095494,2.5748642822899517,1.7282436051957217,4.282489665340458,0.027696661988477714,4.248816510024587,0.9951284255834644,5.628260512280332,0.37417184252714664,0.0003917117116826563,1.9036248814141303,1.3421498404497492,0.7313253986153608,1.9839125570169402,0.026129692485360435,0.11184652048879981,0.026389809802073054,0.08993299856283482,2.726995575525728,0.10445232026997321,0.6402349308975825,0.23764753802315974,1.9200897679263703e-05,3.1679320140666056,2.8501854457385005,0.326221018695879,0.9292965746212613,0.36057161303570306,1.3505375205442065,0.1497980817445567,0.07670117857047531,0.029265257256227563,0.024022231804811292,0.3651063962759426,0.004480997647311262,0.5015925509146364,3.278909556527886,2.2185089271101393,0.012522850504355776,0.8581684714479021,3.852061779891369,0.5670737694062343,0.0041303483142423525,1.0167174198929716,0.17303425370990913,0.023047178298966266,0.4219217549104984,1.3025865336851559,1.002898791833432,2.8883321839526697,0.1348774487531157,0.08474607122686723,0.2183702876283187,1.5874208400217378,0.36714804756797625,1.2204312306095044,0.009423606566812827,0.04477539128759461,4.849821395649309,3.663786869408449,1.9647566429170498,0.03378728856240859,0.14248887534147137,0.6167480186531745,0.6956491123807266,0.28124506571146035,1.3266563951733035,0.11769514798439841,3.8249362108640854,2.221766716817029,0.09915984863169953,0.39672445940230217,0.38865297412688704,0.11447142579230261,1.2304298657624229,1.4283154439623582,0.02785136508981618,0.8196950849493769,2.9777563102071793,0.025991271007907712,0.4345310390994396,1.6758198591071203,0.9882895267642686,0.10104548355274205,0.2521851473448547,0.3032956894278785,0.22901040757104382,0.11174372990344106,0.20373096695488935,0.23391124353326703,0.6731159278777249,0.2736781185073242,0.00393762979573237,1.8077236789941065,4.027360860738312,1.1174719012707268,2.02447744749872,0.19510927130898917,0.01604649855525805,3.1921422005965425,0.549277606972793,4.776008973604448e-05,3.4591881959235296,3.5613160122985383,0.01561638209182615,0.034287559106441656,0.18461444679857725,0.5850563846846104,2.585233981758582,1.4711974524228582,0.9258973602028318,0.002321207904887499,0.18415616670443768,0.0015671716904477552,2.1934630305938922,0.17691208271027534,1.993175896717354,0.5608827296810455,0.10737596444896316,0.24198748107967405,0.5117538525229129,1.1625880046936141,0.6352301054638402,0.7002713827620092,1.0522967952545734,0.025592784684215716,0.5520863004362799,0.09580051825672406,0.1587633743279393,0.25242700145709274,0.02311914649427742,0.15240620101643482,0.20068080481635392,0.03464919477666078,0.49517887635329033,0.27665865315129934,0.4409916513965619,6.325105936306095,0.11506196256380917,0.3314882472014121,0.034388177789714106,0.5916514433801825,2.4576338493421046,3.223361981144405,2.618187523614192,2.932867955539859,2.5324019707631917,1.1652522809607417,0.19612565050455505,0.4971462948676815,7.051482852355532,1.5252544930143956,0.08700545124169827,1.0134119994660338,1.4863491061471614,5.773678083859349,1.4210639181359073,0.004838696640331666,1.0693648375011122,1.0204241921007489,0.26324547149623184,0.8172935959675016,0.10200085272829836,2.488385007077089,0.24564787444448313,1.321605081864231,1.421247321618253,0.5688754168088647,0.00820665232397259,0.10487479927855721,1.726197200989158,0.19041769277973014,0.10607640723259591,0.28241186362633997,0.1599768023826538,0.12944527310384032,0.22029613883766452,0.3478475888206311,0.11700976848369761,2.3199769334685945,0.986095729358724,0.3172390965481831,3.793671212940575,0.44895506020877757,0.38487633216062295,0.07949328318885746,0.1423771502971931,6.168240412888896,0.6167684192215994,1.568397890955319,3.706120367983534,0.012489684950951081,0.9336896408887693,0.3271195800389579,0.012763811332633861,0.003992763566081934,0.045737750951506034,1.9185112418127377,0.02635657838323211,0.03921071123170758,1.1320309972000588,3.1305281338322843,0.19364276885688503,0.41542220777063743,3.457418688537713,0.27915837481095873,2.589792142996259,0.06242739459237349,0.7495704275724633,1.4982322721774621,1.3481521914887782,1.0518645478019661,0.9406476254476174,0.21177182672976316,1.4636357226976655,0.30960918472049276,0.13447572285252146,3.3512131179805262,6.694158860430635,0.002918462668727682,0.07065200063457479,0.20721062892504974,1.535356017236579,0.33146701673166284,0.4233279586568455,0.19069229167608004,0.2078050076691508,1.4484528601877287,4.3734316435113465,5.295991870524718,3.294262899125654,0.5061100853040013,0.0970126802608425,1.0634366845450296,0.04046890489757575,1.2143259499973535,0.02925737991486672,0.24866062529616773,0.17745573991264713,2.7225740735965873,0.9287353085001053,0.5631112779894193,0.25813287681112346,0.16984929066156865,0.186796825067922,0.32806600600789704,0.050287260152199774,2.275835183114118,1.8138472069289893,0.5958865026679627,0.1952430497798879,0.43171967038384607,0.006449480720111089,0.23349251162168638,0.12574173197214797,0.7371739376912197,0.5277043473876424,0.9233425576722181,0.012154042803439132,3.9044193539679717,0.31820238110069476,2.9462161866277614,0.18940882549546603,0.10998629802738825,1.0804429108213858e-05,0.2568078046174187,0.22636387081468684,1.3831332890320347,0.011643048920563549,0.4781054224598955,0.3165868519383744,7.621079793695106,0.0006038618392926801,0.08200101614465649,0.0540338093911832,0.4092045884883197,0.16779437676895362,0.45645819092927503,1.6762940224801082,3.908735840659712,1.0141192469991192,0.08232134126548853,0.6455951468312556,1.8847392794607245,1.2575720847287581,10.157155774632438,1.1628067323276716,0.11209812308034992,2.6665113320423686,0.0685022192078604,0.004251706596604629,1.463655382697264,0.37775422843840123,1.1048384540980134,2.22073956867397,0.9199188130044635,0.0024276642914917374,0.24263839509764137,0.030378704549931884,0.022344292710032444,0.36453441959924177,0.1482870697203629,0.06444168275852012,3.282591456168307,0.4214777133638766,0.15658989615608462,0.011564115946260618,0.17696463469537654,0.9380480739378625,1.119590805404418,0.09920757405721166,3.764206926376032,3.993298896557751,0.00023401954063542493,0.589438447831915,0.027635181989232514,8.555588354327337,0.4383279135832067,0.006120849043735569,0.9741798082998778,0.2352062948960233,2.039006434086707,1.5423288447114614,2.449525910866265,0.021940784249572895,2.5845402771395873,2.907772034852592,0.26805022343797447,2.1537853433150516,0.3266157580838699,0.3398223485989281,0.3950636751620932,1.7713267229624934,0.03713297493789769,0.5994108078068741,0.8083634740480176,0.3419333087780437,3.3027149776841007,0.21017721905426004,0.0197825163544869,0.4711763695372339,0.582921687707721,0.18895703637549413,0.2736662154227143,5.600430494523064,1.7168749463354254,0.046668424460672264,3.659605996399344,0.07111891476480402,0.5444093855372388,0.5390969885235298,1.6188359097755098,0.09870498613547954,1.7984526539244383,2.2530708552751966,0.13981522194999624,0.4756280287405798,1.1193680412476457,0.0319836876523689,0.04664026578407743,0.32118775860056864,0.5572662467495997,0.04458846953508198,1.8260412690342835,1.6027667978393865,1.3546823705296598,2.161166979939506,0.9908262103494526,0.7188210458338254,1.02478540934459,0.7098896117335332,0.5103543641717138,0.16154977329043407,0.49503793077299896,0.0002639208222305072,2.3070715289762997,2.8389756504990844,0.021712238419562494,0.28560845397882506,1.1832389571449748,0.3178611025506932,0.28404309491775875,2.3319360741019155,0.34960875777408856,1.7558028982148215,0.03867979773168094,1.4137365445770202,0.23574797673672604,0.4236477293651593,0.363887376938685,0.00937703371338369,2.4874215493799934,1.3170720328645953,2.7763550045456866,0.7790967624165611,3.2204413674480774,0.47658045959654655,0.0005921149672136822,0.579081879964739,0.6907313515158505,6.040051826178929,1.9107288981629487,0.16379870027661564,0.4589954762641342,1.514027908020964,1.0232238094749744,2.61807166819565,6.640259427392377,1.22341105293848,1.917357908209763,1.0989602792386088,0.4640362312449985,0.6851584429134493,0.15665907537681067,0.27519096625815054,0.104254112268012,0.9866968863155696,1.948640431014637,1.2405149391227537,1.5178577987123845,0.008989828181957883,0.016487030086418827,3.39193184929894,0.20941409450925583,0.5157234023460737,2.3224996284530075,0.431388472074868,0.7483788091132875,0.0856243606305623,2.594195410143539,0.09254875194654641,2.016579267178009,0.688184649234223,9.326842996068963,0.7527632073822186,0.1787822983548493,0.608283968962272,1.2488994763356371,0.013230485296181826,0.5382702443702563,2.900006782107628,0.41348356364847233,0.5460846841091354,0.947916963539167,1.0566785400781515,1.6325867513277368,0.2364868333715518,1.6173833425130484,0.08399829840635217,0.5276080005089689,0.3129270734346993,0.26227840030837757,2.4521064067166924,1.8762125910694256,0.655097250727268,0.18518859713082084,4.573413262143194,1.998909296722028,0.17043937959819297,0.31343923575184485,0.0017274339463631283,2.555719772246297,0.8751709748716492,0.4364354670819308,1.109191038912921,1.4503047818790034,0.10123735645111845,3.2456785907605785,0.054150455569860714,0.02205388623659232,1.8882041926870778,0.2664319915872844,2.3259500185043973,1.9003873324271643,1.258156526791304,0.7275423397343849,3.227332168245401,0.10141370273447047,0.18835881000757468,0.3057902871716013,7.215978127932026,1.3666443611618981,0.3802796383031577,0.19962182953031932,2.2949725940435206,0.5790234315578403,1.42300530662292,0.23126069604385655,1.6951364613338968,4.398402686345283,0.3230845899312443,2.3814146831863954,0.10026078273803762,2.84266456464074,1.0286984176648275,0.34777265446987443,0.09780097332011158,0.1830031919608907,2.5013118666930314,0.20561904859899846,0.45597305167255436,0.04444104869218919,0.174373912872518,0.20757357691901446,3.3205941151166947,3.070772629904151],\"type\":\"scatter\"},{\"mode\":\"markers\",\"x\":[0.7918519814670204,3.6923076627444575,0.8697111579324494,0.0014753740309561998,0.1616647626613957,0.9663545388125867,0.11256031937092822,3.5185765941243545,0.9856581655238785,0.2971310846124426,1.6984704526954728,0.8860544084771679,1.4893799466056785,2.086043366540142,0.2117069319361142,0.8798543087068141,0.07494495775536185,1.0857649612397529,0.3927726231194123,0.027496991014517934,0.07761844620204165,0.5803332403331631,0.013508264201172829,0.31356011130322586,0.08349639295098707,4.395837220094894,1.49819153000247,2.065347564971706,2.2393010273574485,0.19497043875503237,0.003626643677180224,0.31749547926880783,0.0009357297735229469,0.3077853556522706,0.9219635249111191,0.283335092819214,0.009136487021587222,0.02046320774307354,1.4864393047811004,0.02234531716808887,1.2823158074981176,1.2674679649332388,2.3232896759651875e-05,0.7993927197580718,0.07470150213630833,0.0034888827460152244,0.015238626687846271,0.009665528051990726,0.09463892509915105,0.35521813226241755,4.413116204596085,0.6699954098238827,2.5580498113683934,3.6986272772687188,0.02800009907910799,0.008550019536200082,0.017248692631919926,0.3760691298226792,1.4172744417112144,0.011590730554369705,5.331602935114981,0.00010214327172553247,0.0247953680540878,0.011206360219254932,0.14444532073475888,0.24109564083659113,1.5614774068440236,0.009267810059231876,0.15239726534470202,1.6582388102929728,0.35970006232303336,0.27443808216015336,1.7923647218661507,0.6066821103220631,0.5892618255722012,0.07734191540194695,0.37436523504543695,0.2977470059249422,0.9479977578434932,4.255553379159784,0.33274562771014105,0.6965871517072499,4.6616363778674526,0.1797564855461929,0.10671547147927812,0.044566759779488874,0.07446271072511815,0.39053272456346555,0.8008095250744373,0.054181511658217225,2.180014781315639,2.7406229085215563,0.216714667715139,0.016202865005597714,0.222237691372017,0.6535853868552849,0.9252377230665321,2.1546937851135697,0.08621641666619279,1.946293432420824e-09,0.026550263169377704,3.319394674117532,2.625260613607909,1.8889362543370671,0.25247877339648994,0.13661131547177455,0.000973995217264575,3.46081543625005,0.04935623585401295,0.011154690087258242,2.8533336241020857,0.3017652818209844,0.07914829491732965,0.8714747603460913,0.289949238745163,0.08763053142469626,2.0157795615857443,2.0773973988313563,1.3521012907371281,0.007660467724071461,7.803454150380816,0.5636297048808319,0.3166707797748203,0.4043907140722177,0.00019440998815573493,0.5812396515817265,7.617749964512401,0.164119851072339,0.2659372435714131,0.0040243397821987685,0.20418277886143968,0.4785397376732474,2.452028908715059,0.11011164048487211,0.0022929671769992962,1.1060964917278515,0.5951198885854493,0.9132444009220194,1.0323236031182215,0.06137785002192145,1.1211916303370948,0.12636639946656184,2.57984221386455,0.03561699936823796,2.498487454759658,0.5279480335953836,0.11167789008242329,2.973491697853348,1.771077869003227,2.47057172624724,0.3257206906573876,0.644292767809396,0.07560700913326168,1.3049665735432268,4.9621132531804594e-05,0.17309165348048308,0.5178151076943002,0.5296975958660969,0.1521492358274549,0.09218996073793807,0.3708878103779945,2.6225722026256815,0.009536971821452874,0.29380076393512516,0.6234694239400045,3.134275724741698,0.0036952310729513895,0.2763506923439796,0.001333901164874188,0.8067944229172471,1.6353048955018357,3.5037477287268763,0.20874336365533044,1.621254538762731,6.023783409057051,1.7714646151164455,0.34013642422804535,1.2643436522288771,0.2121306414036005,3.0696324470810494,1.0512929688959816,0.6297050716518998,0.0005244096573707678,0.4769157527756661,2.8018819087977067,0.003734988343030526,0.005844096172284334,0.07578588596756182,0.9109187961826398,0.00015078092017418887,3.3320813913289498,0.40963154300972393,0.23168929194007123,11.203820530699174,0.23871823524576302,0.333740946879605,0.3874524720032466,0.2879593279476957,0.009910863575202726,1.2532033805140659,0.6646798097414367,0.054102335140130874,0.9409696641140157,0.06923064091023254,1.2715547461334618,1.7856177481427051,2.2586360868283517,1.4152258380731875,2.2373450263476915,0.8865415498758484,3.270020172361264,0.11085238803541352,1.260541315547742,0.4124265776391567,0.3407495661335217,1.3074536830066226,3.8005086806217467,0.01945425489251367,1.7626917120186418,0.33391336931485166,0.028115351386213953,6.062712426943066,0.010822379340991561,8.43408428512823,2.3616864944840277,0.04541137470554939,0.09077541068318407,1.150505664998979,0.2557388626663788,0.03263760247710765,0.7602199147033137,0.010753234376934739,0.01406963762283426,4.018140336556324,0.2844657788718351,0.010168559061265008,0.19893366142417124,1.2593025189235678,0.8561039947453101,0.07589618373358219,0.2827139296134658,0.22800521536473972,0.6430965955561994,0.23247487078133686,1.8302733685655193,0.05126254617464994,0.5024740837913679,0.4886446273942956,4.585597569671724,0.19325501457228472,0.08728676724657347,0.168697076776378,6.6776846385724795,0.15252200313838485,0.03202615964572838,0.01181708043404785,1.157431289517234,0.0002628325695745134,4.955817487145788,1.2474882450396403,2.526754701356298,0.10942713866841927,2.9950181206898128,0.57564669128533,5.416010685523604,0.06508616727869082,0.006189517936607854,0.012902831791629581,0.007440713709618235,0.005960817305114534,0.697934428479904,0.9288823508082334,1.018720746882525,0.5992566845095155,1.9432938071414227,0.3461077155713454,1.2459780194821404,0.06044346474089072,0.18305167391555047,0.7493891539894584,0.007018403013268643,0.086574569083631,0.4395527922384252,0.5854898688225734,2.405833569143635,0.02176150596572484,0.061223479201966816,1.3702040520863212,1.1876651522946238,0.5269730580293039,0.19866711725973513,0.5343529086619978,0.5207802954210474,0.0002648190473557744,0.07868308146586357,0.48452217057976965,5.809215103305315,3.9689298619793028,0.12434877618418824,0.8914859306918055,0.901503921619866,0.09890540739037895,0.8008326463474011,0.7046582064058079,0.7756203858342905,2.4873604921950876,0.025109856531871106,0.6155378480122694,0.9341301747880549,3.9463886279741844,0.24972596438397976,0.04619986232038244,0.007092182563958591,1.2612508337387214,0.0798558179760484,0.07217712455323305,0.02910016098351477,0.007072373224211535,0.8597258719958455,0.0010200028432539288,0.8505244114115192,0.01774812133009954,2.2803577801853963,0.08625788550332011,0.0011192396786630118,1.4504330875488076,0.9882555172811914,0.4194718196004681,2.8596994605048454,0.4251826420393815,0.16398564022056772,0.8383959519408746,0.26108814590034124,4.885894660910984,1.5832728917753585,0.15310971007317742,1.8914961742671434,0.00040455704864646516,1.1945868147436065,0.13868859445361834,0.016137649402406366,0.29080681509233725,0.04464968384717794,0.39122718515820865,0.022382670686984116,0.3994105073956273,0.44693420395831485,0.802799030557662,0.006815571384206239,1.5990502013021937,0.18346114264561886,0.17319682874536158,1.0571903037312114,0.18060228481783236,0.3364165051037079,2.3385177812392937,0.19056273617338848,0.002552443074673972,0.05965839226856926,0.35327217513435744,1.762134037446577,0.0676334914864975,0.8069971802595485,1.1329561184935013,1.5534584118013108,0.0579287920465569,0.906632340592762,1.1574068128355162,0.0145121409867306,0.20934868477972732,0.6231498451845262,0.9228160948409665,0.7841823206158738,0.3270448898248812,0.14136033418143448,0.7050845546445088,0.14826096740733682,0.009196737097097491,0.38723456245447263,4.40077946239702,3.857124877690581,2.907823445243672,0.00043471461298310584,0.07782866354450914,1.4707364521404684,6.812631429291751,0.14195613629131984,0.6905602065432386,0.4616679612982015,0.01745789074147906,1.0444141113666336,0.7330791756220577,0.4971260957628067,0.06412775801372622,0.267137729202786,0.8213971825974341,0.22879727146912476,0.14157997550340157,1.7750113240348753,0.34072958730821046,1.302444806908568,1.0782016946255473,0.47524634454659176,0.8507657074969489,0.02768747920544329,0.4682733376263324,0.01221119451640027,0.12856644757304633,0.5471653082659993,6.967338151265657,0.25926522162193255,0.010716464095005608,0.7286902123246326,0.009906374990504346,0.9244485855035557,3.3145765407075336,0.25123548509926946,0.4618805737476511,0.3964782005890883,0.10241384722313968,0.055011451611658935,1.4084604485100198,0.052403134360453,0.8397855461201148,1.2454110482296008,2.8267144978041725,0.3368432296894829,0.01302464362292691,2.4128792723507213,1.1796522900086892,0.05355030078774898,0.023314840813708652,0.22569972684530507,0.9539657967652168,0.18825632979471593,0.6580195759566138,4.451005414069253,1.1887577380074026,4.0090746901722705,1.658169148206863,6.121731767085831,9.009925937256872,3.1871897101689846,2.6127118330350414,5.364329591256283,0.11350678614750336,0.9954570660004631,0.12092014671606448,0.5840727629767437,1.1404792548260108,0.18945994265792732,0.6254616995677406,0.10924699295862052,0.1572514453364644,0.8891502306699633,4.001221037690172,0.694200805782362,0.07563983903201728,0.6643367231131437,0.3584344785799119,1.0564387006907021,0.20891763045696374,0.001699250698664528,1.461205364845948,0.39044760294539516,0.00709502391127197,0.11757501307632173,2.15525018524796,2.2692868249675495,0.13770742733146626,0.008189795107561461,0.3025915197518115,2.1515190158106847,0.10713504809959606,2.1126507685312905,0.7156797421788482,0.25687162216469167,5.248500478804207,0.13005812580967463,1.0579348988757757,2.838737482171912,0.08000109677896923,1.9402600251161841,1.067431085871668,0.028000860776643613,0.9558528829240632,3.79169948745855,2.1778404350595792,1.3318930061031287,0.24787842200187943,0.04089248206420712,0.6126481419068692,1.3836779367539105,0.035260968443578664,0.22766982189095494,2.5748642822899517,1.7282436051957217,4.282489665340458,0.027696661988477714,4.248816510024587,0.9951284255834644,5.628260512280332,0.37417184252714664,0.0003917117116826563,1.9036248814141303,1.3421498404497492,0.7313253986153608,1.9839125570169402,0.026129692485360435,0.11184652048879981,0.026389809802073054,0.08993299856283482,2.726995575525728,0.10445232026997321,0.6402349308975825,0.23764753802315974,1.9200897679263703e-05,3.1679320140666056,2.8501854457385005,0.326221018695879,0.9292965746212613,0.36057161303570306,1.3505375205442065,0.1497980817445567,0.07670117857047531,0.029265257256227563,0.024022231804811292,0.3651063962759426,0.004480997647311262,0.5015925509146364,3.278909556527886,2.2185089271101393,0.012522850504355776,0.8581684714479021,3.852061779891369,0.5670737694062343,0.0041303483142423525,1.0167174198929716,0.17303425370990913,0.023047178298966266,0.4219217549104984,1.3025865336851559,1.002898791833432,2.8883321839526697,0.1348774487531157,0.08474607122686723,0.2183702876283187,1.5874208400217378,0.36714804756797625,1.2204312306095044,0.009423606566812827,0.04477539128759461,4.849821395649309,3.663786869408449,1.9647566429170498,0.03378728856240859,0.14248887534147137,0.6167480186531745,0.6956491123807266,0.28124506571146035,1.3266563951733035,0.11769514798439841,3.8249362108640854,2.221766716817029,0.09915984863169953,0.39672445940230217,0.38865297412688704,0.11447142579230261,1.2304298657624229,1.4283154439623582,0.02785136508981618,0.8196950849493769,2.9777563102071793,0.025991271007907712,0.4345310390994396,1.6758198591071203,0.9882895267642686,0.10104548355274205,0.2521851473448547,0.3032956894278785,0.22901040757104382,0.11174372990344106,0.20373096695488935,0.23391124353326703,0.6731159278777249,0.2736781185073242,0.00393762979573237,1.8077236789941065,4.027360860738312,1.1174719012707268,2.02447744749872,0.19510927130898917,0.01604649855525805,3.1921422005965425,0.549277606972793,4.776008973604448e-05,3.4591881959235296,3.5613160122985383,0.01561638209182615,0.034287559106441656,0.18461444679857725,0.5850563846846104,2.585233981758582,1.4711974524228582,0.9258973602028318,0.002321207904887499,0.18415616670443768,0.0015671716904477552,2.1934630305938922,0.17691208271027534,1.993175896717354,0.5608827296810455,0.10737596444896316,0.24198748107967405,0.5117538525229129,1.1625880046936141,0.6352301054638402,0.7002713827620092,1.0522967952545734,0.025592784684215716,0.5520863004362799,0.09580051825672406,0.1587633743279393,0.25242700145709274,0.02311914649427742,0.15240620101643482,0.20068080481635392,0.03464919477666078,0.49517887635329033,0.27665865315129934,0.4409916513965619,6.325105936306095,0.11506196256380917,0.3314882472014121,0.034388177789714106,0.5916514433801825,2.4576338493421046,3.223361981144405,2.618187523614192,2.932867955539859,2.5324019707631917,1.1652522809607417,0.19612565050455505,0.4971462948676815,7.051482852355532,1.5252544930143956,0.08700545124169827,1.0134119994660338,1.4863491061471614,5.773678083859349,1.4210639181359073,0.004838696640331666,1.0693648375011122,1.0204241921007489,0.26324547149623184,0.8172935959675016,0.10200085272829836,2.488385007077089,0.24564787444448313,1.321605081864231,1.421247321618253,0.5688754168088647,0.00820665232397259,0.10487479927855721,1.726197200989158,0.19041769277973014,0.10607640723259591,0.28241186362633997,0.1599768023826538,0.12944527310384032,0.22029613883766452,0.3478475888206311,0.11700976848369761,2.3199769334685945,0.986095729358724,0.3172390965481831,3.793671212940575,0.44895506020877757,0.38487633216062295,0.07949328318885746,0.1423771502971931,6.168240412888896,0.6167684192215994,1.568397890955319,3.706120367983534,0.012489684950951081,0.9336896408887693,0.3271195800389579,0.012763811332633861,0.003992763566081934,0.045737750951506034,1.9185112418127377,0.02635657838323211,0.03921071123170758,1.1320309972000588,3.1305281338322843,0.19364276885688503,0.41542220777063743,3.457418688537713,0.27915837481095873,2.589792142996259,0.06242739459237349,0.7495704275724633,1.4982322721774621,1.3481521914887782,1.0518645478019661,0.9406476254476174,0.21177182672976316,1.4636357226976655,0.30960918472049276,0.13447572285252146,3.3512131179805262,6.694158860430635,0.002918462668727682,0.07065200063457479,0.20721062892504974,1.535356017236579,0.33146701673166284,0.4233279586568455,0.19069229167608004,0.2078050076691508,1.4484528601877287,4.3734316435113465,5.295991870524718,3.294262899125654,0.5061100853040013,0.0970126802608425,1.0634366845450296,0.04046890489757575,1.2143259499973535,0.02925737991486672,0.24866062529616773,0.17745573991264713,2.7225740735965873,0.9287353085001053,0.5631112779894193,0.25813287681112346,0.16984929066156865,0.186796825067922,0.32806600600789704,0.050287260152199774,2.275835183114118,1.8138472069289893,0.5958865026679627,0.1952430497798879,0.43171967038384607,0.006449480720111089,0.23349251162168638,0.12574173197214797,0.7371739376912197,0.5277043473876424,0.9233425576722181,0.012154042803439132,3.9044193539679717,0.31820238110069476,2.9462161866277614,0.18940882549546603,0.10998629802738825,1.0804429108213858e-05,0.2568078046174187,0.22636387081468684,1.3831332890320347,0.011643048920563549,0.4781054224598955,0.3165868519383744,7.621079793695106,0.0006038618392926801,0.08200101614465649,0.0540338093911832,0.4092045884883197,0.16779437676895362,0.45645819092927503,1.6762940224801082,3.908735840659712,1.0141192469991192,0.08232134126548853,0.6455951468312556,1.8847392794607245,1.2575720847287581,10.157155774632438,1.1628067323276716,0.11209812308034992,2.6665113320423686,0.0685022192078604,0.004251706596604629,1.463655382697264,0.37775422843840123,1.1048384540980134,2.22073956867397,0.9199188130044635,0.0024276642914917374,0.24263839509764137,0.030378704549931884,0.022344292710032444,0.36453441959924177,0.1482870697203629,0.06444168275852012,3.282591456168307,0.4214777133638766,0.15658989615608462,0.011564115946260618,0.17696463469537654,0.9380480739378625,1.119590805404418,0.09920757405721166,3.764206926376032,3.993298896557751,0.00023401954063542493,0.589438447831915,0.027635181989232514,8.555588354327337,0.4383279135832067,0.006120849043735569,0.9741798082998778,0.2352062948960233,2.039006434086707,1.5423288447114614,2.449525910866265,0.021940784249572895,2.5845402771395873,2.907772034852592,0.26805022343797447,2.1537853433150516,0.3266157580838699,0.3398223485989281,0.3950636751620932,1.7713267229624934,0.03713297493789769,0.5994108078068741,0.8083634740480176,0.3419333087780437,3.3027149776841007,0.21017721905426004,0.0197825163544869,0.4711763695372339,0.582921687707721,0.18895703637549413,0.2736662154227143,5.600430494523064,1.7168749463354254,0.046668424460672264,3.659605996399344,0.07111891476480402,0.5444093855372388,0.5390969885235298,1.6188359097755098,0.09870498613547954,1.7984526539244383,2.2530708552751966,0.13981522194999624,0.4756280287405798,1.1193680412476457,0.0319836876523689,0.04664026578407743,0.32118775860056864,0.5572662467495997,0.04458846953508198,1.8260412690342835,1.6027667978393865,1.3546823705296598,2.161166979939506,0.9908262103494526,0.7188210458338254,1.02478540934459,0.7098896117335332,0.5103543641717138,0.16154977329043407,0.49503793077299896,0.0002639208222305072,2.3070715289762997,2.8389756504990844,0.021712238419562494,0.28560845397882506,1.1832389571449748,0.3178611025506932,0.28404309491775875,2.3319360741019155,0.34960875777408856,1.7558028982148215,0.03867979773168094,1.4137365445770202,0.23574797673672604,0.4236477293651593,0.363887376938685,0.00937703371338369,2.4874215493799934,1.3170720328645953,2.7763550045456866,0.7790967624165611,3.2204413674480774,0.47658045959654655,0.0005921149672136822,0.579081879964739,0.6907313515158505,6.040051826178929,1.9107288981629487,0.16379870027661564,0.4589954762641342,1.514027908020964,1.0232238094749744,2.61807166819565,6.640259427392377,1.22341105293848,1.917357908209763,1.0989602792386088,0.4640362312449985,0.6851584429134493,0.15665907537681067,0.27519096625815054,0.104254112268012,0.9866968863155696,1.948640431014637,1.2405149391227537,1.5178577987123845,0.008989828181957883,0.016487030086418827,3.39193184929894,0.20941409450925583,0.5157234023460737,2.3224996284530075,0.431388472074868,0.7483788091132875,0.0856243606305623,2.594195410143539,0.09254875194654641,2.016579267178009,0.688184649234223,9.326842996068963,0.7527632073822186,0.1787822983548493,0.608283968962272,1.2488994763356371,0.013230485296181826,0.5382702443702563,2.900006782107628,0.41348356364847233,0.5460846841091354,0.947916963539167,1.0566785400781515,1.6325867513277368,0.2364868333715518,1.6173833425130484,0.08399829840635217,0.5276080005089689,0.3129270734346993,0.26227840030837757,2.4521064067166924,1.8762125910694256,0.655097250727268,0.18518859713082084,4.573413262143194,1.998909296722028,0.17043937959819297,0.31343923575184485,0.0017274339463631283,2.555719772246297,0.8751709748716492,0.4364354670819308,1.109191038912921,1.4503047818790034,0.10123735645111845,3.2456785907605785,0.054150455569860714,0.02205388623659232,1.8882041926870778,0.2664319915872844,2.3259500185043973,1.9003873324271643,1.258156526791304,0.7275423397343849,3.227332168245401,0.10141370273447047,0.18835881000757468,0.3057902871716013,7.215978127932026,1.3666443611618981,0.3802796383031577,0.19962182953031932,2.2949725940435206,0.5790234315578403,1.42300530662292,0.23126069604385655,1.6951364613338968,4.398402686345283,0.3230845899312443,2.3814146831863954,0.10026078273803762,2.84266456464074,1.0286984176648275,0.34777265446987443,0.09780097332011158,0.1830031919608907,2.5013118666930314,0.20561904859899846,0.45597305167255436,0.04444104869218919,0.174373912872518,0.20757357691901446,3.3205941151166947,3.070772629904151],\"y\":[0.45270646360902084,0.34635617453056805,0.15106246094835957,0.03372147370606769,0.26364557982142217,0.0013420784763791816,0.529978971745442,0.21087835683836254,4.882566369863785,0.11199933274662484,0.5575734637497782,0.9385496647900416,0.3672822312115047,0.22723768181603826,3.3849956647764636,1.956395108023255,0.07505181927842086,3.2072439100104604,4.3587735034036,0.0033971071182163667,5.086169723226225,1.1133087314519419,0.04915793847712534,0.1510970227870143,0.06516991304226126,0.18456305490147012,0.6950961374634553,0.5874551396399333,1.2033992439142338,0.650398722654999,4.745733957682616,0.22000931706388277,1.0303548370083087,1.9128552635358742,5.324846546528105,0.014679273598941032,0.12360733923000258,0.5634139415615819,1.6488966083932814,0.017285400004665247,1.5541445953438684,0.025991015635211688,1.142573418260627,0.9665700610381588,0.9603338382226851,1.9919245128584484,2.24498967583714,1.8348353432400766,3.5967827669575585,0.29768963943283655,0.007323510622613432,4.174006668329159,0.0022878883156449664,3.083244516206605,6.840195658043879,0.02879403607990549,0.12661753011754565,1.1676320187547422,0.06610123584321556,0.11775096131279188,0.035761830770499964,0.06701504482248968,0.344800775079129,0.34826838859998566,0.05773337258041477,0.03142479353206856,3.6660090694812477,0.00834784167763633,0.0796725281383676,0.06105240093811898,0.0006813451845705649,0.7477854022862173,0.29002554588539575,0.3337900002945423,0.32156021783454175,0.05382830535862377,0.088405021988629,0.04215180672872761,0.6065370658005017,3.423088155935823,1.107147898335048,0.13330017039976674,2.4512819965751573,1.7093136884923603,0.017771863544168293,0.38624734844219805,0.44215512673357993,0.49978905917613353,0.40563788765771225,0.98053575077981,1.4877134853940812,2.6772311767572834,0.969219316258461,0.04232435506929678,0.0010499508413502967,0.0770436366884689,1.1510737963410562,0.05209150394331581,0.033668699130056615,0.2530451618109358,0.1533950404532787,0.2744145738211729,0.6758301621269529,0.45993315893247394,2.036976902181137,1.3883768588434517,1.694571653796326,0.13803575419264394,0.30966786092256887,0.2594114374817174,0.2432261445406538,0.3959622505723059,2.6962027745768493,1.0779883593269188,1.3862228836925379,0.1710465690132965,2.0823796456574364,1.6477406556667602,0.4120661321260335,1.1732179003123762,0.07722712779682835,2.6629783458550254,1.0018573984023584,0.0291775030113902,3.0369827240817875,0.010517066189029839,0.7511507569701457,0.8245516646104247,0.16997654359957773,0.005891129552761802,3.2667945810863115,1.571887157701974,3.4150633976416174,1.0934681033425258,0.3888087768526672,0.18410559429804998,1.9372935093310264,0.01672652703400531,1.895763469329797,0.21723707511770277,2.262268957664964,0.17287090083874293,1.1204655660213656,1.3459375536405433,0.21771076599643824,2.067498605022927,0.06596875494245966,0.2985510482453649,0.237823453776858,0.7041705210155684,0.43956518319047266,0.10617456718374181,1.4265130404975452,2.667313791173318,1.3136827317861228,0.08979979235868295,0.08284837309277877,0.0024511060086387973,0.5476651579432513,0.013560389601110962,0.013141029039543303,3.180377821412056,0.048639212274138956,0.0017488582482947143,0.2682525218253719,3.4996023574091364,2.9355345934294466,0.32271638715585593,0.8157295631509495,1.5559078572665936,0.24592382944732077,1.934718896744285,0.020811304764946695,0.5056915420538463,2.282077310541854,1.5382010487929814,3.1705609504563976,0.05204757418614139,0.08464151571668152,3.5020493856485357,0.5545975531887497,0.5688612508365599,0.307304863864374,1.6722767675427417,1.995850060734009e-05,0.4793559590470062,1.9364722615092027,1.7529479195958468,1.6274190382836813,2.918847209334848,1.1256573580894758,0.49672928798838145,0.2903327112586038,0.34454412706824206,0.2454097799407672,0.35614886621650366,0.020152193699957206,1.4147890438651338,1.3103179069862902,7.109208028663184,3.3045683968099833,0.2277810387448032,0.1928519269672502,1.4193415884489733,0.001595917773440627,0.00634355687498486,1.4117338515229698,6.357710304278931,0.23675159995878167,0.16542290000186743,0.002163050312196669,0.2705593154327411,0.5592550099232441,1.9784004146865084,0.003957052802333967,0.9139833813721966,4.619793188804429,2.0395956501911567,0.6279405312506269,0.35608632637727583,0.03972291094427425,0.2545630956587148,1.2712248515392037,0.46488970359730925,9.369116458231797,5.905784654715557,0.05358903327968225,0.048681176731262654,0.09565960740986887,0.03560412341518503,0.09319343471466124,0.14721912155664188,2.8229280820666283,0.2328171643982952,0.000529876386847152,0.06253179829884738,0.6831146097652414,3.102397183056822,3.2041604835834585,0.46578511566799274,0.16716599354203343,2.0874228310901843,0.1488447959616094,1.1370229911138263,0.30521129715236917,0.4286223308081461,0.19139616763106523,0.516321035043264,0.02119833648736549,0.44459917149946254,0.04631545598740886,0.24094235887196705,2.756341265780606,3.1507318733514964,6.50092215291319,0.9152383756215148,0.222933875504521,0.27079629828178653,0.10507955540380914,1.8291712505748539,0.42079036438679296,0.7200821347083433,0.2839423464888578,2.522798065912982,0.006161850369202675,0.3861995663109075,0.212503461514444,0.16255807156664465,6.635322332972744,1.4671697416611933,0.006260049002173468,0.046323296253568645,1.1331522444360218,0.2832858454997329,1.2435157071866916,0.5477146722473979,0.21170106675850228,0.17031796175990555,5.8028625562292415,0.8973652796372241,0.06723705304167658,0.031077819626437478,0.04103134385666847,0.08778764622073437,5.702287233419973,0.2652119707596907,1.2961711241273375,0.06786725558868097,0.17586901711300237,0.41864719927184985,0.02518941629192803,0.21930896652882945,0.7072917565353823,0.31451674736557544,0.16202328412117808,5.882015392543769,0.003365991145275115,0.1722899958854802,0.041510795411625806,0.013740284940630135,0.45039442197336194,0.31948859770769233,0.8089209262345803,0.01262371606786435,1.2576529099285934,0.1958594963085734,0.14932744345864188,0.0018847404342281918,0.028199677300761478,0.06860257684786007,0.7883007566474072,0.027935848616574388,0.7962925619726926,3.194522076547682,1.5149903999708771,5.176006023703874,1.706535995926705,0.016368253393574846,0.26802968047491843,0.99547542850973,0.2220464173504977,0.07520489045405697,0.9931062913907512,0.4607045296452779,0.05281306644357686,0.014346434072676799,0.2019262054905126,1.2659738172272936,0.012244738472364122,0.8961675889279285,0.37729575247812247,0.02666280389666252,3.293521725006616,0.08465770020401817,1.0351010136559742,0.06567100296182884,0.24906669794407896,0.1623657476615419,0.022325792111033145,4.384340827321878,0.11503758105547351,0.14994921351724474,0.000395151690632437,5.742978239772482,1.156658237096727,1.7198510107074214,0.09759935263047373,0.036920004054161105,2.5552225560310404,0.3882714084242131,0.3251349684163801,0.16767219389661187,0.2188983606785493,3.4641407651962433,0.17730895919907844,0.6530101444100397,0.7260154330418522,0.7100200635244955,0.10795034052444467,0.027566933047111268,1.3747565413648293,0.49552956725620934,3.632997816115866,0.5136383643767981,0.014454929384852672,0.196398017162532,0.7828162285860542,0.00021036567734926038,2.7994209795099367,0.00020689373859768986,0.8649974724667041,1.718796797298638,5.165223047808898,1.3236716666439545,0.7666929813021928,1.843228359033152,0.12118824120224428,0.00018612622479163645,0.7510977722897655,2.831720740033222,0.043880869864560856,0.40106637597166594,0.017004624439536712,2.8800723705708617,1.0828678422148292,0.5647395012082965,0.15494562262810868,0.009465857640364124,0.04646470381829594,1.3158727091622964,0.06982566407870709,1.9963730349613662,1.204384379755664,0.0018592185200886578,0.019441687102692087,0.9328209165707282,0.9479085664954032,4.099653675120987,0.44969227899850567,1.0841232764045379,1.8439865360914656,2.8089131466477335,0.69184989201526,2.822734521966064,0.8517159215475865,0.3285645091932044,0.3253344823202851,0.2693968309583605,0.05298306448648283,0.05373841122713277,4.496370093876034,0.5751242592251482,0.24134940873155272,2.184512356678516,0.10765853424369828,0.03785629071062426,2.35463823255316,1.520344298168721,2.4868981629650238,0.7965763133869603,0.5887923232999188,0.6956423145575945,0.33512651558649514,4.724278137704474,2.0790564026097913,0.4627463889177516,0.5191021465595156,0.06998674299926261,0.6669826708247912,0.2263584817213294,0.7969362717193468,0.4121871265509067,0.1327074242228854,0.14261571994415995,0.220847748804833,5.717021813707815,0.9992957026130402,1.373448993959589,0.337816986056762,0.2676830011677497,0.37034181029363106,0.0034535738352099135,0.0462008465794367,0.12720514469416092,2.38441785445907,2.329702706637751,1.2730393609725352,0.025286400262972082,2.8247331746555258,0.2410675853646511,0.9866216317186626,1.9809817790263289,3.8753433803004627,1.4751981440197859,0.6108393540113292,0.028232242199979125,0.18228259079185638,0.0009144928860504998,0.14783568733034286,1.2888307412824223,3.709325659180924e-05,0.27845454497110794,1.2465771612379557,0.022119918157199922,7.902463813889645,0.05795087803174254,0.06823272038207065,2.6377087620653192,0.0014954084517726507,0.35734611594831034,1.0150277220032127,0.5219372174949845,1.000835527221999,1.096136776658365,0.14830561962428632,3.148188082349439,0.48874063254614564,0.9831840870712345,0.18737650536963427,2.292180601507917,0.7904288418021125,0.29691264083913205,0.4387009437941749,0.6286680129531952,0.153499261774419,0.027406076478955738,0.1308055819758959,0.5567602544799767,0.7515008456584811,0.18165309556585196,0.15009320924759215,3.688563220405689,0.551003474722923,0.10846358347462415,0.002475184856946521,6.517640133001141,0.47398231876599733,0.16847472134337718,1.4889256412561436,0.7065789897304865,1.5243092211068254,2.16129241517408,1.4834984862847755,0.09435489213252031,0.48326154851337527,1.7501676124500896,7.24320446056667,0.042763440012876235,4.584699853880477,0.2709619400505826,1.2784387694886445,0.10353431103094957,0.013614698765391682,4.0767299145061155,0.01923527490762969,2.737398872458467,0.27011891127406024,1.9421453360571281,0.041691861945637246,0.21296498037753905,1.1800896390325148,2.576198165279103,0.18792410243650934,0.2660307100957683,0.7912843183394555,2.047082844548392,4.186248796891642,1.5866211354283293,0.33887130980868985,0.7791574490830384,0.1691540837731352,0.5988665765927558,0.27546776657634303,0.2272530207446985,1.033603687217115,1.9111651499995959,0.6925173671762221,0.9747756719779772,0.2803325313585991,0.6308405324253346,0.8007007532317704,0.1145487726844969,1.1374896161576846,0.00033615075574785596,0.16423135414263737,0.05647844880804881,0.6003546823316694,3.1360369656320226,0.6441525208700629,3.093364428296922,0.7525701363659522,0.28592321253753344,0.8200350906187477,1.482802005521061,1.198308199641916,0.9606319902565268,0.03735445786250204,1.9702384705752185,0.0001935031841929614,0.12691753466252945,1.1678624286719559,0.07604836045653388,0.04345301084095009,2.020940071760593,0.003339082454318036,0.08459683295703291,0.011022033410384234,0.760108509155061,1.0308685360671122,0.3819642837636669,1.2976397543121958,0.08475920830396354,0.007211336510967901,0.0013962354559016491,1.4711907751095032,0.919822824374144,1.026769128874043,5.275875848990509,0.013834074177054928,0.3064771141611208,1.601057506627598,4.975111724946706,0.16168394337376527,0.02761359816416955,0.1343776320244292,0.16930007729045027,0.6837185261319032,0.9040958602890983,1.359341610052671,0.25260625723020447,2.11862456366424,0.025217468281504923,3.048647838729174,0.4256141914639317,2.0135717188094993,0.3055844997968123,0.42937849497171615,0.030452460898116485,0.11181518770863887,0.08890556381935841,0.572802245803158,1.4672317110045374,0.023822744780711357,1.3166953986469927,4.137920150721894,0.00024188946397475606,1.0609960801855876,0.3629064824245813,2.217499315821199,0.42090858870379927,0.19999445831696194,0.06649108182190222,0.007838657324921058,0.5846220725637685,0.2911859738963516,5.140409641534979,0.014841688645756855,0.07926477205086455,3.485028804719067,0.6700718143515875,2.822549548840683,0.8378303146133288,0.925560600232822,1.672493040901271,0.1449059568464131,0.03692982562670456,3.7340427998990173,0.8016836083893012,0.5845202331086964,0.00044001400779454465,1.2878793981453431,1.8358588760349417,0.06911526514480745,0.7651913053962895,0.5895270110943515,0.6252144737209467,0.0831265503202721,0.452789801859455,1.1265477316417585,0.5814955181594423,0.03520323293628544,0.5391193221440084,0.1912963512537743,1.9546779147989488,0.7935305293067899,3.236579892998089,0.2204247647202334,0.24079840113058557,0.0027352291010869995,0.3111134331515333,0.024310603391395638,0.018066653673527784,2.977625590078904,1.735473279151948,2.193704719424771,0.02546404393352783,0.25764013576071876,0.10700817034659806,0.19474953163509226,0.6842166744056472,0.0035774324671053485,1.566750824453146,0.013367596065877915,7.696568906671802,1.4259428400114509,0.08914014458196323,2.468129345133019,0.7590618544757477,0.7715038712780302,6.658952580549601,1.6794739962765382,0.6440055948873413,3.2257077725424645,0.054291441193610956,0.017402232514495748,0.9757876930830156,2.589045710550228,0.20297642436087818,0.004730725096191419,0.06774365638032696,0.2688439058958241,0.18902581789442977,3.370636533687784,0.5393036789585397,0.8767944357479317,3.3450934906344947,1.693427807460998,0.31101052042570365,2.934201191878007,0.12494893509636587,2.6692641554896275,3.039269413721668,0.7453280199725895,0.3298498689613016,2.816378371838392,0.473240032575548,0.701178644610502,2.973488610318313,0.5169628561836684,1.8903069035599125,2.2753680706477275,1.5775128234647975,0.0007968020489009498,0.5177807285908609,0.19649262269356027,0.0018086946902722205,1.4123007031599248,0.5322859203189366,0.17640542465608602,0.05757626594869127,1.3956015819805034,0.39382628427740635,0.8517877890024429,0.9829330497416217,1.5144132693110666,4.4766698832772756,0.001048547740949335,2.25451299297218,1.2948050174464765,0.5057399745290978,0.06204545196302546,0.2851744435334792,0.033541585149012926,0.070830123199641,0.04158413061855665,1.3953842362202817,0.21815325873881727,2.2512120169489678,3.5168132954420184,1.3688464490055083,0.5773843731925704,0.5953548082010323,3.7475008677319757,1.967041023284636,0.21274672708898246,0.0552038785206627,0.14760221320172814,0.4149757724450292,3.570202255604005,0.05222488921325739,0.8534538892635145,0.5550562742472985,0.026634721140707553,0.0033814083718286727,1.307921988163668,0.3885443394295027,5.903374946584558,0.13304632910021688,0.044929350986191045,1.9645891642038178,0.08103929665701944,0.00016718983713915174,0.2016824644168978,0.17018684988691515,0.3732088782606763,0.0005241462807906978,0.11862863798913277,0.6938034708876301,0.07256366148292301,8.038729523362298,0.6110449465744608,0.0008020457633481805,0.013208690582956784,0.2334178035636262,0.1917438636989715,0.0014583182535965506,2.4883273097580743,0.2814985312723081,1.1538432341152494,0.0012017570551997084,0.40483849361279034,0.004152963758588801,0.023893752501043357,0.5605137313770686,0.8429766189134345,0.3016705640089716,0.03498152090826702,0.43517790486274804,3.452582211194106,0.7011509603186072,0.9533260455897234,0.7439749580930635,0.061678037701475945,0.29530181161044766,0.014116758864250485,0.036496265213178974,1.468602353799463,0.9004306279697242,0.0918352343420103,0.18033241683764242,0.013895948429594282,0.4562904629297987,0.42100195184418504,0.2389024763608035,0.6950172075311009,1.3573951045797923,0.060252520492408985,0.1640515286441231,0.012546861446519203,0.007704436243868205,0.4262153486492818,0.19175517731266442,0.1929953229748726,0.11265962135071644,0.13700789824227444,0.10944487581643718,0.25827661526952145,0.05549924838883874,0.02527813783202132,0.006292836624459514,0.009109034512819992,0.13508214434833854,0.3100492109253796,0.9794704394131623,0.272450013601935,0.2108949027933648,0.19144816399328193,0.6370852571968721,1.087102394473455,1.0051711183346792,0.819644039358886,0.1289522920841064,1.9372515703293158,0.9370847500506697,1.548420352512597,1.1197823973492573,0.4858304703519747,1.4543840409674544,1.8965296605143174,0.08277323244017604,0.12019314394882967,1.5185018300880595,0.4717428710093448,0.4026714718449029,0.08378371678035573,1.5271817481248167,0.03979153619285548,0.18681235853207073,0.5677342337134227,0.20847042606890062,0.15076779732523435,1.6525959517264643,0.6050161542787952,5.0989496606007245,1.4032147155961225,0.4483046479511426,0.005599251272240369,2.361967704201856,0.23460106318096263,0.31511183176730406,0.4197421352736681,0.14667804645011173,0.6516742945150709,0.2665278347335064,0.8812442755594885,0.2269650976871275,0.0028209167952731123,0.5084081381682475,0.042543265868145254,0.0013818104933758354,2.905184110291877,0.0032279944045633634,0.0007492189125729176,1.484421370863016,0.7278076991857515,0.03297243680243104,0.1365733135931034,0.042501744888989855,0.0830265938355001,0.9701630884836071,2.137424766979748,1.5718943357037047,0.38055961830498347,0.2609831933036154,0.32654388085335573,0.26632315182592026,2.619536171043624,4.0538313622931765,1.4133784418066135,0.35869166692354804,0.6754234938418774,0.011450004202841929,1.4882999642824153,0.2124498000511143,1.1706466754049998,0.5494272807317376,0.9347378476969596,0.8597673792038185,1.7813303763572474,0.5886885365273147,1.3881045489409156,0.08311268843232222,0.09912431304716768,0.5300667435446202,0.3655314667686166,0.9614033578752396,0.7802899290542832,0.84317781711054,0.8341130585921853,0.06525091698690266,2.000909338991965,0.1669494302205839,1.532212872323708,0.21116503486886953,0.026567003681598325,1.2080268882152623,0.2589204363518904,0.5998218255869945,1.090735473850244,0.23007157540051545,1.2627780332276752,0.23897230980528145,3.268855445792009,0.8922158748481103,0.9124953631585276,0.4189607125637705,2.520279685081395,0.683593936889666,1.7851370842910523,2.0091521903238354e-05,0.9230493983887682,0.11933678130903987,0.7501532137134989,0.058192472412272,0.14406819568920362,1.144082083668842,2.055256410474599,0.3074497235852136,1.7635356268051037,0.22595824743403445,0.16268974902462818,0.00019869780183630253,0.2012891900887195,0.019015866285928554,0.18901127552722977,0.0029237173332389474,0.1406017545917423,0.14485655018510094,3.078202294578325,0.5856597241274427,3.335394627824077,0.009427597188659504,0.4915622664561953,1.4398640221277073,0.402236980345194,1.4719305652645336,0.5607057529260037,0.015234960378994664,0.22701889073243986,0.29471702368088,2.5828218260753966,0.37647547057761593,3.475415313625443,1.1837641937774401,0.0058191706952192696,1.0573454598975094,0.0035510063974410065,1.4593619773408342,0.20086808623359406,1.0902426160789223,0.21310158813008692,0.01702709497508268,0.144385392338287,0.27686542330998354,3.3195409252579893,1.6649294578726042,0.8083602130645077,0.6642219183511857,0.6403518330820993,0.2636656389148592,0.2761203333318673,0.49162590732405703,0.0866624853077484,1.2723008268718636,2.525781545530912,0.002743403755681225,0.002562602838836409,0.017701684105161444,0.18358167834991834,0.0180479197898492,0.5853710659907175,0.712984634949909,0.3597083943973546,0.10735134426263311,0.6167546307388836,0.2633224146578017,0.010054376678474695,1.0331866692402516,1.5797383361794632e-06,0.11618144608434992,0.4269162692075274,0.14393157069443496,0.02898169038107816,0.20018193888942384,0.31406982332612965,0.041973556109118494,0.12409827814648758,0.351026316289463,7.163697735023568,0.25045267714573094],\"type\":\"scatter\"}],                        {\"template\":{\"data\":{\"histogram2dcontour\":[{\"type\":\"histogram2dcontour\",\"colorbar\":{\"outlinewidth\":0,\"ticks\":\"\"},\"colorscale\":[[0.0,\"#0d0887\"],[0.1111111111111111,\"#46039f\"],[0.2222222222222222,\"#7201a8\"],[0.3333333333333333,\"#9c179e\"],[0.4444444444444444,\"#bd3786\"],[0.5555555555555556,\"#d8576b\"],[0.6666666666666666,\"#ed7953\"],[0.7777777777777778,\"#fb9f3a\"],[0.8888888888888888,\"#fdca26\"],[1.0,\"#f0f921\"]]}],\"choropleth\":[{\"type\":\"choropleth\",\"colorbar\":{\"outlinewidth\":0,\"ticks\":\"\"}}],\"histogram2d\":[{\"type\":\"histogram2d\",\"colorbar\":{\"outlinewidth\":0,\"ticks\":\"\"},\"colorscale\":[[0.0,\"#0d0887\"],[0.1111111111111111,\"#46039f\"],[0.2222222222222222,\"#7201a8\"],[0.3333333333333333,\"#9c179e\"],[0.4444444444444444,\"#bd3786\"],[0.5555555555555556,\"#d8576b\"],[0.6666666666666666,\"#ed7953\"],[0.7777777777777778,\"#fb9f3a\"],[0.8888888888888888,\"#fdca26\"],[1.0,\"#f0f921\"]]}],\"heatmap\":[{\"type\":\"heatmap\",\"colorbar\":{\"outlinewidth\":0,\"ticks\":\"\"},\"colorscale\":[[0.0,\"#0d0887\"],[0.1111111111111111,\"#46039f\"],[0.2222222222222222,\"#7201a8\"],[0.3333333333333333,\"#9c179e\"],[0.4444444444444444,\"#bd3786\"],[0.5555555555555556,\"#d8576b\"],[0.6666666666666666,\"#ed7953\"],[0.7777777777777778,\"#fb9f3a\"],[0.8888888888888888,\"#fdca26\"],[1.0,\"#f0f921\"]]}],\"heatmapgl\":[{\"type\":\"heatmapgl\",\"colorbar\":{\"outlinewidth\":0,\"ticks\":\"\"},\"colorscale\":[[0.0,\"#0d0887\"],[0.1111111111111111,\"#46039f\"],[0.2222222222222222,\"#7201a8\"],[0.3333333333333333,\"#9c179e\"],[0.4444444444444444,\"#bd3786\"],[0.5555555555555556,\"#d8576b\"],[0.6666666666666666,\"#ed7953\"],[0.7777777777777778,\"#fb9f3a\"],[0.8888888888888888,\"#fdca26\"],[1.0,\"#f0f921\"]]}],\"contourcarpet\":[{\"type\":\"contourcarpet\",\"colorbar\":{\"outlinewidth\":0,\"ticks\":\"\"}}],\"contour\":[{\"type\":\"contour\",\"colorbar\":{\"outlinewidth\":0,\"ticks\":\"\"},\"colorscale\":[[0.0,\"#0d0887\"],[0.1111111111111111,\"#46039f\"],[0.2222222222222222,\"#7201a8\"],[0.3333333333333333,\"#9c179e\"],[0.4444444444444444,\"#bd3786\"],[0.5555555555555556,\"#d8576b\"],[0.6666666666666666,\"#ed7953\"],[0.7777777777777778,\"#fb9f3a\"],[0.8888888888888888,\"#fdca26\"],[1.0,\"#f0f921\"]]}],\"surface\":[{\"type\":\"surface\",\"colorbar\":{\"outlinewidth\":0,\"ticks\":\"\"},\"colorscale\":[[0.0,\"#0d0887\"],[0.1111111111111111,\"#46039f\"],[0.2222222222222222,\"#7201a8\"],[0.3333333333333333,\"#9c179e\"],[0.4444444444444444,\"#bd3786\"],[0.5555555555555556,\"#d8576b\"],[0.6666666666666666,\"#ed7953\"],[0.7777777777777778,\"#fb9f3a\"],[0.8888888888888888,\"#fdca26\"],[1.0,\"#f0f921\"]]}],\"mesh3d\":[{\"type\":\"mesh3d\",\"colorbar\":{\"outlinewidth\":0,\"ticks\":\"\"}}],\"scatter\":[{\"fillpattern\":{\"fillmode\":\"overlay\",\"size\":10,\"solidity\":0.2},\"type\":\"scatter\"}],\"parcoords\":[{\"type\":\"parcoords\",\"line\":{\"colorbar\":{\"outlinewidth\":0,\"ticks\":\"\"}}}],\"scatterpolargl\":[{\"type\":\"scatterpolargl\",\"marker\":{\"colorbar\":{\"outlinewidth\":0,\"ticks\":\"\"}}}],\"bar\":[{\"error_x\":{\"color\":\"#2a3f5f\"},\"error_y\":{\"color\":\"#2a3f5f\"},\"marker\":{\"line\":{\"color\":\"#E5ECF6\",\"width\":0.5},\"pattern\":{\"fillmode\":\"overlay\",\"size\":10,\"solidity\":0.2}},\"type\":\"bar\"}],\"scattergeo\":[{\"type\":\"scattergeo\",\"marker\":{\"colorbar\":{\"outlinewidth\":0,\"ticks\":\"\"}}}],\"scatterpolar\":[{\"type\":\"scatterpolar\",\"marker\":{\"colorbar\":{\"outlinewidth\":0,\"ticks\":\"\"}}}],\"histogram\":[{\"marker\":{\"pattern\":{\"fillmode\":\"overlay\",\"size\":10,\"solidity\":0.2}},\"type\":\"histogram\"}],\"scattergl\":[{\"type\":\"scattergl\",\"marker\":{\"colorbar\":{\"outlinewidth\":0,\"ticks\":\"\"}}}],\"scatter3d\":[{\"type\":\"scatter3d\",\"line\":{\"colorbar\":{\"outlinewidth\":0,\"ticks\":\"\"}},\"marker\":{\"colorbar\":{\"outlinewidth\":0,\"ticks\":\"\"}}}],\"scattermapbox\":[{\"type\":\"scattermapbox\",\"marker\":{\"colorbar\":{\"outlinewidth\":0,\"ticks\":\"\"}}}],\"scatterternary\":[{\"type\":\"scatterternary\",\"marker\":{\"colorbar\":{\"outlinewidth\":0,\"ticks\":\"\"}}}],\"scattercarpet\":[{\"type\":\"scattercarpet\",\"marker\":{\"colorbar\":{\"outlinewidth\":0,\"ticks\":\"\"}}}],\"carpet\":[{\"aaxis\":{\"endlinecolor\":\"#2a3f5f\",\"gridcolor\":\"white\",\"linecolor\":\"white\",\"minorgridcolor\":\"white\",\"startlinecolor\":\"#2a3f5f\"},\"baxis\":{\"endlinecolor\":\"#2a3f5f\",\"gridcolor\":\"white\",\"linecolor\":\"white\",\"minorgridcolor\":\"white\",\"startlinecolor\":\"#2a3f5f\"},\"type\":\"carpet\"}],\"table\":[{\"cells\":{\"fill\":{\"color\":\"#EBF0F8\"},\"line\":{\"color\":\"white\"}},\"header\":{\"fill\":{\"color\":\"#C8D4E3\"},\"line\":{\"color\":\"white\"}},\"type\":\"table\"}],\"barpolar\":[{\"marker\":{\"line\":{\"color\":\"#E5ECF6\",\"width\":0.5},\"pattern\":{\"fillmode\":\"overlay\",\"size\":10,\"solidity\":0.2}},\"type\":\"barpolar\"}],\"pie\":[{\"automargin\":true,\"type\":\"pie\"}]},\"layout\":{\"autotypenumbers\":\"strict\",\"colorway\":[\"#636efa\",\"#EF553B\",\"#00cc96\",\"#ab63fa\",\"#FFA15A\",\"#19d3f3\",\"#FF6692\",\"#B6E880\",\"#FF97FF\",\"#FECB52\"],\"font\":{\"color\":\"#2a3f5f\"},\"hovermode\":\"closest\",\"hoverlabel\":{\"align\":\"left\"},\"paper_bgcolor\":\"white\",\"plot_bgcolor\":\"#E5ECF6\",\"polar\":{\"bgcolor\":\"#E5ECF6\",\"angularaxis\":{\"gridcolor\":\"white\",\"linecolor\":\"white\",\"ticks\":\"\"},\"radialaxis\":{\"gridcolor\":\"white\",\"linecolor\":\"white\",\"ticks\":\"\"}},\"ternary\":{\"bgcolor\":\"#E5ECF6\",\"aaxis\":{\"gridcolor\":\"white\",\"linecolor\":\"white\",\"ticks\":\"\"},\"baxis\":{\"gridcolor\":\"white\",\"linecolor\":\"white\",\"ticks\":\"\"},\"caxis\":{\"gridcolor\":\"white\",\"linecolor\":\"white\",\"ticks\":\"\"}},\"coloraxis\":{\"colorbar\":{\"outlinewidth\":0,\"ticks\":\"\"}},\"colorscale\":{\"sequential\":[[0.0,\"#0d0887\"],[0.1111111111111111,\"#46039f\"],[0.2222222222222222,\"#7201a8\"],[0.3333333333333333,\"#9c179e\"],[0.4444444444444444,\"#bd3786\"],[0.5555555555555556,\"#d8576b\"],[0.6666666666666666,\"#ed7953\"],[0.7777777777777778,\"#fb9f3a\"],[0.8888888888888888,\"#fdca26\"],[1.0,\"#f0f921\"]],\"sequentialminus\":[[0.0,\"#0d0887\"],[0.1111111111111111,\"#46039f\"],[0.2222222222222222,\"#7201a8\"],[0.3333333333333333,\"#9c179e\"],[0.4444444444444444,\"#bd3786\"],[0.5555555555555556,\"#d8576b\"],[0.6666666666666666,\"#ed7953\"],[0.7777777777777778,\"#fb9f3a\"],[0.8888888888888888,\"#fdca26\"],[1.0,\"#f0f921\"]],\"diverging\":[[0,\"#8e0152\"],[0.1,\"#c51b7d\"],[0.2,\"#de77ae\"],[0.3,\"#f1b6da\"],[0.4,\"#fde0ef\"],[0.5,\"#f7f7f7\"],[0.6,\"#e6f5d0\"],[0.7,\"#b8e186\"],[0.8,\"#7fbc41\"],[0.9,\"#4d9221\"],[1,\"#276419\"]]},\"xaxis\":{\"gridcolor\":\"white\",\"linecolor\":\"white\",\"ticks\":\"\",\"title\":{\"standoff\":15},\"zerolinecolor\":\"white\",\"automargin\":true,\"zerolinewidth\":2},\"yaxis\":{\"gridcolor\":\"white\",\"linecolor\":\"white\",\"ticks\":\"\",\"title\":{\"standoff\":15},\"zerolinecolor\":\"white\",\"automargin\":true,\"zerolinewidth\":2},\"scene\":{\"xaxis\":{\"backgroundcolor\":\"#E5ECF6\",\"gridcolor\":\"white\",\"linecolor\":\"white\",\"showbackground\":true,\"ticks\":\"\",\"zerolinecolor\":\"white\",\"gridwidth\":2},\"yaxis\":{\"backgroundcolor\":\"#E5ECF6\",\"gridcolor\":\"white\",\"linecolor\":\"white\",\"showbackground\":true,\"ticks\":\"\",\"zerolinecolor\":\"white\",\"gridwidth\":2},\"zaxis\":{\"backgroundcolor\":\"#E5ECF6\",\"gridcolor\":\"white\",\"linecolor\":\"white\",\"showbackground\":true,\"ticks\":\"\",\"zerolinecolor\":\"white\",\"gridwidth\":2}},\"shapedefaults\":{\"line\":{\"color\":\"#2a3f5f\"}},\"annotationdefaults\":{\"arrowcolor\":\"#2a3f5f\",\"arrowhead\":0,\"arrowwidth\":1},\"geo\":{\"bgcolor\":\"white\",\"landcolor\":\"#E5ECF6\",\"subunitcolor\":\"white\",\"showland\":true,\"showlakes\":true,\"lakecolor\":\"white\"},\"title\":{\"x\":0.05},\"mapbox\":{\"style\":\"light\"}}}},                        {\"responsive\": true}                    ).then(function(){\n",
       "                            \n",
       "var gd = document.getElementById('f3eb51f1-2952-467f-8e2a-71af0f16140a');\n",
       "var x = new MutationObserver(function (mutations, observer) {{\n",
       "        var display = window.getComputedStyle(gd).display;\n",
       "        if (!display || display === 'none') {{\n",
       "            console.log([gd, 'removed!']);\n",
       "            Plotly.purge(gd);\n",
       "            observer.disconnect();\n",
       "        }}\n",
       "}});\n",
       "\n",
       "// Listen for the removal of the full notebook cells\n",
       "var notebookContainer = gd.closest('#notebook-container');\n",
       "if (notebookContainer) {{\n",
       "    x.observe(notebookContainer, {childList: true});\n",
       "}}\n",
       "\n",
       "// Listen for the clearing of the current output cell\n",
       "var outputEl = gd.closest('.output');\n",
       "if (outputEl) {{\n",
       "    x.observe(outputEl, {childList: true});\n",
       "}}\n",
       "\n",
       "                        })                };                });            </script>        </div>"
      ]
     },
     "metadata": {},
     "output_type": "display_data"
    }
   ],
   "source": [
    "random_x = np.random.randn(1000)\n",
    "random_y = np.random.randn(1000)\n",
    "# Create a trace\n",
    "trace1 = go.Scatter(\n",
    "    x = random_x,\n",
    "    y = random_y,\n",
    "    mode = 'markers'\n",
    ")\n",
    "\n",
    "\n",
    "trace2 = go.Scatter(\n",
    "    x = random_x**2,\n",
    "    y = random_y**2,\n",
    "    mode = 'markers'\n",
    ")\n",
    "\n",
    "trace3 = go.Scatter(\n",
    "    x = random_y**2,\n",
    "    y = random_x**2,\n",
    "    mode = 'markers',\n",
    "   \n",
    ")\n",
    "\n",
    "data = [trace1, trace2, trace3]\n",
    "fig = go.Figure(data)\n",
    "fig"
   ]
  },
  {
   "cell_type": "markdown",
   "id": "d95f88c3-7c7d-46d9-b17f-b42f9f1e27f2",
   "metadata": {},
   "source": [
    "## Create a simple scatter plot"
   ]
  },
  {
   "cell_type": "code",
   "execution_count": 7,
   "id": "d35b841a",
   "metadata": {},
   "outputs": [
    {
     "data": {
      "text/html": [
       "<div>\n",
       "<style scoped>\n",
       "    .dataframe tbody tr th:only-of-type {\n",
       "        vertical-align: middle;\n",
       "    }\n",
       "\n",
       "    .dataframe tbody tr th {\n",
       "        vertical-align: top;\n",
       "    }\n",
       "\n",
       "    .dataframe thead th {\n",
       "        text-align: right;\n",
       "    }\n",
       "</style>\n",
       "<table border=\"1\" class=\"dataframe\">\n",
       "  <thead>\n",
       "    <tr style=\"text-align: right;\">\n",
       "      <th></th>\n",
       "      <th>total_bill</th>\n",
       "      <th>tip</th>\n",
       "      <th>sex</th>\n",
       "      <th>smoker</th>\n",
       "      <th>day</th>\n",
       "      <th>time</th>\n",
       "      <th>size</th>\n",
       "    </tr>\n",
       "  </thead>\n",
       "  <tbody>\n",
       "    <tr>\n",
       "      <th>0</th>\n",
       "      <td>16.99</td>\n",
       "      <td>1.01</td>\n",
       "      <td>Female</td>\n",
       "      <td>No</td>\n",
       "      <td>Sun</td>\n",
       "      <td>Dinner</td>\n",
       "      <td>2</td>\n",
       "    </tr>\n",
       "    <tr>\n",
       "      <th>1</th>\n",
       "      <td>10.34</td>\n",
       "      <td>1.66</td>\n",
       "      <td>Male</td>\n",
       "      <td>No</td>\n",
       "      <td>Sun</td>\n",
       "      <td>Dinner</td>\n",
       "      <td>3</td>\n",
       "    </tr>\n",
       "    <tr>\n",
       "      <th>2</th>\n",
       "      <td>21.01</td>\n",
       "      <td>3.50</td>\n",
       "      <td>Male</td>\n",
       "      <td>No</td>\n",
       "      <td>Sun</td>\n",
       "      <td>Dinner</td>\n",
       "      <td>3</td>\n",
       "    </tr>\n",
       "  </tbody>\n",
       "</table>\n",
       "</div>"
      ],
      "text/plain": [
       "   total_bill   tip     sex smoker  day    time  size\n",
       "0       16.99  1.01  Female     No  Sun  Dinner     2\n",
       "1       10.34  1.66    Male     No  Sun  Dinner     3\n",
       "2       21.01  3.50    Male     No  Sun  Dinner     3"
      ]
     },
     "execution_count": 7,
     "metadata": {},
     "output_type": "execute_result"
    }
   ],
   "source": [
    "# import a dataset about tips at restaurants\n",
    "df = px.data.tips()\n",
    "df.head(3)"
   ]
  },
  {
   "cell_type": "code",
   "execution_count": 9,
   "id": "33e59784",
   "metadata": {},
   "outputs": [
    {
     "data": {
      "application/vnd.plotly.v1+json": {
       "config": {
        "plotlyServerURL": "https://plot.ly"
       },
       "data": [
        {
         "hovertemplate": "total_bill=%{x}<br>index=%{y}<extra></extra>",
         "legendgroup": "",
         "marker": {
          "color": "#636efa",
          "symbol": "circle"
         },
         "mode": "markers",
         "name": "",
         "orientation": "h",
         "showlegend": false,
         "type": "scatter",
         "x": [
          16.99,
          10.34,
          21.01,
          23.68,
          24.59,
          25.29,
          8.77,
          26.88,
          15.04,
          14.78,
          10.27,
          35.26,
          15.42,
          18.43,
          14.83,
          21.58,
          10.33,
          16.29,
          16.97,
          20.65,
          17.92,
          20.29,
          15.77,
          39.42,
          19.82,
          17.81,
          13.37,
          12.69,
          21.7,
          19.65,
          9.55,
          18.35,
          15.06,
          20.69,
          17.78,
          24.06,
          16.31,
          16.93,
          18.69,
          31.27,
          16.04,
          17.46,
          13.94,
          9.68,
          30.4,
          18.29,
          22.23,
          32.4,
          28.55,
          18.04,
          12.54,
          10.29,
          34.81,
          9.94,
          25.56,
          19.49,
          38.01,
          26.41,
          11.24,
          48.27,
          20.29,
          13.81,
          11.02,
          18.29,
          17.59,
          20.08,
          16.45,
          3.07,
          20.23,
          15.01,
          12.02,
          17.07,
          26.86,
          25.28,
          14.73,
          10.51,
          17.92,
          27.2,
          22.76,
          17.29,
          19.44,
          16.66,
          10.07,
          32.68,
          15.98,
          34.83,
          13.03,
          18.28,
          24.71,
          21.16,
          28.97,
          22.49,
          5.75,
          16.32,
          22.75,
          40.17,
          27.28,
          12.03,
          21.01,
          12.46,
          11.35,
          15.38,
          44.3,
          22.42,
          20.92,
          15.36,
          20.49,
          25.21,
          18.24,
          14.31,
          14,
          7.25,
          38.07,
          23.95,
          25.71,
          17.31,
          29.93,
          10.65,
          12.43,
          24.08,
          11.69,
          13.42,
          14.26,
          15.95,
          12.48,
          29.8,
          8.52,
          14.52,
          11.38,
          22.82,
          19.08,
          20.27,
          11.17,
          12.26,
          18.26,
          8.51,
          10.33,
          14.15,
          16,
          13.16,
          17.47,
          34.3,
          41.19,
          27.05,
          16.43,
          8.35,
          18.64,
          11.87,
          9.78,
          7.51,
          14.07,
          13.13,
          17.26,
          24.55,
          19.77,
          29.85,
          48.17,
          25,
          13.39,
          16.49,
          21.5,
          12.66,
          16.21,
          13.81,
          17.51,
          24.52,
          20.76,
          31.71,
          10.59,
          10.63,
          50.81,
          15.81,
          7.25,
          31.85,
          16.82,
          32.9,
          17.89,
          14.48,
          9.6,
          34.63,
          34.65,
          23.33,
          45.35,
          23.17,
          40.55,
          20.69,
          20.9,
          30.46,
          18.15,
          23.1,
          15.69,
          19.81,
          28.44,
          15.48,
          16.58,
          7.56,
          10.34,
          43.11,
          13,
          13.51,
          18.71,
          12.74,
          13,
          16.4,
          20.53,
          16.47,
          26.59,
          38.73,
          24.27,
          12.76,
          30.06,
          25.89,
          48.33,
          13.27,
          28.17,
          12.9,
          28.15,
          11.59,
          7.74,
          30.14,
          12.16,
          13.42,
          8.58,
          15.98,
          13.42,
          16.27,
          10.09,
          20.45,
          13.28,
          22.12,
          24.01,
          15.69,
          11.61,
          10.77,
          15.53,
          10.07,
          12.6,
          32.83,
          35.83,
          29.03,
          27.18,
          22.67,
          17.82,
          18.78
         ],
         "xaxis": "x",
         "y": [
          0,
          1,
          2,
          3,
          4,
          5,
          6,
          7,
          8,
          9,
          10,
          11,
          12,
          13,
          14,
          15,
          16,
          17,
          18,
          19,
          20,
          21,
          22,
          23,
          24,
          25,
          26,
          27,
          28,
          29,
          30,
          31,
          32,
          33,
          34,
          35,
          36,
          37,
          38,
          39,
          40,
          41,
          42,
          43,
          44,
          45,
          46,
          47,
          48,
          49,
          50,
          51,
          52,
          53,
          54,
          55,
          56,
          57,
          58,
          59,
          60,
          61,
          62,
          63,
          64,
          65,
          66,
          67,
          68,
          69,
          70,
          71,
          72,
          73,
          74,
          75,
          76,
          77,
          78,
          79,
          80,
          81,
          82,
          83,
          84,
          85,
          86,
          87,
          88,
          89,
          90,
          91,
          92,
          93,
          94,
          95,
          96,
          97,
          98,
          99,
          100,
          101,
          102,
          103,
          104,
          105,
          106,
          107,
          108,
          109,
          110,
          111,
          112,
          113,
          114,
          115,
          116,
          117,
          118,
          119,
          120,
          121,
          122,
          123,
          124,
          125,
          126,
          127,
          128,
          129,
          130,
          131,
          132,
          133,
          134,
          135,
          136,
          137,
          138,
          139,
          140,
          141,
          142,
          143,
          144,
          145,
          146,
          147,
          148,
          149,
          150,
          151,
          152,
          153,
          154,
          155,
          156,
          157,
          158,
          159,
          160,
          161,
          162,
          163,
          164,
          165,
          166,
          167,
          168,
          169,
          170,
          171,
          172,
          173,
          174,
          175,
          176,
          177,
          178,
          179,
          180,
          181,
          182,
          183,
          184,
          185,
          186,
          187,
          188,
          189,
          190,
          191,
          192,
          193,
          194,
          195,
          196,
          197,
          198,
          199,
          200,
          201,
          202,
          203,
          204,
          205,
          206,
          207,
          208,
          209,
          210,
          211,
          212,
          213,
          214,
          215,
          216,
          217,
          218,
          219,
          220,
          221,
          222,
          223,
          224,
          225,
          226,
          227,
          228,
          229,
          230,
          231,
          232,
          233,
          234,
          235,
          236,
          237,
          238,
          239,
          240,
          241,
          242,
          243
         ],
         "yaxis": "y"
        }
       ],
       "layout": {
        "autosize": true,
        "legend": {
         "tracegroupgap": 0
        },
        "margin": {
         "t": 60
        },
        "template": {
         "data": {
          "bar": [
           {
            "error_x": {
             "color": "#2a3f5f"
            },
            "error_y": {
             "color": "#2a3f5f"
            },
            "marker": {
             "line": {
              "color": "#E5ECF6",
              "width": 0.5
             },
             "pattern": {
              "fillmode": "overlay",
              "size": 10,
              "solidity": 0.2
             }
            },
            "type": "bar"
           }
          ],
          "barpolar": [
           {
            "marker": {
             "line": {
              "color": "#E5ECF6",
              "width": 0.5
             },
             "pattern": {
              "fillmode": "overlay",
              "size": 10,
              "solidity": 0.2
             }
            },
            "type": "barpolar"
           }
          ],
          "carpet": [
           {
            "aaxis": {
             "endlinecolor": "#2a3f5f",
             "gridcolor": "white",
             "linecolor": "white",
             "minorgridcolor": "white",
             "startlinecolor": "#2a3f5f"
            },
            "baxis": {
             "endlinecolor": "#2a3f5f",
             "gridcolor": "white",
             "linecolor": "white",
             "minorgridcolor": "white",
             "startlinecolor": "#2a3f5f"
            },
            "type": "carpet"
           }
          ],
          "choropleth": [
           {
            "colorbar": {
             "outlinewidth": 0,
             "ticks": ""
            },
            "type": "choropleth"
           }
          ],
          "contour": [
           {
            "colorbar": {
             "outlinewidth": 0,
             "ticks": ""
            },
            "colorscale": [
             [
              0,
              "#0d0887"
             ],
             [
              0.1111111111111111,
              "#46039f"
             ],
             [
              0.2222222222222222,
              "#7201a8"
             ],
             [
              0.3333333333333333,
              "#9c179e"
             ],
             [
              0.4444444444444444,
              "#bd3786"
             ],
             [
              0.5555555555555556,
              "#d8576b"
             ],
             [
              0.6666666666666666,
              "#ed7953"
             ],
             [
              0.7777777777777778,
              "#fb9f3a"
             ],
             [
              0.8888888888888888,
              "#fdca26"
             ],
             [
              1,
              "#f0f921"
             ]
            ],
            "type": "contour"
           }
          ],
          "contourcarpet": [
           {
            "colorbar": {
             "outlinewidth": 0,
             "ticks": ""
            },
            "type": "contourcarpet"
           }
          ],
          "heatmap": [
           {
            "colorbar": {
             "outlinewidth": 0,
             "ticks": ""
            },
            "colorscale": [
             [
              0,
              "#0d0887"
             ],
             [
              0.1111111111111111,
              "#46039f"
             ],
             [
              0.2222222222222222,
              "#7201a8"
             ],
             [
              0.3333333333333333,
              "#9c179e"
             ],
             [
              0.4444444444444444,
              "#bd3786"
             ],
             [
              0.5555555555555556,
              "#d8576b"
             ],
             [
              0.6666666666666666,
              "#ed7953"
             ],
             [
              0.7777777777777778,
              "#fb9f3a"
             ],
             [
              0.8888888888888888,
              "#fdca26"
             ],
             [
              1,
              "#f0f921"
             ]
            ],
            "type": "heatmap"
           }
          ],
          "heatmapgl": [
           {
            "colorbar": {
             "outlinewidth": 0,
             "ticks": ""
            },
            "colorscale": [
             [
              0,
              "#0d0887"
             ],
             [
              0.1111111111111111,
              "#46039f"
             ],
             [
              0.2222222222222222,
              "#7201a8"
             ],
             [
              0.3333333333333333,
              "#9c179e"
             ],
             [
              0.4444444444444444,
              "#bd3786"
             ],
             [
              0.5555555555555556,
              "#d8576b"
             ],
             [
              0.6666666666666666,
              "#ed7953"
             ],
             [
              0.7777777777777778,
              "#fb9f3a"
             ],
             [
              0.8888888888888888,
              "#fdca26"
             ],
             [
              1,
              "#f0f921"
             ]
            ],
            "type": "heatmapgl"
           }
          ],
          "histogram": [
           {
            "marker": {
             "pattern": {
              "fillmode": "overlay",
              "size": 10,
              "solidity": 0.2
             }
            },
            "type": "histogram"
           }
          ],
          "histogram2d": [
           {
            "colorbar": {
             "outlinewidth": 0,
             "ticks": ""
            },
            "colorscale": [
             [
              0,
              "#0d0887"
             ],
             [
              0.1111111111111111,
              "#46039f"
             ],
             [
              0.2222222222222222,
              "#7201a8"
             ],
             [
              0.3333333333333333,
              "#9c179e"
             ],
             [
              0.4444444444444444,
              "#bd3786"
             ],
             [
              0.5555555555555556,
              "#d8576b"
             ],
             [
              0.6666666666666666,
              "#ed7953"
             ],
             [
              0.7777777777777778,
              "#fb9f3a"
             ],
             [
              0.8888888888888888,
              "#fdca26"
             ],
             [
              1,
              "#f0f921"
             ]
            ],
            "type": "histogram2d"
           }
          ],
          "histogram2dcontour": [
           {
            "colorbar": {
             "outlinewidth": 0,
             "ticks": ""
            },
            "colorscale": [
             [
              0,
              "#0d0887"
             ],
             [
              0.1111111111111111,
              "#46039f"
             ],
             [
              0.2222222222222222,
              "#7201a8"
             ],
             [
              0.3333333333333333,
              "#9c179e"
             ],
             [
              0.4444444444444444,
              "#bd3786"
             ],
             [
              0.5555555555555556,
              "#d8576b"
             ],
             [
              0.6666666666666666,
              "#ed7953"
             ],
             [
              0.7777777777777778,
              "#fb9f3a"
             ],
             [
              0.8888888888888888,
              "#fdca26"
             ],
             [
              1,
              "#f0f921"
             ]
            ],
            "type": "histogram2dcontour"
           }
          ],
          "mesh3d": [
           {
            "colorbar": {
             "outlinewidth": 0,
             "ticks": ""
            },
            "type": "mesh3d"
           }
          ],
          "parcoords": [
           {
            "line": {
             "colorbar": {
              "outlinewidth": 0,
              "ticks": ""
             }
            },
            "type": "parcoords"
           }
          ],
          "pie": [
           {
            "automargin": true,
            "type": "pie"
           }
          ],
          "scatter": [
           {
            "fillpattern": {
             "fillmode": "overlay",
             "size": 10,
             "solidity": 0.2
            },
            "type": "scatter"
           }
          ],
          "scatter3d": [
           {
            "line": {
             "colorbar": {
              "outlinewidth": 0,
              "ticks": ""
             }
            },
            "marker": {
             "colorbar": {
              "outlinewidth": 0,
              "ticks": ""
             }
            },
            "type": "scatter3d"
           }
          ],
          "scattercarpet": [
           {
            "marker": {
             "colorbar": {
              "outlinewidth": 0,
              "ticks": ""
             }
            },
            "type": "scattercarpet"
           }
          ],
          "scattergeo": [
           {
            "marker": {
             "colorbar": {
              "outlinewidth": 0,
              "ticks": ""
             }
            },
            "type": "scattergeo"
           }
          ],
          "scattergl": [
           {
            "marker": {
             "colorbar": {
              "outlinewidth": 0,
              "ticks": ""
             }
            },
            "type": "scattergl"
           }
          ],
          "scattermapbox": [
           {
            "marker": {
             "colorbar": {
              "outlinewidth": 0,
              "ticks": ""
             }
            },
            "type": "scattermapbox"
           }
          ],
          "scatterpolar": [
           {
            "marker": {
             "colorbar": {
              "outlinewidth": 0,
              "ticks": ""
             }
            },
            "type": "scatterpolar"
           }
          ],
          "scatterpolargl": [
           {
            "marker": {
             "colorbar": {
              "outlinewidth": 0,
              "ticks": ""
             }
            },
            "type": "scatterpolargl"
           }
          ],
          "scatterternary": [
           {
            "marker": {
             "colorbar": {
              "outlinewidth": 0,
              "ticks": ""
             }
            },
            "type": "scatterternary"
           }
          ],
          "surface": [
           {
            "colorbar": {
             "outlinewidth": 0,
             "ticks": ""
            },
            "colorscale": [
             [
              0,
              "#0d0887"
             ],
             [
              0.1111111111111111,
              "#46039f"
             ],
             [
              0.2222222222222222,
              "#7201a8"
             ],
             [
              0.3333333333333333,
              "#9c179e"
             ],
             [
              0.4444444444444444,
              "#bd3786"
             ],
             [
              0.5555555555555556,
              "#d8576b"
             ],
             [
              0.6666666666666666,
              "#ed7953"
             ],
             [
              0.7777777777777778,
              "#fb9f3a"
             ],
             [
              0.8888888888888888,
              "#fdca26"
             ],
             [
              1,
              "#f0f921"
             ]
            ],
            "type": "surface"
           }
          ],
          "table": [
           {
            "cells": {
             "fill": {
              "color": "#EBF0F8"
             },
             "line": {
              "color": "white"
             }
            },
            "header": {
             "fill": {
              "color": "#C8D4E3"
             },
             "line": {
              "color": "white"
             }
            },
            "type": "table"
           }
          ]
         },
         "layout": {
          "annotationdefaults": {
           "arrowcolor": "#2a3f5f",
           "arrowhead": 0,
           "arrowwidth": 1
          },
          "autotypenumbers": "strict",
          "coloraxis": {
           "colorbar": {
            "outlinewidth": 0,
            "ticks": ""
           }
          },
          "colorscale": {
           "diverging": [
            [
             0,
             "#8e0152"
            ],
            [
             0.1,
             "#c51b7d"
            ],
            [
             0.2,
             "#de77ae"
            ],
            [
             0.3,
             "#f1b6da"
            ],
            [
             0.4,
             "#fde0ef"
            ],
            [
             0.5,
             "#f7f7f7"
            ],
            [
             0.6,
             "#e6f5d0"
            ],
            [
             0.7,
             "#b8e186"
            ],
            [
             0.8,
             "#7fbc41"
            ],
            [
             0.9,
             "#4d9221"
            ],
            [
             1,
             "#276419"
            ]
           ],
           "sequential": [
            [
             0,
             "#0d0887"
            ],
            [
             0.1111111111111111,
             "#46039f"
            ],
            [
             0.2222222222222222,
             "#7201a8"
            ],
            [
             0.3333333333333333,
             "#9c179e"
            ],
            [
             0.4444444444444444,
             "#bd3786"
            ],
            [
             0.5555555555555556,
             "#d8576b"
            ],
            [
             0.6666666666666666,
             "#ed7953"
            ],
            [
             0.7777777777777778,
             "#fb9f3a"
            ],
            [
             0.8888888888888888,
             "#fdca26"
            ],
            [
             1,
             "#f0f921"
            ]
           ],
           "sequentialminus": [
            [
             0,
             "#0d0887"
            ],
            [
             0.1111111111111111,
             "#46039f"
            ],
            [
             0.2222222222222222,
             "#7201a8"
            ],
            [
             0.3333333333333333,
             "#9c179e"
            ],
            [
             0.4444444444444444,
             "#bd3786"
            ],
            [
             0.5555555555555556,
             "#d8576b"
            ],
            [
             0.6666666666666666,
             "#ed7953"
            ],
            [
             0.7777777777777778,
             "#fb9f3a"
            ],
            [
             0.8888888888888888,
             "#fdca26"
            ],
            [
             1,
             "#f0f921"
            ]
           ]
          },
          "colorway": [
           "#636efa",
           "#EF553B",
           "#00cc96",
           "#ab63fa",
           "#FFA15A",
           "#19d3f3",
           "#FF6692",
           "#B6E880",
           "#FF97FF",
           "#FECB52"
          ],
          "font": {
           "color": "#2a3f5f"
          },
          "geo": {
           "bgcolor": "white",
           "lakecolor": "white",
           "landcolor": "#E5ECF6",
           "showlakes": true,
           "showland": true,
           "subunitcolor": "white"
          },
          "hoverlabel": {
           "align": "left"
          },
          "hovermode": "closest",
          "mapbox": {
           "style": "light"
          },
          "paper_bgcolor": "white",
          "plot_bgcolor": "#E5ECF6",
          "polar": {
           "angularaxis": {
            "gridcolor": "white",
            "linecolor": "white",
            "ticks": ""
           },
           "bgcolor": "#E5ECF6",
           "radialaxis": {
            "gridcolor": "white",
            "linecolor": "white",
            "ticks": ""
           }
          },
          "scene": {
           "xaxis": {
            "backgroundcolor": "#E5ECF6",
            "gridcolor": "white",
            "gridwidth": 2,
            "linecolor": "white",
            "showbackground": true,
            "ticks": "",
            "zerolinecolor": "white"
           },
           "yaxis": {
            "backgroundcolor": "#E5ECF6",
            "gridcolor": "white",
            "gridwidth": 2,
            "linecolor": "white",
            "showbackground": true,
            "ticks": "",
            "zerolinecolor": "white"
           },
           "zaxis": {
            "backgroundcolor": "#E5ECF6",
            "gridcolor": "white",
            "gridwidth": 2,
            "linecolor": "white",
            "showbackground": true,
            "ticks": "",
            "zerolinecolor": "white"
           }
          },
          "shapedefaults": {
           "line": {
            "color": "#2a3f5f"
           }
          },
          "ternary": {
           "aaxis": {
            "gridcolor": "white",
            "linecolor": "white",
            "ticks": ""
           },
           "baxis": {
            "gridcolor": "white",
            "linecolor": "white",
            "ticks": ""
           },
           "bgcolor": "#E5ECF6",
           "caxis": {
            "gridcolor": "white",
            "linecolor": "white",
            "ticks": ""
           }
          },
          "title": {
           "x": 0.05
          },
          "xaxis": {
           "automargin": true,
           "gridcolor": "white",
           "linecolor": "white",
           "ticks": "",
           "title": {
            "standoff": 15
           },
           "zerolinecolor": "white",
           "zerolinewidth": 2
          },
          "yaxis": {
           "automargin": true,
           "gridcolor": "white",
           "linecolor": "white",
           "ticks": "",
           "title": {
            "standoff": 15
           },
           "zerolinecolor": "white",
           "zerolinewidth": 2
          }
         }
        },
        "xaxis": {
         "anchor": "y",
         "autorange": true,
         "domain": [
          0,
          1
         ],
         "range": [
          -0.0018776371308018014,
          53.881877637130806
         ],
         "title": {
          "text": "total_bill"
         },
         "type": "linear"
        },
        "yaxis": {
         "anchor": "x",
         "autorange": true,
         "domain": [
          0,
          1
         ],
         "range": [
          -18.81496062992126,
          261.81496062992125
         ],
         "title": {
          "text": "index"
         },
         "type": "linear"
        }
       }
      },
      "image/png": "[encoded data removed]",
      "text/html": [
       "<div>                            <div id=\"5e02f097-a795-417c-95bc-d7524f8e29e2\" class=\"plotly-graph-div\" style=\"height:525px; width:100%;\"></div>            <script type=\"text/javascript\">                require([\"plotly\"], function(Plotly) {                    window.PLOTLYENV=window.PLOTLYENV || {};                                    if (document.getElementById(\"5e02f097-a795-417c-95bc-d7524f8e29e2\")) {                    Plotly.newPlot(                        \"5e02f097-a795-417c-95bc-d7524f8e29e2\",                        [{\"hovertemplate\":\"total_bill=%{x}<br>index=%{y}<extra></extra>\",\"legendgroup\":\"\",\"marker\":{\"color\":\"#636efa\",\"symbol\":\"circle\"},\"mode\":\"markers\",\"name\":\"\",\"orientation\":\"h\",\"showlegend\":false,\"x\":[16.99,10.34,21.01,23.68,24.59,25.29,8.77,26.88,15.04,14.78,10.27,35.26,15.42,18.43,14.83,21.58,10.33,16.29,16.97,20.65,17.92,20.29,15.77,39.42,19.82,17.81,13.37,12.69,21.7,19.65,9.55,18.35,15.06,20.69,17.78,24.06,16.31,16.93,18.69,31.27,16.04,17.46,13.94,9.68,30.4,18.29,22.23,32.4,28.55,18.04,12.54,10.29,34.81,9.94,25.56,19.49,38.01,26.41,11.24,48.27,20.29,13.81,11.02,18.29,17.59,20.08,16.45,3.07,20.23,15.01,12.02,17.07,26.86,25.28,14.73,10.51,17.92,27.2,22.76,17.29,19.44,16.66,10.07,32.68,15.98,34.83,13.03,18.28,24.71,21.16,28.97,22.49,5.75,16.32,22.75,40.17,27.28,12.03,21.01,12.46,11.35,15.38,44.3,22.42,20.92,15.36,20.49,25.21,18.24,14.31,14.0,7.25,38.07,23.95,25.71,17.31,29.93,10.65,12.43,24.08,11.69,13.42,14.26,15.95,12.48,29.8,8.52,14.52,11.38,22.82,19.08,20.27,11.17,12.26,18.26,8.51,10.33,14.15,16.0,13.16,17.47,34.3,41.19,27.05,16.43,8.35,18.64,11.87,9.78,7.51,14.07,13.13,17.26,24.55,19.77,29.85,48.17,25.0,13.39,16.49,21.5,12.66,16.21,13.81,17.51,24.52,20.76,31.71,10.59,10.63,50.81,15.81,7.25,31.85,16.82,32.9,17.89,14.48,9.6,34.63,34.65,23.33,45.35,23.17,40.55,20.69,20.9,30.46,18.15,23.1,15.69,19.81,28.44,15.48,16.58,7.56,10.34,43.11,13.0,13.51,18.71,12.74,13.0,16.4,20.53,16.47,26.59,38.73,24.27,12.76,30.06,25.89,48.33,13.27,28.17,12.9,28.15,11.59,7.74,30.14,12.16,13.42,8.58,15.98,13.42,16.27,10.09,20.45,13.28,22.12,24.01,15.69,11.61,10.77,15.53,10.07,12.6,32.83,35.83,29.03,27.18,22.67,17.82,18.78],\"xaxis\":\"x\",\"y\":[0,1,2,3,4,5,6,7,8,9,10,11,12,13,14,15,16,17,18,19,20,21,22,23,24,25,26,27,28,29,30,31,32,33,34,35,36,37,38,39,40,41,42,43,44,45,46,47,48,49,50,51,52,53,54,55,56,57,58,59,60,61,62,63,64,65,66,67,68,69,70,71,72,73,74,75,76,77,78,79,80,81,82,83,84,85,86,87,88,89,90,91,92,93,94,95,96,97,98,99,100,101,102,103,104,105,106,107,108,109,110,111,112,113,114,115,116,117,118,119,120,121,122,123,124,125,126,127,128,129,130,131,132,133,134,135,136,137,138,139,140,141,142,143,144,145,146,147,148,149,150,151,152,153,154,155,156,157,158,159,160,161,162,163,164,165,166,167,168,169,170,171,172,173,174,175,176,177,178,179,180,181,182,183,184,185,186,187,188,189,190,191,192,193,194,195,196,197,198,199,200,201,202,203,204,205,206,207,208,209,210,211,212,213,214,215,216,217,218,219,220,221,222,223,224,225,226,227,228,229,230,231,232,233,234,235,236,237,238,239,240,241,242,243],\"yaxis\":\"y\",\"type\":\"scatter\"}],                        {\"template\":{\"data\":{\"histogram2dcontour\":[{\"type\":\"histogram2dcontour\",\"colorbar\":{\"outlinewidth\":0,\"ticks\":\"\"},\"colorscale\":[[0.0,\"#0d0887\"],[0.1111111111111111,\"#46039f\"],[0.2222222222222222,\"#7201a8\"],[0.3333333333333333,\"#9c179e\"],[0.4444444444444444,\"#bd3786\"],[0.5555555555555556,\"#d8576b\"],[0.6666666666666666,\"#ed7953\"],[0.7777777777777778,\"#fb9f3a\"],[0.8888888888888888,\"#fdca26\"],[1.0,\"#f0f921\"]]}],\"choropleth\":[{\"type\":\"choropleth\",\"colorbar\":{\"outlinewidth\":0,\"ticks\":\"\"}}],\"histogram2d\":[{\"type\":\"histogram2d\",\"colorbar\":{\"outlinewidth\":0,\"ticks\":\"\"},\"colorscale\":[[0.0,\"#0d0887\"],[0.1111111111111111,\"#46039f\"],[0.2222222222222222,\"#7201a8\"],[0.3333333333333333,\"#9c179e\"],[0.4444444444444444,\"#bd3786\"],[0.5555555555555556,\"#d8576b\"],[0.6666666666666666,\"#ed7953\"],[0.7777777777777778,\"#fb9f3a\"],[0.8888888888888888,\"#fdca26\"],[1.0,\"#f0f921\"]]}],\"heatmap\":[{\"type\":\"heatmap\",\"colorbar\":{\"outlinewidth\":0,\"ticks\":\"\"},\"colorscale\":[[0.0,\"#0d0887\"],[0.1111111111111111,\"#46039f\"],[0.2222222222222222,\"#7201a8\"],[0.3333333333333333,\"#9c179e\"],[0.4444444444444444,\"#bd3786\"],[0.5555555555555556,\"#d8576b\"],[0.6666666666666666,\"#ed7953\"],[0.7777777777777778,\"#fb9f3a\"],[0.8888888888888888,\"#fdca26\"],[1.0,\"#f0f921\"]]}],\"heatmapgl\":[{\"type\":\"heatmapgl\",\"colorbar\":{\"outlinewidth\":0,\"ticks\":\"\"},\"colorscale\":[[0.0,\"#0d0887\"],[0.1111111111111111,\"#46039f\"],[0.2222222222222222,\"#7201a8\"],[0.3333333333333333,\"#9c179e\"],[0.4444444444444444,\"#bd3786\"],[0.5555555555555556,\"#d8576b\"],[0.6666666666666666,\"#ed7953\"],[0.7777777777777778,\"#fb9f3a\"],[0.8888888888888888,\"#fdca26\"],[1.0,\"#f0f921\"]]}],\"contourcarpet\":[{\"type\":\"contourcarpet\",\"colorbar\":{\"outlinewidth\":0,\"ticks\":\"\"}}],\"contour\":[{\"type\":\"contour\",\"colorbar\":{\"outlinewidth\":0,\"ticks\":\"\"},\"colorscale\":[[0.0,\"#0d0887\"],[0.1111111111111111,\"#46039f\"],[0.2222222222222222,\"#7201a8\"],[0.3333333333333333,\"#9c179e\"],[0.4444444444444444,\"#bd3786\"],[0.5555555555555556,\"#d8576b\"],[0.6666666666666666,\"#ed7953\"],[0.7777777777777778,\"#fb9f3a\"],[0.8888888888888888,\"#fdca26\"],[1.0,\"#f0f921\"]]}],\"surface\":[{\"type\":\"surface\",\"colorbar\":{\"outlinewidth\":0,\"ticks\":\"\"},\"colorscale\":[[0.0,\"#0d0887\"],[0.1111111111111111,\"#46039f\"],[0.2222222222222222,\"#7201a8\"],[0.3333333333333333,\"#9c179e\"],[0.4444444444444444,\"#bd3786\"],[0.5555555555555556,\"#d8576b\"],[0.6666666666666666,\"#ed7953\"],[0.7777777777777778,\"#fb9f3a\"],[0.8888888888888888,\"#fdca26\"],[1.0,\"#f0f921\"]]}],\"mesh3d\":[{\"type\":\"mesh3d\",\"colorbar\":{\"outlinewidth\":0,\"ticks\":\"\"}}],\"scatter\":[{\"fillpattern\":{\"fillmode\":\"overlay\",\"size\":10,\"solidity\":0.2},\"type\":\"scatter\"}],\"parcoords\":[{\"type\":\"parcoords\",\"line\":{\"colorbar\":{\"outlinewidth\":0,\"ticks\":\"\"}}}],\"scatterpolargl\":[{\"type\":\"scatterpolargl\",\"marker\":{\"colorbar\":{\"outlinewidth\":0,\"ticks\":\"\"}}}],\"bar\":[{\"error_x\":{\"color\":\"#2a3f5f\"},\"error_y\":{\"color\":\"#2a3f5f\"},\"marker\":{\"line\":{\"color\":\"#E5ECF6\",\"width\":0.5},\"pattern\":{\"fillmode\":\"overlay\",\"size\":10,\"solidity\":0.2}},\"type\":\"bar\"}],\"scattergeo\":[{\"type\":\"scattergeo\",\"marker\":{\"colorbar\":{\"outlinewidth\":0,\"ticks\":\"\"}}}],\"scatterpolar\":[{\"type\":\"scatterpolar\",\"marker\":{\"colorbar\":{\"outlinewidth\":0,\"ticks\":\"\"}}}],\"histogram\":[{\"marker\":{\"pattern\":{\"fillmode\":\"overlay\",\"size\":10,\"solidity\":0.2}},\"type\":\"histogram\"}],\"scattergl\":[{\"type\":\"scattergl\",\"marker\":{\"colorbar\":{\"outlinewidth\":0,\"ticks\":\"\"}}}],\"scatter3d\":[{\"type\":\"scatter3d\",\"line\":{\"colorbar\":{\"outlinewidth\":0,\"ticks\":\"\"}},\"marker\":{\"colorbar\":{\"outlinewidth\":0,\"ticks\":\"\"}}}],\"scattermapbox\":[{\"type\":\"scattermapbox\",\"marker\":{\"colorbar\":{\"outlinewidth\":0,\"ticks\":\"\"}}}],\"scatterternary\":[{\"type\":\"scatterternary\",\"marker\":{\"colorbar\":{\"outlinewidth\":0,\"ticks\":\"\"}}}],\"scattercarpet\":[{\"type\":\"scattercarpet\",\"marker\":{\"colorbar\":{\"outlinewidth\":0,\"ticks\":\"\"}}}],\"carpet\":[{\"aaxis\":{\"endlinecolor\":\"#2a3f5f\",\"gridcolor\":\"white\",\"linecolor\":\"white\",\"minorgridcolor\":\"white\",\"startlinecolor\":\"#2a3f5f\"},\"baxis\":{\"endlinecolor\":\"#2a3f5f\",\"gridcolor\":\"white\",\"linecolor\":\"white\",\"minorgridcolor\":\"white\",\"startlinecolor\":\"#2a3f5f\"},\"type\":\"carpet\"}],\"table\":[{\"cells\":{\"fill\":{\"color\":\"#EBF0F8\"},\"line\":{\"color\":\"white\"}},\"header\":{\"fill\":{\"color\":\"#C8D4E3\"},\"line\":{\"color\":\"white\"}},\"type\":\"table\"}],\"barpolar\":[{\"marker\":{\"line\":{\"color\":\"#E5ECF6\",\"width\":0.5},\"pattern\":{\"fillmode\":\"overlay\",\"size\":10,\"solidity\":0.2}},\"type\":\"barpolar\"}],\"pie\":[{\"automargin\":true,\"type\":\"pie\"}]},\"layout\":{\"autotypenumbers\":\"strict\",\"colorway\":[\"#636efa\",\"#EF553B\",\"#00cc96\",\"#ab63fa\",\"#FFA15A\",\"#19d3f3\",\"#FF6692\",\"#B6E880\",\"#FF97FF\",\"#FECB52\"],\"font\":{\"color\":\"#2a3f5f\"},\"hovermode\":\"closest\",\"hoverlabel\":{\"align\":\"left\"},\"paper_bgcolor\":\"white\",\"plot_bgcolor\":\"#E5ECF6\",\"polar\":{\"bgcolor\":\"#E5ECF6\",\"angularaxis\":{\"gridcolor\":\"white\",\"linecolor\":\"white\",\"ticks\":\"\"},\"radialaxis\":{\"gridcolor\":\"white\",\"linecolor\":\"white\",\"ticks\":\"\"}},\"ternary\":{\"bgcolor\":\"#E5ECF6\",\"aaxis\":{\"gridcolor\":\"white\",\"linecolor\":\"white\",\"ticks\":\"\"},\"baxis\":{\"gridcolor\":\"white\",\"linecolor\":\"white\",\"ticks\":\"\"},\"caxis\":{\"gridcolor\":\"white\",\"linecolor\":\"white\",\"ticks\":\"\"}},\"coloraxis\":{\"colorbar\":{\"outlinewidth\":0,\"ticks\":\"\"}},\"colorscale\":{\"sequential\":[[0.0,\"#0d0887\"],[0.1111111111111111,\"#46039f\"],[0.2222222222222222,\"#7201a8\"],[0.3333333333333333,\"#9c179e\"],[0.4444444444444444,\"#bd3786\"],[0.5555555555555556,\"#d8576b\"],[0.6666666666666666,\"#ed7953\"],[0.7777777777777778,\"#fb9f3a\"],[0.8888888888888888,\"#fdca26\"],[1.0,\"#f0f921\"]],\"sequentialminus\":[[0.0,\"#0d0887\"],[0.1111111111111111,\"#46039f\"],[0.2222222222222222,\"#7201a8\"],[0.3333333333333333,\"#9c179e\"],[0.4444444444444444,\"#bd3786\"],[0.5555555555555556,\"#d8576b\"],[0.6666666666666666,\"#ed7953\"],[0.7777777777777778,\"#fb9f3a\"],[0.8888888888888888,\"#fdca26\"],[1.0,\"#f0f921\"]],\"diverging\":[[0,\"#8e0152\"],[0.1,\"#c51b7d\"],[0.2,\"#de77ae\"],[0.3,\"#f1b6da\"],[0.4,\"#fde0ef\"],[0.5,\"#f7f7f7\"],[0.6,\"#e6f5d0\"],[0.7,\"#b8e186\"],[0.8,\"#7fbc41\"],[0.9,\"#4d9221\"],[1,\"#276419\"]]},\"xaxis\":{\"gridcolor\":\"white\",\"linecolor\":\"white\",\"ticks\":\"\",\"title\":{\"standoff\":15},\"zerolinecolor\":\"white\",\"automargin\":true,\"zerolinewidth\":2},\"yaxis\":{\"gridcolor\":\"white\",\"linecolor\":\"white\",\"ticks\":\"\",\"title\":{\"standoff\":15},\"zerolinecolor\":\"white\",\"automargin\":true,\"zerolinewidth\":2},\"scene\":{\"xaxis\":{\"backgroundcolor\":\"#E5ECF6\",\"gridcolor\":\"white\",\"linecolor\":\"white\",\"showbackground\":true,\"ticks\":\"\",\"zerolinecolor\":\"white\",\"gridwidth\":2},\"yaxis\":{\"backgroundcolor\":\"#E5ECF6\",\"gridcolor\":\"white\",\"linecolor\":\"white\",\"showbackground\":true,\"ticks\":\"\",\"zerolinecolor\":\"white\",\"gridwidth\":2},\"zaxis\":{\"backgroundcolor\":\"#E5ECF6\",\"gridcolor\":\"white\",\"linecolor\":\"white\",\"showbackground\":true,\"ticks\":\"\",\"zerolinecolor\":\"white\",\"gridwidth\":2}},\"shapedefaults\":{\"line\":{\"color\":\"#2a3f5f\"}},\"annotationdefaults\":{\"arrowcolor\":\"#2a3f5f\",\"arrowhead\":0,\"arrowwidth\":1},\"geo\":{\"bgcolor\":\"white\",\"landcolor\":\"#E5ECF6\",\"subunitcolor\":\"white\",\"showland\":true,\"showlakes\":true,\"lakecolor\":\"white\"},\"title\":{\"x\":0.05},\"mapbox\":{\"style\":\"light\"}}},\"xaxis\":{\"anchor\":\"y\",\"domain\":[0.0,1.0],\"title\":{\"text\":\"total_bill\"}},\"yaxis\":{\"anchor\":\"x\",\"domain\":[0.0,1.0],\"title\":{\"text\":\"index\"}},\"legend\":{\"tracegroupgap\":0},\"margin\":{\"t\":60}},                        {\"responsive\": true}                    ).then(function(){\n",
       "                            \n",
       "var gd = document.getElementById('5e02f097-a795-417c-95bc-d7524f8e29e2');\n",
       "var x = new MutationObserver(function (mutations, observer) {{\n",
       "        var display = window.getComputedStyle(gd).display;\n",
       "        if (!display || display === 'none') {{\n",
       "            console.log([gd, 'removed!']);\n",
       "            Plotly.purge(gd);\n",
       "            observer.disconnect();\n",
       "        }}\n",
       "}});\n",
       "\n",
       "// Listen for the removal of the full notebook cells\n",
       "var notebookContainer = gd.closest('#notebook-container');\n",
       "if (notebookContainer) {{\n",
       "    x.observe(notebookContainer, {childList: true});\n",
       "}}\n",
       "\n",
       "// Listen for the clearing of the current output cell\n",
       "var outputEl = gd.closest('.output');\n",
       "if (outputEl) {{\n",
       "    x.observe(outputEl, {childList: true});\n",
       "}}\n",
       "\n",
       "                        })                };                });            </script>        </div>"
      ]
     },
     "metadata": {},
     "output_type": "display_data"
    }
   ],
   "source": [
    "# add changes by removing the #\n",
    "scatter_fig = px.scatter(df, \n",
    "                         x='total_bill', \n",
    "#                          y='tip'\n",
    "                        )\n",
    "scatter_fig.show()"
   ]
  },
  {
   "cell_type": "code",
   "execution_count": null,
   "id": "6274a6b4",
   "metadata": {},
   "outputs": [],
   "source": [
    "# save your figure\n",
    "scatter_fig.write_html('docs/scatter_fig.html')"
   ]
  },
  {
   "cell_type": "markdown",
   "id": "b4994075",
   "metadata": {},
   "source": [
    "### Add size and color"
   ]
  },
  {
   "cell_type": "code",
   "execution_count": null,
   "id": "ea30bd0e",
   "metadata": {},
   "outputs": [],
   "source": [
    "# add changes by removing the #\n",
    "time_fig = px.scatter(df, \n",
    "                 x=\"total_bill\", \n",
    "                 y=\"tip\", \n",
    "#                  color='time',\n",
    "#                  opacity=0.65,\n",
    "#                  size='size',\n",
    "#                  color_discrete_sequence=['green', 'orange']\n",
    "                )\n",
    "time_fig.show()"
   ]
  },
  {
   "cell_type": "code",
   "execution_count": null,
   "id": "3d03f1bf",
   "metadata": {},
   "outputs": [],
   "source": [
    "# save your figure\n",
    "time_fig.write_html('docs/time_fig.html')"
   ]
  },
  {
   "cell_type": "markdown",
   "id": "6fb5b6ec",
   "metadata": {},
   "source": [
    "## Create a regression plot"
   ]
  },
  {
   "cell_type": "code",
   "execution_count": null,
   "id": "aa8f90ba",
   "metadata": {},
   "outputs": [],
   "source": [
    "# add changes by removing the #\n",
    "reg_fig = px.scatter(df, \n",
    "                 x='total_bill',\n",
    "                 y='tip', \n",
    "                 trendline='ols', \n",
    "#                  trendline_color_override='red'\n",
    "                )\n",
    "reg_fig.show()"
   ]
  },
  {
   "cell_type": "code",
   "execution_count": null,
   "id": "f35e3c1f",
   "metadata": {},
   "outputs": [],
   "source": [
    "# save your figure\n",
    "reg_fig.write_html('docs/reg_fig.html')"
   ]
  },
  {
   "cell_type": "markdown",
   "id": "9a086086",
   "metadata": {},
   "source": [
    "## Try comparing two groups"
   ]
  },
  {
   "cell_type": "code",
   "execution_count": null,
   "id": "d1065b8f",
   "metadata": {},
   "outputs": [],
   "source": [
    "# add changes by removing the #\n",
    "smoker_fig = px.scatter(df, \n",
    "                 x=\"total_bill\", \n",
    "                 y=\"tip\", \n",
    "#                  color=\"smoker\", \n",
    "                 trendline=\"ols\"\n",
    "                )\n",
    "smoker_fig.show()"
   ]
  },
  {
   "cell_type": "code",
   "execution_count": null,
   "id": "951111af",
   "metadata": {},
   "outputs": [],
   "source": [
    "# save your figure\n",
    "smoker_fig.write_html('docs/smoker_fig.html')"
   ]
  }
 ],
 "metadata": {
  "kernelspec": {
   "display_name": "default:Python",
   "language": "python",
   "name": "conda-env-default-py"
  },
  "language_info": {
   "codemirror_mode": {
    "name": "ipython",
    "version": 3
   },
   "file_extension": ".py",
   "mimetype": "text/x-python",
   "name": "python",
   "nbconvert_exporter": "python",
   "pygments_lexer": "ipython3",
   "version": "3.9.12"
  }
 },
 "nbformat": 4,
 "nbformat_minor": 5
}
